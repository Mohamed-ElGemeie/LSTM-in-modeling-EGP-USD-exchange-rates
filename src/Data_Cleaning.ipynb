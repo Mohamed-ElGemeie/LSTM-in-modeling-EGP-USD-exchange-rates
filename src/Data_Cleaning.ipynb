{
 "cells": [
  {
   "cell_type": "markdown",
   "id": "7f845bd1",
   "metadata": {},
   "source": [
    "# Imports"
   ]
  },
  {
   "cell_type": "code",
   "execution_count": 1,
   "id": "9e7e10b9",
   "metadata": {},
   "outputs": [],
   "source": [
    "import pandas as pd \n",
    "import numpy as np\n",
    "import matplotlib.pyplot as plt\n",
    "import os\n",
    "import datetime\n",
    "import warnings \n",
    "\n",
    "warnings.filterwarnings('ignore')"
   ]
  },
  {
   "cell_type": "code",
   "execution_count": 2,
   "id": "a11266a0",
   "metadata": {},
   "outputs": [
    {
     "data": {
      "text/html": [
       "<div>\n",
       "<style scoped>\n",
       "    .dataframe tbody tr th:only-of-type {\n",
       "        vertical-align: middle;\n",
       "    }\n",
       "\n",
       "    .dataframe tbody tr th {\n",
       "        vertical-align: top;\n",
       "    }\n",
       "\n",
       "    .dataframe thead th {\n",
       "        text-align: right;\n",
       "    }\n",
       "</style>\n",
       "<table border=\"1\" class=\"dataframe\">\n",
       "  <thead>\n",
       "    <tr style=\"text-align: right;\">\n",
       "      <th></th>\n",
       "      <th>Date</th>\n",
       "      <th>USD</th>\n",
       "      <th>Date.1</th>\n",
       "      <th>EUR</th>\n",
       "      <th>Date.2</th>\n",
       "      <th>GBP</th>\n",
       "    </tr>\n",
       "  </thead>\n",
       "  <tbody>\n",
       "    <tr>\n",
       "      <th>0</th>\n",
       "      <td>12/01/2003 23:58:00</td>\n",
       "      <td>6.1070</td>\n",
       "      <td>12/01/2003 23:58:00</td>\n",
       "      <td>7.304583</td>\n",
       "      <td>12/01/2003 23:58:00</td>\n",
       "      <td>10.494269</td>\n",
       "    </tr>\n",
       "    <tr>\n",
       "      <th>1</th>\n",
       "      <td>12/02/2003 23:58:00</td>\n",
       "      <td>6.0749</td>\n",
       "      <td>12/02/2003 23:58:00</td>\n",
       "      <td>7.340909</td>\n",
       "      <td>12/02/2003 23:58:00</td>\n",
       "      <td>10.505325</td>\n",
       "    </tr>\n",
       "    <tr>\n",
       "      <th>2</th>\n",
       "      <td>12/03/2003 23:58:00</td>\n",
       "      <td>6.1057</td>\n",
       "      <td>12/03/2003 23:58:00</td>\n",
       "      <td>7.398887</td>\n",
       "      <td>12/03/2003 23:58:00</td>\n",
       "      <td>10.545154</td>\n",
       "    </tr>\n",
       "    <tr>\n",
       "      <th>3</th>\n",
       "      <td>12/04/2003 23:58:00</td>\n",
       "      <td>6.1161</td>\n",
       "      <td>12/04/2003 23:58:00</td>\n",
       "      <td>7.384579</td>\n",
       "      <td>12/04/2003 23:58:00</td>\n",
       "      <td>10.519692</td>\n",
       "    </tr>\n",
       "    <tr>\n",
       "      <th>4</th>\n",
       "      <td>12/05/2003 23:58:00</td>\n",
       "      <td>6.1088</td>\n",
       "      <td>12/05/2003 23:58:00</td>\n",
       "      <td>7.441740</td>\n",
       "      <td>12/05/2003 23:58:00</td>\n",
       "      <td>10.580442</td>\n",
       "    </tr>\n",
       "  </tbody>\n",
       "</table>\n",
       "</div>"
      ],
      "text/plain": [
       "                  Date     USD               Date.1       EUR  \\\n",
       "0  12/01/2003 23:58:00  6.1070  12/01/2003 23:58:00  7.304583   \n",
       "1  12/02/2003 23:58:00  6.0749  12/02/2003 23:58:00  7.340909   \n",
       "2  12/03/2003 23:58:00  6.1057  12/03/2003 23:58:00  7.398887   \n",
       "3  12/04/2003 23:58:00  6.1161  12/04/2003 23:58:00  7.384579   \n",
       "4  12/05/2003 23:58:00  6.1088  12/05/2003 23:58:00  7.441740   \n",
       "\n",
       "                Date.2        GBP  \n",
       "0  12/01/2003 23:58:00  10.494269  \n",
       "1  12/02/2003 23:58:00  10.505325  \n",
       "2  12/03/2003 23:58:00  10.545154  \n",
       "3  12/04/2003 23:58:00  10.519692  \n",
       "4  12/05/2003 23:58:00  10.580442  "
      ]
     },
     "execution_count": 2,
     "metadata": {},
     "output_type": "execute_result"
    }
   ],
   "source": [
    "df = pd.read_csv(\"../data/USD-EGP Time series Data - raw.csv\")\n",
    "df.head()"
   ]
  },
  {
   "cell_type": "code",
   "execution_count": 3,
   "id": "0265660c",
   "metadata": {},
   "outputs": [
    {
     "name": "stdout",
     "output_type": "stream",
     "text": [
      "<class 'pandas.core.frame.DataFrame'>\n",
      "RangeIndex: 6241 entries, 0 to 6240\n",
      "Data columns (total 6 columns):\n",
      " #   Column  Non-Null Count  Dtype  \n",
      "---  ------  --------------  -----  \n",
      " 0   Date    6241 non-null   object \n",
      " 1   USD     6241 non-null   float64\n",
      " 2   Date.1  6239 non-null   object \n",
      " 3   EUR     6239 non-null   float64\n",
      " 4   Date.2  6239 non-null   object \n",
      " 5   GBP     6239 non-null   float64\n",
      "dtypes: float64(3), object(3)\n",
      "memory usage: 292.7+ KB\n"
     ]
    }
   ],
   "source": [
    "df.info()"
   ]
  },
  {
   "cell_type": "markdown",
   "id": "cf4e7f38",
   "metadata": {},
   "source": [
    "# Data cleaning"
   ]
  },
  {
   "cell_type": "code",
   "execution_count": 4,
   "id": "39ac9d97",
   "metadata": {},
   "outputs": [
    {
     "data": {
      "text/html": [
       "<div>\n",
       "<style scoped>\n",
       "    .dataframe tbody tr th:only-of-type {\n",
       "        vertical-align: middle;\n",
       "    }\n",
       "\n",
       "    .dataframe tbody tr th {\n",
       "        vertical-align: top;\n",
       "    }\n",
       "\n",
       "    .dataframe thead th {\n",
       "        text-align: right;\n",
       "    }\n",
       "</style>\n",
       "<table border=\"1\" class=\"dataframe\">\n",
       "  <thead>\n",
       "    <tr style=\"text-align: right;\">\n",
       "      <th></th>\n",
       "      <th>Date</th>\n",
       "      <th>USD</th>\n",
       "      <th>Date.1</th>\n",
       "      <th>EUR</th>\n",
       "      <th>Date.2</th>\n",
       "      <th>GBP</th>\n",
       "    </tr>\n",
       "  </thead>\n",
       "  <tbody>\n",
       "    <tr>\n",
       "      <th>0</th>\n",
       "      <td>2003-12-01 23:58:00</td>\n",
       "      <td>6.1070</td>\n",
       "      <td>2003-12-01 23:58:00</td>\n",
       "      <td>7.304583</td>\n",
       "      <td>2003-12-01 23:58:00</td>\n",
       "      <td>10.494269</td>\n",
       "    </tr>\n",
       "    <tr>\n",
       "      <th>1</th>\n",
       "      <td>2003-12-02 23:58:00</td>\n",
       "      <td>6.0749</td>\n",
       "      <td>2003-12-02 23:58:00</td>\n",
       "      <td>7.340909</td>\n",
       "      <td>2003-12-02 23:58:00</td>\n",
       "      <td>10.505325</td>\n",
       "    </tr>\n",
       "    <tr>\n",
       "      <th>2</th>\n",
       "      <td>2003-12-03 23:58:00</td>\n",
       "      <td>6.1057</td>\n",
       "      <td>2003-12-03 23:58:00</td>\n",
       "      <td>7.398887</td>\n",
       "      <td>2003-12-03 23:58:00</td>\n",
       "      <td>10.545154</td>\n",
       "    </tr>\n",
       "    <tr>\n",
       "      <th>3</th>\n",
       "      <td>2003-12-04 23:58:00</td>\n",
       "      <td>6.1161</td>\n",
       "      <td>2003-12-04 23:58:00</td>\n",
       "      <td>7.384579</td>\n",
       "      <td>2003-12-04 23:58:00</td>\n",
       "      <td>10.519692</td>\n",
       "    </tr>\n",
       "    <tr>\n",
       "      <th>4</th>\n",
       "      <td>2003-12-05 23:58:00</td>\n",
       "      <td>6.1088</td>\n",
       "      <td>2003-12-05 23:58:00</td>\n",
       "      <td>7.441740</td>\n",
       "      <td>2003-12-05 23:58:00</td>\n",
       "      <td>10.580442</td>\n",
       "    </tr>\n",
       "  </tbody>\n",
       "</table>\n",
       "</div>"
      ],
      "text/plain": [
       "                 Date     USD              Date.1       EUR  \\\n",
       "0 2003-12-01 23:58:00  6.1070 2003-12-01 23:58:00  7.304583   \n",
       "1 2003-12-02 23:58:00  6.0749 2003-12-02 23:58:00  7.340909   \n",
       "2 2003-12-03 23:58:00  6.1057 2003-12-03 23:58:00  7.398887   \n",
       "3 2003-12-04 23:58:00  6.1161 2003-12-04 23:58:00  7.384579   \n",
       "4 2003-12-05 23:58:00  6.1088 2003-12-05 23:58:00  7.441740   \n",
       "\n",
       "               Date.2        GBP  \n",
       "0 2003-12-01 23:58:00  10.494269  \n",
       "1 2003-12-02 23:58:00  10.505325  \n",
       "2 2003-12-03 23:58:00  10.545154  \n",
       "3 2003-12-04 23:58:00  10.519692  \n",
       "4 2003-12-05 23:58:00  10.580442  "
      ]
     },
     "execution_count": 4,
     "metadata": {},
     "output_type": "execute_result"
    }
   ],
   "source": [
    "df[\"Date\"] = pd.to_datetime(df['Date'], format='%m/%d/%Y %H:%M:%S')\n",
    "df[\"Date.1\"] = pd.to_datetime(df['Date.1'], format='%m/%d/%Y %H:%M:%S')\n",
    "df[\"Date.2\"] = pd.to_datetime(df['Date.2'], format='%m/%d/%Y %H:%M:%S')\n",
    "\n",
    "df.head()"
   ]
  },
  {
   "cell_type": "markdown",
   "id": "485ec15e",
   "metadata": {},
   "source": [
    "#### some dates dont match on all currencies"
   ]
  },
  {
   "cell_type": "code",
   "execution_count": 5,
   "id": "d3dfe788",
   "metadata": {},
   "outputs": [
    {
     "name": "stdout",
     "output_type": "stream",
     "text": [
      "uncommon:  3 common:  6239\n"
     ]
    }
   ],
   "source": [
    "n1 = set(df[\"Date\"])\n",
    "n2 = set(df[\"Date.1\"])\n",
    "n3 = set(df[\"Date.2\"])\n",
    "\n",
    "uncommon = {*(n1^n2), *(n1^n3) , *(n2^n3)}\n",
    "common = list(set(df[\"Date\"]) & set(df[\"Date.1\"]) & set(df[\"Date.2\"]))\n",
    "\n",
    "print(\"uncommon: \",len(uncommon), \"common: \",len(common))"
   ]
  },
  {
   "cell_type": "code",
   "execution_count": 6,
   "id": "8691160e",
   "metadata": {},
   "outputs": [
    {
     "name": "stdout",
     "output_type": "stream",
     "text": [
      "<class 'pandas.core.frame.DataFrame'>\n",
      "RangeIndex: 6241 entries, 0 to 6240\n",
      "Data columns (total 4 columns):\n",
      " #   Column  Non-Null Count  Dtype         \n",
      "---  ------  --------------  -----         \n",
      " 0   Date    6241 non-null   datetime64[ns]\n",
      " 1   USD     0 non-null      object        \n",
      " 2   EUR     0 non-null      object        \n",
      " 3   GBP     0 non-null      object        \n",
      "dtypes: datetime64[ns](1), object(3)\n",
      "memory usage: 195.2+ KB\n"
     ]
    }
   ],
   "source": [
    "df_clean = pd.DataFrame({\"Date\": df[\"Date\"],\"USD\":None,\"EUR\":None,\"GBP\":None})\n",
    "df_clean.info()"
   ]
  },
  {
   "cell_type": "code",
   "execution_count": 7,
   "id": "c2d3d168",
   "metadata": {},
   "outputs": [
    {
     "name": "stdout",
     "output_type": "stream",
     "text": [
      "<class 'pandas.core.frame.DataFrame'>\n",
      "RangeIndex: 6241 entries, 0 to 6240\n",
      "Data columns (total 6 columns):\n",
      " #   Column  Non-Null Count  Dtype         \n",
      "---  ------  --------------  -----         \n",
      " 0   Date    6241 non-null   datetime64[ns]\n",
      " 1   USD     6241 non-null   float64       \n",
      " 2   Date.1  6239 non-null   datetime64[ns]\n",
      " 3   EUR     6239 non-null   float64       \n",
      " 4   Date.2  6239 non-null   datetime64[ns]\n",
      " 5   GBP     6239 non-null   float64       \n",
      "dtypes: datetime64[ns](3), float64(3)\n",
      "memory usage: 292.7 KB\n"
     ]
    }
   ],
   "source": [
    "df.info()"
   ]
  },
  {
   "cell_type": "markdown",
   "id": "aad7e537",
   "metadata": {},
   "source": [
    "#### reorder each currency row by its correct date\n",
    "else set it as null"
   ]
  },
  {
   "cell_type": "code",
   "execution_count": 8,
   "id": "3f3e4648",
   "metadata": {},
   "outputs": [],
   "source": [
    "def cln1(df,date,st,dt):\n",
    "    for i,g in zip(df[dt].values,df[st].values):\n",
    "        if i == date:\n",
    "            return g\n",
    "    return None"
   ]
  },
  {
   "cell_type": "code",
   "execution_count": 9,
   "id": "90e68832",
   "metadata": {},
   "outputs": [
    {
     "data": {
      "text/html": [
       "<div>\n",
       "<style scoped>\n",
       "    .dataframe tbody tr th:only-of-type {\n",
       "        vertical-align: middle;\n",
       "    }\n",
       "\n",
       "    .dataframe tbody tr th {\n",
       "        vertical-align: top;\n",
       "    }\n",
       "\n",
       "    .dataframe thead th {\n",
       "        text-align: right;\n",
       "    }\n",
       "</style>\n",
       "<table border=\"1\" class=\"dataframe\">\n",
       "  <thead>\n",
       "    <tr style=\"text-align: right;\">\n",
       "      <th></th>\n",
       "      <th>Date</th>\n",
       "      <th>USD</th>\n",
       "      <th>EUR</th>\n",
       "      <th>GBP</th>\n",
       "    </tr>\n",
       "  </thead>\n",
       "  <tbody>\n",
       "    <tr>\n",
       "      <th>0</th>\n",
       "      <td>2003-12-01 23:58:00</td>\n",
       "      <td>6.107</td>\n",
       "      <td>7.304583</td>\n",
       "      <td>10.494269</td>\n",
       "    </tr>\n",
       "    <tr>\n",
       "      <th>1</th>\n",
       "      <td>2003-12-02 23:58:00</td>\n",
       "      <td>6.0749</td>\n",
       "      <td>7.340909</td>\n",
       "      <td>10.505325</td>\n",
       "    </tr>\n",
       "    <tr>\n",
       "      <th>2</th>\n",
       "      <td>2003-12-03 23:58:00</td>\n",
       "      <td>6.1057</td>\n",
       "      <td>7.398887</td>\n",
       "      <td>10.545154</td>\n",
       "    </tr>\n",
       "    <tr>\n",
       "      <th>3</th>\n",
       "      <td>2003-12-04 23:58:00</td>\n",
       "      <td>6.1161</td>\n",
       "      <td>7.384579</td>\n",
       "      <td>10.519692</td>\n",
       "    </tr>\n",
       "    <tr>\n",
       "      <th>4</th>\n",
       "      <td>2003-12-05 23:58:00</td>\n",
       "      <td>6.1088</td>\n",
       "      <td>7.44174</td>\n",
       "      <td>10.580442</td>\n",
       "    </tr>\n",
       "    <tr>\n",
       "      <th>...</th>\n",
       "      <td>...</td>\n",
       "      <td>...</td>\n",
       "      <td>...</td>\n",
       "      <td>...</td>\n",
       "    </tr>\n",
       "    <tr>\n",
       "      <th>6236</th>\n",
       "      <td>2023-03-27 23:58:00</td>\n",
       "      <td>30.8991</td>\n",
       "      <td>33.394</td>\n",
       "      <td>37.99609</td>\n",
       "    </tr>\n",
       "    <tr>\n",
       "      <th>6237</th>\n",
       "      <td>2023-03-28 23:58:00</td>\n",
       "      <td>30.9085</td>\n",
       "      <td>33.491</td>\n",
       "      <td>38.10293</td>\n",
       "    </tr>\n",
       "    <tr>\n",
       "      <th>6238</th>\n",
       "      <td>2023-03-29 23:58:00</td>\n",
       "      <td>30.8019</td>\n",
       "      <td>33.4</td>\n",
       "      <td>37.92459</td>\n",
       "    </tr>\n",
       "    <tr>\n",
       "      <th>6239</th>\n",
       "      <td>2023-03-30 23:58:00</td>\n",
       "      <td>30.8944</td>\n",
       "      <td>33.69</td>\n",
       "      <td>38.27213</td>\n",
       "    </tr>\n",
       "    <tr>\n",
       "      <th>6240</th>\n",
       "      <td>2023-03-31 23:58:00</td>\n",
       "      <td>30.71051</td>\n",
       "      <td>33.39</td>\n",
       "      <td>37.91087</td>\n",
       "    </tr>\n",
       "  </tbody>\n",
       "</table>\n",
       "<p>6241 rows × 4 columns</p>\n",
       "</div>"
      ],
      "text/plain": [
       "                    Date       USD       EUR        GBP\n",
       "0    2003-12-01 23:58:00     6.107  7.304583  10.494269\n",
       "1    2003-12-02 23:58:00    6.0749  7.340909  10.505325\n",
       "2    2003-12-03 23:58:00    6.1057  7.398887  10.545154\n",
       "3    2003-12-04 23:58:00    6.1161  7.384579  10.519692\n",
       "4    2003-12-05 23:58:00    6.1088   7.44174  10.580442\n",
       "...                  ...       ...       ...        ...\n",
       "6236 2023-03-27 23:58:00   30.8991    33.394   37.99609\n",
       "6237 2023-03-28 23:58:00   30.9085    33.491   38.10293\n",
       "6238 2023-03-29 23:58:00   30.8019      33.4   37.92459\n",
       "6239 2023-03-30 23:58:00   30.8944     33.69   38.27213\n",
       "6240 2023-03-31 23:58:00  30.71051     33.39   37.91087\n",
       "\n",
       "[6241 rows x 4 columns]"
      ]
     },
     "execution_count": 9,
     "metadata": {},
     "output_type": "execute_result"
    }
   ],
   "source": [
    "for i in range(df.shape[0]):\n",
    "    \n",
    "    x = df[\"Date\"][i]\n",
    "    \n",
    "    us =  cln1(df,x,\"USD\",\"Date\") \n",
    "    eu = cln1(df,x,\"EUR\",\"Date.1\") \n",
    "    gb = cln1(df,x,\"GBP\",\"Date.2\")\n",
    "    \n",
    "    df_clean['USD'][i] = us\n",
    "    df_clean['EUR'][i] = eu\n",
    "    df_clean['GBP'][i] = gb\n",
    "    \n",
    "df_clean"
   ]
  },
  {
   "cell_type": "code",
   "execution_count": 10,
   "id": "8d5b41db",
   "metadata": {},
   "outputs": [
    {
     "name": "stdout",
     "output_type": "stream",
     "text": [
      "<class 'pandas.core.frame.DataFrame'>\n",
      "RangeIndex: 6241 entries, 0 to 6240\n",
      "Data columns (total 4 columns):\n",
      " #   Column  Non-Null Count  Dtype         \n",
      "---  ------  --------------  -----         \n",
      " 0   Date    6241 non-null   datetime64[ns]\n",
      " 1   USD     6241 non-null   object        \n",
      " 2   EUR     6239 non-null   object        \n",
      " 3   GBP     6239 non-null   object        \n",
      "dtypes: datetime64[ns](1), object(3)\n",
      "memory usage: 195.2+ KB\n"
     ]
    }
   ],
   "source": [
    "df_clean.info()"
   ]
  },
  {
   "cell_type": "markdown",
   "id": "c5db020f",
   "metadata": {},
   "source": [
    "#### replace each null value \n",
    "by the average of the cell before it and after it.<br>if null it would take the cell before that or after that."
   ]
  },
  {
   "cell_type": "code",
   "execution_count": 11,
   "id": "687da7b7",
   "metadata": {},
   "outputs": [],
   "source": [
    "def cln2(df,col):\n",
    "    for i in range(df_clean.shape[0]):\n",
    "        if df_clean[col][i] == None:\n",
    "            \n",
    "            x1 = df_clean[col][i]\n",
    "            x2 = df_clean[col][i]\n",
    "            c1 = 1\n",
    "            c2 = 1\n",
    "            \n",
    "            while(x2 == None):\n",
    "                x2= df_clean[col][i+c2]\n",
    "                c2 = c2+1  \n",
    "                \n",
    "            while(x1 == None):\n",
    "                x1= df_clean[col][i-c1]\n",
    "                c1 = c1+1\n",
    "            df_clean[col][i] = (x1+x2)/2"
   ]
  },
  {
   "cell_type": "code",
   "execution_count": 12,
   "id": "387dfff2",
   "metadata": {},
   "outputs": [],
   "source": [
    "cln2(df_clean,\"GBP\")\n",
    "cln2(df_clean,\"EUR\")"
   ]
  },
  {
   "cell_type": "code",
   "execution_count": 13,
   "id": "357e7f10",
   "metadata": {},
   "outputs": [],
   "source": [
    "df_clean.set_index(\"Date\",inplace= True)"
   ]
  },
  {
   "cell_type": "code",
   "execution_count": 14,
   "id": "a2b7e4d5",
   "metadata": {},
   "outputs": [
    {
     "name": "stdout",
     "output_type": "stream",
     "text": [
      "<class 'pandas.core.frame.DataFrame'>\n",
      "DatetimeIndex: 6241 entries, 2003-12-01 23:58:00 to 2023-03-31 23:58:00\n",
      "Data columns (total 3 columns):\n",
      " #   Column  Non-Null Count  Dtype \n",
      "---  ------  --------------  ----- \n",
      " 0   USD     6241 non-null   object\n",
      " 1   EUR     6241 non-null   object\n",
      " 2   GBP     6241 non-null   object\n",
      "dtypes: object(3)\n",
      "memory usage: 195.0+ KB\n"
     ]
    }
   ],
   "source": [
    "df_clean.info()"
   ]
  },
  {
   "cell_type": "markdown",
   "id": "35c44b4a",
   "metadata": {},
   "source": [
    "#### Save and reuse "
   ]
  },
  {
   "cell_type": "code",
   "execution_count": 15,
   "id": "15d49b0b",
   "metadata": {},
   "outputs": [],
   "source": [
    "df_clean.to_csv(\"../data/USD-EUR-GBP to EGP Time series Data clean.csv\")"
   ]
  }
 ],
 "metadata": {
  "kernelspec": {
   "display_name": "Python 3 (ipykernel)",
   "language": "python",
   "name": "python3"
  },
  "language_info": {
   "codemirror_mode": {
    "name": "ipython",
    "version": 3
   },
   "file_extension": ".py",
   "mimetype": "text/x-python",
   "name": "python",
   "nbconvert_exporter": "python",
   "pygments_lexer": "ipython3",
   "version": "3.9.7"
  }
 },
 "nbformat": 4,
 "nbformat_minor": 5
}
