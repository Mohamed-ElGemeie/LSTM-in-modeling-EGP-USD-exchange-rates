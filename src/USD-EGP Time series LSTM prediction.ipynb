{
 "cells": [
  {
   "cell_type": "markdown",
   "id": "fb989dfa",
   "metadata": {},
   "source": [
    "# 1 Imports"
   ]
  },
  {
   "cell_type": "code",
   "execution_count": 2,
   "id": "fc08ba22",
   "metadata": {},
   "outputs": [],
   "source": [
    "import pandas as pd \n",
    "import numpy as np\n",
    "import matplotlib.pyplot as plt\n",
    "from keras.preprocessing.sequence import TimeseriesGenerator\n",
    "from IPython.display import Image,display\n",
    "from sklearn.model_selection import train_test_split\n",
    "from sklearn.preprocessing import MinMaxScaler, StandardScaler\n",
    "import tensorflow as tf\n",
    "from tensorflow import keras\n",
    "import os\n",
    "import datetime\n"
   ]
  },
  {
   "cell_type": "markdown",
   "id": "5de9fd4d",
   "metadata": {},
   "source": [
    "# 1.0 module not found"
   ]
  },
  {
   "cell_type": "code",
   "execution_count": 9,
   "id": "c610ee84",
   "metadata": {
    "scrolled": true
   },
   "outputs": [],
   "source": [
    "# !pip install --upgrade pip\n",
    "# !pip install pandas\n",
    "# !pip install matplotlib\n",
    "# !pip install -U scikit-learn\n",
    "# !pip install matplotlib\n",
    "# !pip install tensorflow"
   ]
  },
  {
   "cell_type": "code",
   "execution_count": 5,
   "id": "de0f1d78",
   "metadata": {},
   "outputs": [
    {
     "data": {
      "text/html": [
       "<div>\n",
       "<style scoped>\n",
       "    .dataframe tbody tr th:only-of-type {\n",
       "        vertical-align: middle;\n",
       "    }\n",
       "\n",
       "    .dataframe tbody tr th {\n",
       "        vertical-align: top;\n",
       "    }\n",
       "\n",
       "    .dataframe thead th {\n",
       "        text-align: right;\n",
       "    }\n",
       "</style>\n",
       "<table border=\"1\" class=\"dataframe\">\n",
       "  <thead>\n",
       "    <tr style=\"text-align: right;\">\n",
       "      <th></th>\n",
       "      <th>Date</th>\n",
       "      <th>Close</th>\n",
       "      <th>Date.1</th>\n",
       "      <th>Close.1</th>\n",
       "      <th>Date.2</th>\n",
       "      <th>Close.2</th>\n",
       "    </tr>\n",
       "  </thead>\n",
       "  <tbody>\n",
       "    <tr>\n",
       "      <th>0</th>\n",
       "      <td>12/1/2003 23:58:00</td>\n",
       "      <td>6.1070</td>\n",
       "      <td>12/1/2003 23:58:00</td>\n",
       "      <td>7.304583</td>\n",
       "      <td>12/1/2003 23:58:00</td>\n",
       "      <td>10.494269</td>\n",
       "    </tr>\n",
       "    <tr>\n",
       "      <th>1</th>\n",
       "      <td>12/2/2003 23:58:00</td>\n",
       "      <td>6.0749</td>\n",
       "      <td>12/2/2003 23:58:00</td>\n",
       "      <td>7.340909</td>\n",
       "      <td>12/2/2003 23:58:00</td>\n",
       "      <td>10.505325</td>\n",
       "    </tr>\n",
       "    <tr>\n",
       "      <th>2</th>\n",
       "      <td>12/3/2003 23:58:00</td>\n",
       "      <td>6.1057</td>\n",
       "      <td>12/3/2003 23:58:00</td>\n",
       "      <td>7.398887</td>\n",
       "      <td>12/3/2003 23:58:00</td>\n",
       "      <td>10.545154</td>\n",
       "    </tr>\n",
       "    <tr>\n",
       "      <th>3</th>\n",
       "      <td>12/4/2003 23:58:00</td>\n",
       "      <td>6.1161</td>\n",
       "      <td>12/4/2003 23:58:00</td>\n",
       "      <td>7.384579</td>\n",
       "      <td>12/4/2003 23:58:00</td>\n",
       "      <td>10.519692</td>\n",
       "    </tr>\n",
       "    <tr>\n",
       "      <th>4</th>\n",
       "      <td>12/5/2003 23:58:00</td>\n",
       "      <td>6.1088</td>\n",
       "      <td>12/5/2003 23:58:00</td>\n",
       "      <td>7.441740</td>\n",
       "      <td>12/5/2003 23:58:00</td>\n",
       "      <td>10.580442</td>\n",
       "    </tr>\n",
       "  </tbody>\n",
       "</table>\n",
       "</div>"
      ],
      "text/plain": [
       "                 Date   Close              Date.1   Close.1  \\\n",
       "0  12/1/2003 23:58:00  6.1070  12/1/2003 23:58:00  7.304583   \n",
       "1  12/2/2003 23:58:00  6.0749  12/2/2003 23:58:00  7.340909   \n",
       "2  12/3/2003 23:58:00  6.1057  12/3/2003 23:58:00  7.398887   \n",
       "3  12/4/2003 23:58:00  6.1161  12/4/2003 23:58:00  7.384579   \n",
       "4  12/5/2003 23:58:00  6.1088  12/5/2003 23:58:00  7.441740   \n",
       "\n",
       "               Date.2    Close.2  \n",
       "0  12/1/2003 23:58:00  10.494269  \n",
       "1  12/2/2003 23:58:00  10.505325  \n",
       "2  12/3/2003 23:58:00  10.545154  \n",
       "3  12/4/2003 23:58:00  10.519692  \n",
       "4  12/5/2003 23:58:00  10.580442  "
      ]
     },
     "execution_count": 5,
     "metadata": {},
     "output_type": "execute_result"
    }
   ],
   "source": [
    "df = pd.read_csv(\"../data/USD-EGP Time series Data - Sheet1.csv\")\n",
    "df.head()"
   ]
  },
  {
   "cell_type": "code",
   "execution_count": 6,
   "id": "7a67bd0a",
   "metadata": {},
   "outputs": [
    {
     "name": "stdout",
     "output_type": "stream",
     "text": [
      "<class 'pandas.core.frame.DataFrame'>\n",
      "RangeIndex: 6218 entries, 0 to 6217\n",
      "Data columns (total 6 columns):\n",
      " #   Column   Non-Null Count  Dtype  \n",
      "---  ------   --------------  -----  \n",
      " 0   Date     6218 non-null   object \n",
      " 1   Close    6218 non-null   float64\n",
      " 2   Date.1   6216 non-null   object \n",
      " 3   Close.1  6216 non-null   float64\n",
      " 4   Date.2   6216 non-null   object \n",
      " 5   Close.2  6216 non-null   float64\n",
      "dtypes: float64(3), object(3)\n",
      "memory usage: 291.6+ KB\n"
     ]
    }
   ],
   "source": [
    "df.info()"
   ]
  },
  {
   "cell_type": "markdown",
   "id": "5b43e9de",
   "metadata": {},
   "source": [
    "# 2.0 Data cleaning"
   ]
  },
  {
   "cell_type": "code",
   "execution_count": 7,
   "id": "c1b21a63",
   "metadata": {},
   "outputs": [
    {
     "data": {
      "text/html": [
       "<div>\n",
       "<style scoped>\n",
       "    .dataframe tbody tr th:only-of-type {\n",
       "        vertical-align: middle;\n",
       "    }\n",
       "\n",
       "    .dataframe tbody tr th {\n",
       "        vertical-align: top;\n",
       "    }\n",
       "\n",
       "    .dataframe thead th {\n",
       "        text-align: right;\n",
       "    }\n",
       "</style>\n",
       "<table border=\"1\" class=\"dataframe\">\n",
       "  <thead>\n",
       "    <tr style=\"text-align: right;\">\n",
       "      <th></th>\n",
       "      <th>Date</th>\n",
       "      <th>USD</th>\n",
       "      <th>Date.1</th>\n",
       "      <th>EUR</th>\n",
       "      <th>Date.2</th>\n",
       "      <th>GBP</th>\n",
       "    </tr>\n",
       "  </thead>\n",
       "  <tbody>\n",
       "    <tr>\n",
       "      <th>0</th>\n",
       "      <td>2003-12-01 23:58:00</td>\n",
       "      <td>6.1070</td>\n",
       "      <td>2003-12-01 23:58:00</td>\n",
       "      <td>7.304583</td>\n",
       "      <td>2003-12-01 23:58:00</td>\n",
       "      <td>10.494269</td>\n",
       "    </tr>\n",
       "    <tr>\n",
       "      <th>1</th>\n",
       "      <td>2003-12-02 23:58:00</td>\n",
       "      <td>6.0749</td>\n",
       "      <td>2003-12-02 23:58:00</td>\n",
       "      <td>7.340909</td>\n",
       "      <td>2003-12-02 23:58:00</td>\n",
       "      <td>10.505325</td>\n",
       "    </tr>\n",
       "    <tr>\n",
       "      <th>2</th>\n",
       "      <td>2003-12-03 23:58:00</td>\n",
       "      <td>6.1057</td>\n",
       "      <td>2003-12-03 23:58:00</td>\n",
       "      <td>7.398887</td>\n",
       "      <td>2003-12-03 23:58:00</td>\n",
       "      <td>10.545154</td>\n",
       "    </tr>\n",
       "    <tr>\n",
       "      <th>3</th>\n",
       "      <td>2003-12-04 23:58:00</td>\n",
       "      <td>6.1161</td>\n",
       "      <td>2003-12-04 23:58:00</td>\n",
       "      <td>7.384579</td>\n",
       "      <td>2003-12-04 23:58:00</td>\n",
       "      <td>10.519692</td>\n",
       "    </tr>\n",
       "    <tr>\n",
       "      <th>4</th>\n",
       "      <td>2003-12-05 23:58:00</td>\n",
       "      <td>6.1088</td>\n",
       "      <td>2003-12-05 23:58:00</td>\n",
       "      <td>7.441740</td>\n",
       "      <td>2003-12-05 23:58:00</td>\n",
       "      <td>10.580442</td>\n",
       "    </tr>\n",
       "  </tbody>\n",
       "</table>\n",
       "</div>"
      ],
      "text/plain": [
       "                 Date     USD              Date.1       EUR  \\\n",
       "0 2003-12-01 23:58:00  6.1070 2003-12-01 23:58:00  7.304583   \n",
       "1 2003-12-02 23:58:00  6.0749 2003-12-02 23:58:00  7.340909   \n",
       "2 2003-12-03 23:58:00  6.1057 2003-12-03 23:58:00  7.398887   \n",
       "3 2003-12-04 23:58:00  6.1161 2003-12-04 23:58:00  7.384579   \n",
       "4 2003-12-05 23:58:00  6.1088 2003-12-05 23:58:00  7.441740   \n",
       "\n",
       "               Date.2        GBP  \n",
       "0 2003-12-01 23:58:00  10.494269  \n",
       "1 2003-12-02 23:58:00  10.505325  \n",
       "2 2003-12-03 23:58:00  10.545154  \n",
       "3 2003-12-04 23:58:00  10.519692  \n",
       "4 2003-12-05 23:58:00  10.580442  "
      ]
     },
     "execution_count": 7,
     "metadata": {},
     "output_type": "execute_result"
    }
   ],
   "source": [
    "df[\"Date\"] = pd.to_datetime(df['Date'], format='%m/%d/%Y %H:%M:%S')\n",
    "df[\"Date.1\"] = pd.to_datetime(df['Date.1'], format='%m/%d/%Y %H:%M:%S')\n",
    "df[\"Date.2\"] = pd.to_datetime(df['Date.2'], format='%m/%d/%Y %H:%M:%S')\n",
    "\n",
    "\n",
    "df.rename(columns = {\"Close\" : \"USD\",\"Close.1\":\"EUR\",\"Close.2\":\"GBP\"},inplace = True)\n",
    "df.head()"
   ]
  },
  {
   "cell_type": "markdown",
   "id": "9c2c18b4",
   "metadata": {},
   "source": [
    "#### some dates dont match on all currencies"
   ]
  },
  {
   "cell_type": "code",
   "execution_count": 8,
   "id": "667df072",
   "metadata": {},
   "outputs": [
    {
     "data": {
      "text/plain": [
       "3"
      ]
     },
     "execution_count": 8,
     "metadata": {},
     "output_type": "execute_result"
    }
   ],
   "source": [
    "n1 = set(df[\"Date\"])\n",
    "n2 = set(df[\"Date.1\"])\n",
    "n3 = set(df[\"Date.2\"])\n",
    "\n",
    "uncommon = {*(n1^n2), *(n1^n3) , *(n2^n3)}\n",
    "len(uncommon)"
   ]
  },
  {
   "cell_type": "code",
   "execution_count": 9,
   "id": "30efbdff",
   "metadata": {},
   "outputs": [
    {
     "data": {
      "text/plain": [
       "6216"
      ]
     },
     "execution_count": 9,
     "metadata": {},
     "output_type": "execute_result"
    }
   ],
   "source": [
    "common = list(set(df[\"Date\"]) & set(df[\"Date.1\"]) & set(df[\"Date.2\"]))\n",
    "len(common)"
   ]
  },
  {
   "cell_type": "code",
   "execution_count": 10,
   "id": "9d50ec33",
   "metadata": {},
   "outputs": [
    {
     "name": "stdout",
     "output_type": "stream",
     "text": [
      "<class 'pandas.core.frame.DataFrame'>\n",
      "RangeIndex: 6218 entries, 0 to 6217\n",
      "Data columns (total 4 columns):\n",
      " #   Column  Non-Null Count  Dtype         \n",
      "---  ------  --------------  -----         \n",
      " 0   Date    6218 non-null   datetime64[ns]\n",
      " 1   USD     0 non-null      object        \n",
      " 2   EUR     0 non-null      object        \n",
      " 3   GBP     0 non-null      object        \n",
      "dtypes: datetime64[ns](1), object(3)\n",
      "memory usage: 194.4+ KB\n"
     ]
    }
   ],
   "source": [
    "df_clean = pd.DataFrame({\"Date\": df[\"Date\"],\"USD\":None,\"EUR\":None,\"GBP\":None})\n",
    "df_clean.info()"
   ]
  },
  {
   "cell_type": "code",
   "execution_count": 11,
   "id": "e289f16a",
   "metadata": {},
   "outputs": [
    {
     "data": {
      "text/html": [
       "<div>\n",
       "<style scoped>\n",
       "    .dataframe tbody tr th:only-of-type {\n",
       "        vertical-align: middle;\n",
       "    }\n",
       "\n",
       "    .dataframe tbody tr th {\n",
       "        vertical-align: top;\n",
       "    }\n",
       "\n",
       "    .dataframe thead th {\n",
       "        text-align: right;\n",
       "    }\n",
       "</style>\n",
       "<table border=\"1\" class=\"dataframe\">\n",
       "  <thead>\n",
       "    <tr style=\"text-align: right;\">\n",
       "      <th></th>\n",
       "      <th>USD</th>\n",
       "      <th>EUR</th>\n",
       "      <th>GBP</th>\n",
       "    </tr>\n",
       "    <tr>\n",
       "      <th>Date</th>\n",
       "      <th></th>\n",
       "      <th></th>\n",
       "      <th></th>\n",
       "    </tr>\n",
       "  </thead>\n",
       "  <tbody>\n",
       "    <tr>\n",
       "      <th>2003-12-01 23:58:00</th>\n",
       "      <td>None</td>\n",
       "      <td>None</td>\n",
       "      <td>None</td>\n",
       "    </tr>\n",
       "    <tr>\n",
       "      <th>2003-12-02 23:58:00</th>\n",
       "      <td>None</td>\n",
       "      <td>None</td>\n",
       "      <td>None</td>\n",
       "    </tr>\n",
       "    <tr>\n",
       "      <th>2003-12-03 23:58:00</th>\n",
       "      <td>None</td>\n",
       "      <td>None</td>\n",
       "      <td>None</td>\n",
       "    </tr>\n",
       "    <tr>\n",
       "      <th>2003-12-04 23:58:00</th>\n",
       "      <td>None</td>\n",
       "      <td>None</td>\n",
       "      <td>None</td>\n",
       "    </tr>\n",
       "    <tr>\n",
       "      <th>2003-12-05 23:58:00</th>\n",
       "      <td>None</td>\n",
       "      <td>None</td>\n",
       "      <td>None</td>\n",
       "    </tr>\n",
       "    <tr>\n",
       "      <th>...</th>\n",
       "      <td>...</td>\n",
       "      <td>...</td>\n",
       "      <td>...</td>\n",
       "    </tr>\n",
       "    <tr>\n",
       "      <th>2023-03-04 23:58:00</th>\n",
       "      <td>None</td>\n",
       "      <td>None</td>\n",
       "      <td>None</td>\n",
       "    </tr>\n",
       "    <tr>\n",
       "      <th>2023-03-05 23:58:00</th>\n",
       "      <td>None</td>\n",
       "      <td>None</td>\n",
       "      <td>None</td>\n",
       "    </tr>\n",
       "    <tr>\n",
       "      <th>2023-03-06 23:58:00</th>\n",
       "      <td>None</td>\n",
       "      <td>None</td>\n",
       "      <td>None</td>\n",
       "    </tr>\n",
       "    <tr>\n",
       "      <th>2023-03-07 23:58:00</th>\n",
       "      <td>None</td>\n",
       "      <td>None</td>\n",
       "      <td>None</td>\n",
       "    </tr>\n",
       "    <tr>\n",
       "      <th>2023-03-08 23:58:00</th>\n",
       "      <td>None</td>\n",
       "      <td>None</td>\n",
       "      <td>None</td>\n",
       "    </tr>\n",
       "  </tbody>\n",
       "</table>\n",
       "<p>6218 rows × 3 columns</p>\n",
       "</div>"
      ],
      "text/plain": [
       "                      USD   EUR   GBP\n",
       "Date                                 \n",
       "2003-12-01 23:58:00  None  None  None\n",
       "2003-12-02 23:58:00  None  None  None\n",
       "2003-12-03 23:58:00  None  None  None\n",
       "2003-12-04 23:58:00  None  None  None\n",
       "2003-12-05 23:58:00  None  None  None\n",
       "...                   ...   ...   ...\n",
       "2023-03-04 23:58:00  None  None  None\n",
       "2023-03-05 23:58:00  None  None  None\n",
       "2023-03-06 23:58:00  None  None  None\n",
       "2023-03-07 23:58:00  None  None  None\n",
       "2023-03-08 23:58:00  None  None  None\n",
       "\n",
       "[6218 rows x 3 columns]"
      ]
     },
     "execution_count": 11,
     "metadata": {},
     "output_type": "execute_result"
    }
   ],
   "source": [
    "df_clean.set_index(\"Date\")"
   ]
  },
  {
   "cell_type": "markdown",
   "id": "9646e847",
   "metadata": {},
   "source": [
    "#### reorder each currency row by its correct date\n",
    "else set it as null"
   ]
  },
  {
   "cell_type": "code",
   "execution_count": 12,
   "id": "94534864",
   "metadata": {},
   "outputs": [
    {
     "name": "stderr",
     "output_type": "stream",
     "text": [
      "/tmp/ipykernel_230/1163110690.py:16: SettingWithCopyWarning: \n",
      "A value is trying to be set on a copy of a slice from a DataFrame\n",
      "\n",
      "See the caveats in the documentation: https://pandas.pydata.org/pandas-docs/stable/user_guide/indexing.html#returning-a-view-versus-a-copy\n",
      "  df_clean['USD'][i] = us\n",
      "/tmp/ipykernel_230/1163110690.py:17: SettingWithCopyWarning: \n",
      "A value is trying to be set on a copy of a slice from a DataFrame\n",
      "\n",
      "See the caveats in the documentation: https://pandas.pydata.org/pandas-docs/stable/user_guide/indexing.html#returning-a-view-versus-a-copy\n",
      "  df_clean['EUR'][i] = eu\n",
      "/tmp/ipykernel_230/1163110690.py:18: SettingWithCopyWarning: \n",
      "A value is trying to be set on a copy of a slice from a DataFrame\n",
      "\n",
      "See the caveats in the documentation: https://pandas.pydata.org/pandas-docs/stable/user_guide/indexing.html#returning-a-view-versus-a-copy\n",
      "  df_clean['GBP'][i] = gb\n"
     ]
    },
    {
     "data": {
      "text/html": [
       "<div>\n",
       "<style scoped>\n",
       "    .dataframe tbody tr th:only-of-type {\n",
       "        vertical-align: middle;\n",
       "    }\n",
       "\n",
       "    .dataframe tbody tr th {\n",
       "        vertical-align: top;\n",
       "    }\n",
       "\n",
       "    .dataframe thead th {\n",
       "        text-align: right;\n",
       "    }\n",
       "</style>\n",
       "<table border=\"1\" class=\"dataframe\">\n",
       "  <thead>\n",
       "    <tr style=\"text-align: right;\">\n",
       "      <th></th>\n",
       "      <th>Date</th>\n",
       "      <th>USD</th>\n",
       "      <th>EUR</th>\n",
       "      <th>GBP</th>\n",
       "    </tr>\n",
       "  </thead>\n",
       "  <tbody>\n",
       "    <tr>\n",
       "      <th>0</th>\n",
       "      <td>2003-12-01 23:58:00</td>\n",
       "      <td>6.107</td>\n",
       "      <td>7.304583</td>\n",
       "      <td>10.494269</td>\n",
       "    </tr>\n",
       "    <tr>\n",
       "      <th>1</th>\n",
       "      <td>2003-12-02 23:58:00</td>\n",
       "      <td>6.0749</td>\n",
       "      <td>7.340909</td>\n",
       "      <td>10.505325</td>\n",
       "    </tr>\n",
       "    <tr>\n",
       "      <th>2</th>\n",
       "      <td>2003-12-03 23:58:00</td>\n",
       "      <td>6.1057</td>\n",
       "      <td>7.398887</td>\n",
       "      <td>10.545154</td>\n",
       "    </tr>\n",
       "    <tr>\n",
       "      <th>3</th>\n",
       "      <td>2003-12-04 23:58:00</td>\n",
       "      <td>6.1161</td>\n",
       "      <td>7.384579</td>\n",
       "      <td>10.519692</td>\n",
       "    </tr>\n",
       "    <tr>\n",
       "      <th>4</th>\n",
       "      <td>2003-12-05 23:58:00</td>\n",
       "      <td>6.1088</td>\n",
       "      <td>7.44174</td>\n",
       "      <td>10.580442</td>\n",
       "    </tr>\n",
       "    <tr>\n",
       "      <th>...</th>\n",
       "      <td>...</td>\n",
       "      <td>...</td>\n",
       "      <td>...</td>\n",
       "      <td>...</td>\n",
       "    </tr>\n",
       "    <tr>\n",
       "      <th>6213</th>\n",
       "      <td>2023-03-04 23:58:00</td>\n",
       "      <td>30.7225</td>\n",
       "      <td>32.721</td>\n",
       "      <td>36.93324</td>\n",
       "    </tr>\n",
       "    <tr>\n",
       "      <th>6214</th>\n",
       "      <td>2023-03-05 23:58:00</td>\n",
       "      <td>30.79377</td>\n",
       "      <td>32.721</td>\n",
       "      <td>37.04362</td>\n",
       "    </tr>\n",
       "    <tr>\n",
       "      <th>6215</th>\n",
       "      <td>2023-03-06 23:58:00</td>\n",
       "      <td>30.8255</td>\n",
       "      <td>32.942</td>\n",
       "      <td>37.07347</td>\n",
       "    </tr>\n",
       "    <tr>\n",
       "      <th>6216</th>\n",
       "      <td>2023-03-07 23:58:00</td>\n",
       "      <td>30.7281</td>\n",
       "      <td>32.417</td>\n",
       "      <td>36.34101</td>\n",
       "    </tr>\n",
       "    <tr>\n",
       "      <th>6217</th>\n",
       "      <td>2023-03-08 23:58:00</td>\n",
       "      <td>30.8818</td>\n",
       "      <td>32.577</td>\n",
       "      <td>36.59104</td>\n",
       "    </tr>\n",
       "  </tbody>\n",
       "</table>\n",
       "<p>6218 rows × 4 columns</p>\n",
       "</div>"
      ],
      "text/plain": [
       "                    Date       USD       EUR        GBP\n",
       "0    2003-12-01 23:58:00     6.107  7.304583  10.494269\n",
       "1    2003-12-02 23:58:00    6.0749  7.340909  10.505325\n",
       "2    2003-12-03 23:58:00    6.1057  7.398887  10.545154\n",
       "3    2003-12-04 23:58:00    6.1161  7.384579  10.519692\n",
       "4    2003-12-05 23:58:00    6.1088   7.44174  10.580442\n",
       "...                  ...       ...       ...        ...\n",
       "6213 2023-03-04 23:58:00   30.7225    32.721   36.93324\n",
       "6214 2023-03-05 23:58:00  30.79377    32.721   37.04362\n",
       "6215 2023-03-06 23:58:00   30.8255    32.942   37.07347\n",
       "6216 2023-03-07 23:58:00   30.7281    32.417   36.34101\n",
       "6217 2023-03-08 23:58:00   30.8818    32.577   36.59104\n",
       "\n",
       "[6218 rows x 4 columns]"
      ]
     },
     "execution_count": 12,
     "metadata": {},
     "output_type": "execute_result"
    }
   ],
   "source": [
    "def cln1(df,date,st,dt):\n",
    "    for i,g in zip(df[dt].values,df[st].values):\n",
    "        if i == date:\n",
    "            return g\n",
    "    return None\n",
    "\n",
    "\n",
    "for i in range(6218):\n",
    "    \n",
    "    x = df_clean[\"Date\"][i]\n",
    "    \n",
    "    us =  cln1(df,x,\"USD\",\"Date\") \n",
    "    eu = cln1(df,x,\"EUR\",\"Date.1\") \n",
    "    gb = cln1(df,x,\"GBP\",\"Date.2\")\n",
    "    \n",
    "    df_clean['USD'][i] = us\n",
    "    df_clean['EUR'][i] = eu\n",
    "    df_clean['GBP'][i] = gb\n",
    "    \n",
    "df_clean"
   ]
  },
  {
   "cell_type": "markdown",
   "id": "f7423870",
   "metadata": {},
   "source": [
    "#### replace each null value \n",
    "by the average of the cell before it and after it.<br>if null it would take the cell before that or after that."
   ]
  },
  {
   "cell_type": "code",
   "execution_count": 13,
   "id": "aa08d90b",
   "metadata": {},
   "outputs": [
    {
     "name": "stdout",
     "output_type": "stream",
     "text": [
      "None GBP 3465\n",
      "None GBP 3526\n",
      "None EUR 3465\n",
      "None EUR 3526\n"
     ]
    },
    {
     "name": "stderr",
     "output_type": "stream",
     "text": [
      "/tmp/ipykernel_230/4285695170.py:18: SettingWithCopyWarning: \n",
      "A value is trying to be set on a copy of a slice from a DataFrame\n",
      "\n",
      "See the caveats in the documentation: https://pandas.pydata.org/pandas-docs/stable/user_guide/indexing.html#returning-a-view-versus-a-copy\n",
      "  df_clean[col][i] = (x1+x2)/2\n"
     ]
    }
   ],
   "source": [
    "def cln2(df,col):\n",
    "    for i in range(df_clean.shape[0]):\n",
    "        if df_clean[col][i] == None:\n",
    "            \n",
    "            x1 = df_clean[col][i]\n",
    "            x2 = df_clean[col][i]\n",
    "            c1 = 1\n",
    "            c2 = 1\n",
    "            \n",
    "            while(x2 == None):\n",
    "                x2= df_clean[col][i+c2]\n",
    "                c2 = c2+1  \n",
    "                \n",
    "            while(x1 == None):\n",
    "                x1= df_clean[col][i-c1]\n",
    "                c1 = c1+1\n",
    "            print(df_clean[col][i],col,i)\n",
    "            df_clean[col][i] = (x1+x2)/2\n",
    "        \n",
    "cln2(df_clean,\"GBP\")\n",
    "cln2(df_clean,\"EUR\")"
   ]
  },
  {
   "cell_type": "code",
   "execution_count": 14,
   "id": "09a6ef85",
   "metadata": {},
   "outputs": [
    {
     "data": {
      "text/plain": [
       "(USD     30.8818\n",
       " EUR      33.256\n",
       " GBP    37.41106\n",
       " dtype: object,\n",
       " USD      5.1939\n",
       " EUR    6.462902\n",
       " GBP    7.535949\n",
       " dtype: object)"
      ]
     },
     "execution_count": 14,
     "metadata": {},
     "output_type": "execute_result"
    }
   ],
   "source": [
    "df_clean[[\"USD\",\"EUR\",\"GBP\"]].max(),df_clean[[\"USD\",\"EUR\",\"GBP\"]].min()"
   ]
  },
  {
   "cell_type": "markdown",
   "id": "4212bf04",
   "metadata": {},
   "source": [
    "#### Save and reuse "
   ]
  },
  {
   "cell_type": "code",
   "execution_count": 76,
   "id": "7c104cbd",
   "metadata": {},
   "outputs": [
    {
     "ename": "NameError",
     "evalue": "name 'df_clean' is not defined",
     "output_type": "error",
     "traceback": [
      "\u001b[1;31m---------------------------------------------------------------------------\u001b[0m",
      "\u001b[1;31mNameError\u001b[0m                                 Traceback (most recent call last)",
      "\u001b[1;32m~\\AppData\\Local\\Temp/ipykernel_8756/4269308839.py\u001b[0m in \u001b[0;36m<module>\u001b[1;34m\u001b[0m\n\u001b[1;32m----> 1\u001b[1;33m \u001b[0mdf_clean\u001b[0m\u001b[1;33m.\u001b[0m\u001b[0mto_csv\u001b[0m\u001b[1;33m(\u001b[0m\u001b[1;34m\"USD-EUR-GBP to EGP Time series Data clean.csv\"\u001b[0m\u001b[1;33m,\u001b[0m\u001b[0mindex\u001b[0m \u001b[1;33m=\u001b[0m \u001b[1;32mFalse\u001b[0m\u001b[1;33m)\u001b[0m\u001b[1;33m\u001b[0m\u001b[1;33m\u001b[0m\u001b[0m\n\u001b[0m",
      "\u001b[1;31mNameError\u001b[0m: name 'df_clean' is not defined"
     ]
    }
   ],
   "source": [
    "df_clean.to_csv(\"../data/USD-EUR-GBP to EGP Time series Data clean.csv\",index = False)"
   ]
  },
  {
   "cell_type": "code",
   "execution_count": 6,
   "id": "73269fca",
   "metadata": {},
   "outputs": [],
   "source": [
    "df = pd.read_csv(\"../data/USD-EUR-GBP to EGP Time series Data clean.csv\",index_col='Date')\n",
    "df.index = pd.to_datetime(df.index)\n",
    "df[[\"USD\",\"EUR\",\"GBP\"]] =  df[[\"USD\",\"EUR\",\"GBP\"]].apply(pd.to_numeric)"
   ]
  },
  {
   "cell_type": "markdown",
   "id": "aabad82d",
   "metadata": {},
   "source": [
    "# 3.0 Data improvment\n",
    "#### only take data from dates after 2016, as it is more representing of current data."
   ]
  },
  {
   "cell_type": "code",
   "execution_count": 7,
   "id": "aaf0e3bd",
   "metadata": {},
   "outputs": [
    {
     "data": {
      "text/plain": [
       "DatetimeIndex(['2016-01-01 23:58:00', '2016-01-02 23:58:00',\n",
       "               '2016-01-03 23:58:00', '2016-01-04 23:58:00',\n",
       "               '2016-01-05 23:58:00', '2016-01-06 23:58:00',\n",
       "               '2016-01-07 23:58:00', '2016-01-08 23:58:00',\n",
       "               '2016-01-09 23:58:00', '2016-01-10 23:58:00',\n",
       "               ...\n",
       "               '2023-02-27 23:58:00', '2023-02-28 23:58:00',\n",
       "               '2023-03-01 23:58:00', '2023-03-02 23:58:00',\n",
       "               '2023-03-03 23:58:00', '2023-03-04 23:58:00',\n",
       "               '2023-03-05 23:58:00', '2023-03-06 23:58:00',\n",
       "               '2023-03-07 23:58:00', '2023-03-08 23:58:00'],\n",
       "              dtype='datetime64[ns]', name='Date', length=2623, freq=None)"
      ]
     },
     "execution_count": 7,
     "metadata": {},
     "output_type": "execute_result"
    }
   ],
   "source": [
    "df = df.loc[datetime.date(year=2016,month=1,day=1):]\n",
    "df.index"
   ]
  },
  {
   "cell_type": "code",
   "execution_count": 8,
   "id": "de5e1787",
   "metadata": {},
   "outputs": [
    {
     "name": "stdout",
     "output_type": "stream",
     "text": [
      "<class 'pandas.core.frame.DataFrame'>\n",
      "DatetimeIndex: 2623 entries, 2016-01-01 23:58:00 to 2023-03-08 23:58:00\n",
      "Data columns (total 3 columns):\n",
      " #   Column  Non-Null Count  Dtype  \n",
      "---  ------  --------------  -----  \n",
      " 0   USD     2623 non-null   float64\n",
      " 1   EUR     2623 non-null   float64\n",
      " 2   GBP     2623 non-null   float64\n",
      "dtypes: float64(3)\n",
      "memory usage: 82.0 KB\n"
     ]
    }
   ],
   "source": [
    "df.info()"
   ]
  },
  {
   "cell_type": "markdown",
   "id": "d96c5ae0",
   "metadata": {},
   "source": [
    "#### scale each column with global minimum and maximum"
   ]
  },
  {
   "cell_type": "code",
   "execution_count": 53,
   "id": "46ae9f85",
   "metadata": {},
   "outputs": [],
   "source": [
    "scaler = MinMaxScaler(feature_range = (0,1))\n",
    "\n",
    "scaler.data_min_ = min(df.min())\n",
    "scaler.data_max_ = max(df.max())\n",
    "\n",
    "df_scaled = scaler.fit_transform(df)\n",
    "df_scaled\n",
    "df[\"USDs\"] = df_scaled[:,0]\n",
    "df[\"EURs\"] = df_scaled[:,1]\n",
    "df[\"GBPs\"] = df_scaled[:,2]\n"
   ]
  },
  {
   "cell_type": "code",
   "execution_count": 54,
   "id": "67ee7bc5",
   "metadata": {},
   "outputs": [
    {
     "data": {
      "text/plain": [
       "DatetimeIndex(['2016-01-01 23:58:00', '2016-01-02 23:58:00',\n",
       "               '2016-01-03 23:58:00', '2016-01-04 23:58:00',\n",
       "               '2016-01-05 23:58:00', '2016-01-06 23:58:00',\n",
       "               '2016-01-07 23:58:00', '2016-01-08 23:58:00',\n",
       "               '2016-01-09 23:58:00', '2016-01-10 23:58:00',\n",
       "               ...\n",
       "               '2023-02-27 23:58:00', '2023-02-28 23:58:00',\n",
       "               '2023-03-01 23:58:00', '2023-03-02 23:58:00',\n",
       "               '2023-03-03 23:58:00', '2023-03-04 23:58:00',\n",
       "               '2023-03-05 23:58:00', '2023-03-06 23:58:00',\n",
       "               '2023-03-07 23:58:00', '2023-03-08 23:58:00'],\n",
       "              dtype='datetime64[ns]', name='Date', length=2623, freq=None)"
      ]
     },
     "execution_count": 54,
     "metadata": {},
     "output_type": "execute_result"
    }
   ],
   "source": [
    "df.index"
   ]
  },
  {
   "cell_type": "code",
   "execution_count": 55,
   "id": "7dd02ea7",
   "metadata": {},
   "outputs": [
    {
     "data": {
      "text/html": [
       "<div>\n",
       "<style scoped>\n",
       "    .dataframe tbody tr th:only-of-type {\n",
       "        vertical-align: middle;\n",
       "    }\n",
       "\n",
       "    .dataframe tbody tr th {\n",
       "        vertical-align: top;\n",
       "    }\n",
       "\n",
       "    .dataframe thead th {\n",
       "        text-align: right;\n",
       "    }\n",
       "</style>\n",
       "<table border=\"1\" class=\"dataframe\">\n",
       "  <thead>\n",
       "    <tr style=\"text-align: right;\">\n",
       "      <th></th>\n",
       "      <th>USD</th>\n",
       "      <th>EUR</th>\n",
       "      <th>GBP</th>\n",
       "      <th>USDs</th>\n",
       "      <th>EURs</th>\n",
       "      <th>GBPs</th>\n",
       "    </tr>\n",
       "    <tr>\n",
       "      <th>Date</th>\n",
       "      <th></th>\n",
       "      <th></th>\n",
       "      <th></th>\n",
       "      <th></th>\n",
       "      <th></th>\n",
       "      <th></th>\n",
       "    </tr>\n",
       "  </thead>\n",
       "  <tbody>\n",
       "    <tr>\n",
       "      <th>2016-01-01 23:58:00</th>\n",
       "      <td>7.71420</td>\n",
       "      <td>8.377621</td>\n",
       "      <td>11.373045</td>\n",
       "      <td>0.002939</td>\n",
       "      <td>0.001905</td>\n",
       "      <td>0.025595</td>\n",
       "    </tr>\n",
       "    <tr>\n",
       "      <th>2016-01-02 23:58:00</th>\n",
       "      <td>7.71420</td>\n",
       "      <td>8.341133</td>\n",
       "      <td>11.360934</td>\n",
       "      <td>0.002939</td>\n",
       "      <td>0.000441</td>\n",
       "      <td>0.025142</td>\n",
       "    </tr>\n",
       "    <tr>\n",
       "      <th>2016-01-03 23:58:00</th>\n",
       "      <td>7.71990</td>\n",
       "      <td>8.376863</td>\n",
       "      <td>11.374501</td>\n",
       "      <td>0.003185</td>\n",
       "      <td>0.001875</td>\n",
       "      <td>0.025650</td>\n",
       "    </tr>\n",
       "    <tr>\n",
       "      <th>2016-01-04 23:58:00</th>\n",
       "      <td>7.81040</td>\n",
       "      <td>8.453977</td>\n",
       "      <td>11.489098</td>\n",
       "      <td>0.007080</td>\n",
       "      <td>0.004969</td>\n",
       "      <td>0.029938</td>\n",
       "    </tr>\n",
       "    <tr>\n",
       "      <th>2016-01-05 23:58:00</th>\n",
       "      <td>7.80730</td>\n",
       "      <td>8.392848</td>\n",
       "      <td>11.456198</td>\n",
       "      <td>0.006946</td>\n",
       "      <td>0.002516</td>\n",
       "      <td>0.028707</td>\n",
       "    </tr>\n",
       "    <tr>\n",
       "      <th>...</th>\n",
       "      <td>...</td>\n",
       "      <td>...</td>\n",
       "      <td>...</td>\n",
       "      <td>...</td>\n",
       "      <td>...</td>\n",
       "      <td>...</td>\n",
       "    </tr>\n",
       "    <tr>\n",
       "      <th>2021-09-25 23:58:00</th>\n",
       "      <td>15.67307</td>\n",
       "      <td>18.394000</td>\n",
       "      <td>21.467250</td>\n",
       "      <td>0.345464</td>\n",
       "      <td>0.403752</td>\n",
       "      <td>0.403345</td>\n",
       "    </tr>\n",
       "    <tr>\n",
       "      <th>2021-09-26 23:58:00</th>\n",
       "      <td>15.66000</td>\n",
       "      <td>18.394000</td>\n",
       "      <td>21.448230</td>\n",
       "      <td>0.344902</td>\n",
       "      <td>0.403752</td>\n",
       "      <td>0.402633</td>\n",
       "    </tr>\n",
       "    <tr>\n",
       "      <th>2021-09-27 23:58:00</th>\n",
       "      <td>15.67770</td>\n",
       "      <td>18.374000</td>\n",
       "      <td>21.525180</td>\n",
       "      <td>0.345663</td>\n",
       "      <td>0.402950</td>\n",
       "      <td>0.405513</td>\n",
       "    </tr>\n",
       "    <tr>\n",
       "      <th>2021-09-28 23:58:00</th>\n",
       "      <td>15.68010</td>\n",
       "      <td>18.356000</td>\n",
       "      <td>21.266290</td>\n",
       "      <td>0.345767</td>\n",
       "      <td>0.402227</td>\n",
       "      <td>0.395824</td>\n",
       "    </tr>\n",
       "    <tr>\n",
       "      <th>2021-09-29 23:58:00</th>\n",
       "      <td>15.67860</td>\n",
       "      <td>18.224000</td>\n",
       "      <td>21.094790</td>\n",
       "      <td>0.345702</td>\n",
       "      <td>0.396932</td>\n",
       "      <td>0.389406</td>\n",
       "    </tr>\n",
       "  </tbody>\n",
       "</table>\n",
       "<p>2098 rows × 6 columns</p>\n",
       "</div>"
      ],
      "text/plain": [
       "                          USD        EUR        GBP      USDs      EURs  \\\n",
       "Date                                                                      \n",
       "2016-01-01 23:58:00   7.71420   8.377621  11.373045  0.002939  0.001905   \n",
       "2016-01-02 23:58:00   7.71420   8.341133  11.360934  0.002939  0.000441   \n",
       "2016-01-03 23:58:00   7.71990   8.376863  11.374501  0.003185  0.001875   \n",
       "2016-01-04 23:58:00   7.81040   8.453977  11.489098  0.007080  0.004969   \n",
       "2016-01-05 23:58:00   7.80730   8.392848  11.456198  0.006946  0.002516   \n",
       "...                       ...        ...        ...       ...       ...   \n",
       "2021-09-25 23:58:00  15.67307  18.394000  21.467250  0.345464  0.403752   \n",
       "2021-09-26 23:58:00  15.66000  18.394000  21.448230  0.344902  0.403752   \n",
       "2021-09-27 23:58:00  15.67770  18.374000  21.525180  0.345663  0.402950   \n",
       "2021-09-28 23:58:00  15.68010  18.356000  21.266290  0.345767  0.402227   \n",
       "2021-09-29 23:58:00  15.67860  18.224000  21.094790  0.345702  0.396932   \n",
       "\n",
       "                         GBPs  \n",
       "Date                           \n",
       "2016-01-01 23:58:00  0.025595  \n",
       "2016-01-02 23:58:00  0.025142  \n",
       "2016-01-03 23:58:00  0.025650  \n",
       "2016-01-04 23:58:00  0.029938  \n",
       "2016-01-05 23:58:00  0.028707  \n",
       "...                       ...  \n",
       "2021-09-25 23:58:00  0.403345  \n",
       "2021-09-26 23:58:00  0.402633  \n",
       "2021-09-27 23:58:00  0.405513  \n",
       "2021-09-28 23:58:00  0.395824  \n",
       "2021-09-29 23:58:00  0.389406  \n",
       "\n",
       "[2098 rows x 6 columns]"
      ]
     },
     "execution_count": 55,
     "metadata": {},
     "output_type": "execute_result"
    }
   ],
   "source": [
    "df.iloc[:2098,:]"
   ]
  },
  {
   "cell_type": "markdown",
   "id": "75234ae4",
   "metadata": {},
   "source": [
    "#### split into traning and testing"
   ]
  },
  {
   "cell_type": "code",
   "execution_count": 56,
   "id": "520907d7",
   "metadata": {},
   "outputs": [
    {
     "data": {
      "image/png": "[encoded data removed]",
      "text/plain": [
       "<Figure size 1080x504 with 2 Axes>"
      ]
     },
     "metadata": {
      "needs_background": "light"
     },
     "output_type": "display_data"
    }
   ],
   "source": [
    "\n",
    "\n",
    "fig, (ax1,ax2) = plt.subplots(1,2, sharey = True,figsize = (15,7))\n",
    "\n",
    "ax1.plot(df.iloc[:2098,:].index.to_pydatetime() ,df.iloc[:2098,:][[\"USDs\"]]);\n",
    "ax2.plot(df.iloc[2098:,:].index.to_pydatetime() ,df.iloc[2098:,:][[\"USDs\"]]);\n",
    "fig.autofmt_xdate()\n",
    "\n",
    "ax1.set_xlim([datetime.date(2016, 1, 1), datetime.date(2023, 3, 8)]);\n",
    "ax2.set_xlim([datetime.date(2016, 1, 1), datetime.date(2023, 3, 8)]);"
   ]
  },
  {
   "cell_type": "code",
   "execution_count": 57,
   "id": "5ba03902",
   "metadata": {},
   "outputs": [
    {
     "data": {
      "text/html": [
       "<div>\n",
       "<style scoped>\n",
       "    .dataframe tbody tr th:only-of-type {\n",
       "        vertical-align: middle;\n",
       "    }\n",
       "\n",
       "    .dataframe tbody tr th {\n",
       "        vertical-align: top;\n",
       "    }\n",
       "\n",
       "    .dataframe thead th {\n",
       "        text-align: right;\n",
       "    }\n",
       "</style>\n",
       "<table border=\"1\" class=\"dataframe\">\n",
       "  <thead>\n",
       "    <tr style=\"text-align: right;\">\n",
       "      <th></th>\n",
       "      <th>USD</th>\n",
       "      <th>EUR</th>\n",
       "      <th>GBP</th>\n",
       "      <th>USDs</th>\n",
       "      <th>EURs</th>\n",
       "      <th>GBPs</th>\n",
       "    </tr>\n",
       "    <tr>\n",
       "      <th>Date</th>\n",
       "      <th></th>\n",
       "      <th></th>\n",
       "      <th></th>\n",
       "      <th></th>\n",
       "      <th></th>\n",
       "      <th></th>\n",
       "    </tr>\n",
       "  </thead>\n",
       "  <tbody>\n",
       "    <tr>\n",
       "      <th>2016-01-01 23:58:00</th>\n",
       "      <td>7.71420</td>\n",
       "      <td>8.377621</td>\n",
       "      <td>11.373045</td>\n",
       "      <td>0.002939</td>\n",
       "      <td>0.001905</td>\n",
       "      <td>0.025595</td>\n",
       "    </tr>\n",
       "    <tr>\n",
       "      <th>2016-01-02 23:58:00</th>\n",
       "      <td>7.71420</td>\n",
       "      <td>8.341133</td>\n",
       "      <td>11.360934</td>\n",
       "      <td>0.002939</td>\n",
       "      <td>0.000441</td>\n",
       "      <td>0.025142</td>\n",
       "    </tr>\n",
       "    <tr>\n",
       "      <th>2016-01-03 23:58:00</th>\n",
       "      <td>7.71990</td>\n",
       "      <td>8.376863</td>\n",
       "      <td>11.374501</td>\n",
       "      <td>0.003185</td>\n",
       "      <td>0.001875</td>\n",
       "      <td>0.025650</td>\n",
       "    </tr>\n",
       "    <tr>\n",
       "      <th>2016-01-04 23:58:00</th>\n",
       "      <td>7.81040</td>\n",
       "      <td>8.453977</td>\n",
       "      <td>11.489098</td>\n",
       "      <td>0.007080</td>\n",
       "      <td>0.004969</td>\n",
       "      <td>0.029938</td>\n",
       "    </tr>\n",
       "    <tr>\n",
       "      <th>2016-01-05 23:58:00</th>\n",
       "      <td>7.80730</td>\n",
       "      <td>8.392848</td>\n",
       "      <td>11.456198</td>\n",
       "      <td>0.006946</td>\n",
       "      <td>0.002516</td>\n",
       "      <td>0.028707</td>\n",
       "    </tr>\n",
       "    <tr>\n",
       "      <th>...</th>\n",
       "      <td>...</td>\n",
       "      <td>...</td>\n",
       "      <td>...</td>\n",
       "      <td>...</td>\n",
       "      <td>...</td>\n",
       "      <td>...</td>\n",
       "    </tr>\n",
       "    <tr>\n",
       "      <th>2023-03-04 23:58:00</th>\n",
       "      <td>30.72250</td>\n",
       "      <td>32.721000</td>\n",
       "      <td>36.933240</td>\n",
       "      <td>0.993144</td>\n",
       "      <td>0.978536</td>\n",
       "      <td>0.982119</td>\n",
       "    </tr>\n",
       "    <tr>\n",
       "      <th>2023-03-05 23:58:00</th>\n",
       "      <td>30.79377</td>\n",
       "      <td>32.721000</td>\n",
       "      <td>37.043620</td>\n",
       "      <td>0.996211</td>\n",
       "      <td>0.978536</td>\n",
       "      <td>0.986250</td>\n",
       "    </tr>\n",
       "    <tr>\n",
       "      <th>2023-03-06 23:58:00</th>\n",
       "      <td>30.82550</td>\n",
       "      <td>32.942000</td>\n",
       "      <td>37.073470</td>\n",
       "      <td>0.997577</td>\n",
       "      <td>0.987403</td>\n",
       "      <td>0.987367</td>\n",
       "    </tr>\n",
       "    <tr>\n",
       "      <th>2023-03-07 23:58:00</th>\n",
       "      <td>30.72810</td>\n",
       "      <td>32.417000</td>\n",
       "      <td>36.341010</td>\n",
       "      <td>0.993385</td>\n",
       "      <td>0.966340</td>\n",
       "      <td>0.959956</td>\n",
       "    </tr>\n",
       "    <tr>\n",
       "      <th>2023-03-08 23:58:00</th>\n",
       "      <td>30.88180</td>\n",
       "      <td>32.577000</td>\n",
       "      <td>36.591040</td>\n",
       "      <td>1.000000</td>\n",
       "      <td>0.972759</td>\n",
       "      <td>0.969313</td>\n",
       "    </tr>\n",
       "  </tbody>\n",
       "</table>\n",
       "<p>2623 rows × 6 columns</p>\n",
       "</div>"
      ],
      "text/plain": [
       "                          USD        EUR        GBP      USDs      EURs  \\\n",
       "Date                                                                      \n",
       "2016-01-01 23:58:00   7.71420   8.377621  11.373045  0.002939  0.001905   \n",
       "2016-01-02 23:58:00   7.71420   8.341133  11.360934  0.002939  0.000441   \n",
       "2016-01-03 23:58:00   7.71990   8.376863  11.374501  0.003185  0.001875   \n",
       "2016-01-04 23:58:00   7.81040   8.453977  11.489098  0.007080  0.004969   \n",
       "2016-01-05 23:58:00   7.80730   8.392848  11.456198  0.006946  0.002516   \n",
       "...                       ...        ...        ...       ...       ...   \n",
       "2023-03-04 23:58:00  30.72250  32.721000  36.933240  0.993144  0.978536   \n",
       "2023-03-05 23:58:00  30.79377  32.721000  37.043620  0.996211  0.978536   \n",
       "2023-03-06 23:58:00  30.82550  32.942000  37.073470  0.997577  0.987403   \n",
       "2023-03-07 23:58:00  30.72810  32.417000  36.341010  0.993385  0.966340   \n",
       "2023-03-08 23:58:00  30.88180  32.577000  36.591040  1.000000  0.972759   \n",
       "\n",
       "                         GBPs  \n",
       "Date                           \n",
       "2016-01-01 23:58:00  0.025595  \n",
       "2016-01-02 23:58:00  0.025142  \n",
       "2016-01-03 23:58:00  0.025650  \n",
       "2016-01-04 23:58:00  0.029938  \n",
       "2016-01-05 23:58:00  0.028707  \n",
       "...                       ...  \n",
       "2023-03-04 23:58:00  0.982119  \n",
       "2023-03-05 23:58:00  0.986250  \n",
       "2023-03-06 23:58:00  0.987367  \n",
       "2023-03-07 23:58:00  0.959956  \n",
       "2023-03-08 23:58:00  0.969313  \n",
       "\n",
       "[2623 rows x 6 columns]"
      ]
     },
     "execution_count": 57,
     "metadata": {},
     "output_type": "execute_result"
    }
   ],
   "source": [
    "df"
   ]
  },
  {
   "cell_type": "code",
   "execution_count": 58,
   "id": "544caff0",
   "metadata": {},
   "outputs": [],
   "source": [
    "x = df_scaled\n",
    "y = df_scaled[:,0]"
   ]
  },
  {
   "cell_type": "code",
   "execution_count": 59,
   "id": "04824076",
   "metadata": {},
   "outputs": [
    {
     "data": {
      "text/plain": [
       "array([[0.00293942, 0.00190521, 0.02559548],\n",
       "       [0.00293942, 0.00044134, 0.02514224],\n",
       "       [0.00318473, 0.00187481, 0.02564995]])"
      ]
     },
     "execution_count": 59,
     "metadata": {},
     "output_type": "execute_result"
    }
   ],
   "source": [
    "x[:3]"
   ]
  },
  {
   "cell_type": "code",
   "execution_count": 60,
   "id": "0e131b88",
   "metadata": {},
   "outputs": [
    {
     "data": {
      "text/plain": [
       "array([0.00293942, 0.00293942, 0.00318473])"
      ]
     },
     "execution_count": 60,
     "metadata": {},
     "output_type": "execute_result"
    }
   ],
   "source": [
    "y[:3]"
   ]
  },
  {
   "cell_type": "code",
   "execution_count": 61,
   "id": "075dabfc",
   "metadata": {},
   "outputs": [],
   "source": [
    "x_train, x_test, y_train, y_test = train_test_split(x,y,test_size= 0.2,random_state = 100, shuffle = False)"
   ]
  },
  {
   "cell_type": "code",
   "execution_count": 62,
   "id": "37b7493f",
   "metadata": {},
   "outputs": [
    {
     "data": {
      "text/plain": [
       "(2098, 3)"
      ]
     },
     "execution_count": 62,
     "metadata": {},
     "output_type": "execute_result"
    }
   ],
   "source": [
    "x_train.shape"
   ]
  },
  {
   "cell_type": "code",
   "execution_count": 63,
   "id": "b1c89386",
   "metadata": {},
   "outputs": [
    {
     "data": {
      "text/plain": [
       "(525, 3)"
      ]
     },
     "execution_count": 63,
     "metadata": {},
     "output_type": "execute_result"
    }
   ],
   "source": [
    "x_test.shape"
   ]
  },
  {
   "cell_type": "code",
   "execution_count": 64,
   "id": "05d7fc4d",
   "metadata": {},
   "outputs": [
    {
     "data": {
      "text/plain": [
       "(2098,)"
      ]
     },
     "execution_count": 64,
     "metadata": {},
     "output_type": "execute_result"
    }
   ],
   "source": [
    "y_train.shape"
   ]
  },
  {
   "cell_type": "code",
   "execution_count": 65,
   "id": "995d29c1",
   "metadata": {},
   "outputs": [
    {
     "data": {
      "text/plain": [
       "(525,)"
      ]
     },
     "execution_count": 65,
     "metadata": {},
     "output_type": "execute_result"
    }
   ],
   "source": [
    "y_test.shape"
   ]
  },
  {
   "cell_type": "markdown",
   "id": "fd9e8ddf",
   "metadata": {},
   "source": [
    "# 3.0 Modeling"
   ]
  },
  {
   "cell_type": "markdown",
   "id": "83683f3c",
   "metadata": {},
   "source": [
    "#### Create generator for testing and tranning"
   ]
  },
  {
   "cell_type": "code",
   "execution_count": 66,
   "id": "f11b40f2",
   "metadata": {},
   "outputs": [],
   "source": [
    "days_found = 9\n",
    "days_to_find =1\n",
    "days = days_to_find + days_found\n",
    "train_generator = TimeseriesGenerator(x_train,y_train,length = days, sampling_rate= 1,batch_size = 10)\n",
    "test_generator = TimeseriesGenerator(x_test,y_test,length = days, sampling_rate= 1,batch_size = 10)"
   ]
  },
  {
   "cell_type": "markdown",
   "id": "566c9c22",
   "metadata": {},
   "source": [
    "#### Model "
   ]
  },
  {
   "cell_type": "code",
   "execution_count": 241,
   "id": "426e4bb4",
   "metadata": {},
   "outputs": [],
   "source": [
    "model = tf.keras.Sequential()\n",
    "model.add(tf.keras.layers.LSTM(128 , input_shape = (days,3),return_sequences =True))\n",
    "model.add(tf.keras.layers.LeakyReLU())\n",
    "model.add(tf.keras.layers.LSTM(128 , return_sequences = True))\n",
    "model.add(tf.keras.layers.LeakyReLU())\n",
    "model.add(tf.keras.layers.Dropout(0.2))\n",
    "model.add(tf.keras.layers.LSTM(32 , return_sequences = False))\n",
    "model.add(tf.keras.layers.Dropout(0.2))\n",
    "model.add(tf.keras.layers.Dense(1))"
   ]
  },
  {
   "cell_type": "code",
   "execution_count": 242,
   "id": "148f8033",
   "metadata": {
    "scrolled": true
   },
   "outputs": [
    {
     "name": "stdout",
     "output_type": "stream",
     "text": [
      "Model: \"sequential_14\"\n",
      "_________________________________________________________________\n",
      " Layer (type)                Output Shape              Param #   \n",
      "=================================================================\n",
      " lstm_41 (LSTM)              (None, 10, 128)           67584     \n",
      "                                                                 \n",
      " leaky_re_lu_27 (LeakyReLU)  (None, 10, 128)           0         \n",
      "                                                                 \n",
      " lstm_42 (LSTM)              (None, 10, 128)           131584    \n",
      "                                                                 \n",
      " leaky_re_lu_28 (LeakyReLU)  (None, 10, 128)           0         \n",
      "                                                                 \n",
      " dropout_24 (Dropout)        (None, 10, 128)           0         \n",
      "                                                                 \n",
      " lstm_43 (LSTM)              (None, 32)                20608     \n",
      "                                                                 \n",
      " dropout_25 (Dropout)        (None, 32)                0         \n",
      "                                                                 \n",
      " dense_14 (Dense)            (None, 1)                 33        \n",
      "                                                                 \n",
      "=================================================================\n",
      "Total params: 219,809\n",
      "Trainable params: 219,809\n",
      "Non-trainable params: 0\n",
      "_________________________________________________________________\n"
     ]
    }
   ],
   "source": [
    "model.summary()"
   ]
  },
  {
   "cell_type": "markdown",
   "id": "5c6da72b",
   "metadata": {},
   "source": [
    "#### Early stoppning function in case of a bad model"
   ]
  },
  {
   "cell_type": "code",
   "execution_count": 243,
   "id": "56ddd660",
   "metadata": {},
   "outputs": [],
   "source": [
    "stop = tf.keras.callbacks.EarlyStopping(monitor = \"val_loss\", patience = 5, mode= \"min\")\n",
    "\n",
    "\n",
    "model.compile(\n",
    "            loss = tf.losses.MeanAbsoluteError(),\n",
    "            optimizer = tf.optimizers.Adagrad(),\n",
    "            metrics = [tf.metrics.MeanAbsoluteError()]\n",
    "             ) "
   ]
  },
  {
   "cell_type": "code",
   "execution_count": 244,
   "id": "9dd19fdb",
   "metadata": {},
   "outputs": [
    {
     "name": "stdout",
     "output_type": "stream",
     "text": [
      "Epoch 1/30\n"
     ]
    },
    {
     "name": "stderr",
     "output_type": "stream",
     "text": [
      "C:\\Users\\Mgala\\AppData\\Local\\Temp/ipykernel_19672/3422703389.py:1: UserWarning: `Model.fit_generator` is deprecated and will be removed in a future version. Please use `Model.fit`, which supports generators.\n",
      "  history = model.fit_generator(train_generator, epochs = 30, validation_data = test_generator,\n"
     ]
    },
    {
     "name": "stdout",
     "output_type": "stream",
     "text": [
      "209/209 [==============================] - 13s 35ms/step - loss: 0.1324 - mean_absolute_error: 0.1324 - val_loss: 0.1777 - val_mean_absolute_error: 0.1777\n",
      "Epoch 2/30\n",
      "209/209 [==============================] - 3s 15ms/step - loss: 0.0770 - mean_absolute_error: 0.0770 - val_loss: 0.1702 - val_mean_absolute_error: 0.1702\n",
      "Epoch 3/30\n",
      "209/209 [==============================] - 3s 15ms/step - loss: 0.0742 - mean_absolute_error: 0.0742 - val_loss: 0.1707 - val_mean_absolute_error: 0.1707\n",
      "Epoch 4/30\n",
      "209/209 [==============================] - 4s 18ms/step - loss: 0.0709 - mean_absolute_error: 0.0709 - val_loss: 0.1610 - val_mean_absolute_error: 0.1610\n",
      "Epoch 5/30\n",
      "209/209 [==============================] - 4s 21ms/step - loss: 0.0697 - mean_absolute_error: 0.0697 - val_loss: 0.1584 - val_mean_absolute_error: 0.1584\n",
      "Epoch 6/30\n",
      "209/209 [==============================] - 4s 18ms/step - loss: 0.0677 - mean_absolute_error: 0.0677 - val_loss: 0.1534 - val_mean_absolute_error: 0.1534\n",
      "Epoch 7/30\n",
      "209/209 [==============================] - 3s 16ms/step - loss: 0.0662 - mean_absolute_error: 0.0662 - val_loss: 0.1530 - val_mean_absolute_error: 0.1530\n",
      "Epoch 8/30\n",
      "209/209 [==============================] - 3s 16ms/step - loss: 0.0630 - mean_absolute_error: 0.0630 - val_loss: 0.1495 - val_mean_absolute_error: 0.1495\n",
      "Epoch 9/30\n",
      "209/209 [==============================] - 5s 24ms/step - loss: 0.0617 - mean_absolute_error: 0.0617 - val_loss: 0.1448 - val_mean_absolute_error: 0.1448\n",
      "Epoch 10/30\n",
      "209/209 [==============================] - 5s 22ms/step - loss: 0.0605 - mean_absolute_error: 0.0605 - val_loss: 0.1387 - val_mean_absolute_error: 0.1387\n",
      "Epoch 11/30\n",
      "209/209 [==============================] - 5s 24ms/step - loss: 0.0593 - mean_absolute_error: 0.0593 - val_loss: 0.1390 - val_mean_absolute_error: 0.1390\n",
      "Epoch 12/30\n",
      "209/209 [==============================] - 6s 31ms/step - loss: 0.0578 - mean_absolute_error: 0.0578 - val_loss: 0.1351 - val_mean_absolute_error: 0.1351\n",
      "Epoch 13/30\n",
      "209/209 [==============================] - 4s 18ms/step - loss: 0.0547 - mean_absolute_error: 0.0547 - val_loss: 0.1300 - val_mean_absolute_error: 0.1300\n",
      "Epoch 14/30\n",
      "209/209 [==============================] - 3s 15ms/step - loss: 0.0536 - mean_absolute_error: 0.0536 - val_loss: 0.1300 - val_mean_absolute_error: 0.1300\n",
      "Epoch 15/30\n",
      "209/209 [==============================] - 3s 16ms/step - loss: 0.0512 - mean_absolute_error: 0.0512 - val_loss: 0.1234 - val_mean_absolute_error: 0.1234\n",
      "Epoch 16/30\n",
      "209/209 [==============================] - 6s 28ms/step - loss: 0.0489 - mean_absolute_error: 0.0489 - val_loss: 0.1217 - val_mean_absolute_error: 0.1217\n",
      "Epoch 17/30\n",
      "209/209 [==============================] - 3s 15ms/step - loss: 0.0469 - mean_absolute_error: 0.0469 - val_loss: 0.1192 - val_mean_absolute_error: 0.1192\n",
      "Epoch 18/30\n",
      "209/209 [==============================] - 4s 18ms/step - loss: 0.0456 - mean_absolute_error: 0.0456 - val_loss: 0.1170 - val_mean_absolute_error: 0.1170\n",
      "Epoch 19/30\n",
      "209/209 [==============================] - 6s 29ms/step - loss: 0.0434 - mean_absolute_error: 0.0434 - val_loss: 0.1096 - val_mean_absolute_error: 0.1096\n",
      "Epoch 20/30\n",
      "209/209 [==============================] - 4s 20ms/step - loss: 0.0411 - mean_absolute_error: 0.0411 - val_loss: 0.1057 - val_mean_absolute_error: 0.1057\n",
      "Epoch 21/30\n",
      "209/209 [==============================] - 6s 27ms/step - loss: 0.0402 - mean_absolute_error: 0.0402 - val_loss: 0.1052 - val_mean_absolute_error: 0.1052\n",
      "Epoch 22/30\n",
      "209/209 [==============================] - 6s 28ms/step - loss: 0.0375 - mean_absolute_error: 0.0375 - val_loss: 0.1038 - val_mean_absolute_error: 0.1038\n",
      "Epoch 23/30\n",
      "209/209 [==============================] - 7s 36ms/step - loss: 0.0357 - mean_absolute_error: 0.0357 - val_loss: 0.1004 - val_mean_absolute_error: 0.1004\n",
      "Epoch 24/30\n",
      "209/209 [==============================] - 7s 36ms/step - loss: 0.0356 - mean_absolute_error: 0.0356 - val_loss: 0.0990 - val_mean_absolute_error: 0.0990\n",
      "Epoch 25/30\n",
      "209/209 [==============================] - 8s 36ms/step - loss: 0.0339 - mean_absolute_error: 0.0339 - val_loss: 0.1009 - val_mean_absolute_error: 0.1009\n",
      "Epoch 26/30\n",
      "209/209 [==============================] - 5s 25ms/step - loss: 0.0342 - mean_absolute_error: 0.0342 - val_loss: 0.0978 - val_mean_absolute_error: 0.0978\n",
      "Epoch 27/30\n",
      "209/209 [==============================] - 3s 15ms/step - loss: 0.0341 - mean_absolute_error: 0.0341 - val_loss: 0.0957 - val_mean_absolute_error: 0.0957\n",
      "Epoch 28/30\n",
      "209/209 [==============================] - 4s 19ms/step - loss: 0.0347 - mean_absolute_error: 0.0347 - val_loss: 0.0945 - val_mean_absolute_error: 0.0945\n",
      "Epoch 29/30\n",
      "209/209 [==============================] - 8s 36ms/step - loss: 0.0343 - mean_absolute_error: 0.0343 - val_loss: 0.0963 - val_mean_absolute_error: 0.0963\n",
      "Epoch 30/30\n",
      "209/209 [==============================] - 7s 36ms/step - loss: 0.0334 - mean_absolute_error: 0.0334 - val_loss: 0.0931 - val_mean_absolute_error: 0.0931\n"
     ]
    }
   ],
   "source": [
    "\n",
    "history = model.fit_generator(train_generator, epochs = 30, validation_data = test_generator,\n",
    "                             shuffle = False\n",
    ",                             callbacks = [stop])\n",
    "            "
   ]
  },
  {
   "cell_type": "code",
   "execution_count": 245,
   "id": "045dd28e",
   "metadata": {},
   "outputs": [
    {
     "data": {
      "text/plain": [
       "['loss', 'mean_absolute_error']"
      ]
     },
     "execution_count": 245,
     "metadata": {},
     "output_type": "execute_result"
    }
   ],
   "source": [
    "model.metrics_names"
   ]
  },
  {
   "cell_type": "code",
   "execution_count": 246,
   "id": "596a9311",
   "metadata": {},
   "outputs": [
    {
     "name": "stderr",
     "output_type": "stream",
     "text": [
      "C:\\Users\\Mgala\\AppData\\Local\\Temp/ipykernel_19672/1828663309.py:1: UserWarning: `Model.evaluate_generator` is deprecated and will be removed in a future version. Please use `Model.evaluate`, which supports generators.\n",
      "  model.evaluate_generator(test_generator, verbose = 0)\n"
     ]
    },
    {
     "data": {
      "text/plain": [
       "[0.09313519299030304, 0.09313519299030304]"
      ]
     },
     "execution_count": 246,
     "metadata": {},
     "output_type": "execute_result"
    }
   ],
   "source": [
    "model.evaluate_generator(test_generator, verbose = 0)"
   ]
  },
  {
   "cell_type": "code",
   "execution_count": 247,
   "id": "6a6d4e30",
   "metadata": {},
   "outputs": [
    {
     "name": "stderr",
     "output_type": "stream",
     "text": [
      "C:\\Users\\Mgala\\AppData\\Local\\Temp/ipykernel_19672/2745777454.py:1: UserWarning: `Model.predict_generator` is deprecated and will be removed in a future version. Please use `Model.predict`, which supports generators.\n",
      "  predictions = model.predict_generator(test_generator)\n"
     ]
    }
   ],
   "source": [
    "predictions = model.predict_generator(test_generator)"
   ]
  },
  {
   "cell_type": "code",
   "execution_count": 248,
   "id": "ea316742",
   "metadata": {},
   "outputs": [
    {
     "data": {
      "text/plain": [
       "515"
      ]
     },
     "execution_count": 248,
     "metadata": {},
     "output_type": "execute_result"
    }
   ],
   "source": [
    "predictions.shape[0]"
   ]
  },
  {
   "cell_type": "code",
   "execution_count": 249,
   "id": "26dcb8e2",
   "metadata": {},
   "outputs": [
    {
     "data": {
      "text/plain": [
       "array([[0.39456471, 0.40451673],\n",
       "       [0.39456471, 0.40473079],\n",
       "       [0.39805506, 0.40419153],\n",
       "       [0.39504614, 0.39964434],\n",
       "       [0.39869696, 0.40613038],\n",
       "       [0.39356173, 0.3935385 ],\n",
       "       [0.39440423, 0.39298802],\n",
       "       [0.39440423, 0.39298802],\n",
       "       [0.39440423, 0.39247496],\n",
       "       [0.39705208, 0.39827767],\n",
       "       [0.39649042, 0.39691849],\n",
       "       [0.38922889, 0.38795733],\n",
       "       [0.38774448, 0.38615245],\n",
       "       [0.38806544, 0.38967314],\n",
       "       [0.38806544, 0.38967314],\n",
       "       [0.38806544, 0.38985389],\n",
       "       [0.38377271, 0.3899336 ],\n",
       "       [0.37887819, 0.38887043],\n",
       "       [0.38000152, 0.39395052],\n",
       "       [0.38208771, 0.39335289],\n",
       "       [0.37687225, 0.38915035],\n",
       "       [0.37687225, 0.38915035],\n",
       "       [0.37687225, 0.39019855],\n",
       "       [0.37478606, 0.38816652],\n",
       "       [0.37494654, 0.38682605],\n",
       "       [0.37237892, 0.38419151],\n",
       "       [0.37265975, 0.3830868 ],\n",
       "       [0.37964045, 0.38497476],\n",
       "       [0.37964045, 0.38497476],\n",
       "       [0.37964045, 0.38663482],\n",
       "       [0.37819617, 0.38347001],\n",
       "       [0.38208771, 0.38407962],\n",
       "       [0.37927938, 0.38067082],\n",
       "       [0.37835665, 0.3818949 ],\n",
       "       [0.37895843, 0.3780243 ],\n",
       "       [0.37895843, 0.3780243 ],\n",
       "       [0.37895843, 0.37884423],\n",
       "       [0.37755427, 0.38009638],\n",
       "       [0.37627046, 0.37887791],\n",
       "       [0.38108474, 0.37666512],\n",
       "       [0.37775486, 0.37751948],\n",
       "       [0.37883807, 0.37962561],\n",
       "       [0.37883807, 0.37962561],\n",
       "       [0.37883807, 0.37945646],\n",
       "       [0.37691236, 0.37674147],\n",
       "       [0.37651117, 0.37906764],\n",
       "       [0.37895843, 0.3814245 ],\n",
       "       [0.38140569, 0.38459455],\n",
       "       [0.37562856, 0.37869491],\n",
       "       [0.37562856, 0.37725528],\n",
       "       [0.37562856, 0.37906165],\n",
       "       [0.37643094, 0.3764477 ],\n",
       "       [0.37739379, 0.3803793 ],\n",
       "       [0.38144581, 0.38693233],\n",
       "       [0.37972069, 0.38822714],\n",
       "       [0.37919915, 0.38825334],\n",
       "       [0.37919915, 0.38825334],\n",
       "       [0.37919915, 0.38765608],\n",
       "       [0.38032248, 0.39077785],\n",
       "       [0.37980093, 0.39080105],\n",
       "       [0.38168652, 0.39335102],\n",
       "       [0.3793195 , 0.39339555],\n",
       "       [0.38240866, 0.39463311],\n",
       "       [0.38240866, 0.39463311],\n",
       "       [0.38240866, 0.39476034],\n",
       "       [0.37956022, 0.39436404],\n",
       "       [0.37791534, 0.39646755],\n",
       "       [0.37903867, 0.39724631],\n",
       "       [0.37799558, 0.39591819],\n",
       "       [0.38208771, 0.39957174],\n",
       "       [0.38208771, 0.39919864],\n",
       "       [0.38208771, 0.39971507],\n",
       "       [0.38084402, 0.39935506],\n",
       "       [0.38220807, 0.40176244],\n",
       "       [0.38750377, 0.40645708],\n",
       "       [0.38706246, 0.40531757],\n",
       "       [0.38441461, 0.40270699],\n",
       "       [0.38441461, 0.40270699],\n",
       "       [0.38441461, 0.40327468],\n",
       "       [0.38497628, 0.40237842],\n",
       "       [0.38116497, 0.40098106],\n",
       "       [0.38076378, 0.40006609],\n",
       "       [0.380162  , 0.40089649],\n",
       "       [0.38088414, 0.39709288],\n",
       "       [0.38088414, 0.39709288],\n",
       "       [0.38088414, 0.397155  ],\n",
       "       [0.37943986, 0.39287725],\n",
       "       [0.37960033, 0.3957569 ],\n",
       "       [0.37558844, 0.39325634],\n",
       "       [0.36961071, 0.38864478],\n",
       "       [0.36957059, 0.38833941],\n",
       "       [0.36957059, 0.38833941],\n",
       "       [0.36957059, 0.38886519],\n",
       "       [0.37426451, 0.39117939],\n",
       "       [0.37627046, 0.39508554],\n",
       "       [0.37807581, 0.39744091],\n",
       "       [0.38774448, 0.40080219],\n",
       "       [0.38846663, 0.39612626],\n",
       "       [0.38846663, 0.39612626],\n",
       "       [0.38846663, 0.3963942 ],\n",
       "       [0.38678163, 0.39575503],\n",
       "       [0.38609961, 0.39698735],\n",
       "       [0.38694211, 0.39694094],\n",
       "       [0.38525711, 0.39674485],\n",
       "       [0.38120509, 0.39700307],\n",
       "       [0.38120509, 0.39726016],\n",
       "       [0.38120509, 0.39668909],\n",
       "       [0.37875784, 0.39594027],\n",
       "       [0.38228831, 0.39686311],\n",
       "       [0.38264938, 0.39869194],\n",
       "       [0.38341164, 0.40201879],\n",
       "       [0.38060331, 0.40013607],\n",
       "       [0.38060331, 0.40013607],\n",
       "       [0.38060331, 0.40083287],\n",
       "       [0.37843688, 0.39922633],\n",
       "       [0.37996141, 0.39897635],\n",
       "       [0.37887819, 0.39694731],\n",
       "       [0.37269987, 0.38794161],\n",
       "       [0.37763451, 0.3905608 ],\n",
       "       [0.37763451, 0.3946099 ],\n",
       "       [0.37233479, 0.38803367],\n",
       "       [0.37290047, 0.38933971],\n",
       "       [0.36716346, 0.3834367 ],\n",
       "       [0.36692274, 0.38827504],\n",
       "       [0.36456776, 0.38576662],\n",
       "       [0.35360325, 0.37713066],\n",
       "       [0.35360325, 0.37708351],\n",
       "       [0.35360325, 0.37959081],\n",
       "       [0.35163742, 0.37214749],\n",
       "       [0.35368348, 0.37109405],\n",
       "       [0.36491679, 0.37656109],\n",
       "       [0.36042347, 0.37092715],\n",
       "       [0.35260027, 0.36539088],\n",
       "       [0.35260027, 0.36539088],\n",
       "       [0.35260027, 0.36451408],\n",
       "       [0.35693312, 0.36630586],\n",
       "       [0.3570936 , 0.36677065],\n",
       "       [0.36098514, 0.37315603],\n",
       "       [0.36579941, 0.37380755],\n",
       "       [0.36315156, 0.37532503],\n",
       "       [0.36315156, 0.37532503],\n",
       "       [0.36315156, 0.37521875],\n",
       "       [0.47127217, 0.49801543],\n",
       "       [0.48607607, 0.52023983],\n",
       "       [0.47708942, 0.50796828],\n",
       "       [0.47540442, 0.50513766],\n",
       "       [0.48098096, 0.51303041],\n",
       "       [0.48360073, 0.51368792],\n",
       "       [0.48360073, 0.51473986],\n",
       "       [0.4730374 , 0.49747842],\n",
       "       [0.48110131, 0.49790877],\n",
       "       [0.48370905, 0.49806108],\n",
       "       [0.47781156, 0.49931885],\n",
       "       [0.47656787, 0.49757908],\n",
       "       [0.47656787, 0.49774412],\n",
       "       [0.47656787, 0.49715846],\n",
       "       [0.46890515, 0.4950875 ],\n",
       "       [0.4639304 , 0.49269995],\n",
       "       [0.4662573 , 0.49531353],\n",
       "       [0.46501361, 0.49674494],\n",
       "       [0.46617706, 0.49512193],\n",
       "       [0.46617706, 0.49512193],\n",
       "       [0.46617706, 0.49372346],\n",
       "       [0.47046979, 0.49857602],\n",
       "       [0.4692261 , 0.50006954],\n",
       "       [0.47050991, 0.50379307],\n",
       "       [0.46509385, 0.49989328],\n",
       "       [0.46509385, 0.49890571],\n",
       "       [0.46509385, 0.49890571],\n",
       "       [0.46509385, 0.50013765],\n",
       "       [0.46509385, 0.50623525],\n",
       "       [0.4654148 , 0.49923428],\n",
       "       [0.47059015, 0.50418226],\n",
       "       [0.47343859, 0.50568103],\n",
       "       [0.47046979, 0.49265018],\n",
       "       [0.47046979, 0.49583034],\n",
       "       [0.47046979, 0.49076447],\n",
       "       [0.46340885, 0.4846489 ],\n",
       "       [0.45650839, 0.4720181 ],\n",
       "       [0.44932709, 0.46837952],\n",
       "       [0.44471341, 0.46211352],\n",
       "       [0.44780257, 0.46952053],\n",
       "       [0.44780257, 0.46952053],\n",
       "       [0.44780257, 0.47038199],\n",
       "       [0.44495413, 0.46438019],\n",
       "       [0.44583675, 0.46407483],\n",
       "       [0.45297792, 0.4727149 ],\n",
       "       [0.44752174, 0.45534643],\n",
       "       [0.44776246, 0.45308574],\n",
       "       [0.44820376, 0.45308574],\n",
       "       [0.44820376, 0.45408904],\n",
       "       [0.44900614, 0.45317256],\n",
       "       [0.44655889, 0.45097886],\n",
       "       [0.44138354, 0.4419436 ],\n",
       "       [0.42870595, 0.43681973],\n",
       "       [0.43091249, 0.43941273],\n",
       "       [0.43091249, 0.43941273],\n",
       "       [0.43091249, 0.44118393],\n",
       "       [0.43123344, 0.44302212],\n",
       "       [0.43941771, 0.45414929],\n",
       "       [0.4330388 , 0.44369048],\n",
       "       [0.44178473, 0.45265464],\n",
       "       [0.44038057, 0.45348953],\n",
       "       [0.44038057, 0.45348953],\n",
       "       [0.44038057, 0.45469116],\n",
       "       [0.45446232, 0.46525513],\n",
       "       [0.46332861, 0.46923687],\n",
       "       [0.46336873, 0.47612932],\n",
       "       [0.46693932, 0.47847907],\n",
       "       [0.46713992, 0.47997372],\n",
       "       [0.46661837, 0.47997372],\n",
       "       [0.46661837, 0.47903667],\n",
       "       [0.46994824, 0.48032961],\n",
       "       [0.46722015, 0.4778893 ],\n",
       "       [0.46204481, 0.47024727],\n",
       "       [0.47014884, 0.47787545],\n",
       "       [0.46701956, 0.47182837],\n",
       "       [0.46701956, 0.47445505],\n",
       "       [0.46701956, 0.4704168 ],\n",
       "       [0.46585611, 0.47420319],\n",
       "       [0.46790218, 0.48036292],\n",
       "       [0.46946682, 0.47706451],\n",
       "       [0.46280707, 0.47456469],\n",
       "       [0.45522458, 0.46286908],\n",
       "       [0.45522458, 0.46183397],\n",
       "       [0.45522458, 0.46167231],\n",
       "       [0.44808341, 0.45029141],\n",
       "       [0.45053066, 0.44226731],\n",
       "       [0.45285756, 0.45472784],\n",
       "       [0.45891553, 0.46662404],\n",
       "       [0.45522458, 0.44048226],\n",
       "       [0.45522458, 0.46077604],\n",
       "       [0.45522458, 0.45834284],\n",
       "       [0.45799279, 0.46063533],\n",
       "       [0.45807303, 0.46067762],\n",
       "       [0.46003886, 0.45914068],\n",
       "       [0.45835386, 0.46152449],\n",
       "       [0.46092148, 0.46210005],\n",
       "       [0.46092148, 0.46210005],\n",
       "       [0.46092148, 0.46221531],\n",
       "       [0.46272683, 0.46181377],\n",
       "       [0.45935684, 0.457359  ],\n",
       "       [0.45365994, 0.45333909],\n",
       "       [0.45618744, 0.45573375],\n",
       "       [0.45241626, 0.4505994 ],\n",
       "       [0.45241626, 0.4505994 ],\n",
       "       [0.45241626, 0.45098897],\n",
       "       [0.45538506, 0.45516792],\n",
       "       [0.44190509, 0.4432459 ],\n",
       "       [0.43753212, 0.44272049],\n",
       "       [0.43608784, 0.44989399],\n",
       "       [0.43644891, 0.44943332],\n",
       "       [0.43644891, 0.4494887 ],\n",
       "       [0.43644891, 0.4497196 ],\n",
       "       [0.42657964, 0.44051669],\n",
       "       [0.42581738, 0.43937605],\n",
       "       [0.42541619, 0.4377725 ],\n",
       "       [0.42505512, 0.43632239],\n",
       "       [0.42998975, 0.43792257],\n",
       "       [0.42998975, 0.43850411],\n",
       "       [0.42998975, 0.43940749],\n",
       "       [0.4360076 , 0.44611732],\n",
       "       [0.44190509, 0.44928026],\n",
       "       [0.43997938, 0.44889107],\n",
       "       [0.44154402, 0.44916912],\n",
       "       [0.44094223, 0.44943257],\n",
       "       [0.44094223, 0.44994189],\n",
       "       [0.44094223, 0.44965224],\n",
       "       [0.44342961, 0.45530863],\n",
       "       [0.43632855, 0.45404413],\n",
       "       [0.44122306, 0.46210192],\n",
       "       [0.43941771, 0.4617741 ],\n",
       "       [0.44154402, 0.46342106],\n",
       "       [0.44154402, 0.46342106],\n",
       "       [0.44154402, 0.4625667 ],\n",
       "       [0.44716067, 0.47008785],\n",
       "       [0.44174461, 0.465379  ],\n",
       "       [0.44350985, 0.46689685],\n",
       "       [0.45225578, 0.47034307],\n",
       "       [0.44651877, 0.462786  ],\n",
       "       [0.44651877, 0.46380426],\n",
       "       [0.44651877, 0.46344089],\n",
       "       [0.45016959, 0.4669904 ],\n",
       "       [0.45053066, 0.46557883],\n",
       "       [0.45638803, 0.47437683],\n",
       "       [0.45855446, 0.47372681],\n",
       "       [0.45406113, 0.4698229 ],\n",
       "       [0.45406113, 0.4698229 ],\n",
       "       [0.45406113, 0.46958639],\n",
       "       [0.44647865, 0.46396331],\n",
       "       [0.44740138, 0.46733244],\n",
       "       [0.44687984, 0.4622299 ],\n",
       "       [0.44106259, 0.45530227],\n",
       "       [0.4368501 , 0.44718274],\n",
       "       [0.4368501 , 0.44732719],\n",
       "       [0.4368501 , 0.44682835],\n",
       "       [0.43011011, 0.44396217],\n",
       "       [0.43211606, 0.44827098],\n",
       "       [0.43384117, 0.44726469],\n",
       "       [0.43364058, 0.4492986 ],\n",
       "       [0.4330388 , 0.44264265],\n",
       "       [0.4330388 , 0.44567948],\n",
       "       [0.4330388 , 0.4420278 ],\n",
       "       [0.43725129, 0.44263554],\n",
       "       [0.43933747, 0.43915601],\n",
       "       [0.44022009, 0.43456653],\n",
       "       [0.4336807 , 0.43103797],\n",
       "       [0.4336807 , 0.42871105],\n",
       "       [0.4336807 , 0.42871105],\n",
       "       [0.4336807 , 0.42931542],\n",
       "       [0.43356034, 0.43233204],\n",
       "       [0.43035082, 0.42949842],\n",
       "       [0.43841474, 0.43040928],\n",
       "       [0.44182485, 0.43307637],\n",
       "       [0.44427211, 0.42944116],\n",
       "       [0.44427211, 0.42944116],\n",
       "       [0.44427211, 0.43768943],\n",
       "       [0.45253661, 0.44677334],\n",
       "       [0.44058116, 0.43274818],\n",
       "       [0.4415039 , 0.43678119],\n",
       "       [0.44419187, 0.43249857],\n",
       "       [0.44643853, 0.43113228],\n",
       "       [0.43957819, 0.4345931 ],\n",
       "       [0.43957819, 0.42333009],\n",
       "       [0.4470002 , 0.43136018],\n",
       "       [0.44342961, 0.42792892],\n",
       "       [0.43420225, 0.42049272],\n",
       "       [0.43512498, 0.42151547],\n",
       "       [0.42365096, 0.39434009],\n",
       "       [0.42822452, 0.40416721],\n",
       "       [0.42822452, 0.39280427],\n",
       "       [0.42097101, 0.38845205],\n",
       "       [0.41614871, 0.38224817],\n",
       "       [0.42682036, 0.39230656],\n",
       "       [0.43680998, 0.41710338],\n",
       "       [0.43412201, 0.4185142 ],\n",
       "       [0.43412201, 0.4185142 ],\n",
       "       [0.43412201, 0.41506984],\n",
       "       [0.43977878, 0.43197129],\n",
       "       [0.45309828, 0.44227067],\n",
       "       [0.44736127, 0.43457439],\n",
       "       [0.43705069, 0.42027567],\n",
       "       [0.43428248, 0.41647505],\n",
       "       [0.43773271, 0.42282114],\n",
       "       [0.43773271, 0.33532799],\n",
       "       [0.43187535, 0.41506872],\n",
       "       [0.43175499, 0.40778595],\n",
       "       [0.43231665, 0.41786604],\n",
       "       [0.43640879, 0.43160717],\n",
       "       [0.43299868, 0.42626026],\n",
       "       [0.43251725, 0.42626026],\n",
       "       [0.43251725, 0.42549722],\n",
       "       [0.44282782, 0.43594742],\n",
       "       [0.44399127, 0.43480641],\n",
       "       [0.43656926, 0.42529214],\n",
       "       [0.43528546, 0.42349699],\n",
       "       [0.44186497, 0.42953921],\n",
       "       [0.44186497, 0.42579173],\n",
       "       [0.44186497, 0.43275491],\n",
       "       [0.44563615, 0.43195894],\n",
       "       [0.45333899, 0.44507735],\n",
       "       [0.46356933, 0.45814824],\n",
       "       [0.59178954, 0.60218886],\n",
       "       [0.59130811, 0.60604524],\n",
       "       [0.59130811, 0.60604524],\n",
       "       [0.59130811, 0.60554714],\n",
       "       [0.62472721, 0.63763272],\n",
       "       [0.62472721, 0.64033013],\n",
       "       [0.61429628, 0.62583382],\n",
       "       [0.61437651, 0.61387699],\n",
       "       [0.63499766, 0.6250472 ],\n",
       "       [0.61895409, 0.61515759],\n",
       "       [0.61895409, 0.61438743],\n",
       "       [0.643543  , 0.64843956],\n",
       "       [0.65028299, 0.65243065],\n",
       "       [0.64599026, 0.63732586],\n",
       "       [0.66344201, 0.66816302],\n",
       "       [0.67892793, 0.67614634],\n",
       "       [0.67892793, 0.67995856],\n",
       "       [0.67892793, 0.67959481],\n",
       "       [0.67828602, 0.67554384],\n",
       "       [0.68229792, 0.68725293],\n",
       "       [0.68671101, 0.69172378],\n",
       "       [0.68502601, 0.68814395],\n",
       "       [0.68125483, 0.68865963],\n",
       "       [0.68125483, 0.6925946 ],\n",
       "       [0.68125483, 0.6941218 ],\n",
       "       [0.67355199, 0.68519095],\n",
       "       [0.67948959, 0.69044094],\n",
       "       [0.69160552, 0.70911358],\n",
       "       [0.69200671, 0.71375621],\n",
       "       [0.69088338, 0.70841004],\n",
       "       [0.69088338, 0.70841004],\n",
       "       [0.69088338, 0.71198688],\n",
       "       [0.6854272 , 0.69986464],\n",
       "       [0.68253863, 0.69709763],\n",
       "       [0.69256838, 0.70975575],\n",
       "       [0.70315978, 0.72679828],\n",
       "       [0.70456395, 0.72869821],\n",
       "       [0.70456395, 0.72869821],\n",
       "       [0.70456395, 0.72995523],\n",
       "       [0.70015086, 0.72061311],\n",
       "       [0.69882693, 0.71661116],\n",
       "       [0.70516573, 0.72613815],\n",
       "       [0.70773334, 0.72639487],\n",
       "       [0.70524597, 0.72485306],\n",
       "       [0.70524597, 0.7267747 ],\n",
       "       [0.70524597, 0.72781654],\n",
       "       [0.70845549, 0.73209579],\n",
       "       [0.71696071, 0.74017603],\n",
       "       [0.72418212, 0.7484097 ],\n",
       "       [0.71764273, 0.72431792],\n",
       "       [0.7139919 , 0.71951102],\n",
       "       [0.7139919 , 0.71951102],\n",
       "       [0.7139919 , 0.72330527],\n",
       "       [0.71876606, 0.72482275],\n",
       "       [0.71868582, 0.72668526],\n",
       "       [0.71856546, 0.71776601],\n",
       "       [0.71852535, 0.71510229],\n",
       "       [0.71992951, 0.71084362],\n",
       "       [0.71992951, 0.71084362],\n",
       "       [0.71992951, 0.71691952],\n",
       "       [0.71992951, 0.71649478],\n",
       "       [0.71996963, 0.71172754],\n",
       "       [0.72061153, 0.71355038],\n",
       "       [0.72510486, 0.71730759],\n",
       "       [0.72887604, 0.71397924],\n",
       "       [0.72887604, 0.71397924],\n",
       "       [0.72887604, 0.72044882],\n",
       "       [0.72442283, 0.71562321],\n",
       "       [0.71411226, 0.70968428],\n",
       "       [0.7916221 , 0.79357515],\n",
       "       [0.81388812, 0.81229682],\n",
       "       [0.82748845, 0.83072622],\n",
       "       [0.82748845, 0.83072622],\n",
       "       [0.82748845, 0.83202066],\n",
       "       [0.85456875, 0.85872265],\n",
       "       [0.85801899, 0.85863284],\n",
       "       [0.94860761, 0.95140105],\n",
       "       [0.95314105, 0.9506395 ],\n",
       "       [0.94973094, 0.94950561],\n",
       "       [0.94758457, 0.94950561],\n",
       "       [0.94758457, 0.95260717],\n",
       "       [0.95394343, 0.95431476],\n",
       "       [0.94595975, 0.95966803],\n",
       "       [0.95013213, 0.97012946],\n",
       "       [0.96317079, 0.98435595],\n",
       "       [0.9652971 , 0.9797036 ],\n",
       "       [0.9652971 , 0.9797036 ],\n",
       "       [0.9652971 , 0.98412281],\n",
       "       [0.96878745, 0.98397686],\n",
       "       [0.96958983, 0.97709039],\n",
       "       [0.97552743, 0.98831374],\n",
       "       [0.97211732, 0.98895067],\n",
       "       [0.96914852, 0.98426576],\n",
       "       [0.96914852, 0.98426576],\n",
       "       [0.96914852, 0.98668137],\n",
       "       [0.9752466 , 0.99025147],\n",
       "       [0.98086325, 0.9902728 ],\n",
       "       [1.        , 1.        ],\n",
       "       [0.99065228, 0.98494834],\n",
       "       [0.97653041, 0.9602013 ],\n",
       "       [0.97653041, 0.97144635],\n",
       "       [0.97653041, 0.96471032],\n",
       "       [0.96537733, 0.9589454 ],\n",
       "       [0.96991078, 0.96652793],\n",
       "       [0.97131494, 0.97157396],\n",
       "       [0.97986028, 0.98282575],\n",
       "       [0.9722778 , 0.97366849],\n",
       "       [0.9722778 , 0.97366849],\n",
       "       [0.9722778 , 0.97541275],\n",
       "       [0.97982016, 0.98778646],\n",
       "       [0.98347099, 0.99374859],\n",
       "       [0.97592862, 0.97589437],\n",
       "       [0.97380232, 0.97001307],\n",
       "       [0.97677112, 0.97359327],\n",
       "       [0.97677112, 0.97359327],\n",
       "       [0.97677112, 0.97674798],\n",
       "       [0.97616934, 0.977279  ],\n",
       "       [0.97348136, 0.98618441],\n",
       "       [0.9691084 , 0.98095238],\n",
       "       [0.9682659 , 0.97748557],\n",
       "       [0.96200734, 0.96425377],\n",
       "       [0.96200734, 0.969927  ],\n",
       "       [0.96200734, 0.96915123],\n",
       "       [0.96946947, 0.98240287],\n",
       "       [0.96565817, 0.97938064],\n",
       "       [0.97685136, 0.97853976],\n",
       "       [0.97432386, 0.97609907],\n",
       "       [0.97853635, 0.98211884],\n",
       "       [0.97853635, 0.98211884],\n",
       "       [0.97853635, 0.98624952],\n",
       "       [0.98740265, 0.98736658],\n",
       "       [0.96634019, 0.95995618],\n",
       "       [0.97275922, 0.9693129 ]])"
      ]
     },
     "execution_count": 249,
     "metadata": {},
     "output_type": "execute_result"
    }
   ],
   "source": [
    "x_test[:,1:][30:]"
   ]
  },
  {
   "cell_type": "code",
   "execution_count": 250,
   "id": "7e6f76b8",
   "metadata": {},
   "outputs": [],
   "source": [
    "df_pred = pd.concat([pd.DataFrame(predictions), pd.DataFrame(x_test[:,1:][days:])] , axis = 1)"
   ]
  },
  {
   "cell_type": "markdown",
   "id": "35b23047",
   "metadata": {},
   "source": [
    "#### reverse the normilization\n",
    "#### add the predicted values to the original values"
   ]
  },
  {
   "cell_type": "code",
   "execution_count": 251,
   "id": "944540b3",
   "metadata": {},
   "outputs": [
    {
     "data": {
      "text/html": [
       "<div>\n",
       "<style scoped>\n",
       "    .dataframe tbody tr th:only-of-type {\n",
       "        vertical-align: middle;\n",
       "    }\n",
       "\n",
       "    .dataframe tbody tr th {\n",
       "        vertical-align: top;\n",
       "    }\n",
       "\n",
       "    .dataframe thead th {\n",
       "        text-align: right;\n",
       "    }\n",
       "</style>\n",
       "<table border=\"1\" class=\"dataframe\">\n",
       "  <thead>\n",
       "    <tr style=\"text-align: right;\">\n",
       "      <th></th>\n",
       "      <th>USD</th>\n",
       "      <th>EUR</th>\n",
       "      <th>GBP</th>\n",
       "      <th>USDs</th>\n",
       "      <th>EURs</th>\n",
       "      <th>GBPs</th>\n",
       "    </tr>\n",
       "    <tr>\n",
       "      <th>Date</th>\n",
       "      <th></th>\n",
       "      <th></th>\n",
       "      <th></th>\n",
       "      <th></th>\n",
       "      <th></th>\n",
       "      <th></th>\n",
       "    </tr>\n",
       "  </thead>\n",
       "  <tbody>\n",
       "    <tr>\n",
       "      <th>2021-10-10 23:58:00</th>\n",
       "      <td>15.67450</td>\n",
       "      <td>18.163</td>\n",
       "      <td>21.38132</td>\n",
       "      <td>0.345526</td>\n",
       "      <td>0.394484</td>\n",
       "      <td>0.400129</td>\n",
       "    </tr>\n",
       "    <tr>\n",
       "      <th>2021-10-11 23:58:00</th>\n",
       "      <td>15.68770</td>\n",
       "      <td>18.161</td>\n",
       "      <td>21.36349</td>\n",
       "      <td>0.346094</td>\n",
       "      <td>0.394404</td>\n",
       "      <td>0.399462</td>\n",
       "    </tr>\n",
       "    <tr>\n",
       "      <th>2021-10-12 23:58:00</th>\n",
       "      <td>15.67880</td>\n",
       "      <td>18.115</td>\n",
       "      <td>21.33750</td>\n",
       "      <td>0.345711</td>\n",
       "      <td>0.392559</td>\n",
       "      <td>0.398489</td>\n",
       "    </tr>\n",
       "    <tr>\n",
       "      <th>2021-10-13 23:58:00</th>\n",
       "      <td>15.68460</td>\n",
       "      <td>18.224</td>\n",
       "      <td>21.47752</td>\n",
       "      <td>0.345960</td>\n",
       "      <td>0.396932</td>\n",
       "      <td>0.403729</td>\n",
       "    </tr>\n",
       "    <tr>\n",
       "      <th>2021-10-14 23:58:00</th>\n",
       "      <td>15.71880</td>\n",
       "      <td>18.222</td>\n",
       "      <td>21.48694</td>\n",
       "      <td>0.347432</td>\n",
       "      <td>0.396851</td>\n",
       "      <td>0.404082</td>\n",
       "    </tr>\n",
       "    <tr>\n",
       "      <th>...</th>\n",
       "      <td>...</td>\n",
       "      <td>...</td>\n",
       "      <td>...</td>\n",
       "      <td>...</td>\n",
       "      <td>...</td>\n",
       "      <td>...</td>\n",
       "    </tr>\n",
       "    <tr>\n",
       "      <th>2023-03-04 23:58:00</th>\n",
       "      <td>30.72250</td>\n",
       "      <td>32.721</td>\n",
       "      <td>36.93324</td>\n",
       "      <td>0.993144</td>\n",
       "      <td>0.978536</td>\n",
       "      <td>0.982119</td>\n",
       "    </tr>\n",
       "    <tr>\n",
       "      <th>2023-03-05 23:58:00</th>\n",
       "      <td>30.79377</td>\n",
       "      <td>32.721</td>\n",
       "      <td>37.04362</td>\n",
       "      <td>0.996211</td>\n",
       "      <td>0.978536</td>\n",
       "      <td>0.986250</td>\n",
       "    </tr>\n",
       "    <tr>\n",
       "      <th>2023-03-06 23:58:00</th>\n",
       "      <td>30.82550</td>\n",
       "      <td>32.942</td>\n",
       "      <td>37.07347</td>\n",
       "      <td>0.997577</td>\n",
       "      <td>0.987403</td>\n",
       "      <td>0.987367</td>\n",
       "    </tr>\n",
       "    <tr>\n",
       "      <th>2023-03-07 23:58:00</th>\n",
       "      <td>30.72810</td>\n",
       "      <td>32.417</td>\n",
       "      <td>36.34101</td>\n",
       "      <td>0.993385</td>\n",
       "      <td>0.966340</td>\n",
       "      <td>0.959956</td>\n",
       "    </tr>\n",
       "    <tr>\n",
       "      <th>2023-03-08 23:58:00</th>\n",
       "      <td>30.88180</td>\n",
       "      <td>32.577</td>\n",
       "      <td>36.59104</td>\n",
       "      <td>1.000000</td>\n",
       "      <td>0.972759</td>\n",
       "      <td>0.969313</td>\n",
       "    </tr>\n",
       "  </tbody>\n",
       "</table>\n",
       "<p>515 rows × 6 columns</p>\n",
       "</div>"
      ],
      "text/plain": [
       "                          USD     EUR       GBP      USDs      EURs      GBPs\n",
       "Date                                                                         \n",
       "2021-10-10 23:58:00  15.67450  18.163  21.38132  0.345526  0.394484  0.400129\n",
       "2021-10-11 23:58:00  15.68770  18.161  21.36349  0.346094  0.394404  0.399462\n",
       "2021-10-12 23:58:00  15.67880  18.115  21.33750  0.345711  0.392559  0.398489\n",
       "2021-10-13 23:58:00  15.68460  18.224  21.47752  0.345960  0.396932  0.403729\n",
       "2021-10-14 23:58:00  15.71880  18.222  21.48694  0.347432  0.396851  0.404082\n",
       "...                       ...     ...       ...       ...       ...       ...\n",
       "2023-03-04 23:58:00  30.72250  32.721  36.93324  0.993144  0.978536  0.982119\n",
       "2023-03-05 23:58:00  30.79377  32.721  37.04362  0.996211  0.978536  0.986250\n",
       "2023-03-06 23:58:00  30.82550  32.942  37.07347  0.997577  0.987403  0.987367\n",
       "2023-03-07 23:58:00  30.72810  32.417  36.34101  0.993385  0.966340  0.959956\n",
       "2023-03-08 23:58:00  30.88180  32.577  36.59104  1.000000  0.972759  0.969313\n",
       "\n",
       "[515 rows x 6 columns]"
      ]
     },
     "execution_count": 251,
     "metadata": {},
     "output_type": "execute_result"
    }
   ],
   "source": [
    "rev_trans = scaler.inverse_transform(df_pred)\n",
    "\n",
    "df_end = df[predictions.shape[0]*-1:]\n",
    "df_end"
   ]
  },
  {
   "cell_type": "code",
   "execution_count": 252,
   "id": "86ef7e5d",
   "metadata": {},
   "outputs": [
    {
     "name": "stderr",
     "output_type": "stream",
     "text": [
      "C:\\Users\\Mgala\\AppData\\Local\\Temp/ipykernel_19672/337033914.py:1: SettingWithCopyWarning: \n",
      "A value is trying to be set on a copy of a slice from a DataFrame.\n",
      "Try using .loc[row_indexer,col_indexer] = value instead\n",
      "\n",
      "See the caveats in the documentation: https://pandas.pydata.org/pandas-docs/stable/user_guide/indexing.html#returning-a-view-versus-a-copy\n",
      "  df_end[\"USD-predict\"] = rev_trans[:,0]\n"
     ]
    }
   ],
   "source": [
    "df_end[\"USD-predict\"] = rev_trans[:,0]"
   ]
  },
  {
   "cell_type": "markdown",
   "id": "f0e23782",
   "metadata": {},
   "source": [
    "#### plot both"
   ]
  },
  {
   "cell_type": "code",
   "execution_count": 253,
   "id": "78b86c9a",
   "metadata": {},
   "outputs": [
    {
     "data": {
      "image/png": "[encoded data removed]",
      "text/plain": [
       "<Figure size 432x288 with 1 Axes>"
      ]
     },
     "metadata": {
      "needs_background": "light"
     },
     "output_type": "display_data"
    }
   ],
   "source": [
    "df_end[[\"USD\",\"USD-predict\"]].plot();"
   ]
  },
  {
   "cell_type": "code",
   "execution_count": null,
   "id": "e3ff8700",
   "metadata": {},
   "outputs": [],
   "source": []
  },
  {
   "cell_type": "code",
   "execution_count": 240,
   "id": "4f93fccf",
   "metadata": {},
   "outputs": [
    {
     "data": {
      "image/png": "[encoded data removed]",
      "text/plain": [
       "<Figure size 432x288 with 1 Axes>"
      ]
     },
     "metadata": {
      "needs_background": "light"
     },
     "output_type": "display_data"
    }
   ],
   "source": [
    "df_end[[\"USD\",\"USD-predict\"]].plot();"
   ]
  }
 ],
 "metadata": {
  "kernelspec": {
   "display_name": "Python 3 (ipykernel)",
   "language": "python",
   "name": "python3"
  },
  "language_info": {
   "codemirror_mode": {
    "name": "ipython",
    "version": 3
   },
   "file_extension": ".py",
   "mimetype": "text/x-python",
   "name": "python",
   "nbconvert_exporter": "python",
   "pygments_lexer": "ipython3",
   "version": "3.9.7"
  }
 },
 "nbformat": 4,
 "nbformat_minor": 5
}
