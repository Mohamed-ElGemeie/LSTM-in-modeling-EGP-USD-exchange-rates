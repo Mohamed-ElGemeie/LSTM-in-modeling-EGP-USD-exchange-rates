{
 "cells": [
  {
   "cell_type": "markdown",
   "id": "fb989dfa",
   "metadata": {},
   "source": [
    "# Imports"
   ]
  },
  {
   "cell_type": "code",
   "execution_count": 1,
   "id": "fc08ba22",
   "metadata": {},
   "outputs": [],
   "source": [
    "import pandas as pd \n",
    "import numpy as np\n",
    "import matplotlib.pyplot as plt\n",
    "from keras.preprocessing.sequence import TimeseriesGenerator\n",
    "from IPython.display import Image,display\n",
    "from sklearn.model_selection import train_test_split\n",
    "from sklearn.preprocessing import MinMaxScaler, StandardScaler\n",
    "import tensorflow as tf\n",
    "from tensorflow import keras\n",
    "import os\n",
    "import datetime\n",
    "import datetime\n",
    "import json\n",
    "import warnings \n",
    "\n",
    "warnings.filterwarnings('ignore')"
   ]
  },
  {
   "cell_type": "markdown",
   "id": "8463331e",
   "metadata": {},
   "source": [
    "# Data Preperation"
   ]
  },
  {
   "cell_type": "code",
   "execution_count": 2,
   "id": "73269fca",
   "metadata": {},
   "outputs": [],
   "source": [
    "df = pd.read_csv(\"../data/USD-EUR-GBP to EGP Time series Data clean.csv\",index_col='Date')\n",
    "df.index = pd.to_datetime(df.index)\n",
    "df[[\"USD\",\"EUR\",\"GBP\"]] =  df[[\"USD\",\"EUR\",\"GBP\"]].apply(pd.to_numeric)"
   ]
  },
  {
   "cell_type": "code",
   "execution_count": 3,
   "id": "de5e1787",
   "metadata": {},
   "outputs": [
    {
     "name": "stdout",
     "output_type": "stream",
     "text": [
      "<class 'pandas.core.frame.DataFrame'>\n",
      "DatetimeIndex: 6241 entries, 2003-12-01 23:58:00 to 2023-03-31 23:58:00\n",
      "Data columns (total 3 columns):\n",
      " #   Column  Non-Null Count  Dtype  \n",
      "---  ------  --------------  -----  \n",
      " 0   USD     6241 non-null   float64\n",
      " 1   EUR     6241 non-null   float64\n",
      " 2   GBP     6241 non-null   float64\n",
      "dtypes: float64(3)\n",
      "memory usage: 195.0 KB\n"
     ]
    }
   ],
   "source": [
    "df.info()"
   ]
  },
  {
   "cell_type": "code",
   "execution_count": 4,
   "id": "7a359313",
   "metadata": {},
   "outputs": [
    {
     "data": {
      "text/html": [
       "<div>\n",
       "<style scoped>\n",
       "    .dataframe tbody tr th:only-of-type {\n",
       "        vertical-align: middle;\n",
       "    }\n",
       "\n",
       "    .dataframe tbody tr th {\n",
       "        vertical-align: top;\n",
       "    }\n",
       "\n",
       "    .dataframe thead th {\n",
       "        text-align: right;\n",
       "    }\n",
       "</style>\n",
       "<table border=\"1\" class=\"dataframe\">\n",
       "  <thead>\n",
       "    <tr style=\"text-align: right;\">\n",
       "      <th></th>\n",
       "      <th>USD</th>\n",
       "      <th>EUR</th>\n",
       "      <th>GBP</th>\n",
       "    </tr>\n",
       "  </thead>\n",
       "  <tbody>\n",
       "    <tr>\n",
       "      <th>count</th>\n",
       "      <td>6241.000000</td>\n",
       "      <td>6241.000000</td>\n",
       "      <td>6241.000000</td>\n",
       "    </tr>\n",
       "    <tr>\n",
       "      <th>mean</th>\n",
       "      <td>10.600241</td>\n",
       "      <td>12.577217</td>\n",
       "      <td>15.092249</td>\n",
       "    </tr>\n",
       "    <tr>\n",
       "      <th>std</th>\n",
       "      <td>5.825124</td>\n",
       "      <td>6.009337</td>\n",
       "      <td>6.371359</td>\n",
       "    </tr>\n",
       "    <tr>\n",
       "      <th>min</th>\n",
       "      <td>5.193900</td>\n",
       "      <td>6.462902</td>\n",
       "      <td>7.535949</td>\n",
       "    </tr>\n",
       "    <tr>\n",
       "      <th>25%</th>\n",
       "      <td>5.793900</td>\n",
       "      <td>7.792321</td>\n",
       "      <td>10.252250</td>\n",
       "    </tr>\n",
       "    <tr>\n",
       "      <th>50%</th>\n",
       "      <td>7.128000</td>\n",
       "      <td>8.980627</td>\n",
       "      <td>11.417500</td>\n",
       "    </tr>\n",
       "    <tr>\n",
       "      <th>75%</th>\n",
       "      <td>15.974230</td>\n",
       "      <td>18.659000</td>\n",
       "      <td>21.378700</td>\n",
       "    </tr>\n",
       "    <tr>\n",
       "      <th>max</th>\n",
       "      <td>30.950200</td>\n",
       "      <td>33.690000</td>\n",
       "      <td>38.272130</td>\n",
       "    </tr>\n",
       "  </tbody>\n",
       "</table>\n",
       "</div>"
      ],
      "text/plain": [
       "               USD          EUR          GBP\n",
       "count  6241.000000  6241.000000  6241.000000\n",
       "mean     10.600241    12.577217    15.092249\n",
       "std       5.825124     6.009337     6.371359\n",
       "min       5.193900     6.462902     7.535949\n",
       "25%       5.793900     7.792321    10.252250\n",
       "50%       7.128000     8.980627    11.417500\n",
       "75%      15.974230    18.659000    21.378700\n",
       "max      30.950200    33.690000    38.272130"
      ]
     },
     "execution_count": 4,
     "metadata": {},
     "output_type": "execute_result"
    }
   ],
   "source": [
    "df.describe()"
   ]
  },
  {
   "cell_type": "code",
   "execution_count": 5,
   "id": "48cb217a",
   "metadata": {},
   "outputs": [
    {
     "data": {
      "image/png": "[encoded data removed]",
      "text/plain": [
       "<Figure size 1080x504 with 1 Axes>"
      ]
     },
     "metadata": {
      "needs_background": "light"
     },
     "output_type": "display_data"
    }
   ],
   "source": [
    "df[[\"USD\",\"EUR\",\"GBP\"]].plot(figsize = (15,7));"
   ]
  },
  {
   "cell_type": "markdown",
   "id": "aabad82d",
   "metadata": {},
   "source": [
    "#### only take data from dates after 2016 and before 2018, as it is more representing of current data."
   ]
  },
  {
   "cell_type": "code",
   "execution_count": 6,
   "id": "125959ba",
   "metadata": {},
   "outputs": [],
   "source": [
    "df_train = df.loc[datetime.date(year=2016,month=1,day=1):datetime.date(year=2020,month=1,day=1)]\n",
    "\n",
    "df_test = df.loc[:]\n"
   ]
  },
  {
   "cell_type": "markdown",
   "id": "d96c5ae0",
   "metadata": {},
   "source": [
    "#### scale each column with Min - Max scaling"
   ]
  },
  {
   "cell_type": "code",
   "execution_count": 7,
   "id": "630c7a9e",
   "metadata": {},
   "outputs": [],
   "source": [
    "scaler = MinMaxScaler(feature_range = (0,1))"
   ]
  },
  {
   "cell_type": "code",
   "execution_count": 8,
   "id": "46ae9f85",
   "metadata": {},
   "outputs": [],
   "source": [
    "df_train_s = pd.DataFrame()\n",
    "df_train_s[['USDs','EURs','GBPs']] = scaler.fit_transform(df_train)\n",
    "\n",
    "\n",
    "df_test_s = pd.DataFrame()\n",
    "df_test_s [['USDs','EURs','GBPs']] = scaler.fit_transform(df_test)\n"
   ]
  },
  {
   "cell_type": "code",
   "execution_count": 9,
   "id": "67ee7bc5",
   "metadata": {},
   "outputs": [
    {
     "data": {
      "text/html": [
       "<div>\n",
       "<style scoped>\n",
       "    .dataframe tbody tr th:only-of-type {\n",
       "        vertical-align: middle;\n",
       "    }\n",
       "\n",
       "    .dataframe tbody tr th {\n",
       "        vertical-align: top;\n",
       "    }\n",
       "\n",
       "    .dataframe thead th {\n",
       "        text-align: right;\n",
       "    }\n",
       "</style>\n",
       "<table border=\"1\" class=\"dataframe\">\n",
       "  <thead>\n",
       "    <tr style=\"text-align: right;\">\n",
       "      <th></th>\n",
       "      <th>USD</th>\n",
       "      <th>EUR</th>\n",
       "      <th>GBP</th>\n",
       "    </tr>\n",
       "  </thead>\n",
       "  <tbody>\n",
       "    <tr>\n",
       "      <th>count</th>\n",
       "      <td>1460.000000</td>\n",
       "      <td>1460.000000</td>\n",
       "      <td>1460.000000</td>\n",
       "    </tr>\n",
       "    <tr>\n",
       "      <th>mean</th>\n",
       "      <td>15.598962</td>\n",
       "      <td>17.747050</td>\n",
       "      <td>20.394722</td>\n",
       "    </tr>\n",
       "    <tr>\n",
       "      <th>std</th>\n",
       "      <td>3.672944</td>\n",
       "      <td>4.361177</td>\n",
       "      <td>4.595024</td>\n",
       "    </tr>\n",
       "    <tr>\n",
       "      <th>min</th>\n",
       "      <td>7.645900</td>\n",
       "      <td>8.330132</td>\n",
       "      <td>10.689083</td>\n",
       "    </tr>\n",
       "    <tr>\n",
       "      <th>25%</th>\n",
       "      <td>16.098890</td>\n",
       "      <td>17.811000</td>\n",
       "      <td>20.114750</td>\n",
       "    </tr>\n",
       "    <tr>\n",
       "      <th>50%</th>\n",
       "      <td>17.605000</td>\n",
       "      <td>19.599335</td>\n",
       "      <td>22.712550</td>\n",
       "    </tr>\n",
       "    <tr>\n",
       "      <th>75%</th>\n",
       "      <td>17.860000</td>\n",
       "      <td>20.720705</td>\n",
       "      <td>23.352007</td>\n",
       "    </tr>\n",
       "    <tr>\n",
       "      <th>max</th>\n",
       "      <td>19.603000</td>\n",
       "      <td>22.046214</td>\n",
       "      <td>25.340547</td>\n",
       "    </tr>\n",
       "  </tbody>\n",
       "</table>\n",
       "</div>"
      ],
      "text/plain": [
       "               USD          EUR          GBP\n",
       "count  1460.000000  1460.000000  1460.000000\n",
       "mean     15.598962    17.747050    20.394722\n",
       "std       3.672944     4.361177     4.595024\n",
       "min       7.645900     8.330132    10.689083\n",
       "25%      16.098890    17.811000    20.114750\n",
       "50%      17.605000    19.599335    22.712550\n",
       "75%      17.860000    20.720705    23.352007\n",
       "max      19.603000    22.046214    25.340547"
      ]
     },
     "execution_count": 9,
     "metadata": {},
     "output_type": "execute_result"
    }
   ],
   "source": [
    "df_train.describe()"
   ]
  },
  {
   "cell_type": "code",
   "execution_count": 10,
   "id": "a6230afd",
   "metadata": {},
   "outputs": [
    {
     "data": {
      "text/html": [
       "<div>\n",
       "<style scoped>\n",
       "    .dataframe tbody tr th:only-of-type {\n",
       "        vertical-align: middle;\n",
       "    }\n",
       "\n",
       "    .dataframe tbody tr th {\n",
       "        vertical-align: top;\n",
       "    }\n",
       "\n",
       "    .dataframe thead th {\n",
       "        text-align: right;\n",
       "    }\n",
       "</style>\n",
       "<table border=\"1\" class=\"dataframe\">\n",
       "  <thead>\n",
       "    <tr style=\"text-align: right;\">\n",
       "      <th></th>\n",
       "      <th>USD</th>\n",
       "      <th>EUR</th>\n",
       "      <th>GBP</th>\n",
       "    </tr>\n",
       "  </thead>\n",
       "  <tbody>\n",
       "    <tr>\n",
       "      <th>count</th>\n",
       "      <td>6241.000000</td>\n",
       "      <td>6241.000000</td>\n",
       "      <td>6241.000000</td>\n",
       "    </tr>\n",
       "    <tr>\n",
       "      <th>mean</th>\n",
       "      <td>10.600241</td>\n",
       "      <td>12.577217</td>\n",
       "      <td>15.092249</td>\n",
       "    </tr>\n",
       "    <tr>\n",
       "      <th>std</th>\n",
       "      <td>5.825124</td>\n",
       "      <td>6.009337</td>\n",
       "      <td>6.371359</td>\n",
       "    </tr>\n",
       "    <tr>\n",
       "      <th>min</th>\n",
       "      <td>5.193900</td>\n",
       "      <td>6.462902</td>\n",
       "      <td>7.535949</td>\n",
       "    </tr>\n",
       "    <tr>\n",
       "      <th>25%</th>\n",
       "      <td>5.793900</td>\n",
       "      <td>7.792321</td>\n",
       "      <td>10.252250</td>\n",
       "    </tr>\n",
       "    <tr>\n",
       "      <th>50%</th>\n",
       "      <td>7.128000</td>\n",
       "      <td>8.980627</td>\n",
       "      <td>11.417500</td>\n",
       "    </tr>\n",
       "    <tr>\n",
       "      <th>75%</th>\n",
       "      <td>15.974230</td>\n",
       "      <td>18.659000</td>\n",
       "      <td>21.378700</td>\n",
       "    </tr>\n",
       "    <tr>\n",
       "      <th>max</th>\n",
       "      <td>30.950200</td>\n",
       "      <td>33.690000</td>\n",
       "      <td>38.272130</td>\n",
       "    </tr>\n",
       "  </tbody>\n",
       "</table>\n",
       "</div>"
      ],
      "text/plain": [
       "               USD          EUR          GBP\n",
       "count  6241.000000  6241.000000  6241.000000\n",
       "mean     10.600241    12.577217    15.092249\n",
       "std       5.825124     6.009337     6.371359\n",
       "min       5.193900     6.462902     7.535949\n",
       "25%       5.793900     7.792321    10.252250\n",
       "50%       7.128000     8.980627    11.417500\n",
       "75%      15.974230    18.659000    21.378700\n",
       "max      30.950200    33.690000    38.272130"
      ]
     },
     "execution_count": 10,
     "metadata": {},
     "output_type": "execute_result"
    }
   ],
   "source": [
    "df_test.describe()"
   ]
  },
  {
   "cell_type": "markdown",
   "id": "75234ae4",
   "metadata": {},
   "source": [
    "#### split into features and labels"
   ]
  },
  {
   "cell_type": "code",
   "execution_count": 11,
   "id": "49f9d9ce",
   "metadata": {},
   "outputs": [],
   "source": [
    "x_train = df_train_s.to_numpy()\n",
    "y_train = df_train_s.iloc[:,0].to_numpy()\n",
    "\n",
    "x_test = df_test_s.to_numpy()\n",
    "y_test = df_test_s.iloc[:,0].to_numpy()"
   ]
  },
  {
   "cell_type": "markdown",
   "id": "ecd63f3e",
   "metadata": {},
   "source": [
    "#### ( 2016 - 2020 ) training data"
   ]
  },
  {
   "cell_type": "code",
   "execution_count": 12,
   "id": "37b7493f",
   "metadata": {},
   "outputs": [
    {
     "data": {
      "text/plain": [
       "(1460, 3)"
      ]
     },
     "execution_count": 12,
     "metadata": {},
     "output_type": "execute_result"
    }
   ],
   "source": [
    "x_train.shape"
   ]
  },
  {
   "cell_type": "code",
   "execution_count": 13,
   "id": "05d7fc4d",
   "metadata": {},
   "outputs": [
    {
     "data": {
      "text/plain": [
       "(1460,)"
      ]
     },
     "execution_count": 13,
     "metadata": {},
     "output_type": "execute_result"
    }
   ],
   "source": [
    "y_train.shape"
   ]
  },
  {
   "cell_type": "markdown",
   "id": "8d5829d9",
   "metadata": {},
   "source": [
    "#### testing data ~ ( 2003 -  2023)"
   ]
  },
  {
   "cell_type": "code",
   "execution_count": 14,
   "id": "b1c89386",
   "metadata": {},
   "outputs": [
    {
     "data": {
      "text/plain": [
       "(6241, 3)"
      ]
     },
     "execution_count": 14,
     "metadata": {},
     "output_type": "execute_result"
    }
   ],
   "source": [
    "x_test.shape"
   ]
  },
  {
   "cell_type": "code",
   "execution_count": 15,
   "id": "995d29c1",
   "metadata": {},
   "outputs": [
    {
     "data": {
      "text/plain": [
       "(6241,)"
      ]
     },
     "execution_count": 15,
     "metadata": {},
     "output_type": "execute_result"
    }
   ],
   "source": [
    "y_test.shape"
   ]
  },
  {
   "cell_type": "code",
   "execution_count": 16,
   "id": "520907d7",
   "metadata": {},
   "outputs": [
    {
     "data": {
      "image/png": "[encoded data removed]",
      "text/plain": [
       "<Figure size 1080x504 with 2 Axes>"
      ]
     },
     "metadata": {
      "needs_background": "light"
     },
     "output_type": "display_data"
    }
   ],
   "source": [
    "fig, (ax1,ax2) = plt.subplots(1,2, sharey = True,figsize = (15,7))\n",
    "\n",
    "\n",
    "ax1.plot(df_train.index.to_pydatetime() ,df_train[[\"USD\"]]);\n",
    "\n",
    "ax2.plot(df_test.index.to_pydatetime() ,df_test[[\"USD\"]]);\n",
    "\n",
    "fig.autofmt_xdate()\n",
    "\n",
    "ax1.set_xlim([df.index.min(), df.index.max()]);\n",
    "ax2.set_xlim([df.index.min(), df.index.max()]);\n",
    "ax1.set_title(\"Training Data\");\n",
    "ax2.set_title(\"Testing Data\");"
   ]
  },
  {
   "cell_type": "markdown",
   "id": "fd9e8ddf",
   "metadata": {},
   "source": [
    "# 3.0 Modeling"
   ]
  },
  {
   "cell_type": "markdown",
   "id": "83683f3c",
   "metadata": {},
   "source": [
    "#### Create generator for testing and tranning"
   ]
  },
  {
   "cell_type": "code",
   "execution_count": 17,
   "id": "f11b40f2",
   "metadata": {},
   "outputs": [],
   "source": [
    "days_found = 9\n",
    "days_to_find =1\n",
    "days = days_to_find + days_found\n",
    "train_generator = TimeseriesGenerator(\n",
    "    x_train,\n",
    "    y_train,\n",
    "    length = days,\n",
    "    sampling_rate= 1,\n",
    "    batch_size = 10\n",
    ")\n",
    "test_generator = TimeseriesGenerator(\n",
    "    x_test,\n",
    "    y_test,\n",
    "    length = days,\n",
    "    sampling_rate= 1,\n",
    "    batch_size = 10\n",
    ")"
   ]
  },
  {
   "cell_type": "markdown",
   "id": "566c9c22",
   "metadata": {},
   "source": [
    "#### Model "
   ]
  },
  {
   "cell_type": "code",
   "execution_count": 18,
   "id": "426e4bb4",
   "metadata": {},
   "outputs": [],
   "source": [
    "model = tf.keras.Sequential()\n",
    "model.add(tf.keras.layers.LSTM(128 , input_shape = (days,3),return_sequences =True))\n",
    "model.add(tf.keras.layers.LSTM(64 , return_sequences = False))\n",
    "model.add(tf.keras.layers.Dense(16,activation='LeakyReLU'))\n",
    "model.add(tf.keras.layers.Dense(1,activation='linear'))"
   ]
  },
  {
   "cell_type": "code",
   "execution_count": 19,
   "id": "148f8033",
   "metadata": {
    "scrolled": true
   },
   "outputs": [
    {
     "name": "stdout",
     "output_type": "stream",
     "text": [
      "Model: \"sequential\"\n",
      "_________________________________________________________________\n",
      " Layer (type)                Output Shape              Param #   \n",
      "=================================================================\n",
      " lstm (LSTM)                 (None, 10, 128)           67584     \n",
      "                                                                 \n",
      " lstm_1 (LSTM)               (None, 64)                49408     \n",
      "                                                                 \n",
      " dense (Dense)               (None, 16)                1040      \n",
      "                                                                 \n",
      " dense_1 (Dense)             (None, 1)                 17        \n",
      "                                                                 \n",
      "=================================================================\n",
      "Total params: 118,049\n",
      "Trainable params: 118,049\n",
      "Non-trainable params: 0\n",
      "_________________________________________________________________\n"
     ]
    }
   ],
   "source": [
    "model.summary()"
   ]
  },
  {
   "cell_type": "markdown",
   "id": "5c6da72b",
   "metadata": {},
   "source": [
    "#### Use MAE as loss function\n",
    "and moniter RMSE, MSE"
   ]
  },
  {
   "cell_type": "code",
   "execution_count": 20,
   "id": "56ddd660",
   "metadata": {},
   "outputs": [],
   "source": [
    "model.compile(\n",
    "            loss = tf.losses.MeanAbsoluteError(),\n",
    "            optimizer = tf.optimizers.Adagrad(),\n",
    "            metrics = [\n",
    "                        tf.keras.metrics.RootMeanSquaredError(),\n",
    "                        tf.keras.metrics.MeanAbsoluteError(),\n",
    "                        tf.keras.metrics.MeanSquaredError()\n",
    "                      ]\n",
    "             ) "
   ]
  },
  {
   "cell_type": "code",
   "execution_count": 21,
   "id": "9dd19fdb",
   "metadata": {},
   "outputs": [
    {
     "name": "stdout",
     "output_type": "stream",
     "text": [
      "Epoch 1/250\n",
      "145/145 [==============================] - 6s 25ms/step - loss: 0.3193 - root_mean_squared_error: 0.4079 - mean_absolute_error: 0.3193 - mean_squared_error: 0.1664 - val_loss: 0.2100 - val_root_mean_squared_error: 0.2248 - val_mean_absolute_error: 0.2100 - val_mean_squared_error: 0.0505\n",
      "Epoch 2/250\n",
      "145/145 [==============================] - 3s 19ms/step - loss: 0.0663 - root_mean_squared_error: 0.1135 - mean_absolute_error: 0.0663 - mean_squared_error: 0.0129 - val_loss: 0.1902 - val_root_mean_squared_error: 0.2026 - val_mean_absolute_error: 0.1902 - val_mean_squared_error: 0.0411\n",
      "Epoch 3/250\n",
      "145/145 [==============================] - 3s 20ms/step - loss: 0.0600 - root_mean_squared_error: 0.1031 - mean_absolute_error: 0.0600 - mean_squared_error: 0.0106 - val_loss: 0.1721 - val_root_mean_squared_error: 0.1833 - val_mean_absolute_error: 0.1721 - val_mean_squared_error: 0.0336\n",
      "Epoch 4/250\n",
      "145/145 [==============================] - 3s 20ms/step - loss: 0.0557 - root_mean_squared_error: 0.0949 - mean_absolute_error: 0.0557 - mean_squared_error: 0.0090 - val_loss: 0.1565 - val_root_mean_squared_error: 0.1665 - val_mean_absolute_error: 0.1565 - val_mean_squared_error: 0.0277\n",
      "Epoch 5/250\n",
      "145/145 [==============================] - 3s 20ms/step - loss: 0.0519 - root_mean_squared_error: 0.0880 - mean_absolute_error: 0.0519 - mean_squared_error: 0.0077 - val_loss: 0.1430 - val_root_mean_squared_error: 0.1518 - val_mean_absolute_error: 0.1430 - val_mean_squared_error: 0.0231\n",
      "Epoch 6/250\n",
      "145/145 [==============================] - 3s 19ms/step - loss: 0.0480 - root_mean_squared_error: 0.0815 - mean_absolute_error: 0.0480 - mean_squared_error: 0.0066 - val_loss: 0.1304 - val_root_mean_squared_error: 0.1383 - val_mean_absolute_error: 0.1304 - val_mean_squared_error: 0.0191\n",
      "Epoch 7/250\n",
      "145/145 [==============================] - 3s 20ms/step - loss: 0.0445 - root_mean_squared_error: 0.0757 - mean_absolute_error: 0.0445 - mean_squared_error: 0.0057 - val_loss: 0.1182 - val_root_mean_squared_error: 0.1252 - val_mean_absolute_error: 0.1182 - val_mean_squared_error: 0.0157\n",
      "Epoch 8/250\n",
      "145/145 [==============================] - 3s 20ms/step - loss: 0.0414 - root_mean_squared_error: 0.0707 - mean_absolute_error: 0.0414 - mean_squared_error: 0.0050 - val_loss: 0.1071 - val_root_mean_squared_error: 0.1132 - val_mean_absolute_error: 0.1071 - val_mean_squared_error: 0.0128\n",
      "Epoch 9/250\n",
      "145/145 [==============================] - 3s 20ms/step - loss: 0.0384 - root_mean_squared_error: 0.0659 - mean_absolute_error: 0.0384 - mean_squared_error: 0.0043 - val_loss: 0.0965 - val_root_mean_squared_error: 0.1018 - val_mean_absolute_error: 0.0965 - val_mean_squared_error: 0.0104\n",
      "Epoch 10/250\n",
      "145/145 [==============================] - 3s 20ms/step - loss: 0.0353 - root_mean_squared_error: 0.0616 - mean_absolute_error: 0.0353 - mean_squared_error: 0.0038 - val_loss: 0.0860 - val_root_mean_squared_error: 0.0907 - val_mean_absolute_error: 0.0860 - val_mean_squared_error: 0.0082\n",
      "Epoch 11/250\n",
      "145/145 [==============================] - 3s 20ms/step - loss: 0.0326 - root_mean_squared_error: 0.0579 - mean_absolute_error: 0.0326 - mean_squared_error: 0.0034 - val_loss: 0.0761 - val_root_mean_squared_error: 0.0801 - val_mean_absolute_error: 0.0761 - val_mean_squared_error: 0.0064\n",
      "Epoch 12/250\n",
      "145/145 [==============================] - 3s 20ms/step - loss: 0.0299 - root_mean_squared_error: 0.0548 - mean_absolute_error: 0.0299 - mean_squared_error: 0.0030 - val_loss: 0.0668 - val_root_mean_squared_error: 0.0703 - val_mean_absolute_error: 0.0668 - val_mean_squared_error: 0.0049\n",
      "Epoch 13/250\n",
      "145/145 [==============================] - 3s 20ms/step - loss: 0.0273 - root_mean_squared_error: 0.0521 - mean_absolute_error: 0.0273 - mean_squared_error: 0.0027 - val_loss: 0.0574 - val_root_mean_squared_error: 0.0606 - val_mean_absolute_error: 0.0574 - val_mean_squared_error: 0.0037\n",
      "Epoch 14/250\n",
      "145/145 [==============================] - 3s 19ms/step - loss: 0.0248 - root_mean_squared_error: 0.0497 - mean_absolute_error: 0.0248 - mean_squared_error: 0.0025 - val_loss: 0.0489 - val_root_mean_squared_error: 0.0520 - val_mean_absolute_error: 0.0489 - val_mean_squared_error: 0.0027\n",
      "Epoch 15/250\n",
      "145/145 [==============================] - 3s 19ms/step - loss: 0.0227 - root_mean_squared_error: 0.0481 - mean_absolute_error: 0.0227 - mean_squared_error: 0.0023 - val_loss: 0.0413 - val_root_mean_squared_error: 0.0446 - val_mean_absolute_error: 0.0413 - val_mean_squared_error: 0.0020\n",
      "Epoch 16/250\n",
      "145/145 [==============================] - 3s 19ms/step - loss: 0.0205 - root_mean_squared_error: 0.0467 - mean_absolute_error: 0.0205 - mean_squared_error: 0.0022 - val_loss: 0.0350 - val_root_mean_squared_error: 0.0388 - val_mean_absolute_error: 0.0350 - val_mean_squared_error: 0.0015\n",
      "Epoch 17/250\n",
      "145/145 [==============================] - 3s 19ms/step - loss: 0.0192 - root_mean_squared_error: 0.0453 - mean_absolute_error: 0.0192 - mean_squared_error: 0.0021 - val_loss: 0.0317 - val_root_mean_squared_error: 0.0358 - val_mean_absolute_error: 0.0317 - val_mean_squared_error: 0.0013\n",
      "Epoch 18/250\n",
      "145/145 [==============================] - 3s 21ms/step - loss: 0.0186 - root_mean_squared_error: 0.0447 - mean_absolute_error: 0.0186 - mean_squared_error: 0.0020 - val_loss: 0.0298 - val_root_mean_squared_error: 0.0342 - val_mean_absolute_error: 0.0298 - val_mean_squared_error: 0.0012\n",
      "Epoch 19/250\n",
      "145/145 [==============================] - 3s 21ms/step - loss: 0.0183 - root_mean_squared_error: 0.0445 - mean_absolute_error: 0.0183 - mean_squared_error: 0.0020 - val_loss: 0.0285 - val_root_mean_squared_error: 0.0332 - val_mean_absolute_error: 0.0285 - val_mean_squared_error: 0.0011\n",
      "Epoch 20/250\n",
      "145/145 [==============================] - 3s 21ms/step - loss: 0.0183 - root_mean_squared_error: 0.0444 - mean_absolute_error: 0.0183 - mean_squared_error: 0.0020 - val_loss: 0.0278 - val_root_mean_squared_error: 0.0326 - val_mean_absolute_error: 0.0278 - val_mean_squared_error: 0.0011\n",
      "Epoch 21/250\n",
      "145/145 [==============================] - 3s 22ms/step - loss: 0.0183 - root_mean_squared_error: 0.0443 - mean_absolute_error: 0.0183 - mean_squared_error: 0.0020 - val_loss: 0.0274 - val_root_mean_squared_error: 0.0323 - val_mean_absolute_error: 0.0274 - val_mean_squared_error: 0.0010\n",
      "Epoch 22/250\n",
      "145/145 [==============================] - 3s 20ms/step - loss: 0.0183 - root_mean_squared_error: 0.0442 - mean_absolute_error: 0.0183 - mean_squared_error: 0.0020 - val_loss: 0.0271 - val_root_mean_squared_error: 0.0321 - val_mean_absolute_error: 0.0271 - val_mean_squared_error: 0.0010\n",
      "Epoch 23/250\n",
      "145/145 [==============================] - 3s 21ms/step - loss: 0.0183 - root_mean_squared_error: 0.0442 - mean_absolute_error: 0.0183 - mean_squared_error: 0.0020 - val_loss: 0.0270 - val_root_mean_squared_error: 0.0320 - val_mean_absolute_error: 0.0270 - val_mean_squared_error: 0.0010\n",
      "Epoch 24/250\n",
      "145/145 [==============================] - 3s 22ms/step - loss: 0.0183 - root_mean_squared_error: 0.0442 - mean_absolute_error: 0.0183 - mean_squared_error: 0.0020 - val_loss: 0.0267 - val_root_mean_squared_error: 0.0317 - val_mean_absolute_error: 0.0267 - val_mean_squared_error: 0.0010\n",
      "Epoch 25/250\n",
      "145/145 [==============================] - 3s 20ms/step - loss: 0.0183 - root_mean_squared_error: 0.0442 - mean_absolute_error: 0.0183 - mean_squared_error: 0.0020 - val_loss: 0.0267 - val_root_mean_squared_error: 0.0317 - val_mean_absolute_error: 0.0267 - val_mean_squared_error: 0.0010\n",
      "Epoch 26/250\n",
      "145/145 [==============================] - 3s 20ms/step - loss: 0.0185 - root_mean_squared_error: 0.0442 - mean_absolute_error: 0.0185 - mean_squared_error: 0.0020 - val_loss: 0.0265 - val_root_mean_squared_error: 0.0316 - val_mean_absolute_error: 0.0265 - val_mean_squared_error: 9.9840e-04\n",
      "Epoch 27/250\n",
      "145/145 [==============================] - 3s 21ms/step - loss: 0.0185 - root_mean_squared_error: 0.0442 - mean_absolute_error: 0.0185 - mean_squared_error: 0.0020 - val_loss: 0.0266 - val_root_mean_squared_error: 0.0317 - val_mean_absolute_error: 0.0266 - val_mean_squared_error: 0.0010\n",
      "Epoch 28/250\n"
     ]
    },
    {
     "name": "stdout",
     "output_type": "stream",
     "text": [
      "145/145 [==============================] - 3s 20ms/step - loss: 0.0185 - root_mean_squared_error: 0.0441 - mean_absolute_error: 0.0185 - mean_squared_error: 0.0019 - val_loss: 0.0264 - val_root_mean_squared_error: 0.0315 - val_mean_absolute_error: 0.0264 - val_mean_squared_error: 9.9435e-04\n",
      "Epoch 29/250\n",
      "145/145 [==============================] - 3s 20ms/step - loss: 0.0185 - root_mean_squared_error: 0.0441 - mean_absolute_error: 0.0185 - mean_squared_error: 0.0019 - val_loss: 0.0263 - val_root_mean_squared_error: 0.0314 - val_mean_absolute_error: 0.0263 - val_mean_squared_error: 9.8876e-04\n",
      "Epoch 30/250\n",
      "145/145 [==============================] - 3s 20ms/step - loss: 0.0185 - root_mean_squared_error: 0.0441 - mean_absolute_error: 0.0185 - mean_squared_error: 0.0019 - val_loss: 0.0262 - val_root_mean_squared_error: 0.0313 - val_mean_absolute_error: 0.0262 - val_mean_squared_error: 9.8190e-04\n",
      "Epoch 31/250\n",
      "145/145 [==============================] - 3s 19ms/step - loss: 0.0185 - root_mean_squared_error: 0.0441 - mean_absolute_error: 0.0185 - mean_squared_error: 0.0019 - val_loss: 0.0262 - val_root_mean_squared_error: 0.0313 - val_mean_absolute_error: 0.0262 - val_mean_squared_error: 9.8017e-04\n",
      "Epoch 32/250\n",
      "145/145 [==============================] - 3s 19ms/step - loss: 0.0185 - root_mean_squared_error: 0.0441 - mean_absolute_error: 0.0185 - mean_squared_error: 0.0019 - val_loss: 0.0261 - val_root_mean_squared_error: 0.0312 - val_mean_absolute_error: 0.0261 - val_mean_squared_error: 9.7485e-04\n",
      "Epoch 33/250\n",
      "145/145 [==============================] - 3s 19ms/step - loss: 0.0185 - root_mean_squared_error: 0.0441 - mean_absolute_error: 0.0185 - mean_squared_error: 0.0019 - val_loss: 0.0261 - val_root_mean_squared_error: 0.0312 - val_mean_absolute_error: 0.0261 - val_mean_squared_error: 9.7215e-04\n",
      "Epoch 34/250\n",
      "145/145 [==============================] - 3s 20ms/step - loss: 0.0185 - root_mean_squared_error: 0.0440 - mean_absolute_error: 0.0185 - mean_squared_error: 0.0019 - val_loss: 0.0260 - val_root_mean_squared_error: 0.0311 - val_mean_absolute_error: 0.0260 - val_mean_squared_error: 9.6965e-04\n",
      "Epoch 35/250\n",
      "145/145 [==============================] - 3s 20ms/step - loss: 0.0185 - root_mean_squared_error: 0.0440 - mean_absolute_error: 0.0185 - mean_squared_error: 0.0019 - val_loss: 0.0260 - val_root_mean_squared_error: 0.0311 - val_mean_absolute_error: 0.0260 - val_mean_squared_error: 9.6710e-04\n",
      "Epoch 36/250\n",
      "145/145 [==============================] - 3s 20ms/step - loss: 0.0185 - root_mean_squared_error: 0.0440 - mean_absolute_error: 0.0185 - mean_squared_error: 0.0019 - val_loss: 0.0259 - val_root_mean_squared_error: 0.0310 - val_mean_absolute_error: 0.0259 - val_mean_squared_error: 9.6367e-04\n",
      "Epoch 37/250\n",
      "145/145 [==============================] - 3s 20ms/step - loss: 0.0184 - root_mean_squared_error: 0.0439 - mean_absolute_error: 0.0184 - mean_squared_error: 0.0019 - val_loss: 0.0259 - val_root_mean_squared_error: 0.0310 - val_mean_absolute_error: 0.0259 - val_mean_squared_error: 9.6004e-04\n",
      "Epoch 38/250\n",
      "145/145 [==============================] - 3s 20ms/step - loss: 0.0185 - root_mean_squared_error: 0.0440 - mean_absolute_error: 0.0185 - mean_squared_error: 0.0019 - val_loss: 0.0258 - val_root_mean_squared_error: 0.0309 - val_mean_absolute_error: 0.0258 - val_mean_squared_error: 9.5581e-04\n",
      "Epoch 39/250\n",
      "145/145 [==============================] - 3s 20ms/step - loss: 0.0185 - root_mean_squared_error: 0.0439 - mean_absolute_error: 0.0185 - mean_squared_error: 0.0019 - val_loss: 0.0258 - val_root_mean_squared_error: 0.0309 - val_mean_absolute_error: 0.0258 - val_mean_squared_error: 9.5612e-04\n",
      "Epoch 40/250\n",
      "145/145 [==============================] - 3s 19ms/step - loss: 0.0183 - root_mean_squared_error: 0.0438 - mean_absolute_error: 0.0183 - mean_squared_error: 0.0019 - val_loss: 0.0256 - val_root_mean_squared_error: 0.0307 - val_mean_absolute_error: 0.0256 - val_mean_squared_error: 9.4532e-04\n",
      "Epoch 41/250\n",
      "145/145 [==============================] - 3s 20ms/step - loss: 0.0184 - root_mean_squared_error: 0.0439 - mean_absolute_error: 0.0184 - mean_squared_error: 0.0019 - val_loss: 0.0256 - val_root_mean_squared_error: 0.0307 - val_mean_absolute_error: 0.0256 - val_mean_squared_error: 9.4202e-04\n",
      "Epoch 42/250\n",
      "145/145 [==============================] - 3s 20ms/step - loss: 0.0184 - root_mean_squared_error: 0.0438 - mean_absolute_error: 0.0184 - mean_squared_error: 0.0019 - val_loss: 0.0254 - val_root_mean_squared_error: 0.0305 - val_mean_absolute_error: 0.0254 - val_mean_squared_error: 9.3095e-04\n",
      "Epoch 43/250\n",
      "145/145 [==============================] - 3s 19ms/step - loss: 0.0185 - root_mean_squared_error: 0.0439 - mean_absolute_error: 0.0185 - mean_squared_error: 0.0019 - val_loss: 0.0252 - val_root_mean_squared_error: 0.0303 - val_mean_absolute_error: 0.0252 - val_mean_squared_error: 9.2074e-04\n",
      "Epoch 44/250\n",
      "145/145 [==============================] - 3s 19ms/step - loss: 0.0185 - root_mean_squared_error: 0.0439 - mean_absolute_error: 0.0185 - mean_squared_error: 0.0019 - val_loss: 0.0251 - val_root_mean_squared_error: 0.0303 - val_mean_absolute_error: 0.0251 - val_mean_squared_error: 9.1860e-04\n",
      "Epoch 45/250\n",
      "145/145 [==============================] - 3s 19ms/step - loss: 0.0184 - root_mean_squared_error: 0.0438 - mean_absolute_error: 0.0184 - mean_squared_error: 0.0019 - val_loss: 0.0249 - val_root_mean_squared_error: 0.0301 - val_mean_absolute_error: 0.0249 - val_mean_squared_error: 9.0794e-04\n",
      "Epoch 46/250\n",
      "145/145 [==============================] - 3s 19ms/step - loss: 0.0184 - root_mean_squared_error: 0.0438 - mean_absolute_error: 0.0184 - mean_squared_error: 0.0019 - val_loss: 0.0248 - val_root_mean_squared_error: 0.0300 - val_mean_absolute_error: 0.0248 - val_mean_squared_error: 9.0047e-04\n",
      "Epoch 47/250\n",
      "145/145 [==============================] - 3s 20ms/step - loss: 0.0183 - root_mean_squared_error: 0.0438 - mean_absolute_error: 0.0183 - mean_squared_error: 0.0019 - val_loss: 0.0248 - val_root_mean_squared_error: 0.0300 - val_mean_absolute_error: 0.0248 - val_mean_squared_error: 9.0021e-04\n",
      "Epoch 48/250\n",
      "145/145 [==============================] - 3s 20ms/step - loss: 0.0184 - root_mean_squared_error: 0.0438 - mean_absolute_error: 0.0184 - mean_squared_error: 0.0019 - val_loss: 0.0245 - val_root_mean_squared_error: 0.0298 - val_mean_absolute_error: 0.0245 - val_mean_squared_error: 8.8723e-04\n",
      "Epoch 49/250\n",
      "145/145 [==============================] - 3s 19ms/step - loss: 0.0183 - root_mean_squared_error: 0.0437 - mean_absolute_error: 0.0183 - mean_squared_error: 0.0019 - val_loss: 0.0244 - val_root_mean_squared_error: 0.0297 - val_mean_absolute_error: 0.0244 - val_mean_squared_error: 8.8075e-04\n",
      "Epoch 50/250\n",
      "145/145 [==============================] - 3s 20ms/step - loss: 0.0184 - root_mean_squared_error: 0.0438 - mean_absolute_error: 0.0184 - mean_squared_error: 0.0019 - val_loss: 0.0244 - val_root_mean_squared_error: 0.0296 - val_mean_absolute_error: 0.0244 - val_mean_squared_error: 8.7837e-04\n",
      "Epoch 51/250\n",
      "145/145 [==============================] - 3s 20ms/step - loss: 0.0183 - root_mean_squared_error: 0.0437 - mean_absolute_error: 0.0183 - mean_squared_error: 0.0019 - val_loss: 0.0242 - val_root_mean_squared_error: 0.0295 - val_mean_absolute_error: 0.0242 - val_mean_squared_error: 8.6861e-04\n",
      "Epoch 52/250\n",
      "145/145 [==============================] - 3s 20ms/step - loss: 0.0183 - root_mean_squared_error: 0.0437 - mean_absolute_error: 0.0183 - mean_squared_error: 0.0019 - val_loss: 0.0242 - val_root_mean_squared_error: 0.0295 - val_mean_absolute_error: 0.0242 - val_mean_squared_error: 8.6881e-04\n",
      "Epoch 53/250\n",
      "145/145 [==============================] - 3s 19ms/step - loss: 0.0183 - root_mean_squared_error: 0.0437 - mean_absolute_error: 0.0183 - mean_squared_error: 0.0019 - val_loss: 0.0240 - val_root_mean_squared_error: 0.0293 - val_mean_absolute_error: 0.0240 - val_mean_squared_error: 8.5679e-04\n",
      "Epoch 54/250\n",
      "145/145 [==============================] - 3s 20ms/step - loss: 0.0182 - root_mean_squared_error: 0.0437 - mean_absolute_error: 0.0182 - mean_squared_error: 0.0019 - val_loss: 0.0240 - val_root_mean_squared_error: 0.0293 - val_mean_absolute_error: 0.0240 - val_mean_squared_error: 8.5724e-04\n"
     ]
    },
    {
     "name": "stdout",
     "output_type": "stream",
     "text": [
      "Epoch 55/250\n",
      "145/145 [==============================] - 3s 20ms/step - loss: 0.0182 - root_mean_squared_error: 0.0436 - mean_absolute_error: 0.0182 - mean_squared_error: 0.0019 - val_loss: 0.0238 - val_root_mean_squared_error: 0.0291 - val_mean_absolute_error: 0.0238 - val_mean_squared_error: 8.4538e-04\n",
      "Epoch 56/250\n",
      "145/145 [==============================] - 3s 19ms/step - loss: 0.0183 - root_mean_squared_error: 0.0436 - mean_absolute_error: 0.0183 - mean_squared_error: 0.0019 - val_loss: 0.0238 - val_root_mean_squared_error: 0.0291 - val_mean_absolute_error: 0.0238 - val_mean_squared_error: 8.4595e-04\n",
      "Epoch 57/250\n",
      "145/145 [==============================] - 3s 20ms/step - loss: 0.0182 - root_mean_squared_error: 0.0436 - mean_absolute_error: 0.0182 - mean_squared_error: 0.0019 - val_loss: 0.0237 - val_root_mean_squared_error: 0.0290 - val_mean_absolute_error: 0.0237 - val_mean_squared_error: 8.4084e-04\n",
      "Epoch 58/250\n",
      "145/145 [==============================] - 3s 20ms/step - loss: 0.0182 - root_mean_squared_error: 0.0435 - mean_absolute_error: 0.0182 - mean_squared_error: 0.0019 - val_loss: 0.0235 - val_root_mean_squared_error: 0.0288 - val_mean_absolute_error: 0.0235 - val_mean_squared_error: 8.3197e-04\n",
      "Epoch 59/250\n",
      "145/145 [==============================] - 3s 20ms/step - loss: 0.0181 - root_mean_squared_error: 0.0435 - mean_absolute_error: 0.0181 - mean_squared_error: 0.0019 - val_loss: 0.0235 - val_root_mean_squared_error: 0.0288 - val_mean_absolute_error: 0.0235 - val_mean_squared_error: 8.3227e-04\n",
      "Epoch 60/250\n",
      "145/145 [==============================] - 3s 20ms/step - loss: 0.0181 - root_mean_squared_error: 0.0435 - mean_absolute_error: 0.0181 - mean_squared_error: 0.0019 - val_loss: 0.0234 - val_root_mean_squared_error: 0.0287 - val_mean_absolute_error: 0.0234 - val_mean_squared_error: 8.2344e-04\n",
      "Epoch 61/250\n",
      "145/145 [==============================] - 3s 21ms/step - loss: 0.0180 - root_mean_squared_error: 0.0434 - mean_absolute_error: 0.0180 - mean_squared_error: 0.0019 - val_loss: 0.0233 - val_root_mean_squared_error: 0.0286 - val_mean_absolute_error: 0.0233 - val_mean_squared_error: 8.1760e-04\n",
      "Epoch 62/250\n",
      "145/145 [==============================] - 3s 20ms/step - loss: 0.0179 - root_mean_squared_error: 0.0434 - mean_absolute_error: 0.0179 - mean_squared_error: 0.0019 - val_loss: 0.0231 - val_root_mean_squared_error: 0.0285 - val_mean_absolute_error: 0.0231 - val_mean_squared_error: 8.1128e-04\n",
      "Epoch 63/250\n",
      "145/145 [==============================] - 3s 20ms/step - loss: 0.0180 - root_mean_squared_error: 0.0434 - mean_absolute_error: 0.0180 - mean_squared_error: 0.0019 - val_loss: 0.0230 - val_root_mean_squared_error: 0.0284 - val_mean_absolute_error: 0.0230 - val_mean_squared_error: 8.0465e-04\n",
      "Epoch 64/250\n",
      "145/145 [==============================] - 3s 20ms/step - loss: 0.0179 - root_mean_squared_error: 0.0434 - mean_absolute_error: 0.0179 - mean_squared_error: 0.0019 - val_loss: 0.0230 - val_root_mean_squared_error: 0.0283 - val_mean_absolute_error: 0.0230 - val_mean_squared_error: 8.0067e-04\n",
      "Epoch 65/250\n",
      "145/145 [==============================] - 3s 20ms/step - loss: 0.0179 - root_mean_squared_error: 0.0434 - mean_absolute_error: 0.0179 - mean_squared_error: 0.0019 - val_loss: 0.0228 - val_root_mean_squared_error: 0.0282 - val_mean_absolute_error: 0.0228 - val_mean_squared_error: 7.9463e-04\n",
      "Epoch 66/250\n",
      "145/145 [==============================] - 3s 20ms/step - loss: 0.0179 - root_mean_squared_error: 0.0433 - mean_absolute_error: 0.0179 - mean_squared_error: 0.0019 - val_loss: 0.0228 - val_root_mean_squared_error: 0.0281 - val_mean_absolute_error: 0.0228 - val_mean_squared_error: 7.9128e-04\n",
      "Epoch 67/250\n",
      "145/145 [==============================] - 3s 20ms/step - loss: 0.0178 - root_mean_squared_error: 0.0433 - mean_absolute_error: 0.0178 - mean_squared_error: 0.0019 - val_loss: 0.0227 - val_root_mean_squared_error: 0.0280 - val_mean_absolute_error: 0.0227 - val_mean_squared_error: 7.8529e-04\n",
      "Epoch 68/250\n",
      "145/145 [==============================] - 3s 20ms/step - loss: 0.0178 - root_mean_squared_error: 0.0433 - mean_absolute_error: 0.0178 - mean_squared_error: 0.0019 - val_loss: 0.0226 - val_root_mean_squared_error: 0.0279 - val_mean_absolute_error: 0.0226 - val_mean_squared_error: 7.7973e-04\n",
      "Epoch 69/250\n",
      "145/145 [==============================] - 3s 20ms/step - loss: 0.0178 - root_mean_squared_error: 0.0433 - mean_absolute_error: 0.0178 - mean_squared_error: 0.0019 - val_loss: 0.0225 - val_root_mean_squared_error: 0.0279 - val_mean_absolute_error: 0.0225 - val_mean_squared_error: 7.7675e-04\n",
      "Epoch 70/250\n",
      "145/145 [==============================] - 3s 20ms/step - loss: 0.0177 - root_mean_squared_error: 0.0433 - mean_absolute_error: 0.0177 - mean_squared_error: 0.0019 - val_loss: 0.0224 - val_root_mean_squared_error: 0.0278 - val_mean_absolute_error: 0.0224 - val_mean_squared_error: 7.7118e-04\n",
      "Epoch 71/250\n",
      "145/145 [==============================] - 3s 20ms/step - loss: 0.0177 - root_mean_squared_error: 0.0432 - mean_absolute_error: 0.0177 - mean_squared_error: 0.0019 - val_loss: 0.0223 - val_root_mean_squared_error: 0.0277 - val_mean_absolute_error: 0.0223 - val_mean_squared_error: 7.6677e-04\n",
      "Epoch 72/250\n",
      "145/145 [==============================] - 3s 20ms/step - loss: 0.0177 - root_mean_squared_error: 0.0432 - mean_absolute_error: 0.0177 - mean_squared_error: 0.0019 - val_loss: 0.0222 - val_root_mean_squared_error: 0.0276 - val_mean_absolute_error: 0.0222 - val_mean_squared_error: 7.6209e-04\n",
      "Epoch 73/250\n",
      "145/145 [==============================] - 3s 20ms/step - loss: 0.0177 - root_mean_squared_error: 0.0432 - mean_absolute_error: 0.0177 - mean_squared_error: 0.0019 - val_loss: 0.0220 - val_root_mean_squared_error: 0.0274 - val_mean_absolute_error: 0.0220 - val_mean_squared_error: 7.5339e-04\n",
      "Epoch 74/250\n",
      "145/145 [==============================] - 3s 19ms/step - loss: 0.0177 - root_mean_squared_error: 0.0432 - mean_absolute_error: 0.0177 - mean_squared_error: 0.0019 - val_loss: 0.0220 - val_root_mean_squared_error: 0.0274 - val_mean_absolute_error: 0.0220 - val_mean_squared_error: 7.5033e-04\n",
      "Epoch 75/250\n",
      "145/145 [==============================] - 3s 20ms/step - loss: 0.0176 - root_mean_squared_error: 0.0431 - mean_absolute_error: 0.0176 - mean_squared_error: 0.0019 - val_loss: 0.0218 - val_root_mean_squared_error: 0.0272 - val_mean_absolute_error: 0.0218 - val_mean_squared_error: 7.4202e-04\n",
      "Epoch 76/250\n",
      "145/145 [==============================] - 3s 19ms/step - loss: 0.0176 - root_mean_squared_error: 0.0432 - mean_absolute_error: 0.0176 - mean_squared_error: 0.0019 - val_loss: 0.0218 - val_root_mean_squared_error: 0.0272 - val_mean_absolute_error: 0.0218 - val_mean_squared_error: 7.3932e-04\n",
      "Epoch 77/250\n",
      "145/145 [==============================] - 3s 19ms/step - loss: 0.0176 - root_mean_squared_error: 0.0431 - mean_absolute_error: 0.0176 - mean_squared_error: 0.0019 - val_loss: 0.0216 - val_root_mean_squared_error: 0.0270 - val_mean_absolute_error: 0.0216 - val_mean_squared_error: 7.3048e-04\n",
      "Epoch 78/250\n",
      "145/145 [==============================] - 3s 20ms/step - loss: 0.0175 - root_mean_squared_error: 0.0431 - mean_absolute_error: 0.0175 - mean_squared_error: 0.0019 - val_loss: 0.0216 - val_root_mean_squared_error: 0.0270 - val_mean_absolute_error: 0.0216 - val_mean_squared_error: 7.2916e-04\n",
      "Epoch 79/250\n",
      "145/145 [==============================] - 3s 19ms/step - loss: 0.0175 - root_mean_squared_error: 0.0430 - mean_absolute_error: 0.0175 - mean_squared_error: 0.0019 - val_loss: 0.0214 - val_root_mean_squared_error: 0.0269 - val_mean_absolute_error: 0.0214 - val_mean_squared_error: 7.2112e-04\n",
      "Epoch 80/250\n",
      "145/145 [==============================] - 3s 20ms/step - loss: 0.0174 - root_mean_squared_error: 0.0430 - mean_absolute_error: 0.0174 - mean_squared_error: 0.0019 - val_loss: 0.0214 - val_root_mean_squared_error: 0.0268 - val_mean_absolute_error: 0.0214 - val_mean_squared_error: 7.2058e-04\n",
      "Epoch 81/250\n",
      "145/145 [==============================] - 3s 20ms/step - loss: 0.0174 - root_mean_squared_error: 0.0430 - mean_absolute_error: 0.0174 - mean_squared_error: 0.0018 - val_loss: 0.0212 - val_root_mean_squared_error: 0.0267 - val_mean_absolute_error: 0.0212 - val_mean_squared_error: 7.1271e-04\n"
     ]
    },
    {
     "name": "stdout",
     "output_type": "stream",
     "text": [
      "Epoch 82/250\n",
      "145/145 [==============================] - 3s 20ms/step - loss: 0.0174 - root_mean_squared_error: 0.0430 - mean_absolute_error: 0.0174 - mean_squared_error: 0.0018 - val_loss: 0.0211 - val_root_mean_squared_error: 0.0266 - val_mean_absolute_error: 0.0211 - val_mean_squared_error: 7.0710e-04\n",
      "Epoch 83/250\n",
      "145/145 [==============================] - 3s 20ms/step - loss: 0.0174 - root_mean_squared_error: 0.0430 - mean_absolute_error: 0.0174 - mean_squared_error: 0.0018 - val_loss: 0.0211 - val_root_mean_squared_error: 0.0265 - val_mean_absolute_error: 0.0211 - val_mean_squared_error: 7.0403e-04\n",
      "Epoch 84/250\n",
      "145/145 [==============================] - 3s 20ms/step - loss: 0.0173 - root_mean_squared_error: 0.0429 - mean_absolute_error: 0.0173 - mean_squared_error: 0.0018 - val_loss: 0.0209 - val_root_mean_squared_error: 0.0264 - val_mean_absolute_error: 0.0209 - val_mean_squared_error: 6.9760e-04\n",
      "Epoch 85/250\n",
      "145/145 [==============================] - 3s 19ms/step - loss: 0.0173 - root_mean_squared_error: 0.0429 - mean_absolute_error: 0.0173 - mean_squared_error: 0.0018 - val_loss: 0.0208 - val_root_mean_squared_error: 0.0263 - val_mean_absolute_error: 0.0208 - val_mean_squared_error: 6.9159e-04\n",
      "Epoch 86/250\n",
      "145/145 [==============================] - 3s 20ms/step - loss: 0.0172 - root_mean_squared_error: 0.0429 - mean_absolute_error: 0.0172 - mean_squared_error: 0.0018 - val_loss: 0.0206 - val_root_mean_squared_error: 0.0262 - val_mean_absolute_error: 0.0206 - val_mean_squared_error: 6.8435e-04\n",
      "Epoch 87/250\n",
      "145/145 [==============================] - 3s 20ms/step - loss: 0.0172 - root_mean_squared_error: 0.0428 - mean_absolute_error: 0.0172 - mean_squared_error: 0.0018 - val_loss: 0.0206 - val_root_mean_squared_error: 0.0261 - val_mean_absolute_error: 0.0206 - val_mean_squared_error: 6.8059e-04\n",
      "Epoch 88/250\n",
      "145/145 [==============================] - 3s 20ms/step - loss: 0.0172 - root_mean_squared_error: 0.0428 - mean_absolute_error: 0.0172 - mean_squared_error: 0.0018 - val_loss: 0.0205 - val_root_mean_squared_error: 0.0260 - val_mean_absolute_error: 0.0205 - val_mean_squared_error: 6.7564e-04\n",
      "Epoch 89/250\n",
      "145/145 [==============================] - 3s 20ms/step - loss: 0.0171 - root_mean_squared_error: 0.0428 - mean_absolute_error: 0.0171 - mean_squared_error: 0.0018 - val_loss: 0.0203 - val_root_mean_squared_error: 0.0259 - val_mean_absolute_error: 0.0203 - val_mean_squared_error: 6.6995e-04\n",
      "Epoch 90/250\n",
      "145/145 [==============================] - 3s 20ms/step - loss: 0.0171 - root_mean_squared_error: 0.0428 - mean_absolute_error: 0.0171 - mean_squared_error: 0.0018 - val_loss: 0.0203 - val_root_mean_squared_error: 0.0259 - val_mean_absolute_error: 0.0203 - val_mean_squared_error: 6.6896e-04\n",
      "Epoch 91/250\n",
      "145/145 [==============================] - 3s 20ms/step - loss: 0.0170 - root_mean_squared_error: 0.0427 - mean_absolute_error: 0.0170 - mean_squared_error: 0.0018 - val_loss: 0.0202 - val_root_mean_squared_error: 0.0257 - val_mean_absolute_error: 0.0202 - val_mean_squared_error: 6.6218e-04\n",
      "Epoch 92/250\n",
      "145/145 [==============================] - 3s 19ms/step - loss: 0.0170 - root_mean_squared_error: 0.0427 - mean_absolute_error: 0.0170 - mean_squared_error: 0.0018 - val_loss: 0.0200 - val_root_mean_squared_error: 0.0256 - val_mean_absolute_error: 0.0200 - val_mean_squared_error: 6.5697e-04\n",
      "Epoch 93/250\n",
      "145/145 [==============================] - 3s 19ms/step - loss: 0.0169 - root_mean_squared_error: 0.0427 - mean_absolute_error: 0.0169 - mean_squared_error: 0.0018 - val_loss: 0.0199 - val_root_mean_squared_error: 0.0255 - val_mean_absolute_error: 0.0199 - val_mean_squared_error: 6.5215e-04\n",
      "Epoch 94/250\n",
      "145/145 [==============================] - 3s 20ms/step - loss: 0.0169 - root_mean_squared_error: 0.0426 - mean_absolute_error: 0.0169 - mean_squared_error: 0.0018 - val_loss: 0.0198 - val_root_mean_squared_error: 0.0254 - val_mean_absolute_error: 0.0198 - val_mean_squared_error: 6.4731e-04\n",
      "Epoch 95/250\n",
      "145/145 [==============================] - 3s 20ms/step - loss: 0.0169 - root_mean_squared_error: 0.0426 - mean_absolute_error: 0.0169 - mean_squared_error: 0.0018 - val_loss: 0.0197 - val_root_mean_squared_error: 0.0254 - val_mean_absolute_error: 0.0197 - val_mean_squared_error: 6.4268e-04\n",
      "Epoch 96/250\n",
      "145/145 [==============================] - 3s 20ms/step - loss: 0.0168 - root_mean_squared_error: 0.0426 - mean_absolute_error: 0.0168 - mean_squared_error: 0.0018 - val_loss: 0.0196 - val_root_mean_squared_error: 0.0253 - val_mean_absolute_error: 0.0196 - val_mean_squared_error: 6.3807e-04\n",
      "Epoch 97/250\n",
      "145/145 [==============================] - 3s 21ms/step - loss: 0.0168 - root_mean_squared_error: 0.0425 - mean_absolute_error: 0.0168 - mean_squared_error: 0.0018 - val_loss: 0.0195 - val_root_mean_squared_error: 0.0252 - val_mean_absolute_error: 0.0195 - val_mean_squared_error: 6.3370e-04\n",
      "Epoch 98/250\n",
      "145/145 [==============================] - 3s 20ms/step - loss: 0.0167 - root_mean_squared_error: 0.0425 - mean_absolute_error: 0.0167 - mean_squared_error: 0.0018 - val_loss: 0.0195 - val_root_mean_squared_error: 0.0251 - val_mean_absolute_error: 0.0195 - val_mean_squared_error: 6.2955e-04\n",
      "Epoch 99/250\n",
      "145/145 [==============================] - 3s 21ms/step - loss: 0.0167 - root_mean_squared_error: 0.0425 - mean_absolute_error: 0.0167 - mean_squared_error: 0.0018 - val_loss: 0.0193 - val_root_mean_squared_error: 0.0249 - val_mean_absolute_error: 0.0193 - val_mean_squared_error: 6.2131e-04\n",
      "Epoch 100/250\n",
      "145/145 [==============================] - 3s 20ms/step - loss: 0.0166 - root_mean_squared_error: 0.0425 - mean_absolute_error: 0.0166 - mean_squared_error: 0.0018 - val_loss: 0.0192 - val_root_mean_squared_error: 0.0249 - val_mean_absolute_error: 0.0192 - val_mean_squared_error: 6.1767e-04\n",
      "Epoch 101/250\n",
      "145/145 [==============================] - 3s 20ms/step - loss: 0.0166 - root_mean_squared_error: 0.0425 - mean_absolute_error: 0.0166 - mean_squared_error: 0.0018 - val_loss: 0.0191 - val_root_mean_squared_error: 0.0248 - val_mean_absolute_error: 0.0191 - val_mean_squared_error: 6.1404e-04\n",
      "Epoch 102/250\n",
      "145/145 [==============================] - 3s 19ms/step - loss: 0.0166 - root_mean_squared_error: 0.0424 - mean_absolute_error: 0.0166 - mean_squared_error: 0.0018 - val_loss: 0.0190 - val_root_mean_squared_error: 0.0247 - val_mean_absolute_error: 0.0190 - val_mean_squared_error: 6.1043e-04\n",
      "Epoch 103/250\n",
      "145/145 [==============================] - 3s 20ms/step - loss: 0.0165 - root_mean_squared_error: 0.0424 - mean_absolute_error: 0.0165 - mean_squared_error: 0.0018 - val_loss: 0.0189 - val_root_mean_squared_error: 0.0246 - val_mean_absolute_error: 0.0189 - val_mean_squared_error: 6.0540e-04\n",
      "Epoch 104/250\n",
      "145/145 [==============================] - 3s 20ms/step - loss: 0.0164 - root_mean_squared_error: 0.0424 - mean_absolute_error: 0.0164 - mean_squared_error: 0.0018 - val_loss: 0.0188 - val_root_mean_squared_error: 0.0245 - val_mean_absolute_error: 0.0188 - val_mean_squared_error: 6.0167e-04\n",
      "Epoch 105/250\n",
      "145/145 [==============================] - 3s 20ms/step - loss: 0.0164 - root_mean_squared_error: 0.0423 - mean_absolute_error: 0.0164 - mean_squared_error: 0.0018 - val_loss: 0.0187 - val_root_mean_squared_error: 0.0244 - val_mean_absolute_error: 0.0187 - val_mean_squared_error: 5.9406e-04\n",
      "Epoch 106/250\n",
      "145/145 [==============================] - 3s 20ms/step - loss: 0.0164 - root_mean_squared_error: 0.0423 - mean_absolute_error: 0.0164 - mean_squared_error: 0.0018 - val_loss: 0.0186 - val_root_mean_squared_error: 0.0243 - val_mean_absolute_error: 0.0186 - val_mean_squared_error: 5.9236e-04\n",
      "Epoch 107/250\n",
      "145/145 [==============================] - 3s 20ms/step - loss: 0.0163 - root_mean_squared_error: 0.0423 - mean_absolute_error: 0.0163 - mean_squared_error: 0.0018 - val_loss: 0.0185 - val_root_mean_squared_error: 0.0242 - val_mean_absolute_error: 0.0185 - val_mean_squared_error: 5.8798e-04\n",
      "Epoch 108/250\n",
      "145/145 [==============================] - 3s 21ms/step - loss: 0.0163 - root_mean_squared_error: 0.0422 - mean_absolute_error: 0.0163 - mean_squared_error: 0.0018 - val_loss: 0.0184 - val_root_mean_squared_error: 0.0241 - val_mean_absolute_error: 0.0184 - val_mean_squared_error: 5.8088e-04\n"
     ]
    },
    {
     "name": "stdout",
     "output_type": "stream",
     "text": [
      "Epoch 109/250\n",
      "145/145 [==============================] - 3s 22ms/step - loss: 0.0162 - root_mean_squared_error: 0.0422 - mean_absolute_error: 0.0162 - mean_squared_error: 0.0018 - val_loss: 0.0183 - val_root_mean_squared_error: 0.0240 - val_mean_absolute_error: 0.0183 - val_mean_squared_error: 5.7760e-04\n",
      "Epoch 110/250\n",
      "145/145 [==============================] - 3s 21ms/step - loss: 0.0161 - root_mean_squared_error: 0.0422 - mean_absolute_error: 0.0161 - mean_squared_error: 0.0018 - val_loss: 0.0181 - val_root_mean_squared_error: 0.0239 - val_mean_absolute_error: 0.0181 - val_mean_squared_error: 5.7064e-04\n",
      "Epoch 111/250\n",
      "145/145 [==============================] - 3s 20ms/step - loss: 0.0162 - root_mean_squared_error: 0.0422 - mean_absolute_error: 0.0162 - mean_squared_error: 0.0018 - val_loss: 0.0181 - val_root_mean_squared_error: 0.0239 - val_mean_absolute_error: 0.0181 - val_mean_squared_error: 5.6897e-04\n",
      "Epoch 112/250\n",
      "145/145 [==============================] - 3s 21ms/step - loss: 0.0161 - root_mean_squared_error: 0.0421 - mean_absolute_error: 0.0161 - mean_squared_error: 0.0018 - val_loss: 0.0179 - val_root_mean_squared_error: 0.0237 - val_mean_absolute_error: 0.0179 - val_mean_squared_error: 5.6202e-04\n",
      "Epoch 113/250\n",
      "145/145 [==============================] - 3s 21ms/step - loss: 0.0161 - root_mean_squared_error: 0.0422 - mean_absolute_error: 0.0161 - mean_squared_error: 0.0018 - val_loss: 0.0179 - val_root_mean_squared_error: 0.0237 - val_mean_absolute_error: 0.0179 - val_mean_squared_error: 5.6031e-04\n",
      "Epoch 114/250\n",
      "145/145 [==============================] - 3s 21ms/step - loss: 0.0160 - root_mean_squared_error: 0.0421 - mean_absolute_error: 0.0160 - mean_squared_error: 0.0018 - val_loss: 0.0177 - val_root_mean_squared_error: 0.0235 - val_mean_absolute_error: 0.0177 - val_mean_squared_error: 5.5400e-04\n",
      "Epoch 115/250\n",
      "145/145 [==============================] - 3s 22ms/step - loss: 0.0160 - root_mean_squared_error: 0.0421 - mean_absolute_error: 0.0160 - mean_squared_error: 0.0018 - val_loss: 0.0176 - val_root_mean_squared_error: 0.0234 - val_mean_absolute_error: 0.0176 - val_mean_squared_error: 5.4883e-04\n",
      "Epoch 116/250\n",
      "145/145 [==============================] - 3s 20ms/step - loss: 0.0159 - root_mean_squared_error: 0.0421 - mean_absolute_error: 0.0159 - mean_squared_error: 0.0018 - val_loss: 0.0175 - val_root_mean_squared_error: 0.0233 - val_mean_absolute_error: 0.0175 - val_mean_squared_error: 5.4390e-04\n",
      "Epoch 117/250\n",
      "145/145 [==============================] - 3s 20ms/step - loss: 0.0159 - root_mean_squared_error: 0.0421 - mean_absolute_error: 0.0159 - mean_squared_error: 0.0018 - val_loss: 0.0174 - val_root_mean_squared_error: 0.0232 - val_mean_absolute_error: 0.0174 - val_mean_squared_error: 5.3914e-04\n",
      "Epoch 118/250\n",
      "145/145 [==============================] - 3s 20ms/step - loss: 0.0159 - root_mean_squared_error: 0.0421 - mean_absolute_error: 0.0159 - mean_squared_error: 0.0018 - val_loss: 0.0173 - val_root_mean_squared_error: 0.0231 - val_mean_absolute_error: 0.0173 - val_mean_squared_error: 5.3448e-04\n",
      "Epoch 119/250\n",
      "145/145 [==============================] - 3s 19ms/step - loss: 0.0158 - root_mean_squared_error: 0.0420 - mean_absolute_error: 0.0158 - mean_squared_error: 0.0018 - val_loss: 0.0172 - val_root_mean_squared_error: 0.0230 - val_mean_absolute_error: 0.0172 - val_mean_squared_error: 5.3002e-04\n",
      "Epoch 120/250\n",
      "145/145 [==============================] - 3s 20ms/step - loss: 0.0158 - root_mean_squared_error: 0.0420 - mean_absolute_error: 0.0158 - mean_squared_error: 0.0018 - val_loss: 0.0171 - val_root_mean_squared_error: 0.0229 - val_mean_absolute_error: 0.0171 - val_mean_squared_error: 5.2571e-04\n",
      "Epoch 121/250\n",
      "145/145 [==============================] - 3s 20ms/step - loss: 0.0158 - root_mean_squared_error: 0.0420 - mean_absolute_error: 0.0158 - mean_squared_error: 0.0018 - val_loss: 0.0170 - val_root_mean_squared_error: 0.0228 - val_mean_absolute_error: 0.0170 - val_mean_squared_error: 5.2138e-04\n",
      "Epoch 122/250\n",
      "145/145 [==============================] - 3s 21ms/step - loss: 0.0157 - root_mean_squared_error: 0.0420 - mean_absolute_error: 0.0157 - mean_squared_error: 0.0018 - val_loss: 0.0169 - val_root_mean_squared_error: 0.0228 - val_mean_absolute_error: 0.0169 - val_mean_squared_error: 5.1854e-04\n",
      "Epoch 123/250\n",
      "145/145 [==============================] - 3s 20ms/step - loss: 0.0156 - root_mean_squared_error: 0.0419 - mean_absolute_error: 0.0156 - mean_squared_error: 0.0018 - val_loss: 0.0168 - val_root_mean_squared_error: 0.0227 - val_mean_absolute_error: 0.0168 - val_mean_squared_error: 5.1358e-04\n",
      "Epoch 124/250\n",
      "145/145 [==============================] - 3s 21ms/step - loss: 0.0156 - root_mean_squared_error: 0.0419 - mean_absolute_error: 0.0156 - mean_squared_error: 0.0018 - val_loss: 0.0167 - val_root_mean_squared_error: 0.0226 - val_mean_absolute_error: 0.0167 - val_mean_squared_error: 5.0963e-04\n",
      "Epoch 125/250\n",
      "145/145 [==============================] - 3s 21ms/step - loss: 0.0155 - root_mean_squared_error: 0.0419 - mean_absolute_error: 0.0155 - mean_squared_error: 0.0018 - val_loss: 0.0165 - val_root_mean_squared_error: 0.0224 - val_mean_absolute_error: 0.0165 - val_mean_squared_error: 5.0391e-04\n",
      "Epoch 126/250\n",
      "145/145 [==============================] - 3s 20ms/step - loss: 0.0155 - root_mean_squared_error: 0.0419 - mean_absolute_error: 0.0155 - mean_squared_error: 0.0018 - val_loss: 0.0165 - val_root_mean_squared_error: 0.0224 - val_mean_absolute_error: 0.0165 - val_mean_squared_error: 5.0144e-04\n",
      "Epoch 127/250\n",
      "145/145 [==============================] - 3s 22ms/step - loss: 0.0155 - root_mean_squared_error: 0.0418 - mean_absolute_error: 0.0155 - mean_squared_error: 0.0018 - val_loss: 0.0164 - val_root_mean_squared_error: 0.0223 - val_mean_absolute_error: 0.0164 - val_mean_squared_error: 4.9813e-04\n",
      "Epoch 128/250\n",
      "145/145 [==============================] - 4s 25ms/step - loss: 0.0154 - root_mean_squared_error: 0.0418 - mean_absolute_error: 0.0154 - mean_squared_error: 0.0017 - val_loss: 0.0163 - val_root_mean_squared_error: 0.0222 - val_mean_absolute_error: 0.0163 - val_mean_squared_error: 4.9321e-04\n",
      "Epoch 129/250\n",
      "145/145 [==============================] - 3s 21ms/step - loss: 0.0154 - root_mean_squared_error: 0.0418 - mean_absolute_error: 0.0154 - mean_squared_error: 0.0017 - val_loss: 0.0161 - val_root_mean_squared_error: 0.0221 - val_mean_absolute_error: 0.0161 - val_mean_squared_error: 4.8651e-04\n",
      "Epoch 130/250\n",
      "145/145 [==============================] - 3s 21ms/step - loss: 0.0153 - root_mean_squared_error: 0.0418 - mean_absolute_error: 0.0153 - mean_squared_error: 0.0017 - val_loss: 0.0160 - val_root_mean_squared_error: 0.0220 - val_mean_absolute_error: 0.0160 - val_mean_squared_error: 4.8435e-04\n",
      "Epoch 131/250\n",
      "145/145 [==============================] - 3s 20ms/step - loss: 0.0153 - root_mean_squared_error: 0.0417 - mean_absolute_error: 0.0153 - mean_squared_error: 0.0017 - val_loss: 0.0159 - val_root_mean_squared_error: 0.0219 - val_mean_absolute_error: 0.0159 - val_mean_squared_error: 4.7916e-04\n",
      "Epoch 132/250\n",
      "145/145 [==============================] - 3s 20ms/step - loss: 0.0153 - root_mean_squared_error: 0.0417 - mean_absolute_error: 0.0153 - mean_squared_error: 0.0017 - val_loss: 0.0158 - val_root_mean_squared_error: 0.0218 - val_mean_absolute_error: 0.0158 - val_mean_squared_error: 4.7704e-04\n",
      "Epoch 133/250\n",
      "145/145 [==============================] - 3s 19ms/step - loss: 0.0152 - root_mean_squared_error: 0.0417 - mean_absolute_error: 0.0152 - mean_squared_error: 0.0017 - val_loss: 0.0157 - val_root_mean_squared_error: 0.0217 - val_mean_absolute_error: 0.0157 - val_mean_squared_error: 4.7097e-04\n",
      "Epoch 134/250\n",
      "145/145 [==============================] - 3s 19ms/step - loss: 0.0152 - root_mean_squared_error: 0.0417 - mean_absolute_error: 0.0152 - mean_squared_error: 0.0017 - val_loss: 0.0156 - val_root_mean_squared_error: 0.0217 - val_mean_absolute_error: 0.0156 - val_mean_squared_error: 4.6905e-04\n",
      "Epoch 135/250\n",
      "145/145 [==============================] - 3s 22ms/step - loss: 0.0151 - root_mean_squared_error: 0.0416 - mean_absolute_error: 0.0151 - mean_squared_error: 0.0017 - val_loss: 0.0155 - val_root_mean_squared_error: 0.0215 - val_mean_absolute_error: 0.0155 - val_mean_squared_error: 4.6420e-04\n"
     ]
    },
    {
     "name": "stdout",
     "output_type": "stream",
     "text": [
      "Epoch 136/250\n",
      "145/145 [==============================] - 3s 22ms/step - loss: 0.0151 - root_mean_squared_error: 0.0416 - mean_absolute_error: 0.0151 - mean_squared_error: 0.0017 - val_loss: 0.0155 - val_root_mean_squared_error: 0.0215 - val_mean_absolute_error: 0.0155 - val_mean_squared_error: 4.6353e-04\n",
      "Epoch 137/250\n",
      "145/145 [==============================] - 3s 20ms/step - loss: 0.0150 - root_mean_squared_error: 0.0416 - mean_absolute_error: 0.0150 - mean_squared_error: 0.0017 - val_loss: 0.0153 - val_root_mean_squared_error: 0.0214 - val_mean_absolute_error: 0.0153 - val_mean_squared_error: 4.5680e-04\n",
      "Epoch 138/250\n",
      "145/145 [==============================] - 3s 20ms/step - loss: 0.0149 - root_mean_squared_error: 0.0416 - mean_absolute_error: 0.0149 - mean_squared_error: 0.0017 - val_loss: 0.0152 - val_root_mean_squared_error: 0.0213 - val_mean_absolute_error: 0.0152 - val_mean_squared_error: 4.5347e-04\n",
      "Epoch 139/250\n",
      "145/145 [==============================] - 3s 20ms/step - loss: 0.0150 - root_mean_squared_error: 0.0416 - mean_absolute_error: 0.0150 - mean_squared_error: 0.0017 - val_loss: 0.0152 - val_root_mean_squared_error: 0.0213 - val_mean_absolute_error: 0.0152 - val_mean_squared_error: 4.5172e-04\n",
      "Epoch 140/250\n",
      "145/145 [==============================] - 3s 19ms/step - loss: 0.0149 - root_mean_squared_error: 0.0415 - mean_absolute_error: 0.0149 - mean_squared_error: 0.0017 - val_loss: 0.0150 - val_root_mean_squared_error: 0.0211 - val_mean_absolute_error: 0.0150 - val_mean_squared_error: 4.4621e-04\n",
      "Epoch 141/250\n",
      "145/145 [==============================] - 3s 20ms/step - loss: 0.0148 - root_mean_squared_error: 0.0415 - mean_absolute_error: 0.0148 - mean_squared_error: 0.0017 - val_loss: 0.0150 - val_root_mean_squared_error: 0.0210 - val_mean_absolute_error: 0.0150 - val_mean_squared_error: 4.4289e-04\n",
      "Epoch 142/250\n",
      "145/145 [==============================] - 3s 20ms/step - loss: 0.0148 - root_mean_squared_error: 0.0415 - mean_absolute_error: 0.0148 - mean_squared_error: 0.0017 - val_loss: 0.0149 - val_root_mean_squared_error: 0.0210 - val_mean_absolute_error: 0.0149 - val_mean_squared_error: 4.3963e-04\n",
      "Epoch 143/250\n",
      "145/145 [==============================] - 3s 20ms/step - loss: 0.0148 - root_mean_squared_error: 0.0415 - mean_absolute_error: 0.0148 - mean_squared_error: 0.0017 - val_loss: 0.0148 - val_root_mean_squared_error: 0.0209 - val_mean_absolute_error: 0.0148 - val_mean_squared_error: 4.3850e-04\n",
      "Epoch 144/250\n",
      "145/145 [==============================] - 3s 20ms/step - loss: 0.0147 - root_mean_squared_error: 0.0414 - mean_absolute_error: 0.0147 - mean_squared_error: 0.0017 - val_loss: 0.0148 - val_root_mean_squared_error: 0.0209 - val_mean_absolute_error: 0.0148 - val_mean_squared_error: 4.3618e-04\n",
      "Epoch 145/250\n",
      "145/145 [==============================] - 3s 19ms/step - loss: 0.0146 - root_mean_squared_error: 0.0413 - mean_absolute_error: 0.0146 - mean_squared_error: 0.0017 - val_loss: 0.0146 - val_root_mean_squared_error: 0.0208 - val_mean_absolute_error: 0.0146 - val_mean_squared_error: 4.3090e-04\n",
      "Epoch 146/250\n",
      "145/145 [==============================] - 3s 20ms/step - loss: 0.0146 - root_mean_squared_error: 0.0413 - mean_absolute_error: 0.0146 - mean_squared_error: 0.0017 - val_loss: 0.0146 - val_root_mean_squared_error: 0.0207 - val_mean_absolute_error: 0.0146 - val_mean_squared_error: 4.2927e-04\n",
      "Epoch 147/250\n",
      "145/145 [==============================] - 3s 20ms/step - loss: 0.0145 - root_mean_squared_error: 0.0413 - mean_absolute_error: 0.0145 - mean_squared_error: 0.0017 - val_loss: 0.0144 - val_root_mean_squared_error: 0.0206 - val_mean_absolute_error: 0.0144 - val_mean_squared_error: 4.2410e-04\n",
      "Epoch 148/250\n",
      "145/145 [==============================] - 3s 20ms/step - loss: 0.0145 - root_mean_squared_error: 0.0413 - mean_absolute_error: 0.0145 - mean_squared_error: 0.0017 - val_loss: 0.0143 - val_root_mean_squared_error: 0.0205 - val_mean_absolute_error: 0.0143 - val_mean_squared_error: 4.2093e-04\n",
      "Epoch 149/250\n",
      "145/145 [==============================] - 3s 21ms/step - loss: 0.0145 - root_mean_squared_error: 0.0413 - mean_absolute_error: 0.0145 - mean_squared_error: 0.0017 - val_loss: 0.0142 - val_root_mean_squared_error: 0.0204 - val_mean_absolute_error: 0.0142 - val_mean_squared_error: 4.1695e-04\n",
      "Epoch 150/250\n",
      "145/145 [==============================] - 3s 20ms/step - loss: 0.0145 - root_mean_squared_error: 0.0412 - mean_absolute_error: 0.0145 - mean_squared_error: 0.0017 - val_loss: 0.0142 - val_root_mean_squared_error: 0.0203 - val_mean_absolute_error: 0.0142 - val_mean_squared_error: 4.1412e-04\n",
      "Epoch 151/250\n",
      "145/145 [==============================] - 3s 20ms/step - loss: 0.0144 - root_mean_squared_error: 0.0413 - mean_absolute_error: 0.0144 - mean_squared_error: 0.0017 - val_loss: 0.0141 - val_root_mean_squared_error: 0.0203 - val_mean_absolute_error: 0.0141 - val_mean_squared_error: 4.1178e-04\n",
      "Epoch 152/250\n",
      "145/145 [==============================] - 3s 19ms/step - loss: 0.0143 - root_mean_squared_error: 0.0412 - mean_absolute_error: 0.0143 - mean_squared_error: 0.0017 - val_loss: 0.0140 - val_root_mean_squared_error: 0.0202 - val_mean_absolute_error: 0.0140 - val_mean_squared_error: 4.0793e-04\n",
      "Epoch 153/250\n",
      "145/145 [==============================] - 3s 19ms/step - loss: 0.0143 - root_mean_squared_error: 0.0412 - mean_absolute_error: 0.0143 - mean_squared_error: 0.0017 - val_loss: 0.0139 - val_root_mean_squared_error: 0.0201 - val_mean_absolute_error: 0.0139 - val_mean_squared_error: 4.0518e-04\n",
      "Epoch 154/250\n",
      "145/145 [==============================] - 3s 20ms/step - loss: 0.0143 - root_mean_squared_error: 0.0411 - mean_absolute_error: 0.0143 - mean_squared_error: 0.0017 - val_loss: 0.0138 - val_root_mean_squared_error: 0.0201 - val_mean_absolute_error: 0.0138 - val_mean_squared_error: 4.0249e-04\n",
      "Epoch 155/250\n",
      "145/145 [==============================] - 3s 20ms/step - loss: 0.0143 - root_mean_squared_error: 0.0411 - mean_absolute_error: 0.0143 - mean_squared_error: 0.0017 - val_loss: 0.0138 - val_root_mean_squared_error: 0.0201 - val_mean_absolute_error: 0.0138 - val_mean_squared_error: 4.0258e-04\n",
      "Epoch 156/250\n",
      "145/145 [==============================] - 3s 20ms/step - loss: 0.0142 - root_mean_squared_error: 0.0411 - mean_absolute_error: 0.0142 - mean_squared_error: 0.0017 - val_loss: 0.0137 - val_root_mean_squared_error: 0.0199 - val_mean_absolute_error: 0.0137 - val_mean_squared_error: 3.9781e-04\n",
      "Epoch 157/250\n",
      "145/145 [==============================] - 3s 20ms/step - loss: 0.0142 - root_mean_squared_error: 0.0411 - mean_absolute_error: 0.0142 - mean_squared_error: 0.0017 - val_loss: 0.0136 - val_root_mean_squared_error: 0.0199 - val_mean_absolute_error: 0.0136 - val_mean_squared_error: 3.9625e-04\n",
      "Epoch 158/250\n",
      "145/145 [==============================] - 3s 23ms/step - loss: 0.0141 - root_mean_squared_error: 0.0410 - mean_absolute_error: 0.0141 - mean_squared_error: 0.0017 - val_loss: 0.0134 - val_root_mean_squared_error: 0.0197 - val_mean_absolute_error: 0.0134 - val_mean_squared_error: 3.8943e-04\n",
      "Epoch 159/250\n",
      "145/145 [==============================] - 3s 22ms/step - loss: 0.0141 - root_mean_squared_error: 0.0410 - mean_absolute_error: 0.0141 - mean_squared_error: 0.0017 - val_loss: 0.0135 - val_root_mean_squared_error: 0.0197 - val_mean_absolute_error: 0.0135 - val_mean_squared_error: 3.8988e-04\n",
      "Epoch 160/250\n",
      "145/145 [==============================] - 3s 23ms/step - loss: 0.0140 - root_mean_squared_error: 0.0410 - mean_absolute_error: 0.0140 - mean_squared_error: 0.0017 - val_loss: 0.0133 - val_root_mean_squared_error: 0.0196 - val_mean_absolute_error: 0.0133 - val_mean_squared_error: 3.8581e-04\n",
      "Epoch 161/250\n",
      "145/145 [==============================] - 3s 22ms/step - loss: 0.0139 - root_mean_squared_error: 0.0410 - mean_absolute_error: 0.0139 - mean_squared_error: 0.0017 - val_loss: 0.0133 - val_root_mean_squared_error: 0.0196 - val_mean_absolute_error: 0.0133 - val_mean_squared_error: 3.8543e-04\n",
      "Epoch 162/250\n",
      "145/145 [==============================] - 3s 20ms/step - loss: 0.0139 - root_mean_squared_error: 0.0409 - mean_absolute_error: 0.0139 - mean_squared_error: 0.0017 - val_loss: 0.0132 - val_root_mean_squared_error: 0.0195 - val_mean_absolute_error: 0.0132 - val_mean_squared_error: 3.8098e-04\n"
     ]
    },
    {
     "name": "stdout",
     "output_type": "stream",
     "text": [
      "Epoch 163/250\n",
      "145/145 [==============================] - 3s 22ms/step - loss: 0.0139 - root_mean_squared_error: 0.0409 - mean_absolute_error: 0.0139 - mean_squared_error: 0.0017 - val_loss: 0.0131 - val_root_mean_squared_error: 0.0195 - val_mean_absolute_error: 0.0131 - val_mean_squared_error: 3.7849e-04\n",
      "Epoch 164/250\n",
      "145/145 [==============================] - 3s 21ms/step - loss: 0.0138 - root_mean_squared_error: 0.0409 - mean_absolute_error: 0.0138 - mean_squared_error: 0.0017 - val_loss: 0.0131 - val_root_mean_squared_error: 0.0194 - val_mean_absolute_error: 0.0131 - val_mean_squared_error: 3.7592e-04\n",
      "Epoch 165/250\n",
      "145/145 [==============================] - 3s 21ms/step - loss: 0.0138 - root_mean_squared_error: 0.0408 - mean_absolute_error: 0.0138 - mean_squared_error: 0.0017 - val_loss: 0.0130 - val_root_mean_squared_error: 0.0193 - val_mean_absolute_error: 0.0130 - val_mean_squared_error: 3.7352e-04\n",
      "Epoch 166/250\n",
      "145/145 [==============================] - 3s 23ms/step - loss: 0.0137 - root_mean_squared_error: 0.0408 - mean_absolute_error: 0.0137 - mean_squared_error: 0.0017 - val_loss: 0.0128 - val_root_mean_squared_error: 0.0192 - val_mean_absolute_error: 0.0128 - val_mean_squared_error: 3.6844e-04\n",
      "Epoch 167/250\n",
      "145/145 [==============================] - 3s 22ms/step - loss: 0.0137 - root_mean_squared_error: 0.0408 - mean_absolute_error: 0.0137 - mean_squared_error: 0.0017 - val_loss: 0.0128 - val_root_mean_squared_error: 0.0192 - val_mean_absolute_error: 0.0128 - val_mean_squared_error: 3.6836e-04\n",
      "Epoch 168/250\n",
      "145/145 [==============================] - 3s 21ms/step - loss: 0.0137 - root_mean_squared_error: 0.0408 - mean_absolute_error: 0.0137 - mean_squared_error: 0.0017 - val_loss: 0.0127 - val_root_mean_squared_error: 0.0191 - val_mean_absolute_error: 0.0127 - val_mean_squared_error: 3.6520e-04\n",
      "Epoch 169/250\n",
      "145/145 [==============================] - 3s 20ms/step - loss: 0.0136 - root_mean_squared_error: 0.0408 - mean_absolute_error: 0.0136 - mean_squared_error: 0.0017 - val_loss: 0.0127 - val_root_mean_squared_error: 0.0190 - val_mean_absolute_error: 0.0127 - val_mean_squared_error: 3.6289e-04\n",
      "Epoch 170/250\n",
      "145/145 [==============================] - 3s 21ms/step - loss: 0.0136 - root_mean_squared_error: 0.0407 - mean_absolute_error: 0.0136 - mean_squared_error: 0.0017 - val_loss: 0.0126 - val_root_mean_squared_error: 0.0190 - val_mean_absolute_error: 0.0126 - val_mean_squared_error: 3.6014e-04\n",
      "Epoch 171/250\n",
      "145/145 [==============================] - 3s 20ms/step - loss: 0.0135 - root_mean_squared_error: 0.0407 - mean_absolute_error: 0.0135 - mean_squared_error: 0.0017 - val_loss: 0.0125 - val_root_mean_squared_error: 0.0189 - val_mean_absolute_error: 0.0125 - val_mean_squared_error: 3.5710e-04\n",
      "Epoch 172/250\n",
      "145/145 [==============================] - 3s 21ms/step - loss: 0.0135 - root_mean_squared_error: 0.0407 - mean_absolute_error: 0.0135 - mean_squared_error: 0.0017 - val_loss: 0.0125 - val_root_mean_squared_error: 0.0189 - val_mean_absolute_error: 0.0125 - val_mean_squared_error: 3.5621e-04\n",
      "Epoch 173/250\n",
      "145/145 [==============================] - 3s 20ms/step - loss: 0.0134 - root_mean_squared_error: 0.0407 - mean_absolute_error: 0.0134 - mean_squared_error: 0.0017 - val_loss: 0.0123 - val_root_mean_squared_error: 0.0187 - val_mean_absolute_error: 0.0123 - val_mean_squared_error: 3.5118e-04\n",
      "Epoch 174/250\n",
      "145/145 [==============================] - 3s 20ms/step - loss: 0.0134 - root_mean_squared_error: 0.0407 - mean_absolute_error: 0.0134 - mean_squared_error: 0.0017 - val_loss: 0.0123 - val_root_mean_squared_error: 0.0187 - val_mean_absolute_error: 0.0123 - val_mean_squared_error: 3.4980e-04\n",
      "Epoch 175/250\n",
      "145/145 [==============================] - 3s 21ms/step - loss: 0.0134 - root_mean_squared_error: 0.0406 - mean_absolute_error: 0.0134 - mean_squared_error: 0.0017 - val_loss: 0.0123 - val_root_mean_squared_error: 0.0187 - val_mean_absolute_error: 0.0123 - val_mean_squared_error: 3.4923e-04\n",
      "Epoch 176/250\n",
      "145/145 [==============================] - 3s 20ms/step - loss: 0.0133 - root_mean_squared_error: 0.0406 - mean_absolute_error: 0.0133 - mean_squared_error: 0.0016 - val_loss: 0.0121 - val_root_mean_squared_error: 0.0185 - val_mean_absolute_error: 0.0121 - val_mean_squared_error: 3.4386e-04\n",
      "Epoch 177/250\n",
      "145/145 [==============================] - 3s 21ms/step - loss: 0.0133 - root_mean_squared_error: 0.0406 - mean_absolute_error: 0.0133 - mean_squared_error: 0.0016 - val_loss: 0.0121 - val_root_mean_squared_error: 0.0186 - val_mean_absolute_error: 0.0121 - val_mean_squared_error: 3.4431e-04\n",
      "Epoch 178/250\n",
      "145/145 [==============================] - 3s 21ms/step - loss: 0.0132 - root_mean_squared_error: 0.0405 - mean_absolute_error: 0.0132 - mean_squared_error: 0.0016 - val_loss: 0.0120 - val_root_mean_squared_error: 0.0185 - val_mean_absolute_error: 0.0120 - val_mean_squared_error: 3.4105e-04\n",
      "Epoch 179/250\n",
      "145/145 [==============================] - 3s 20ms/step - loss: 0.0132 - root_mean_squared_error: 0.0405 - mean_absolute_error: 0.0132 - mean_squared_error: 0.0016 - val_loss: 0.0119 - val_root_mean_squared_error: 0.0184 - val_mean_absolute_error: 0.0119 - val_mean_squared_error: 3.3921e-04\n",
      "Epoch 180/250\n",
      "145/145 [==============================] - 3s 22ms/step - loss: 0.0131 - root_mean_squared_error: 0.0405 - mean_absolute_error: 0.0131 - mean_squared_error: 0.0016 - val_loss: 0.0119 - val_root_mean_squared_error: 0.0184 - val_mean_absolute_error: 0.0119 - val_mean_squared_error: 3.3742e-04\n",
      "Epoch 181/250\n",
      "145/145 [==============================] - 3s 21ms/step - loss: 0.0131 - root_mean_squared_error: 0.0405 - mean_absolute_error: 0.0131 - mean_squared_error: 0.0016 - val_loss: 0.0118 - val_root_mean_squared_error: 0.0183 - val_mean_absolute_error: 0.0118 - val_mean_squared_error: 3.3489e-04\n",
      "Epoch 182/250\n",
      "145/145 [==============================] - 3s 20ms/step - loss: 0.0130 - root_mean_squared_error: 0.0404 - mean_absolute_error: 0.0130 - mean_squared_error: 0.0016 - val_loss: 0.0117 - val_root_mean_squared_error: 0.0182 - val_mean_absolute_error: 0.0117 - val_mean_squared_error: 3.3248e-04\n",
      "Epoch 183/250\n",
      "145/145 [==============================] - 3s 20ms/step - loss: 0.0130 - root_mean_squared_error: 0.0404 - mean_absolute_error: 0.0130 - mean_squared_error: 0.0016 - val_loss: 0.0117 - val_root_mean_squared_error: 0.0182 - val_mean_absolute_error: 0.0117 - val_mean_squared_error: 3.3010e-04\n",
      "Epoch 184/250\n",
      "145/145 [==============================] - 3s 22ms/step - loss: 0.0130 - root_mean_squared_error: 0.0404 - mean_absolute_error: 0.0130 - mean_squared_error: 0.0016 - val_loss: 0.0116 - val_root_mean_squared_error: 0.0181 - val_mean_absolute_error: 0.0116 - val_mean_squared_error: 3.2778e-04\n",
      "Epoch 185/250\n",
      "145/145 [==============================] - 3s 22ms/step - loss: 0.0129 - root_mean_squared_error: 0.0404 - mean_absolute_error: 0.0129 - mean_squared_error: 0.0016 - val_loss: 0.0115 - val_root_mean_squared_error: 0.0180 - val_mean_absolute_error: 0.0115 - val_mean_squared_error: 3.2379e-04\n",
      "Epoch 186/250\n",
      "145/145 [==============================] - 3s 20ms/step - loss: 0.0129 - root_mean_squared_error: 0.0404 - mean_absolute_error: 0.0129 - mean_squared_error: 0.0016 - val_loss: 0.0114 - val_root_mean_squared_error: 0.0180 - val_mean_absolute_error: 0.0114 - val_mean_squared_error: 3.2237e-04\n",
      "Epoch 187/250\n",
      "145/145 [==============================] - 3s 20ms/step - loss: 0.0129 - root_mean_squared_error: 0.0403 - mean_absolute_error: 0.0129 - mean_squared_error: 0.0016 - val_loss: 0.0114 - val_root_mean_squared_error: 0.0179 - val_mean_absolute_error: 0.0114 - val_mean_squared_error: 3.2095e-04\n",
      "Epoch 188/250\n",
      "145/145 [==============================] - 3s 20ms/step - loss: 0.0128 - root_mean_squared_error: 0.0403 - mean_absolute_error: 0.0128 - mean_squared_error: 0.0016 - val_loss: 0.0113 - val_root_mean_squared_error: 0.0178 - val_mean_absolute_error: 0.0113 - val_mean_squared_error: 3.1774e-04\n",
      "Epoch 189/250\n",
      "145/145 [==============================] - 3s 20ms/step - loss: 0.0128 - root_mean_squared_error: 0.0403 - mean_absolute_error: 0.0128 - mean_squared_error: 0.0016 - val_loss: 0.0113 - val_root_mean_squared_error: 0.0178 - val_mean_absolute_error: 0.0113 - val_mean_squared_error: 3.1702e-04\n"
     ]
    },
    {
     "name": "stdout",
     "output_type": "stream",
     "text": [
      "Epoch 190/250\n",
      "145/145 [==============================] - 3s 20ms/step - loss: 0.0127 - root_mean_squared_error: 0.0403 - mean_absolute_error: 0.0127 - mean_squared_error: 0.0016 - val_loss: 0.0111 - val_root_mean_squared_error: 0.0177 - val_mean_absolute_error: 0.0111 - val_mean_squared_error: 3.1377e-04\n",
      "Epoch 191/250\n",
      "145/145 [==============================] - 3s 23ms/step - loss: 0.0127 - root_mean_squared_error: 0.0403 - mean_absolute_error: 0.0127 - mean_squared_error: 0.0016 - val_loss: 0.0111 - val_root_mean_squared_error: 0.0177 - val_mean_absolute_error: 0.0111 - val_mean_squared_error: 3.1255e-04\n",
      "Epoch 192/250\n",
      "145/145 [==============================] - 3s 23ms/step - loss: 0.0127 - root_mean_squared_error: 0.0402 - mean_absolute_error: 0.0127 - mean_squared_error: 0.0016 - val_loss: 0.0111 - val_root_mean_squared_error: 0.0176 - val_mean_absolute_error: 0.0111 - val_mean_squared_error: 3.1122e-04\n",
      "Epoch 193/250\n",
      "145/145 [==============================] - 3s 23ms/step - loss: 0.0126 - root_mean_squared_error: 0.0402 - mean_absolute_error: 0.0126 - mean_squared_error: 0.0016 - val_loss: 0.0110 - val_root_mean_squared_error: 0.0175 - val_mean_absolute_error: 0.0110 - val_mean_squared_error: 3.0790e-04\n",
      "Epoch 194/250\n",
      "145/145 [==============================] - 3s 21ms/step - loss: 0.0126 - root_mean_squared_error: 0.0402 - mean_absolute_error: 0.0126 - mean_squared_error: 0.0016 - val_loss: 0.0109 - val_root_mean_squared_error: 0.0175 - val_mean_absolute_error: 0.0109 - val_mean_squared_error: 3.0725e-04\n",
      "Epoch 195/250\n",
      "145/145 [==============================] - 3s 20ms/step - loss: 0.0125 - root_mean_squared_error: 0.0402 - mean_absolute_error: 0.0125 - mean_squared_error: 0.0016 - val_loss: 0.0109 - val_root_mean_squared_error: 0.0175 - val_mean_absolute_error: 0.0109 - val_mean_squared_error: 3.0561e-04\n",
      "Epoch 196/250\n",
      "145/145 [==============================] - 3s 20ms/step - loss: 0.0125 - root_mean_squared_error: 0.0401 - mean_absolute_error: 0.0125 - mean_squared_error: 0.0016 - val_loss: 0.0109 - val_root_mean_squared_error: 0.0174 - val_mean_absolute_error: 0.0109 - val_mean_squared_error: 3.0430e-04\n",
      "Epoch 197/250\n",
      "145/145 [==============================] - 3s 19ms/step - loss: 0.0125 - root_mean_squared_error: 0.0401 - mean_absolute_error: 0.0125 - mean_squared_error: 0.0016 - val_loss: 0.0107 - val_root_mean_squared_error: 0.0173 - val_mean_absolute_error: 0.0107 - val_mean_squared_error: 3.0095e-04\n",
      "Epoch 198/250\n",
      "145/145 [==============================] - 3s 20ms/step - loss: 0.0124 - root_mean_squared_error: 0.0401 - mean_absolute_error: 0.0124 - mean_squared_error: 0.0016 - val_loss: 0.0107 - val_root_mean_squared_error: 0.0173 - val_mean_absolute_error: 0.0107 - val_mean_squared_error: 3.0027e-04\n",
      "Epoch 199/250\n",
      "145/145 [==============================] - 3s 20ms/step - loss: 0.0124 - root_mean_squared_error: 0.0401 - mean_absolute_error: 0.0124 - mean_squared_error: 0.0016 - val_loss: 0.0106 - val_root_mean_squared_error: 0.0173 - val_mean_absolute_error: 0.0106 - val_mean_squared_error: 2.9759e-04\n",
      "Epoch 200/250\n",
      "145/145 [==============================] - 3s 20ms/step - loss: 0.0124 - root_mean_squared_error: 0.0401 - mean_absolute_error: 0.0124 - mean_squared_error: 0.0016 - val_loss: 0.0106 - val_root_mean_squared_error: 0.0172 - val_mean_absolute_error: 0.0106 - val_mean_squared_error: 2.9659e-04\n",
      "Epoch 201/250\n",
      "145/145 [==============================] - 3s 20ms/step - loss: 0.0123 - root_mean_squared_error: 0.0400 - mean_absolute_error: 0.0123 - mean_squared_error: 0.0016 - val_loss: 0.0105 - val_root_mean_squared_error: 0.0171 - val_mean_absolute_error: 0.0105 - val_mean_squared_error: 2.9355e-04\n",
      "Epoch 202/250\n",
      "145/145 [==============================] - 3s 20ms/step - loss: 0.0123 - root_mean_squared_error: 0.0400 - mean_absolute_error: 0.0123 - mean_squared_error: 0.0016 - val_loss: 0.0105 - val_root_mean_squared_error: 0.0171 - val_mean_absolute_error: 0.0105 - val_mean_squared_error: 2.9289e-04\n",
      "Epoch 203/250\n",
      "145/145 [==============================] - 3s 20ms/step - loss: 0.0123 - root_mean_squared_error: 0.0400 - mean_absolute_error: 0.0123 - mean_squared_error: 0.0016 - val_loss: 0.0104 - val_root_mean_squared_error: 0.0170 - val_mean_absolute_error: 0.0104 - val_mean_squared_error: 2.8992e-04\n",
      "Epoch 204/250\n",
      "145/145 [==============================] - 3s 20ms/step - loss: 0.0122 - root_mean_squared_error: 0.0400 - mean_absolute_error: 0.0122 - mean_squared_error: 0.0016 - val_loss: 0.0104 - val_root_mean_squared_error: 0.0170 - val_mean_absolute_error: 0.0104 - val_mean_squared_error: 2.8935e-04\n",
      "Epoch 205/250\n",
      "145/145 [==============================] - 3s 20ms/step - loss: 0.0122 - root_mean_squared_error: 0.0400 - mean_absolute_error: 0.0122 - mean_squared_error: 0.0016 - val_loss: 0.0102 - val_root_mean_squared_error: 0.0169 - val_mean_absolute_error: 0.0102 - val_mean_squared_error: 2.8594e-04\n",
      "Epoch 206/250\n",
      "145/145 [==============================] - 3s 20ms/step - loss: 0.0122 - root_mean_squared_error: 0.0399 - mean_absolute_error: 0.0122 - mean_squared_error: 0.0016 - val_loss: 0.0102 - val_root_mean_squared_error: 0.0169 - val_mean_absolute_error: 0.0102 - val_mean_squared_error: 2.8543e-04\n",
      "Epoch 207/250\n",
      "145/145 [==============================] - 3s 20ms/step - loss: 0.0121 - root_mean_squared_error: 0.0399 - mean_absolute_error: 0.0121 - mean_squared_error: 0.0016 - val_loss: 0.0101 - val_root_mean_squared_error: 0.0168 - val_mean_absolute_error: 0.0101 - val_mean_squared_error: 2.8241e-04\n",
      "Epoch 208/250\n",
      "145/145 [==============================] - 3s 20ms/step - loss: 0.0121 - root_mean_squared_error: 0.0399 - mean_absolute_error: 0.0121 - mean_squared_error: 0.0016 - val_loss: 0.0101 - val_root_mean_squared_error: 0.0168 - val_mean_absolute_error: 0.0101 - val_mean_squared_error: 2.8197e-04\n",
      "Epoch 209/250\n",
      "145/145 [==============================] - 3s 20ms/step - loss: 0.0120 - root_mean_squared_error: 0.0399 - mean_absolute_error: 0.0120 - mean_squared_error: 0.0016 - val_loss: 0.0101 - val_root_mean_squared_error: 0.0168 - val_mean_absolute_error: 0.0101 - val_mean_squared_error: 2.8065e-04\n",
      "Epoch 210/250\n",
      "145/145 [==============================] - 3s 20ms/step - loss: 0.0120 - root_mean_squared_error: 0.0398 - mean_absolute_error: 0.0120 - mean_squared_error: 0.0016 - val_loss: 0.0100 - val_root_mean_squared_error: 0.0167 - val_mean_absolute_error: 0.0100 - val_mean_squared_error: 2.7773e-04\n",
      "Epoch 211/250\n",
      "145/145 [==============================] - 3s 20ms/step - loss: 0.0120 - root_mean_squared_error: 0.0398 - mean_absolute_error: 0.0120 - mean_squared_error: 0.0016 - val_loss: 0.0100 - val_root_mean_squared_error: 0.0167 - val_mean_absolute_error: 0.0100 - val_mean_squared_error: 2.7730e-04\n",
      "Epoch 212/250\n",
      "145/145 [==============================] - 3s 20ms/step - loss: 0.0119 - root_mean_squared_error: 0.0398 - mean_absolute_error: 0.0119 - mean_squared_error: 0.0016 - val_loss: 0.0099 - val_root_mean_squared_error: 0.0166 - val_mean_absolute_error: 0.0099 - val_mean_squared_error: 2.7457e-04\n",
      "Epoch 213/250\n",
      "145/145 [==============================] - 3s 20ms/step - loss: 0.0119 - root_mean_squared_error: 0.0398 - mean_absolute_error: 0.0119 - mean_squared_error: 0.0016 - val_loss: 0.0098 - val_root_mean_squared_error: 0.0165 - val_mean_absolute_error: 0.0098 - val_mean_squared_error: 2.7360e-04\n",
      "Epoch 214/250\n",
      "145/145 [==============================] - 3s 20ms/step - loss: 0.0119 - root_mean_squared_error: 0.0398 - mean_absolute_error: 0.0119 - mean_squared_error: 0.0016 - val_loss: 0.0098 - val_root_mean_squared_error: 0.0165 - val_mean_absolute_error: 0.0098 - val_mean_squared_error: 2.7123e-04\n",
      "Epoch 215/250\n",
      "145/145 [==============================] - 3s 20ms/step - loss: 0.0119 - root_mean_squared_error: 0.0398 - mean_absolute_error: 0.0119 - mean_squared_error: 0.0016 - val_loss: 0.0097 - val_root_mean_squared_error: 0.0164 - val_mean_absolute_error: 0.0097 - val_mean_squared_error: 2.7035e-04\n",
      "Epoch 216/250\n",
      "145/145 [==============================] - 3s 20ms/step - loss: 0.0118 - root_mean_squared_error: 0.0397 - mean_absolute_error: 0.0118 - mean_squared_error: 0.0016 - val_loss: 0.0097 - val_root_mean_squared_error: 0.0164 - val_mean_absolute_error: 0.0097 - val_mean_squared_error: 2.6808e-04\n"
     ]
    },
    {
     "name": "stdout",
     "output_type": "stream",
     "text": [
      "Epoch 217/250\n",
      "145/145 [==============================] - 3s 20ms/step - loss: 0.0118 - root_mean_squared_error: 0.0397 - mean_absolute_error: 0.0118 - mean_squared_error: 0.0016 - val_loss: 0.0096 - val_root_mean_squared_error: 0.0163 - val_mean_absolute_error: 0.0096 - val_mean_squared_error: 2.6714e-04\n",
      "Epoch 218/250\n",
      "145/145 [==============================] - 3s 21ms/step - loss: 0.0118 - root_mean_squared_error: 0.0397 - mean_absolute_error: 0.0118 - mean_squared_error: 0.0016 - val_loss: 0.0095 - val_root_mean_squared_error: 0.0163 - val_mean_absolute_error: 0.0095 - val_mean_squared_error: 2.6468e-04\n",
      "Epoch 219/250\n",
      "145/145 [==============================] - 3s 22ms/step - loss: 0.0118 - root_mean_squared_error: 0.0397 - mean_absolute_error: 0.0118 - mean_squared_error: 0.0016 - val_loss: 0.0095 - val_root_mean_squared_error: 0.0162 - val_mean_absolute_error: 0.0095 - val_mean_squared_error: 2.6296e-04\n",
      "Epoch 220/250\n",
      "145/145 [==============================] - 3s 20ms/step - loss: 0.0117 - root_mean_squared_error: 0.0397 - mean_absolute_error: 0.0117 - mean_squared_error: 0.0016 - val_loss: 0.0095 - val_root_mean_squared_error: 0.0162 - val_mean_absolute_error: 0.0095 - val_mean_squared_error: 2.6248e-04\n",
      "Epoch 221/250\n",
      "145/145 [==============================] - 3s 21ms/step - loss: 0.0117 - root_mean_squared_error: 0.0397 - mean_absolute_error: 0.0117 - mean_squared_error: 0.0016 - val_loss: 0.0094 - val_root_mean_squared_error: 0.0161 - val_mean_absolute_error: 0.0094 - val_mean_squared_error: 2.6011e-04\n",
      "Epoch 222/250\n",
      "145/145 [==============================] - 3s 22ms/step - loss: 0.0117 - root_mean_squared_error: 0.0396 - mean_absolute_error: 0.0117 - mean_squared_error: 0.0016 - val_loss: 0.0094 - val_root_mean_squared_error: 0.0161 - val_mean_absolute_error: 0.0094 - val_mean_squared_error: 2.5969e-04\n",
      "Epoch 223/250\n",
      "145/145 [==============================] - 3s 21ms/step - loss: 0.0116 - root_mean_squared_error: 0.0396 - mean_absolute_error: 0.0116 - mean_squared_error: 0.0016 - val_loss: 0.0093 - val_root_mean_squared_error: 0.0160 - val_mean_absolute_error: 0.0093 - val_mean_squared_error: 2.5754e-04\n",
      "Epoch 224/250\n",
      "145/145 [==============================] - 3s 20ms/step - loss: 0.0116 - root_mean_squared_error: 0.0396 - mean_absolute_error: 0.0116 - mean_squared_error: 0.0016 - val_loss: 0.0092 - val_root_mean_squared_error: 0.0160 - val_mean_absolute_error: 0.0092 - val_mean_squared_error: 2.5577e-04\n",
      "Epoch 225/250\n",
      "145/145 [==============================] - 3s 20ms/step - loss: 0.0116 - root_mean_squared_error: 0.0396 - mean_absolute_error: 0.0116 - mean_squared_error: 0.0016 - val_loss: 0.0092 - val_root_mean_squared_error: 0.0160 - val_mean_absolute_error: 0.0092 - val_mean_squared_error: 2.5446e-04\n",
      "Epoch 226/250\n",
      "145/145 [==============================] - 3s 21ms/step - loss: 0.0115 - root_mean_squared_error: 0.0396 - mean_absolute_error: 0.0115 - mean_squared_error: 0.0016 - val_loss: 0.0092 - val_root_mean_squared_error: 0.0159 - val_mean_absolute_error: 0.0092 - val_mean_squared_error: 2.5387e-04\n",
      "Epoch 227/250\n",
      "145/145 [==============================] - 3s 22ms/step - loss: 0.0115 - root_mean_squared_error: 0.0395 - mean_absolute_error: 0.0115 - mean_squared_error: 0.0016 - val_loss: 0.0091 - val_root_mean_squared_error: 0.0159 - val_mean_absolute_error: 0.0091 - val_mean_squared_error: 2.5210e-04\n",
      "Epoch 228/250\n",
      "145/145 [==============================] - 3s 22ms/step - loss: 0.0115 - root_mean_squared_error: 0.0395 - mean_absolute_error: 0.0115 - mean_squared_error: 0.0016 - val_loss: 0.0091 - val_root_mean_squared_error: 0.0158 - val_mean_absolute_error: 0.0091 - val_mean_squared_error: 2.5041e-04\n",
      "Epoch 229/250\n",
      "145/145 [==============================] - 3s 20ms/step - loss: 0.0115 - root_mean_squared_error: 0.0395 - mean_absolute_error: 0.0115 - mean_squared_error: 0.0016 - val_loss: 0.0091 - val_root_mean_squared_error: 0.0158 - val_mean_absolute_error: 0.0091 - val_mean_squared_error: 2.4985e-04\n",
      "Epoch 230/250\n",
      "145/145 [==============================] - 3s 21ms/step - loss: 0.0114 - root_mean_squared_error: 0.0395 - mean_absolute_error: 0.0114 - mean_squared_error: 0.0016 - val_loss: 0.0090 - val_root_mean_squared_error: 0.0157 - val_mean_absolute_error: 0.0090 - val_mean_squared_error: 2.4779e-04\n",
      "Epoch 231/250\n",
      "145/145 [==============================] - 3s 22ms/step - loss: 0.0114 - root_mean_squared_error: 0.0395 - mean_absolute_error: 0.0114 - mean_squared_error: 0.0016 - val_loss: 0.0089 - val_root_mean_squared_error: 0.0157 - val_mean_absolute_error: 0.0089 - val_mean_squared_error: 2.4662e-04\n",
      "Epoch 232/250\n",
      "145/145 [==============================] - 3s 20ms/step - loss: 0.0114 - root_mean_squared_error: 0.0395 - mean_absolute_error: 0.0114 - mean_squared_error: 0.0016 - val_loss: 0.0089 - val_root_mean_squared_error: 0.0157 - val_mean_absolute_error: 0.0089 - val_mean_squared_error: 2.4548e-04\n",
      "Epoch 233/250\n",
      "145/145 [==============================] - 3s 20ms/step - loss: 0.0113 - root_mean_squared_error: 0.0394 - mean_absolute_error: 0.0113 - mean_squared_error: 0.0016 - val_loss: 0.0089 - val_root_mean_squared_error: 0.0156 - val_mean_absolute_error: 0.0089 - val_mean_squared_error: 2.4438e-04\n",
      "Epoch 234/250\n",
      "145/145 [==============================] - 3s 21ms/step - loss: 0.0113 - root_mean_squared_error: 0.0394 - mean_absolute_error: 0.0113 - mean_squared_error: 0.0016 - val_loss: 0.0089 - val_root_mean_squared_error: 0.0156 - val_mean_absolute_error: 0.0089 - val_mean_squared_error: 2.4385e-04\n",
      "Epoch 235/250\n",
      "145/145 [==============================] - 3s 20ms/step - loss: 0.0113 - root_mean_squared_error: 0.0394 - mean_absolute_error: 0.0113 - mean_squared_error: 0.0016 - val_loss: 0.0088 - val_root_mean_squared_error: 0.0156 - val_mean_absolute_error: 0.0088 - val_mean_squared_error: 2.4271e-04\n",
      "Epoch 236/250\n",
      "145/145 [==============================] - 3s 20ms/step - loss: 0.0113 - root_mean_squared_error: 0.0394 - mean_absolute_error: 0.0113 - mean_squared_error: 0.0016 - val_loss: 0.0088 - val_root_mean_squared_error: 0.0155 - val_mean_absolute_error: 0.0088 - val_mean_squared_error: 2.4131e-04\n",
      "Epoch 237/250\n",
      "145/145 [==============================] - 3s 20ms/step - loss: 0.0112 - root_mean_squared_error: 0.0394 - mean_absolute_error: 0.0112 - mean_squared_error: 0.0016 - val_loss: 0.0087 - val_root_mean_squared_error: 0.0155 - val_mean_absolute_error: 0.0087 - val_mean_squared_error: 2.3986e-04\n",
      "Epoch 238/250\n",
      "145/145 [==============================] - 3s 20ms/step - loss: 0.0112 - root_mean_squared_error: 0.0394 - mean_absolute_error: 0.0112 - mean_squared_error: 0.0015 - val_loss: 0.0087 - val_root_mean_squared_error: 0.0154 - val_mean_absolute_error: 0.0087 - val_mean_squared_error: 2.3843e-04\n",
      "Epoch 239/250\n",
      "145/145 [==============================] - 3s 22ms/step - loss: 0.0112 - root_mean_squared_error: 0.0393 - mean_absolute_error: 0.0112 - mean_squared_error: 0.0015 - val_loss: 0.0086 - val_root_mean_squared_error: 0.0154 - val_mean_absolute_error: 0.0086 - val_mean_squared_error: 2.3743e-04\n",
      "Epoch 240/250\n",
      "145/145 [==============================] - 3s 23ms/step - loss: 0.0111 - root_mean_squared_error: 0.0393 - mean_absolute_error: 0.0111 - mean_squared_error: 0.0015 - val_loss: 0.0086 - val_root_mean_squared_error: 0.0154 - val_mean_absolute_error: 0.0086 - val_mean_squared_error: 2.3643e-04\n",
      "Epoch 241/250\n",
      "145/145 [==============================] - 3s 21ms/step - loss: 0.0111 - root_mean_squared_error: 0.0393 - mean_absolute_error: 0.0111 - mean_squared_error: 0.0015 - val_loss: 0.0086 - val_root_mean_squared_error: 0.0153 - val_mean_absolute_error: 0.0086 - val_mean_squared_error: 2.3544e-04\n",
      "Epoch 242/250\n",
      "145/145 [==============================] - 3s 21ms/step - loss: 0.0111 - root_mean_squared_error: 0.0393 - mean_absolute_error: 0.0111 - mean_squared_error: 0.0015 - val_loss: 0.0086 - val_root_mean_squared_error: 0.0153 - val_mean_absolute_error: 0.0086 - val_mean_squared_error: 2.3463e-04\n",
      "Epoch 243/250\n",
      "145/145 [==============================] - 3s 20ms/step - loss: 0.0111 - root_mean_squared_error: 0.0393 - mean_absolute_error: 0.0111 - mean_squared_error: 0.0015 - val_loss: 0.0085 - val_root_mean_squared_error: 0.0153 - val_mean_absolute_error: 0.0085 - val_mean_squared_error: 2.3352e-04\n"
     ]
    },
    {
     "name": "stdout",
     "output_type": "stream",
     "text": [
      "Epoch 244/250\n",
      "145/145 [==============================] - 3s 21ms/step - loss: 0.0111 - root_mean_squared_error: 0.0392 - mean_absolute_error: 0.0111 - mean_squared_error: 0.0015 - val_loss: 0.0085 - val_root_mean_squared_error: 0.0152 - val_mean_absolute_error: 0.0085 - val_mean_squared_error: 2.3200e-04\n",
      "Epoch 245/250\n",
      "145/145 [==============================] - 3s 22ms/step - loss: 0.0110 - root_mean_squared_error: 0.0392 - mean_absolute_error: 0.0110 - mean_squared_error: 0.0015 - val_loss: 0.0085 - val_root_mean_squared_error: 0.0152 - val_mean_absolute_error: 0.0085 - val_mean_squared_error: 2.3158e-04\n",
      "Epoch 246/250\n",
      "145/145 [==============================] - 3s 22ms/step - loss: 0.0110 - root_mean_squared_error: 0.0392 - mean_absolute_error: 0.0110 - mean_squared_error: 0.0015 - val_loss: 0.0084 - val_root_mean_squared_error: 0.0152 - val_mean_absolute_error: 0.0084 - val_mean_squared_error: 2.3087e-04\n",
      "Epoch 247/250\n",
      "145/145 [==============================] - 3s 21ms/step - loss: 0.0110 - root_mean_squared_error: 0.0392 - mean_absolute_error: 0.0110 - mean_squared_error: 0.0015 - val_loss: 0.0084 - val_root_mean_squared_error: 0.0152 - val_mean_absolute_error: 0.0084 - val_mean_squared_error: 2.2986e-04\n",
      "Epoch 248/250\n",
      "145/145 [==============================] - 3s 20ms/step - loss: 0.0110 - root_mean_squared_error: 0.0392 - mean_absolute_error: 0.0110 - mean_squared_error: 0.0015 - val_loss: 0.0083 - val_root_mean_squared_error: 0.0151 - val_mean_absolute_error: 0.0083 - val_mean_squared_error: 2.2831e-04\n",
      "Epoch 249/250\n",
      "145/145 [==============================] - 3s 20ms/step - loss: 0.0110 - root_mean_squared_error: 0.0392 - mean_absolute_error: 0.0110 - mean_squared_error: 0.0015 - val_loss: 0.0083 - val_root_mean_squared_error: 0.0151 - val_mean_absolute_error: 0.0083 - val_mean_squared_error: 2.2767e-04\n",
      "Epoch 250/250\n",
      "145/145 [==============================] - 3s 20ms/step - loss: 0.0109 - root_mean_squared_error: 0.0392 - mean_absolute_error: 0.0109 - mean_squared_error: 0.0015 - val_loss: 0.0083 - val_root_mean_squared_error: 0.0150 - val_mean_absolute_error: 0.0083 - val_mean_squared_error: 2.2613e-04\n"
     ]
    }
   ],
   "source": [
    "history = model.fit_generator(train_generator, epochs = 250, validation_data = test_generator,shuffle = False)           "
   ]
  },
  {
   "cell_type": "markdown",
   "id": "f37ddc1c",
   "metadata": {},
   "source": [
    "# Evaluate"
   ]
  },
  {
   "cell_type": "code",
   "execution_count": 22,
   "id": "ecba8b2e",
   "metadata": {},
   "outputs": [
    {
     "data": {
      "image/png": "[encoded data removed]",
      "text/plain": [
       "<Figure size 1080x504 with 3 Axes>"
      ]
     },
     "metadata": {
      "needs_background": "light"
     },
     "output_type": "display_data"
    }
   ],
   "source": [
    "fig, (ax1,ax2,ax3) = plt.subplots(3,1, sharex = True,figsize = (15,7))\n",
    "\n",
    "ax1.plot(history.history[\"val_mean_squared_error\"]);\n",
    "ax1.plot(history.history[\"mean_squared_error\"]);\n",
    "\n",
    "ax2.plot(history.history[\"val_root_mean_squared_error\"]);\n",
    "ax2.plot(history.history[\"root_mean_squared_error\"]);\n",
    "\n",
    "\n",
    "ax3.plot(history.history[\"val_mean_absolute_error\"]);\n",
    "ax3.plot(history.history[\"mean_absolute_error\"]);\n",
    "\n",
    "ax1.set_ylabel('MSE',Rotation =0, fontsize=20,labelpad=35)\n",
    "ax2.set_ylabel('RMSE',Rotation =0, fontsize=20,labelpad=35)\n",
    "ax3.set_ylabel('MAE',Rotation =0, fontsize=20,labelpad=35)\n",
    "\n",
    "ax3.set_xlabel('Epoch', fontsize=20)\n",
    "\n",
    "ax1.legend(['MSE Test','MSE Train'],loc='upper right')\n",
    "ax2.legend(['RMSE Test','RMSE Train'],loc='upper right')\n",
    "ax3.legend(['MAE Test','MAE Train'],loc='upper right')\n",
    "\n",
    "plt.show()\n"
   ]
  },
  {
   "cell_type": "code",
   "execution_count": 23,
   "id": "045dd28e",
   "metadata": {},
   "outputs": [
    {
     "name": "stdout",
     "output_type": "stream",
     "text": [
      "loss 0.01093 Train\n",
      "val_loss 0.00825 Test\n",
      "\n",
      "root_mean_squared_error 0.03916 Train\n",
      "val_root_mean_squared_error 0.01504 Test\n",
      "\n",
      "mean_absolute_error 0.01093 Train\n",
      "val_mean_absolute_error 0.00825 Test\n",
      "\n",
      "mean_squared_error 0.00153 Train\n",
      "val_mean_squared_error 0.00023 Test\n",
      "\n"
     ]
    }
   ],
   "source": [
    "for i in model.metrics_names:\n",
    "    print(i,round(history.history[i][-1],5),\"Train\")\n",
    "    print(\"val_\"+i,round(history.history[\"val_\"+i][-1],5),\"Test\\n\")"
   ]
  },
  {
   "cell_type": "markdown",
   "id": "35b23047",
   "metadata": {},
   "source": [
    "#### reverse the normilization\n",
    "#### add the predicted values to the original values\n",
    "and plot both"
   ]
  },
  {
   "cell_type": "markdown",
   "id": "fd464d4c",
   "metadata": {},
   "source": [
    "Make predictions from the testing generator and concatinate it to the original values"
   ]
  },
  {
   "cell_type": "code",
   "execution_count": 24,
   "id": "6a6d4e30",
   "metadata": {},
   "outputs": [
    {
     "data": {
      "text/plain": [
       "6231"
      ]
     },
     "execution_count": 24,
     "metadata": {},
     "output_type": "execute_result"
    }
   ],
   "source": [
    "predictions = model.predict_generator(test_generator)\n",
    "predictions.shape[0]"
   ]
  },
  {
   "cell_type": "code",
   "execution_count": 25,
   "id": "7e6f76b8",
   "metadata": {},
   "outputs": [],
   "source": [
    "df_pred = pd.concat([pd.DataFrame(predictions), pd.DataFrame(x_test[:,1:][days:])] , axis = 1)"
   ]
  },
  {
   "cell_type": "code",
   "execution_count": 26,
   "id": "a9cff442",
   "metadata": {},
   "outputs": [
    {
     "data": {
      "text/html": [
       "<div>\n",
       "<style scoped>\n",
       "    .dataframe tbody tr th:only-of-type {\n",
       "        vertical-align: middle;\n",
       "    }\n",
       "\n",
       "    .dataframe tbody tr th {\n",
       "        vertical-align: top;\n",
       "    }\n",
       "\n",
       "    .dataframe thead th {\n",
       "        text-align: right;\n",
       "    }\n",
       "</style>\n",
       "<table border=\"1\" class=\"dataframe\">\n",
       "  <thead>\n",
       "    <tr style=\"text-align: right;\">\n",
       "      <th></th>\n",
       "      <th>0</th>\n",
       "      <th>0</th>\n",
       "      <th>1</th>\n",
       "    </tr>\n",
       "  </thead>\n",
       "  <tbody>\n",
       "    <tr>\n",
       "      <th>0</th>\n",
       "      <td>0.031635</td>\n",
       "      <td>0.038303</td>\n",
       "      <td>0.101221</td>\n",
       "    </tr>\n",
       "    <tr>\n",
       "      <th>1</th>\n",
       "      <td>0.031769</td>\n",
       "      <td>0.040581</td>\n",
       "      <td>0.105262</td>\n",
       "    </tr>\n",
       "    <tr>\n",
       "      <th>2</th>\n",
       "      <td>0.032058</td>\n",
       "      <td>0.041403</td>\n",
       "      <td>0.106335</td>\n",
       "    </tr>\n",
       "    <tr>\n",
       "      <th>3</th>\n",
       "      <td>0.032224</td>\n",
       "      <td>0.040671</td>\n",
       "      <td>0.105969</td>\n",
       "    </tr>\n",
       "    <tr>\n",
       "      <th>4</th>\n",
       "      <td>0.032319</td>\n",
       "      <td>0.040780</td>\n",
       "      <td>0.105969</td>\n",
       "    </tr>\n",
       "    <tr>\n",
       "      <th>...</th>\n",
       "      <td>...</td>\n",
       "      <td>...</td>\n",
       "      <td>...</td>\n",
       "    </tr>\n",
       "    <tr>\n",
       "      <th>6226</th>\n",
       "      <td>0.943696</td>\n",
       "      <td>0.989128</td>\n",
       "      <td>0.991019</td>\n",
       "    </tr>\n",
       "    <tr>\n",
       "      <th>6227</th>\n",
       "      <td>0.944988</td>\n",
       "      <td>0.992691</td>\n",
       "      <td>0.994495</td>\n",
       "    </tr>\n",
       "    <tr>\n",
       "      <th>6228</th>\n",
       "      <td>0.946323</td>\n",
       "      <td>0.989349</td>\n",
       "      <td>0.988693</td>\n",
       "    </tr>\n",
       "    <tr>\n",
       "      <th>6229</th>\n",
       "      <td>0.946675</td>\n",
       "      <td>1.000000</td>\n",
       "      <td>1.000000</td>\n",
       "    </tr>\n",
       "    <tr>\n",
       "      <th>6230</th>\n",
       "      <td>0.946738</td>\n",
       "      <td>0.988982</td>\n",
       "      <td>0.988246</td>\n",
       "    </tr>\n",
       "  </tbody>\n",
       "</table>\n",
       "<p>6231 rows × 3 columns</p>\n",
       "</div>"
      ],
      "text/plain": [
       "             0         0         1\n",
       "0     0.031635  0.038303  0.101221\n",
       "1     0.031769  0.040581  0.105262\n",
       "2     0.032058  0.041403  0.106335\n",
       "3     0.032224  0.040671  0.105969\n",
       "4     0.032319  0.040780  0.105969\n",
       "...        ...       ...       ...\n",
       "6226  0.943696  0.989128  0.991019\n",
       "6227  0.944988  0.992691  0.994495\n",
       "6228  0.946323  0.989349  0.988693\n",
       "6229  0.946675  1.000000  1.000000\n",
       "6230  0.946738  0.988982  0.988246\n",
       "\n",
       "[6231 rows x 3 columns]"
      ]
     },
     "execution_count": 26,
     "metadata": {},
     "output_type": "execute_result"
    }
   ],
   "source": [
    "df_pred"
   ]
  },
  {
   "cell_type": "markdown",
   "id": "610a0fdf",
   "metadata": {},
   "source": [
    "reverse the normilization"
   ]
  },
  {
   "cell_type": "code",
   "execution_count": 27,
   "id": "90172d40",
   "metadata": {},
   "outputs": [],
   "source": [
    "rev_trans = scaler.inverse_transform(df_pred)"
   ]
  },
  {
   "cell_type": "code",
   "execution_count": 28,
   "id": "944540b3",
   "metadata": {},
   "outputs": [
    {
     "data": {
      "text/html": [
       "<div>\n",
       "<style scoped>\n",
       "    .dataframe tbody tr th:only-of-type {\n",
       "        vertical-align: middle;\n",
       "    }\n",
       "\n",
       "    .dataframe tbody tr th {\n",
       "        vertical-align: top;\n",
       "    }\n",
       "\n",
       "    .dataframe thead th {\n",
       "        text-align: right;\n",
       "    }\n",
       "</style>\n",
       "<table border=\"1\" class=\"dataframe\">\n",
       "  <thead>\n",
       "    <tr style=\"text-align: right;\">\n",
       "      <th></th>\n",
       "      <th>USD</th>\n",
       "      <th>EUR</th>\n",
       "      <th>GBP</th>\n",
       "    </tr>\n",
       "    <tr>\n",
       "      <th>Date</th>\n",
       "      <th></th>\n",
       "      <th></th>\n",
       "      <th></th>\n",
       "    </tr>\n",
       "  </thead>\n",
       "  <tbody>\n",
       "    <tr>\n",
       "      <th>2003-12-15 23:58:00</th>\n",
       "      <td>6.09730</td>\n",
       "      <td>7.505776</td>\n",
       "      <td>10.647105</td>\n",
       "    </tr>\n",
       "    <tr>\n",
       "      <th>2003-12-16 23:58:00</th>\n",
       "      <td>6.14170</td>\n",
       "      <td>7.567803</td>\n",
       "      <td>10.771313</td>\n",
       "    </tr>\n",
       "    <tr>\n",
       "      <th>2003-12-17 23:58:00</th>\n",
       "      <td>6.12210</td>\n",
       "      <td>7.590180</td>\n",
       "      <td>10.804282</td>\n",
       "    </tr>\n",
       "    <tr>\n",
       "      <th>2003-12-18 23:58:00</th>\n",
       "      <td>6.09570</td>\n",
       "      <td>7.570250</td>\n",
       "      <td>10.793046</td>\n",
       "    </tr>\n",
       "    <tr>\n",
       "      <th>2003-12-19 23:58:00</th>\n",
       "      <td>6.11780</td>\n",
       "      <td>7.573225</td>\n",
       "      <td>10.793023</td>\n",
       "    </tr>\n",
       "    <tr>\n",
       "      <th>...</th>\n",
       "      <td>...</td>\n",
       "      <td>...</td>\n",
       "      <td>...</td>\n",
       "    </tr>\n",
       "    <tr>\n",
       "      <th>2023-03-27 23:58:00</th>\n",
       "      <td>30.89910</td>\n",
       "      <td>33.394000</td>\n",
       "      <td>37.996090</td>\n",
       "    </tr>\n",
       "    <tr>\n",
       "      <th>2023-03-28 23:58:00</th>\n",
       "      <td>30.90850</td>\n",
       "      <td>33.491000</td>\n",
       "      <td>38.102930</td>\n",
       "    </tr>\n",
       "    <tr>\n",
       "      <th>2023-03-29 23:58:00</th>\n",
       "      <td>30.80190</td>\n",
       "      <td>33.400000</td>\n",
       "      <td>37.924590</td>\n",
       "    </tr>\n",
       "    <tr>\n",
       "      <th>2023-03-30 23:58:00</th>\n",
       "      <td>30.89440</td>\n",
       "      <td>33.690000</td>\n",
       "      <td>38.272130</td>\n",
       "    </tr>\n",
       "    <tr>\n",
       "      <th>2023-03-31 23:58:00</th>\n",
       "      <td>30.71051</td>\n",
       "      <td>33.390000</td>\n",
       "      <td>37.910870</td>\n",
       "    </tr>\n",
       "  </tbody>\n",
       "</table>\n",
       "<p>6231 rows × 3 columns</p>\n",
       "</div>"
      ],
      "text/plain": [
       "                          USD        EUR        GBP\n",
       "Date                                               \n",
       "2003-12-15 23:58:00   6.09730   7.505776  10.647105\n",
       "2003-12-16 23:58:00   6.14170   7.567803  10.771313\n",
       "2003-12-17 23:58:00   6.12210   7.590180  10.804282\n",
       "2003-12-18 23:58:00   6.09570   7.570250  10.793046\n",
       "2003-12-19 23:58:00   6.11780   7.573225  10.793023\n",
       "...                       ...        ...        ...\n",
       "2023-03-27 23:58:00  30.89910  33.394000  37.996090\n",
       "2023-03-28 23:58:00  30.90850  33.491000  38.102930\n",
       "2023-03-29 23:58:00  30.80190  33.400000  37.924590\n",
       "2023-03-30 23:58:00  30.89440  33.690000  38.272130\n",
       "2023-03-31 23:58:00  30.71051  33.390000  37.910870\n",
       "\n",
       "[6231 rows x 3 columns]"
      ]
     },
     "execution_count": 28,
     "metadata": {},
     "output_type": "execute_result"
    }
   ],
   "source": [
    "df_end = df[predictions.shape[0]*-1:]\n",
    "df_end"
   ]
  },
  {
   "cell_type": "code",
   "execution_count": 29,
   "id": "86ef7e5d",
   "metadata": {},
   "outputs": [],
   "source": [
    "df_end[\"USD-predict\"] = rev_trans[:,0]"
   ]
  },
  {
   "cell_type": "code",
   "execution_count": 30,
   "id": "4642e05a",
   "metadata": {},
   "outputs": [
    {
     "data": {
      "image/png": "[encoded data removed]",
      "text/plain": [
       "<Figure size 864x720 with 1 Axes>"
      ]
     },
     "metadata": {
      "needs_background": "light"
     },
     "output_type": "display_data"
    }
   ],
   "source": [
    "df_end[[\"USD\",\"USD-predict\"]].plot(figsize = (12,10));"
   ]
  },
  {
   "cell_type": "markdown",
   "id": "6e500da9",
   "metadata": {},
   "source": [
    "# Use the presaved model\n",
    "- trained on 250 epochs\n",
    "- as MAE as loss function"
   ]
  },
  {
   "cell_type": "code",
   "execution_count": 31,
   "id": "1eb93287",
   "metadata": {},
   "outputs": [
    {
     "name": "stderr",
     "output_type": "stream",
     "text": [
      "WARNING:absl:Found untraced functions such as _update_step_xla, lstm_cell_layer_call_fn, lstm_cell_layer_call_and_return_conditional_losses, lstm_cell_1_layer_call_fn, lstm_cell_1_layer_call_and_return_conditional_losses while saving (showing 5 of 7). These functions will not be directly callable after loading.\n"
     ]
    },
    {
     "name": "stdout",
     "output_type": "stream",
     "text": [
      "INFO:tensorflow:Assets written to: modelG\\assets\n"
     ]
    },
    {
     "name": "stderr",
     "output_type": "stream",
     "text": [
      "INFO:tensorflow:Assets written to: modelG\\assets\n"
     ]
    }
   ],
   "source": [
    "model.save(\"modelG\")"
   ]
  },
  {
   "cell_type": "code",
   "execution_count": 32,
   "id": "4b8b4b13",
   "metadata": {
    "scrolled": true
   },
   "outputs": [
    {
     "name": "stdout",
     "output_type": "stream",
     "text": [
      "Model: \"sequential\"\n",
      "_________________________________________________________________\n",
      " Layer (type)                Output Shape              Param #   \n",
      "=================================================================\n",
      " lstm (LSTM)                 (None, 10, 128)           67584     \n",
      "                                                                 \n",
      " lstm_1 (LSTM)               (None, 64)                49408     \n",
      "                                                                 \n",
      " dense (Dense)               (None, 16)                1040      \n",
      "                                                                 \n",
      " dense_1 (Dense)             (None, 1)                 17        \n",
      "                                                                 \n",
      "=================================================================\n",
      "Total params: 118,049\n",
      "Trainable params: 118,049\n",
      "Non-trainable params: 0\n",
      "_________________________________________________________________\n"
     ]
    }
   ],
   "source": [
    "model = keras.models.load_model('modelG')\n",
    "model.summary()"
   ]
  }
 ],
 "metadata": {
  "kernelspec": {
   "display_name": "Python 3 (ipykernel)",
   "language": "python",
   "name": "python3"
  },
  "language_info": {
   "codemirror_mode": {
    "name": "ipython",
    "version": 3
   },
   "file_extension": ".py",
   "mimetype": "text/x-python",
   "name": "python",
   "nbconvert_exporter": "python",
   "pygments_lexer": "ipython3",
   "version": "3.9.7"
  }
 },
 "nbformat": 4,
 "nbformat_minor": 5
}
