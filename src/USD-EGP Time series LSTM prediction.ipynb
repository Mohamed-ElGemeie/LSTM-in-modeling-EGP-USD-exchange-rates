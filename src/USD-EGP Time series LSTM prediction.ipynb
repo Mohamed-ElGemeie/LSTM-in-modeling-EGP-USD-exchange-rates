{
 "cells": [
  {
   "cell_type": "markdown",
   "id": "fb989dfa",
   "metadata": {},
   "source": [
    "# Imports"
   ]
  },
  {
   "cell_type": "code",
   "execution_count": 1,
   "id": "fc08ba22",
   "metadata": {},
   "outputs": [],
   "source": [
    "import pandas as pd \n",
    "import numpy as np\n",
    "import matplotlib.pyplot as plt\n",
    "from keras.preprocessing.sequence import TimeseriesGenerator\n",
    "from sklearn.preprocessing import MinMaxScaler\n",
    "import tensorflow as tf\n",
    "from tensorflow import keras\n",
    "import datetime\n",
    "import warnings \n",
    "\n",
    "warnings.filterwarnings('ignore')"
   ]
  },
  {
   "cell_type": "markdown",
   "id": "8463331e",
   "metadata": {},
   "source": [
    "# Data Preperation"
   ]
  },
  {
   "cell_type": "code",
   "execution_count": 2,
   "id": "73269fca",
   "metadata": {},
   "outputs": [],
   "source": [
    "df = pd.read_csv(\"../data/USD-EUR-GBP to EGP Time series Data clean.csv\",index_col='Date')\n",
    "df.index = pd.to_datetime(df.index)\n",
    "df[[\"USD\",\"EUR\",\"GBP\"]] =  df[[\"USD\",\"EUR\",\"GBP\"]].apply(pd.to_numeric)"
   ]
  },
  {
   "cell_type": "code",
   "execution_count": 3,
   "id": "de5e1787",
   "metadata": {},
   "outputs": [
    {
     "name": "stdout",
     "output_type": "stream",
     "text": [
      "<class 'pandas.core.frame.DataFrame'>\n",
      "DatetimeIndex: 6241 entries, 2003-12-01 23:58:00 to 2023-03-31 23:58:00\n",
      "Data columns (total 3 columns):\n",
      " #   Column  Non-Null Count  Dtype  \n",
      "---  ------  --------------  -----  \n",
      " 0   USD     6241 non-null   float64\n",
      " 1   EUR     6241 non-null   float64\n",
      " 2   GBP     6241 non-null   float64\n",
      "dtypes: float64(3)\n",
      "memory usage: 195.0 KB\n"
     ]
    }
   ],
   "source": [
    "df.info()"
   ]
  },
  {
   "cell_type": "code",
   "execution_count": 4,
   "id": "7a359313",
   "metadata": {},
   "outputs": [
    {
     "data": {
      "text/html": [
       "<div>\n",
       "<style scoped>\n",
       "    .dataframe tbody tr th:only-of-type {\n",
       "        vertical-align: middle;\n",
       "    }\n",
       "\n",
       "    .dataframe tbody tr th {\n",
       "        vertical-align: top;\n",
       "    }\n",
       "\n",
       "    .dataframe thead th {\n",
       "        text-align: right;\n",
       "    }\n",
       "</style>\n",
       "<table border=\"1\" class=\"dataframe\">\n",
       "  <thead>\n",
       "    <tr style=\"text-align: right;\">\n",
       "      <th></th>\n",
       "      <th>USD</th>\n",
       "      <th>EUR</th>\n",
       "      <th>GBP</th>\n",
       "    </tr>\n",
       "  </thead>\n",
       "  <tbody>\n",
       "    <tr>\n",
       "      <th>count</th>\n",
       "      <td>6241.000000</td>\n",
       "      <td>6241.000000</td>\n",
       "      <td>6241.000000</td>\n",
       "    </tr>\n",
       "    <tr>\n",
       "      <th>mean</th>\n",
       "      <td>10.600241</td>\n",
       "      <td>12.577217</td>\n",
       "      <td>15.092249</td>\n",
       "    </tr>\n",
       "    <tr>\n",
       "      <th>std</th>\n",
       "      <td>5.825124</td>\n",
       "      <td>6.009337</td>\n",
       "      <td>6.371359</td>\n",
       "    </tr>\n",
       "    <tr>\n",
       "      <th>min</th>\n",
       "      <td>5.193900</td>\n",
       "      <td>6.462902</td>\n",
       "      <td>7.535949</td>\n",
       "    </tr>\n",
       "    <tr>\n",
       "      <th>25%</th>\n",
       "      <td>5.793900</td>\n",
       "      <td>7.792321</td>\n",
       "      <td>10.252250</td>\n",
       "    </tr>\n",
       "    <tr>\n",
       "      <th>50%</th>\n",
       "      <td>7.128000</td>\n",
       "      <td>8.980627</td>\n",
       "      <td>11.417500</td>\n",
       "    </tr>\n",
       "    <tr>\n",
       "      <th>75%</th>\n",
       "      <td>15.974230</td>\n",
       "      <td>18.659000</td>\n",
       "      <td>21.378700</td>\n",
       "    </tr>\n",
       "    <tr>\n",
       "      <th>max</th>\n",
       "      <td>30.950200</td>\n",
       "      <td>33.690000</td>\n",
       "      <td>38.272130</td>\n",
       "    </tr>\n",
       "  </tbody>\n",
       "</table>\n",
       "</div>"
      ],
      "text/plain": [
       "               USD          EUR          GBP\n",
       "count  6241.000000  6241.000000  6241.000000\n",
       "mean     10.600241    12.577217    15.092249\n",
       "std       5.825124     6.009337     6.371359\n",
       "min       5.193900     6.462902     7.535949\n",
       "25%       5.793900     7.792321    10.252250\n",
       "50%       7.128000     8.980627    11.417500\n",
       "75%      15.974230    18.659000    21.378700\n",
       "max      30.950200    33.690000    38.272130"
      ]
     },
     "execution_count": 4,
     "metadata": {},
     "output_type": "execute_result"
    }
   ],
   "source": [
    "df.describe()"
   ]
  },
  {
   "cell_type": "code",
   "execution_count": 5,
   "id": "48cb217a",
   "metadata": {},
   "outputs": [
    {
     "data": {
      "image/png": "[encoded data removed]",
      "text/plain": [
       "<Figure size 1080x504 with 1 Axes>"
      ]
     },
     "metadata": {
      "needs_background": "light"
     },
     "output_type": "display_data"
    }
   ],
   "source": [
    "df[[\"USD\",\"EUR\",\"GBP\"]].plot(figsize = (15,7));"
   ]
  },
  {
   "cell_type": "markdown",
   "id": "aabad82d",
   "metadata": {},
   "source": [
    "#### only take data from dates after 2016 and before 2018, as it is more representing of current data."
   ]
  },
  {
   "cell_type": "code",
   "execution_count": 11,
   "id": "125959ba",
   "metadata": {},
   "outputs": [],
   "source": [
    "df_train = df.loc[datetime.date(year=2016,month=1,day=1):datetime.date(year=2020,month=1,day=1)]\n",
    "\n",
    "df_test = df.loc[:datetime.date(year=2023,month=4,day=11)]\n"
   ]
  },
  {
   "cell_type": "code",
   "execution_count": 12,
   "id": "fd045193",
   "metadata": {},
   "outputs": [
    {
     "data": {
      "text/plain": [
       "(Timestamp('2016-01-01 23:58:00'), Timestamp('2019-12-31 23:58:00'))"
      ]
     },
     "execution_count": 12,
     "metadata": {},
     "output_type": "execute_result"
    }
   ],
   "source": [
    "df_train.index.min() , df_train.index.max()"
   ]
  },
  {
   "cell_type": "code",
   "execution_count": 13,
   "id": "b0d1816a",
   "metadata": {},
   "outputs": [
    {
     "data": {
      "text/plain": [
       "(Timestamp('2003-12-01 23:58:00'), Timestamp('2023-03-31 23:58:00'))"
      ]
     },
     "execution_count": 13,
     "metadata": {},
     "output_type": "execute_result"
    }
   ],
   "source": [
    "df_test.index.min() , df_test.index.max()"
   ]
  },
  {
   "cell_type": "markdown",
   "id": "d96c5ae0",
   "metadata": {},
   "source": [
    "#### scale each column with Min - Max scaling"
   ]
  },
  {
   "cell_type": "code",
   "execution_count": 14,
   "id": "630c7a9e",
   "metadata": {},
   "outputs": [],
   "source": [
    "scaler = MinMaxScaler(feature_range = (0,1))"
   ]
  },
  {
   "cell_type": "code",
   "execution_count": 15,
   "id": "46ae9f85",
   "metadata": {},
   "outputs": [],
   "source": [
    "df_train_s = pd.DataFrame()\n",
    "df_train_s[['USDs','EURs','GBPs']] = scaler.fit_transform(df_train)\n",
    "\n",
    "\n",
    "df_test_s = pd.DataFrame()\n",
    "df_test_s [['USDs','EURs','GBPs']] = scaler.fit_transform(df_test)\n"
   ]
  },
  {
   "cell_type": "code",
   "execution_count": 16,
   "id": "67ee7bc5",
   "metadata": {},
   "outputs": [
    {
     "data": {
      "text/html": [
       "<div>\n",
       "<style scoped>\n",
       "    .dataframe tbody tr th:only-of-type {\n",
       "        vertical-align: middle;\n",
       "    }\n",
       "\n",
       "    .dataframe tbody tr th {\n",
       "        vertical-align: top;\n",
       "    }\n",
       "\n",
       "    .dataframe thead th {\n",
       "        text-align: right;\n",
       "    }\n",
       "</style>\n",
       "<table border=\"1\" class=\"dataframe\">\n",
       "  <thead>\n",
       "    <tr style=\"text-align: right;\">\n",
       "      <th></th>\n",
       "      <th>USD</th>\n",
       "      <th>EUR</th>\n",
       "      <th>GBP</th>\n",
       "    </tr>\n",
       "  </thead>\n",
       "  <tbody>\n",
       "    <tr>\n",
       "      <th>count</th>\n",
       "      <td>1460.000000</td>\n",
       "      <td>1460.000000</td>\n",
       "      <td>1460.000000</td>\n",
       "    </tr>\n",
       "    <tr>\n",
       "      <th>mean</th>\n",
       "      <td>15.598962</td>\n",
       "      <td>17.747050</td>\n",
       "      <td>20.394722</td>\n",
       "    </tr>\n",
       "    <tr>\n",
       "      <th>std</th>\n",
       "      <td>3.672944</td>\n",
       "      <td>4.361177</td>\n",
       "      <td>4.595024</td>\n",
       "    </tr>\n",
       "    <tr>\n",
       "      <th>min</th>\n",
       "      <td>7.645900</td>\n",
       "      <td>8.330132</td>\n",
       "      <td>10.689083</td>\n",
       "    </tr>\n",
       "    <tr>\n",
       "      <th>25%</th>\n",
       "      <td>16.098890</td>\n",
       "      <td>17.811000</td>\n",
       "      <td>20.114750</td>\n",
       "    </tr>\n",
       "    <tr>\n",
       "      <th>50%</th>\n",
       "      <td>17.605000</td>\n",
       "      <td>19.599335</td>\n",
       "      <td>22.712550</td>\n",
       "    </tr>\n",
       "    <tr>\n",
       "      <th>75%</th>\n",
       "      <td>17.860000</td>\n",
       "      <td>20.720705</td>\n",
       "      <td>23.352007</td>\n",
       "    </tr>\n",
       "    <tr>\n",
       "      <th>max</th>\n",
       "      <td>19.603000</td>\n",
       "      <td>22.046214</td>\n",
       "      <td>25.340547</td>\n",
       "    </tr>\n",
       "  </tbody>\n",
       "</table>\n",
       "</div>"
      ],
      "text/plain": [
       "               USD          EUR          GBP\n",
       "count  1460.000000  1460.000000  1460.000000\n",
       "mean     15.598962    17.747050    20.394722\n",
       "std       3.672944     4.361177     4.595024\n",
       "min       7.645900     8.330132    10.689083\n",
       "25%      16.098890    17.811000    20.114750\n",
       "50%      17.605000    19.599335    22.712550\n",
       "75%      17.860000    20.720705    23.352007\n",
       "max      19.603000    22.046214    25.340547"
      ]
     },
     "execution_count": 16,
     "metadata": {},
     "output_type": "execute_result"
    }
   ],
   "source": [
    "df_train.describe()"
   ]
  },
  {
   "cell_type": "code",
   "execution_count": 17,
   "id": "a6230afd",
   "metadata": {},
   "outputs": [
    {
     "data": {
      "text/html": [
       "<div>\n",
       "<style scoped>\n",
       "    .dataframe tbody tr th:only-of-type {\n",
       "        vertical-align: middle;\n",
       "    }\n",
       "\n",
       "    .dataframe tbody tr th {\n",
       "        vertical-align: top;\n",
       "    }\n",
       "\n",
       "    .dataframe thead th {\n",
       "        text-align: right;\n",
       "    }\n",
       "</style>\n",
       "<table border=\"1\" class=\"dataframe\">\n",
       "  <thead>\n",
       "    <tr style=\"text-align: right;\">\n",
       "      <th></th>\n",
       "      <th>USD</th>\n",
       "      <th>EUR</th>\n",
       "      <th>GBP</th>\n",
       "    </tr>\n",
       "  </thead>\n",
       "  <tbody>\n",
       "    <tr>\n",
       "      <th>count</th>\n",
       "      <td>6241.000000</td>\n",
       "      <td>6241.000000</td>\n",
       "      <td>6241.000000</td>\n",
       "    </tr>\n",
       "    <tr>\n",
       "      <th>mean</th>\n",
       "      <td>10.600241</td>\n",
       "      <td>12.577217</td>\n",
       "      <td>15.092249</td>\n",
       "    </tr>\n",
       "    <tr>\n",
       "      <th>std</th>\n",
       "      <td>5.825124</td>\n",
       "      <td>6.009337</td>\n",
       "      <td>6.371359</td>\n",
       "    </tr>\n",
       "    <tr>\n",
       "      <th>min</th>\n",
       "      <td>5.193900</td>\n",
       "      <td>6.462902</td>\n",
       "      <td>7.535949</td>\n",
       "    </tr>\n",
       "    <tr>\n",
       "      <th>25%</th>\n",
       "      <td>5.793900</td>\n",
       "      <td>7.792321</td>\n",
       "      <td>10.252250</td>\n",
       "    </tr>\n",
       "    <tr>\n",
       "      <th>50%</th>\n",
       "      <td>7.128000</td>\n",
       "      <td>8.980627</td>\n",
       "      <td>11.417500</td>\n",
       "    </tr>\n",
       "    <tr>\n",
       "      <th>75%</th>\n",
       "      <td>15.974230</td>\n",
       "      <td>18.659000</td>\n",
       "      <td>21.378700</td>\n",
       "    </tr>\n",
       "    <tr>\n",
       "      <th>max</th>\n",
       "      <td>30.950200</td>\n",
       "      <td>33.690000</td>\n",
       "      <td>38.272130</td>\n",
       "    </tr>\n",
       "  </tbody>\n",
       "</table>\n",
       "</div>"
      ],
      "text/plain": [
       "               USD          EUR          GBP\n",
       "count  6241.000000  6241.000000  6241.000000\n",
       "mean     10.600241    12.577217    15.092249\n",
       "std       5.825124     6.009337     6.371359\n",
       "min       5.193900     6.462902     7.535949\n",
       "25%       5.793900     7.792321    10.252250\n",
       "50%       7.128000     8.980627    11.417500\n",
       "75%      15.974230    18.659000    21.378700\n",
       "max      30.950200    33.690000    38.272130"
      ]
     },
     "execution_count": 17,
     "metadata": {},
     "output_type": "execute_result"
    }
   ],
   "source": [
    "df_test.describe()"
   ]
  },
  {
   "cell_type": "markdown",
   "id": "75234ae4",
   "metadata": {},
   "source": [
    "#### split into features and labels"
   ]
  },
  {
   "cell_type": "code",
   "execution_count": 18,
   "id": "49f9d9ce",
   "metadata": {},
   "outputs": [],
   "source": [
    "x_train = df_train_s.to_numpy()\n",
    "y_train = df_train_s.iloc[:,0].to_numpy()\n",
    "\n",
    "x_test = df_test_s.to_numpy()\n",
    "y_test = df_test_s.iloc[:,0].to_numpy()"
   ]
  },
  {
   "cell_type": "markdown",
   "id": "ecd63f3e",
   "metadata": {},
   "source": [
    "#### ( 2016 - 2020 ) training data"
   ]
  },
  {
   "cell_type": "code",
   "execution_count": 19,
   "id": "37b7493f",
   "metadata": {},
   "outputs": [
    {
     "data": {
      "text/plain": [
       "(1460, 3)"
      ]
     },
     "execution_count": 19,
     "metadata": {},
     "output_type": "execute_result"
    }
   ],
   "source": [
    "x_train.shape"
   ]
  },
  {
   "cell_type": "code",
   "execution_count": 20,
   "id": "05d7fc4d",
   "metadata": {},
   "outputs": [
    {
     "data": {
      "text/plain": [
       "(1460,)"
      ]
     },
     "execution_count": 20,
     "metadata": {},
     "output_type": "execute_result"
    }
   ],
   "source": [
    "y_train.shape"
   ]
  },
  {
   "cell_type": "markdown",
   "id": "8d5829d9",
   "metadata": {},
   "source": [
    "#### testing data ~ ( 2003 -  2023)"
   ]
  },
  {
   "cell_type": "code",
   "execution_count": 21,
   "id": "b1c89386",
   "metadata": {},
   "outputs": [
    {
     "data": {
      "text/plain": [
       "(6241, 3)"
      ]
     },
     "execution_count": 21,
     "metadata": {},
     "output_type": "execute_result"
    }
   ],
   "source": [
    "x_test.shape"
   ]
  },
  {
   "cell_type": "code",
   "execution_count": 22,
   "id": "995d29c1",
   "metadata": {},
   "outputs": [
    {
     "data": {
      "text/plain": [
       "(6241,)"
      ]
     },
     "execution_count": 22,
     "metadata": {},
     "output_type": "execute_result"
    }
   ],
   "source": [
    "y_test.shape"
   ]
  },
  {
   "cell_type": "code",
   "execution_count": 23,
   "id": "520907d7",
   "metadata": {},
   "outputs": [
    {
     "data": {
      "image/png": "[encoded data removed]",
      "text/plain": [
       "<Figure size 1080x504 with 2 Axes>"
      ]
     },
     "metadata": {
      "needs_background": "light"
     },
     "output_type": "display_data"
    }
   ],
   "source": [
    "fig, (ax1,ax2) = plt.subplots(1,2, sharey = True,figsize = (15,7))\n",
    "\n",
    "\n",
    "ax1.plot(df_train.index.to_pydatetime() ,df_train[[\"USD\"]]);\n",
    "\n",
    "ax2.plot(df_test.index.to_pydatetime() ,df_test[[\"USD\"]]);\n",
    "\n",
    "fig.autofmt_xdate()\n",
    "\n",
    "ax1.set_xlim([df.index.min(), df.index.max()]);\n",
    "ax2.set_xlim([df.index.min(), df.index.max()]);\n",
    "ax1.set_title(\"Training Data\");\n",
    "ax2.set_title(\"Testing Data\");"
   ]
  },
  {
   "cell_type": "markdown",
   "id": "fd9e8ddf",
   "metadata": {},
   "source": [
    "# 3.0 Modeling"
   ]
  },
  {
   "cell_type": "markdown",
   "id": "83683f3c",
   "metadata": {},
   "source": [
    "#### Create generator for testing and tranning"
   ]
  },
  {
   "cell_type": "code",
   "execution_count": 50,
   "id": "f11b40f2",
   "metadata": {},
   "outputs": [],
   "source": [
    "days_found = 9\n",
    "days_to_find =1\n",
    "days = days_to_find + days_found\n",
    "train_generator = TimeseriesGenerator(\n",
    "    x_train,\n",
    "    y_train,\n",
    "    length = days,\n",
    "    sampling_rate= 1,\n",
    "    batch_size = 10\n",
    ")\n",
    "test_generator = TimeseriesGenerator(\n",
    "    x_test,\n",
    "    y_test,\n",
    "    length = days,\n",
    "    sampling_rate= 1,\n",
    "    batch_size = 10\n",
    ")"
   ]
  },
  {
   "cell_type": "markdown",
   "id": "566c9c22",
   "metadata": {},
   "source": [
    "#### Model "
   ]
  },
  {
   "cell_type": "code",
   "execution_count": 51,
   "id": "426e4bb4",
   "metadata": {},
   "outputs": [],
   "source": [
    "model = tf.keras.Sequential()\n",
    "model.add(tf.keras.layers.LSTM(128 , input_shape = (days,3),return_sequences =True))\n",
    "model.add(tf.keras.layers.LSTM(64 , return_sequences = False))\n",
    "model.add(tf.keras.layers.Dense(16,activation='LeakyReLU'))\n",
    "model.add(tf.keras.layers.Dense(1,activation='linear'))"
   ]
  },
  {
   "cell_type": "code",
   "execution_count": 52,
   "id": "148f8033",
   "metadata": {
    "scrolled": true
   },
   "outputs": [
    {
     "name": "stdout",
     "output_type": "stream",
     "text": [
      "Model: \"sequential_1\"\n",
      "_________________________________________________________________\n",
      " Layer (type)                Output Shape              Param #   \n",
      "=================================================================\n",
      " lstm_2 (LSTM)               (None, 10, 128)           67584     \n",
      "                                                                 \n",
      " lstm_3 (LSTM)               (None, 64)                49408     \n",
      "                                                                 \n",
      " dense_2 (Dense)             (None, 16)                1040      \n",
      "                                                                 \n",
      " dense_3 (Dense)             (None, 1)                 17        \n",
      "                                                                 \n",
      "=================================================================\n",
      "Total params: 118,049\n",
      "Trainable params: 118,049\n",
      "Non-trainable params: 0\n",
      "_________________________________________________________________\n"
     ]
    }
   ],
   "source": [
    "model.summary()"
   ]
  },
  {
   "cell_type": "markdown",
   "id": "5c6da72b",
   "metadata": {},
   "source": [
    "#### Use MAE as loss function\n",
    "and moniter RMSE, MSE"
   ]
  },
  {
   "cell_type": "code",
   "execution_count": 53,
   "id": "56ddd660",
   "metadata": {},
   "outputs": [],
   "source": [
    "model.compile(\n",
    "            loss = tf.losses.MeanAbsoluteError(),\n",
    "            optimizer = tf.optimizers.Adagrad(),\n",
    "            metrics = [\n",
    "                        tf.keras.metrics.RootMeanSquaredError(),\n",
    "                        tf.keras.metrics.MeanAbsoluteError(),\n",
    "                        tf.keras.metrics.MeanSquaredError()\n",
    "                      ]\n",
    "             ) "
   ]
  },
  {
   "cell_type": "code",
   "execution_count": 54,
   "id": "9dd19fdb",
   "metadata": {},
   "outputs": [
    {
     "name": "stdout",
     "output_type": "stream",
     "text": [
      "Epoch 1/250\n",
      "145/145 [==============================] - 10s 40ms/step - loss: 0.3071 - root_mean_squared_error: 0.4041 - mean_absolute_error: 0.3071 - mean_squared_error: 0.1633 - val_loss: 0.2220 - val_root_mean_squared_error: 0.2386 - val_mean_absolute_error: 0.2220 - val_mean_squared_error: 0.0569\n",
      "Epoch 2/250\n",
      "145/145 [==============================] - 4s 24ms/step - loss: 0.0683 - root_mean_squared_error: 0.1180 - mean_absolute_error: 0.0683 - mean_squared_error: 0.0139 - val_loss: 0.1946 - val_root_mean_squared_error: 0.2090 - val_mean_absolute_error: 0.1946 - val_mean_squared_error: 0.0437\n",
      "Epoch 3/250\n",
      "145/145 [==============================] - 3s 23ms/step - loss: 0.0611 - root_mean_squared_error: 0.1056 - mean_absolute_error: 0.0611 - mean_squared_error: 0.0111 - val_loss: 0.1773 - val_root_mean_squared_error: 0.1895 - val_mean_absolute_error: 0.1773 - val_mean_squared_error: 0.0359\n",
      "Epoch 4/250\n",
      "145/145 [==============================] - 4s 29ms/step - loss: 0.0553 - root_mean_squared_error: 0.0958 - mean_absolute_error: 0.0553 - mean_squared_error: 0.0092 - val_loss: 0.1599 - val_root_mean_squared_error: 0.1708 - val_mean_absolute_error: 0.1599 - val_mean_squared_error: 0.0292\n",
      "Epoch 5/250\n",
      "145/145 [==============================] - 4s 26ms/step - loss: 0.0510 - root_mean_squared_error: 0.0876 - mean_absolute_error: 0.0510 - mean_squared_error: 0.0077 - val_loss: 0.1439 - val_root_mean_squared_error: 0.1536 - val_mean_absolute_error: 0.1439 - val_mean_squared_error: 0.0236\n",
      "Epoch 6/250\n",
      "145/145 [==============================] - 3s 23ms/step - loss: 0.0469 - root_mean_squared_error: 0.0804 - mean_absolute_error: 0.0469 - mean_squared_error: 0.0065 - val_loss: 0.1296 - val_root_mean_squared_error: 0.1381 - val_mean_absolute_error: 0.1296 - val_mean_squared_error: 0.0191\n",
      "Epoch 7/250\n",
      "145/145 [==============================] - 4s 28ms/step - loss: 0.0430 - root_mean_squared_error: 0.0738 - mean_absolute_error: 0.0430 - mean_squared_error: 0.0054 - val_loss: 0.1154 - val_root_mean_squared_error: 0.1230 - val_mean_absolute_error: 0.1154 - val_mean_squared_error: 0.0151\n",
      "Epoch 8/250\n",
      "145/145 [==============================] - 5s 31ms/step - loss: 0.0395 - root_mean_squared_error: 0.0681 - mean_absolute_error: 0.0395 - mean_squared_error: 0.0046 - val_loss: 0.1021 - val_root_mean_squared_error: 0.1088 - val_mean_absolute_error: 0.1021 - val_mean_squared_error: 0.0118\n",
      "Epoch 9/250\n",
      "145/145 [==============================] - 5s 31ms/step - loss: 0.0360 - root_mean_squared_error: 0.0631 - mean_absolute_error: 0.0360 - mean_squared_error: 0.0040 - val_loss: 0.0902 - val_root_mean_squared_error: 0.0959 - val_mean_absolute_error: 0.0902 - val_mean_squared_error: 0.0092\n",
      "Epoch 10/250\n",
      "145/145 [==============================] - 5s 32ms/step - loss: 0.0327 - root_mean_squared_error: 0.0587 - mean_absolute_error: 0.0327 - mean_squared_error: 0.0034 - val_loss: 0.0786 - val_root_mean_squared_error: 0.0836 - val_mean_absolute_error: 0.0786 - val_mean_squared_error: 0.0070\n",
      "Epoch 11/250\n",
      "145/145 [==============================] - 3s 22ms/step - loss: 0.0297 - root_mean_squared_error: 0.0550 - mean_absolute_error: 0.0297 - mean_squared_error: 0.0030 - val_loss: 0.0683 - val_root_mean_squared_error: 0.0727 - val_mean_absolute_error: 0.0683 - val_mean_squared_error: 0.0053\n",
      "Epoch 12/250\n",
      "145/145 [==============================] - 3s 22ms/step - loss: 0.0271 - root_mean_squared_error: 0.0521 - mean_absolute_error: 0.0271 - mean_squared_error: 0.0027 - val_loss: 0.0590 - val_root_mean_squared_error: 0.0630 - val_mean_absolute_error: 0.0590 - val_mean_squared_error: 0.0040\n",
      "Epoch 13/250\n",
      "145/145 [==============================] - 3s 24ms/step - loss: 0.0244 - root_mean_squared_error: 0.0494 - mean_absolute_error: 0.0244 - mean_squared_error: 0.0024 - val_loss: 0.0515 - val_root_mean_squared_error: 0.0553 - val_mean_absolute_error: 0.0515 - val_mean_squared_error: 0.0031\n",
      "Epoch 14/250\n",
      "145/145 [==============================] - 4s 25ms/step - loss: 0.0223 - root_mean_squared_error: 0.0476 - mean_absolute_error: 0.0223 - mean_squared_error: 0.0023 - val_loss: 0.0446 - val_root_mean_squared_error: 0.0484 - val_mean_absolute_error: 0.0446 - val_mean_squared_error: 0.0023\n",
      "Epoch 15/250\n",
      "145/145 [==============================] - 3s 22ms/step - loss: 0.0202 - root_mean_squared_error: 0.0458 - mean_absolute_error: 0.0202 - mean_squared_error: 0.0021 - val_loss: 0.0389 - val_root_mean_squared_error: 0.0429 - val_mean_absolute_error: 0.0389 - val_mean_squared_error: 0.0018\n",
      "Epoch 16/250\n",
      "145/145 [==============================] - 3s 22ms/step - loss: 0.0189 - root_mean_squared_error: 0.0442 - mean_absolute_error: 0.0189 - mean_squared_error: 0.0020 - val_loss: 0.0359 - val_root_mean_squared_error: 0.0400 - val_mean_absolute_error: 0.0359 - val_mean_squared_error: 0.0016\n",
      "Epoch 17/250\n",
      "145/145 [==============================] - 4s 29ms/step - loss: 0.0186 - root_mean_squared_error: 0.0438 - mean_absolute_error: 0.0186 - mean_squared_error: 0.0019 - val_loss: 0.0335 - val_root_mean_squared_error: 0.0378 - val_mean_absolute_error: 0.0335 - val_mean_squared_error: 0.0014\n",
      "Epoch 18/250\n",
      "145/145 [==============================] - 5s 31ms/step - loss: 0.0185 - root_mean_squared_error: 0.0438 - mean_absolute_error: 0.0185 - mean_squared_error: 0.0019 - val_loss: 0.0320 - val_root_mean_squared_error: 0.0363 - val_mean_absolute_error: 0.0320 - val_mean_squared_error: 0.0013\n",
      "Epoch 19/250\n",
      "145/145 [==============================] - 4s 30ms/step - loss: 0.0183 - root_mean_squared_error: 0.0436 - mean_absolute_error: 0.0183 - mean_squared_error: 0.0019 - val_loss: 0.0307 - val_root_mean_squared_error: 0.0351 - val_mean_absolute_error: 0.0307 - val_mean_squared_error: 0.0012\n",
      "Epoch 20/250\n",
      "145/145 [==============================] - 3s 22ms/step - loss: 0.0180 - root_mean_squared_error: 0.0433 - mean_absolute_error: 0.0180 - mean_squared_error: 0.0019 - val_loss: 0.0296 - val_root_mean_squared_error: 0.0340 - val_mean_absolute_error: 0.0296 - val_mean_squared_error: 0.0012\n",
      "Epoch 21/250\n",
      "145/145 [==============================] - 3s 21ms/step - loss: 0.0180 - root_mean_squared_error: 0.0433 - mean_absolute_error: 0.0180 - mean_squared_error: 0.0019 - val_loss: 0.0285 - val_root_mean_squared_error: 0.0331 - val_mean_absolute_error: 0.0285 - val_mean_squared_error: 0.0011\n",
      "Epoch 22/250\n",
      "145/145 [==============================] - 4s 26ms/step - loss: 0.0179 - root_mean_squared_error: 0.0431 - mean_absolute_error: 0.0179 - mean_squared_error: 0.0019 - val_loss: 0.0279 - val_root_mean_squared_error: 0.0324 - val_mean_absolute_error: 0.0279 - val_mean_squared_error: 0.0011\n",
      "Epoch 23/250\n",
      "145/145 [==============================] - 4s 30ms/step - loss: 0.0178 - root_mean_squared_error: 0.0430 - mean_absolute_error: 0.0178 - mean_squared_error: 0.0018 - val_loss: 0.0272 - val_root_mean_squared_error: 0.0318 - val_mean_absolute_error: 0.0272 - val_mean_squared_error: 0.0010\n",
      "Epoch 24/250\n",
      "145/145 [==============================] - 5s 31ms/step - loss: 0.0178 - root_mean_squared_error: 0.0430 - mean_absolute_error: 0.0178 - mean_squared_error: 0.0018 - val_loss: 0.0266 - val_root_mean_squared_error: 0.0313 - val_mean_absolute_error: 0.0266 - val_mean_squared_error: 9.7739e-04\n",
      "Epoch 25/250\n",
      "145/145 [==============================] - 4s 26ms/step - loss: 0.0177 - root_mean_squared_error: 0.0430 - mean_absolute_error: 0.0177 - mean_squared_error: 0.0018 - val_loss: 0.0260 - val_root_mean_squared_error: 0.0307 - val_mean_absolute_error: 0.0260 - val_mean_squared_error: 9.4430e-04\n",
      "Epoch 26/250\n",
      "145/145 [==============================] - 4s 24ms/step - loss: 0.0177 - root_mean_squared_error: 0.0429 - mean_absolute_error: 0.0177 - mean_squared_error: 0.0018 - val_loss: 0.0254 - val_root_mean_squared_error: 0.0302 - val_mean_absolute_error: 0.0254 - val_mean_squared_error: 9.1209e-04\n",
      "Epoch 27/250\n",
      "145/145 [==============================] - 3s 24ms/step - loss: 0.0176 - root_mean_squared_error: 0.0429 - mean_absolute_error: 0.0176 - mean_squared_error: 0.0018 - val_loss: 0.0248 - val_root_mean_squared_error: 0.0297 - val_mean_absolute_error: 0.0248 - val_mean_squared_error: 8.8080e-04\n",
      "Epoch 28/250\n",
      "145/145 [==============================] - 3s 23ms/step - loss: 0.0175 - root_mean_squared_error: 0.0429 - mean_absolute_error: 0.0175 - mean_squared_error: 0.0018 - val_loss: 0.0244 - val_root_mean_squared_error: 0.0293 - val_mean_absolute_error: 0.0244 - val_mean_squared_error: 8.5846e-04\n",
      "Epoch 29/250\n",
      "145/145 [==============================] - 3s 22ms/step - loss: 0.0176 - root_mean_squared_error: 0.0429 - mean_absolute_error: 0.0176 - mean_squared_error: 0.0018 - val_loss: 0.0240 - val_root_mean_squared_error: 0.0290 - val_mean_absolute_error: 0.0240 - val_mean_squared_error: 8.3929e-04\n",
      "Epoch 30/250\n",
      "145/145 [==============================] - 3s 22ms/step - loss: 0.0175 - root_mean_squared_error: 0.0428 - mean_absolute_error: 0.0175 - mean_squared_error: 0.0018 - val_loss: 0.0235 - val_root_mean_squared_error: 0.0285 - val_mean_absolute_error: 0.0235 - val_mean_squared_error: 8.1401e-04\n",
      "Epoch 31/250\n",
      "145/145 [==============================] - 4s 24ms/step - loss: 0.0174 - root_mean_squared_error: 0.0428 - mean_absolute_error: 0.0174 - mean_squared_error: 0.0018 - val_loss: 0.0231 - val_root_mean_squared_error: 0.0282 - val_mean_absolute_error: 0.0231 - val_mean_squared_error: 7.9521e-04\n",
      "Epoch 32/250\n",
      "145/145 [==============================] - 4s 29ms/step - loss: 0.0174 - root_mean_squared_error: 0.0428 - mean_absolute_error: 0.0174 - mean_squared_error: 0.0018 - val_loss: 0.0228 - val_root_mean_squared_error: 0.0279 - val_mean_absolute_error: 0.0228 - val_mean_squared_error: 7.7966e-04\n",
      "Epoch 33/250\n",
      "145/145 [==============================] - 4s 25ms/step - loss: 0.0174 - root_mean_squared_error: 0.0428 - mean_absolute_error: 0.0174 - mean_squared_error: 0.0018 - val_loss: 0.0227 - val_root_mean_squared_error: 0.0278 - val_mean_absolute_error: 0.0227 - val_mean_squared_error: 7.7435e-04\n",
      "Epoch 34/250\n",
      "145/145 [==============================] - 3s 24ms/step - loss: 0.0173 - root_mean_squared_error: 0.0427 - mean_absolute_error: 0.0173 - mean_squared_error: 0.0018 - val_loss: 0.0227 - val_root_mean_squared_error: 0.0277 - val_mean_absolute_error: 0.0227 - val_mean_squared_error: 7.6930e-04\n",
      "Epoch 35/250\n",
      "145/145 [==============================] - 3s 22ms/step - loss: 0.0173 - root_mean_squared_error: 0.0427 - mean_absolute_error: 0.0173 - mean_squared_error: 0.0018 - val_loss: 0.0226 - val_root_mean_squared_error: 0.0276 - val_mean_absolute_error: 0.0226 - val_mean_squared_error: 7.6385e-04\n",
      "Epoch 36/250\n",
      "145/145 [==============================] - 3s 22ms/step - loss: 0.0172 - root_mean_squared_error: 0.0427 - mean_absolute_error: 0.0172 - mean_squared_error: 0.0018 - val_loss: 0.0223 - val_root_mean_squared_error: 0.0274 - val_mean_absolute_error: 0.0223 - val_mean_squared_error: 7.5306e-04\n",
      "Epoch 37/250\n",
      "145/145 [==============================] - 3s 24ms/step - loss: 0.0172 - root_mean_squared_error: 0.0427 - mean_absolute_error: 0.0172 - mean_squared_error: 0.0018 - val_loss: 0.0223 - val_root_mean_squared_error: 0.0274 - val_mean_absolute_error: 0.0223 - val_mean_squared_error: 7.4870e-04\n",
      "Epoch 38/250\n",
      "145/145 [==============================] - 4s 26ms/step - loss: 0.0172 - root_mean_squared_error: 0.0426 - mean_absolute_error: 0.0172 - mean_squared_error: 0.0018 - val_loss: 0.0222 - val_root_mean_squared_error: 0.0273 - val_mean_absolute_error: 0.0222 - val_mean_squared_error: 7.4377e-04\n",
      "Epoch 39/250\n",
      "145/145 [==============================] - 4s 25ms/step - loss: 0.0172 - root_mean_squared_error: 0.0426 - mean_absolute_error: 0.0172 - mean_squared_error: 0.0018 - val_loss: 0.0220 - val_root_mean_squared_error: 0.0271 - val_mean_absolute_error: 0.0220 - val_mean_squared_error: 7.3642e-04\n",
      "Epoch 40/250\n",
      "145/145 [==============================] - 4s 24ms/step - loss: 0.0171 - root_mean_squared_error: 0.0425 - mean_absolute_error: 0.0171 - mean_squared_error: 0.0018 - val_loss: 0.0219 - val_root_mean_squared_error: 0.0270 - val_mean_absolute_error: 0.0219 - val_mean_squared_error: 7.2929e-04\n",
      "Epoch 41/250\n",
      "145/145 [==============================] - 4s 26ms/step - loss: 0.0171 - root_mean_squared_error: 0.0425 - mean_absolute_error: 0.0171 - mean_squared_error: 0.0018 - val_loss: 0.0218 - val_root_mean_squared_error: 0.0269 - val_mean_absolute_error: 0.0218 - val_mean_squared_error: 7.2228e-04\n",
      "Epoch 42/250\n",
      "145/145 [==============================] - 4s 26ms/step - loss: 0.0171 - root_mean_squared_error: 0.0425 - mean_absolute_error: 0.0171 - mean_squared_error: 0.0018 - val_loss: 0.0216 - val_root_mean_squared_error: 0.0267 - val_mean_absolute_error: 0.0216 - val_mean_squared_error: 7.1475e-04\n",
      "Epoch 43/250\n",
      "145/145 [==============================] - 4s 25ms/step - loss: 0.0170 - root_mean_squared_error: 0.0424 - mean_absolute_error: 0.0170 - mean_squared_error: 0.0018 - val_loss: 0.0215 - val_root_mean_squared_error: 0.0266 - val_mean_absolute_error: 0.0215 - val_mean_squared_error: 7.0750e-04\n",
      "Epoch 44/250\n",
      "145/145 [==============================] - 4s 26ms/step - loss: 0.0169 - root_mean_squared_error: 0.0424 - mean_absolute_error: 0.0169 - mean_squared_error: 0.0018 - val_loss: 0.0214 - val_root_mean_squared_error: 0.0265 - val_mean_absolute_error: 0.0214 - val_mean_squared_error: 7.0307e-04\n",
      "Epoch 45/250\n",
      "145/145 [==============================] - 4s 26ms/step - loss: 0.0169 - root_mean_squared_error: 0.0423 - mean_absolute_error: 0.0169 - mean_squared_error: 0.0018 - val_loss: 0.0212 - val_root_mean_squared_error: 0.0264 - val_mean_absolute_error: 0.0212 - val_mean_squared_error: 6.9558e-04\n",
      "Epoch 46/250\n",
      "145/145 [==============================] - 4s 27ms/step - loss: 0.0168 - root_mean_squared_error: 0.0423 - mean_absolute_error: 0.0168 - mean_squared_error: 0.0018 - val_loss: 0.0212 - val_root_mean_squared_error: 0.0263 - val_mean_absolute_error: 0.0212 - val_mean_squared_error: 6.9376e-04\n",
      "Epoch 47/250\n",
      "145/145 [==============================] - 4s 26ms/step - loss: 0.0168 - root_mean_squared_error: 0.0423 - mean_absolute_error: 0.0168 - mean_squared_error: 0.0018 - val_loss: 0.0211 - val_root_mean_squared_error: 0.0262 - val_mean_absolute_error: 0.0211 - val_mean_squared_error: 6.8682e-04\n",
      "Epoch 48/250\n",
      "145/145 [==============================] - 4s 26ms/step - loss: 0.0168 - root_mean_squared_error: 0.0423 - mean_absolute_error: 0.0168 - mean_squared_error: 0.0018 - val_loss: 0.0210 - val_root_mean_squared_error: 0.0261 - val_mean_absolute_error: 0.0210 - val_mean_squared_error: 6.8015e-04\n",
      "Epoch 49/250\n",
      "145/145 [==============================] - 4s 27ms/step - loss: 0.0167 - root_mean_squared_error: 0.0422 - mean_absolute_error: 0.0167 - mean_squared_error: 0.0018 - val_loss: 0.0209 - val_root_mean_squared_error: 0.0260 - val_mean_absolute_error: 0.0209 - val_mean_squared_error: 6.7561e-04\n",
      "Epoch 50/250\n",
      "145/145 [==============================] - 4s 25ms/step - loss: 0.0168 - root_mean_squared_error: 0.0422 - mean_absolute_error: 0.0168 - mean_squared_error: 0.0018 - val_loss: 0.0208 - val_root_mean_squared_error: 0.0260 - val_mean_absolute_error: 0.0208 - val_mean_squared_error: 6.7390e-04\n",
      "Epoch 51/250\n",
      "145/145 [==============================] - 4s 25ms/step - loss: 0.0167 - root_mean_squared_error: 0.0422 - mean_absolute_error: 0.0167 - mean_squared_error: 0.0018 - val_loss: 0.0207 - val_root_mean_squared_error: 0.0258 - val_mean_absolute_error: 0.0207 - val_mean_squared_error: 6.6704e-04\n",
      "Epoch 52/250\n",
      "145/145 [==============================] - 4s 26ms/step - loss: 0.0167 - root_mean_squared_error: 0.0422 - mean_absolute_error: 0.0167 - mean_squared_error: 0.0018 - val_loss: 0.0207 - val_root_mean_squared_error: 0.0258 - val_mean_absolute_error: 0.0207 - val_mean_squared_error: 6.6697e-04\n",
      "Epoch 53/250\n",
      "145/145 [==============================] - 3s 24ms/step - loss: 0.0166 - root_mean_squared_error: 0.0421 - mean_absolute_error: 0.0166 - mean_squared_error: 0.0018 - val_loss: 0.0206 - val_root_mean_squared_error: 0.0257 - val_mean_absolute_error: 0.0206 - val_mean_squared_error: 6.6068e-04\n",
      "Epoch 54/250\n",
      "145/145 [==============================] - 3s 24ms/step - loss: 0.0165 - root_mean_squared_error: 0.0421 - mean_absolute_error: 0.0165 - mean_squared_error: 0.0018 - val_loss: 0.0205 - val_root_mean_squared_error: 0.0256 - val_mean_absolute_error: 0.0205 - val_mean_squared_error: 6.5482e-04\n",
      "Epoch 55/250\n",
      "145/145 [==============================] - 3s 23ms/step - loss: 0.0165 - root_mean_squared_error: 0.0420 - mean_absolute_error: 0.0165 - mean_squared_error: 0.0018 - val_loss: 0.0204 - val_root_mean_squared_error: 0.0255 - val_mean_absolute_error: 0.0204 - val_mean_squared_error: 6.5056e-04\n",
      "Epoch 56/250\n",
      "145/145 [==============================] - 3s 23ms/step - loss: 0.0164 - root_mean_squared_error: 0.0420 - mean_absolute_error: 0.0164 - mean_squared_error: 0.0018 - val_loss: 0.0203 - val_root_mean_squared_error: 0.0254 - val_mean_absolute_error: 0.0203 - val_mean_squared_error: 6.4654e-04\n",
      "Epoch 57/250\n",
      "145/145 [==============================] - 4s 25ms/step - loss: 0.0164 - root_mean_squared_error: 0.0420 - mean_absolute_error: 0.0164 - mean_squared_error: 0.0018 - val_loss: 0.0202 - val_root_mean_squared_error: 0.0253 - val_mean_absolute_error: 0.0202 - val_mean_squared_error: 6.4124e-04\n",
      "Epoch 58/250\n",
      "145/145 [==============================] - 3s 24ms/step - loss: 0.0163 - root_mean_squared_error: 0.0419 - mean_absolute_error: 0.0163 - mean_squared_error: 0.0018 - val_loss: 0.0202 - val_root_mean_squared_error: 0.0253 - val_mean_absolute_error: 0.0202 - val_mean_squared_error: 6.3767e-04\n",
      "Epoch 59/250\n",
      "145/145 [==============================] - 4s 25ms/step - loss: 0.0163 - root_mean_squared_error: 0.0419 - mean_absolute_error: 0.0163 - mean_squared_error: 0.0018 - val_loss: 0.0201 - val_root_mean_squared_error: 0.0252 - val_mean_absolute_error: 0.0201 - val_mean_squared_error: 6.3278e-04\n",
      "Epoch 60/250\n",
      "145/145 [==============================] - 4s 24ms/step - loss: 0.0162 - root_mean_squared_error: 0.0418 - mean_absolute_error: 0.0162 - mean_squared_error: 0.0018 - val_loss: 0.0200 - val_root_mean_squared_error: 0.0251 - val_mean_absolute_error: 0.0200 - val_mean_squared_error: 6.2931e-04\n",
      "Epoch 61/250\n",
      "145/145 [==============================] - 3s 23ms/step - loss: 0.0162 - root_mean_squared_error: 0.0418 - mean_absolute_error: 0.0162 - mean_squared_error: 0.0017 - val_loss: 0.0199 - val_root_mean_squared_error: 0.0250 - val_mean_absolute_error: 0.0199 - val_mean_squared_error: 6.2595e-04\n",
      "Epoch 62/250\n",
      "145/145 [==============================] - 3s 24ms/step - loss: 0.0161 - root_mean_squared_error: 0.0418 - mean_absolute_error: 0.0161 - mean_squared_error: 0.0017 - val_loss: 0.0198 - val_root_mean_squared_error: 0.0249 - val_mean_absolute_error: 0.0198 - val_mean_squared_error: 6.2137e-04\n",
      "Epoch 63/250\n",
      "145/145 [==============================] - 3s 24ms/step - loss: 0.0160 - root_mean_squared_error: 0.0417 - mean_absolute_error: 0.0160 - mean_squared_error: 0.0017 - val_loss: 0.0198 - val_root_mean_squared_error: 0.0249 - val_mean_absolute_error: 0.0198 - val_mean_squared_error: 6.1823e-04\n",
      "Epoch 64/250\n",
      "145/145 [==============================] - 4s 25ms/step - loss: 0.0160 - root_mean_squared_error: 0.0417 - mean_absolute_error: 0.0160 - mean_squared_error: 0.0017 - val_loss: 0.0196 - val_root_mean_squared_error: 0.0247 - val_mean_absolute_error: 0.0196 - val_mean_squared_error: 6.1105e-04\n",
      "Epoch 65/250\n",
      "145/145 [==============================] - 3s 23ms/step - loss: 0.0159 - root_mean_squared_error: 0.0417 - mean_absolute_error: 0.0159 - mean_squared_error: 0.0017 - val_loss: 0.0196 - val_root_mean_squared_error: 0.0247 - val_mean_absolute_error: 0.0196 - val_mean_squared_error: 6.0984e-04\n",
      "Epoch 66/250\n",
      "145/145 [==============================] - 3s 24ms/step - loss: 0.0159 - root_mean_squared_error: 0.0416 - mean_absolute_error: 0.0159 - mean_squared_error: 0.0017 - val_loss: 0.0196 - val_root_mean_squared_error: 0.0246 - val_mean_absolute_error: 0.0196 - val_mean_squared_error: 6.0724e-04\n",
      "Epoch 67/250\n",
      "145/145 [==============================] - 4s 25ms/step - loss: 0.0158 - root_mean_squared_error: 0.0416 - mean_absolute_error: 0.0158 - mean_squared_error: 0.0017 - val_loss: 0.0195 - val_root_mean_squared_error: 0.0246 - val_mean_absolute_error: 0.0195 - val_mean_squared_error: 6.0462e-04\n",
      "Epoch 68/250\n",
      "145/145 [==============================] - 4s 26ms/step - loss: 0.0158 - root_mean_squared_error: 0.0415 - mean_absolute_error: 0.0158 - mean_squared_error: 0.0017 - val_loss: 0.0194 - val_root_mean_squared_error: 0.0244 - val_mean_absolute_error: 0.0194 - val_mean_squared_error: 5.9662e-04\n",
      "Epoch 69/250\n",
      "145/145 [==============================] - 3s 24ms/step - loss: 0.0157 - root_mean_squared_error: 0.0415 - mean_absolute_error: 0.0157 - mean_squared_error: 0.0017 - val_loss: 0.0193 - val_root_mean_squared_error: 0.0244 - val_mean_absolute_error: 0.0193 - val_mean_squared_error: 5.9316e-04\n",
      "Epoch 70/250\n",
      "145/145 [==============================] - 3s 24ms/step - loss: 0.0157 - root_mean_squared_error: 0.0415 - mean_absolute_error: 0.0157 - mean_squared_error: 0.0017 - val_loss: 0.0193 - val_root_mean_squared_error: 0.0243 - val_mean_absolute_error: 0.0193 - val_mean_squared_error: 5.9209e-04\n",
      "Epoch 71/250\n",
      "145/145 [==============================] - 4s 24ms/step - loss: 0.0156 - root_mean_squared_error: 0.0414 - mean_absolute_error: 0.0156 - mean_squared_error: 0.0017 - val_loss: 0.0191 - val_root_mean_squared_error: 0.0242 - val_mean_absolute_error: 0.0191 - val_mean_squared_error: 5.8656e-04\n",
      "Epoch 72/250\n",
      "145/145 [==============================] - 3s 24ms/step - loss: 0.0155 - root_mean_squared_error: 0.0414 - mean_absolute_error: 0.0155 - mean_squared_error: 0.0017 - val_loss: 0.0191 - val_root_mean_squared_error: 0.0241 - val_mean_absolute_error: 0.0191 - val_mean_squared_error: 5.8247e-04\n",
      "Epoch 73/250\n",
      "145/145 [==============================] - 3s 23ms/step - loss: 0.0155 - root_mean_squared_error: 0.0413 - mean_absolute_error: 0.0155 - mean_squared_error: 0.0017 - val_loss: 0.0190 - val_root_mean_squared_error: 0.0241 - val_mean_absolute_error: 0.0190 - val_mean_squared_error: 5.7949e-04\n",
      "Epoch 74/250\n",
      "145/145 [==============================] - 3s 23ms/step - loss: 0.0154 - root_mean_squared_error: 0.0413 - mean_absolute_error: 0.0154 - mean_squared_error: 0.0017 - val_loss: 0.0189 - val_root_mean_squared_error: 0.0239 - val_mean_absolute_error: 0.0189 - val_mean_squared_error: 5.7273e-04\n",
      "Epoch 75/250\n",
      "145/145 [==============================] - 3s 22ms/step - loss: 0.0154 - root_mean_squared_error: 0.0413 - mean_absolute_error: 0.0154 - mean_squared_error: 0.0017 - val_loss: 0.0188 - val_root_mean_squared_error: 0.0239 - val_mean_absolute_error: 0.0188 - val_mean_squared_error: 5.7044e-04\n",
      "Epoch 76/250\n",
      "145/145 [==============================] - 3s 24ms/step - loss: 0.0153 - root_mean_squared_error: 0.0412 - mean_absolute_error: 0.0153 - mean_squared_error: 0.0017 - val_loss: 0.0188 - val_root_mean_squared_error: 0.0239 - val_mean_absolute_error: 0.0188 - val_mean_squared_error: 5.7071e-04\n",
      "Epoch 77/250\n",
      "145/145 [==============================] - 3s 23ms/step - loss: 0.0152 - root_mean_squared_error: 0.0411 - mean_absolute_error: 0.0152 - mean_squared_error: 0.0017 - val_loss: 0.0188 - val_root_mean_squared_error: 0.0238 - val_mean_absolute_error: 0.0188 - val_mean_squared_error: 5.6783e-04\n",
      "Epoch 78/250\n",
      "145/145 [==============================] - 3s 24ms/step - loss: 0.0152 - root_mean_squared_error: 0.0411 - mean_absolute_error: 0.0152 - mean_squared_error: 0.0017 - val_loss: 0.0186 - val_root_mean_squared_error: 0.0237 - val_mean_absolute_error: 0.0186 - val_mean_squared_error: 5.6111e-04\n",
      "Epoch 79/250\n",
      "145/145 [==============================] - 3s 23ms/step - loss: 0.0152 - root_mean_squared_error: 0.0411 - mean_absolute_error: 0.0152 - mean_squared_error: 0.0017 - val_loss: 0.0186 - val_root_mean_squared_error: 0.0237 - val_mean_absolute_error: 0.0186 - val_mean_squared_error: 5.6076e-04\n",
      "Epoch 80/250\n",
      "145/145 [==============================] - 4s 24ms/step - loss: 0.0151 - root_mean_squared_error: 0.0410 - mean_absolute_error: 0.0151 - mean_squared_error: 0.0017 - val_loss: 0.0185 - val_root_mean_squared_error: 0.0236 - val_mean_absolute_error: 0.0185 - val_mean_squared_error: 5.5462e-04\n",
      "Epoch 81/250\n",
      "145/145 [==============================] - 4s 27ms/step - loss: 0.0150 - root_mean_squared_error: 0.0410 - mean_absolute_error: 0.0150 - mean_squared_error: 0.0017 - val_loss: 0.0185 - val_root_mean_squared_error: 0.0235 - val_mean_absolute_error: 0.0185 - val_mean_squared_error: 5.5441e-04\n",
      "Epoch 82/250\n",
      "145/145 [==============================] - 3s 23ms/step - loss: 0.0149 - root_mean_squared_error: 0.0409 - mean_absolute_error: 0.0149 - mean_squared_error: 0.0017 - val_loss: 0.0184 - val_root_mean_squared_error: 0.0235 - val_mean_absolute_error: 0.0184 - val_mean_squared_error: 5.5025e-04\n",
      "Epoch 83/250\n",
      "145/145 [==============================] - 3s 23ms/step - loss: 0.0149 - root_mean_squared_error: 0.0409 - mean_absolute_error: 0.0149 - mean_squared_error: 0.0017 - val_loss: 0.0183 - val_root_mean_squared_error: 0.0234 - val_mean_absolute_error: 0.0183 - val_mean_squared_error: 5.4621e-04\n",
      "Epoch 84/250\n",
      "145/145 [==============================] - 4s 28ms/step - loss: 0.0149 - root_mean_squared_error: 0.0409 - mean_absolute_error: 0.0149 - mean_squared_error: 0.0017 - val_loss: 0.0183 - val_root_mean_squared_error: 0.0234 - val_mean_absolute_error: 0.0183 - val_mean_squared_error: 5.4620e-04\n",
      "Epoch 85/250\n",
      "145/145 [==============================] - 4s 25ms/step - loss: 0.0148 - root_mean_squared_error: 0.0408 - mean_absolute_error: 0.0148 - mean_squared_error: 0.0017 - val_loss: 0.0183 - val_root_mean_squared_error: 0.0233 - val_mean_absolute_error: 0.0183 - val_mean_squared_error: 5.4233e-04\n",
      "Epoch 86/250\n",
      "145/145 [==============================] - 3s 23ms/step - loss: 0.0147 - root_mean_squared_error: 0.0408 - mean_absolute_error: 0.0147 - mean_squared_error: 0.0017 - val_loss: 0.0182 - val_root_mean_squared_error: 0.0232 - val_mean_absolute_error: 0.0182 - val_mean_squared_error: 5.3855e-04\n",
      "Epoch 87/250\n",
      "145/145 [==============================] - 3s 24ms/step - loss: 0.0147 - root_mean_squared_error: 0.0408 - mean_absolute_error: 0.0147 - mean_squared_error: 0.0017 - val_loss: 0.0183 - val_root_mean_squared_error: 0.0233 - val_mean_absolute_error: 0.0183 - val_mean_squared_error: 5.4206e-04\n",
      "Epoch 88/250\n",
      "145/145 [==============================] - 4s 25ms/step - loss: 0.0146 - root_mean_squared_error: 0.0407 - mean_absolute_error: 0.0146 - mean_squared_error: 0.0017 - val_loss: 0.0182 - val_root_mean_squared_error: 0.0232 - val_mean_absolute_error: 0.0182 - val_mean_squared_error: 5.3699e-04\n",
      "Epoch 89/250\n",
      "145/145 [==============================] - 4s 24ms/step - loss: 0.0145 - root_mean_squared_error: 0.0406 - mean_absolute_error: 0.0145 - mean_squared_error: 0.0017 - val_loss: 0.0181 - val_root_mean_squared_error: 0.0231 - val_mean_absolute_error: 0.0181 - val_mean_squared_error: 5.3342e-04\n",
      "Epoch 90/250\n",
      "145/145 [==============================] - 3s 23ms/step - loss: 0.0145 - root_mean_squared_error: 0.0406 - mean_absolute_error: 0.0145 - mean_squared_error: 0.0016 - val_loss: 0.0180 - val_root_mean_squared_error: 0.0230 - val_mean_absolute_error: 0.0180 - val_mean_squared_error: 5.2979e-04\n",
      "Epoch 91/250\n",
      "145/145 [==============================] - 3s 23ms/step - loss: 0.0144 - root_mean_squared_error: 0.0406 - mean_absolute_error: 0.0144 - mean_squared_error: 0.0016 - val_loss: 0.0180 - val_root_mean_squared_error: 0.0230 - val_mean_absolute_error: 0.0180 - val_mean_squared_error: 5.3025e-04\n",
      "Epoch 92/250\n",
      "145/145 [==============================] - 3s 23ms/step - loss: 0.0144 - root_mean_squared_error: 0.0405 - mean_absolute_error: 0.0144 - mean_squared_error: 0.0016 - val_loss: 0.0179 - val_root_mean_squared_error: 0.0229 - val_mean_absolute_error: 0.0179 - val_mean_squared_error: 5.2653e-04\n",
      "Epoch 93/250\n",
      "145/145 [==============================] - 4s 26ms/step - loss: 0.0144 - root_mean_squared_error: 0.0405 - mean_absolute_error: 0.0144 - mean_squared_error: 0.0016 - val_loss: 0.0179 - val_root_mean_squared_error: 0.0229 - val_mean_absolute_error: 0.0179 - val_mean_squared_error: 5.2270e-04\n",
      "Epoch 94/250\n",
      "145/145 [==============================] - 3s 24ms/step - loss: 0.0143 - root_mean_squared_error: 0.0405 - mean_absolute_error: 0.0143 - mean_squared_error: 0.0016 - val_loss: 0.0178 - val_root_mean_squared_error: 0.0228 - val_mean_absolute_error: 0.0178 - val_mean_squared_error: 5.1917e-04\n",
      "Epoch 95/250\n",
      "145/145 [==============================] - 3s 23ms/step - loss: 0.0142 - root_mean_squared_error: 0.0404 - mean_absolute_error: 0.0142 - mean_squared_error: 0.0016 - val_loss: 0.0177 - val_root_mean_squared_error: 0.0228 - val_mean_absolute_error: 0.0177 - val_mean_squared_error: 5.1774e-04\n",
      "Epoch 96/250\n",
      "145/145 [==============================] - 3s 23ms/step - loss: 0.0142 - root_mean_squared_error: 0.0404 - mean_absolute_error: 0.0142 - mean_squared_error: 0.0016 - val_loss: 0.0175 - val_root_mean_squared_error: 0.0226 - val_mean_absolute_error: 0.0175 - val_mean_squared_error: 5.0910e-04\n",
      "Epoch 97/250\n",
      "145/145 [==============================] - 4s 24ms/step - loss: 0.0142 - root_mean_squared_error: 0.0404 - mean_absolute_error: 0.0142 - mean_squared_error: 0.0016 - val_loss: 0.0175 - val_root_mean_squared_error: 0.0225 - val_mean_absolute_error: 0.0175 - val_mean_squared_error: 5.0771e-04\n",
      "Epoch 98/250\n",
      "145/145 [==============================] - 4s 27ms/step - loss: 0.0142 - root_mean_squared_error: 0.0404 - mean_absolute_error: 0.0142 - mean_squared_error: 0.0016 - val_loss: 0.0174 - val_root_mean_squared_error: 0.0224 - val_mean_absolute_error: 0.0174 - val_mean_squared_error: 5.0235e-04\n",
      "Epoch 99/250\n",
      "145/145 [==============================] - 3s 24ms/step - loss: 0.0141 - root_mean_squared_error: 0.0403 - mean_absolute_error: 0.0141 - mean_squared_error: 0.0016 - val_loss: 0.0173 - val_root_mean_squared_error: 0.0223 - val_mean_absolute_error: 0.0173 - val_mean_squared_error: 4.9876e-04\n",
      "Epoch 100/250\n",
      "145/145 [==============================] - 4s 25ms/step - loss: 0.0140 - root_mean_squared_error: 0.0403 - mean_absolute_error: 0.0140 - mean_squared_error: 0.0016 - val_loss: 0.0173 - val_root_mean_squared_error: 0.0223 - val_mean_absolute_error: 0.0173 - val_mean_squared_error: 4.9857e-04\n",
      "Epoch 101/250\n",
      "145/145 [==============================] - 4s 24ms/step - loss: 0.0140 - root_mean_squared_error: 0.0403 - mean_absolute_error: 0.0140 - mean_squared_error: 0.0016 - val_loss: 0.0171 - val_root_mean_squared_error: 0.0222 - val_mean_absolute_error: 0.0171 - val_mean_squared_error: 4.9231e-04\n",
      "Epoch 102/250\n",
      "145/145 [==============================] - 4s 27ms/step - loss: 0.0139 - root_mean_squared_error: 0.0402 - mean_absolute_error: 0.0139 - mean_squared_error: 0.0016 - val_loss: 0.0171 - val_root_mean_squared_error: 0.0222 - val_mean_absolute_error: 0.0171 - val_mean_squared_error: 4.9162e-04\n",
      "Epoch 103/250\n",
      "145/145 [==============================] - 4s 26ms/step - loss: 0.0138 - root_mean_squared_error: 0.0402 - mean_absolute_error: 0.0138 - mean_squared_error: 0.0016 - val_loss: 0.0168 - val_root_mean_squared_error: 0.0220 - val_mean_absolute_error: 0.0168 - val_mean_squared_error: 4.8191e-04\n",
      "Epoch 104/250\n",
      "145/145 [==============================] - 3s 24ms/step - loss: 0.0138 - root_mean_squared_error: 0.0402 - mean_absolute_error: 0.0138 - mean_squared_error: 0.0016 - val_loss: 0.0168 - val_root_mean_squared_error: 0.0219 - val_mean_absolute_error: 0.0168 - val_mean_squared_error: 4.8030e-04\n",
      "Epoch 105/250\n",
      "145/145 [==============================] - 3s 24ms/step - loss: 0.0138 - root_mean_squared_error: 0.0402 - mean_absolute_error: 0.0138 - mean_squared_error: 0.0016 - val_loss: 0.0167 - val_root_mean_squared_error: 0.0218 - val_mean_absolute_error: 0.0167 - val_mean_squared_error: 4.7522e-04\n",
      "Epoch 106/250\n",
      "145/145 [==============================] - 3s 23ms/step - loss: 0.0138 - root_mean_squared_error: 0.0401 - mean_absolute_error: 0.0138 - mean_squared_error: 0.0016 - val_loss: 0.0166 - val_root_mean_squared_error: 0.0218 - val_mean_absolute_error: 0.0166 - val_mean_squared_error: 4.7380e-04\n",
      "Epoch 107/250\n",
      "145/145 [==============================] - 3s 24ms/step - loss: 0.0137 - root_mean_squared_error: 0.0401 - mean_absolute_error: 0.0137 - mean_squared_error: 0.0016 - val_loss: 0.0164 - val_root_mean_squared_error: 0.0216 - val_mean_absolute_error: 0.0164 - val_mean_squared_error: 4.6641e-04\n",
      "Epoch 108/250\n",
      "145/145 [==============================] - 4s 25ms/step - loss: 0.0136 - root_mean_squared_error: 0.0401 - mean_absolute_error: 0.0136 - mean_squared_error: 0.0016 - val_loss: 0.0164 - val_root_mean_squared_error: 0.0216 - val_mean_absolute_error: 0.0164 - val_mean_squared_error: 4.6526e-04\n",
      "Epoch 109/250\n",
      "145/145 [==============================] - 3s 24ms/step - loss: 0.0135 - root_mean_squared_error: 0.0400 - mean_absolute_error: 0.0135 - mean_squared_error: 0.0016 - val_loss: 0.0164 - val_root_mean_squared_error: 0.0215 - val_mean_absolute_error: 0.0164 - val_mean_squared_error: 4.6386e-04\n",
      "Epoch 110/250\n",
      "145/145 [==============================] - 4s 26ms/step - loss: 0.0135 - root_mean_squared_error: 0.0400 - mean_absolute_error: 0.0135 - mean_squared_error: 0.0016 - val_loss: 0.0162 - val_root_mean_squared_error: 0.0214 - val_mean_absolute_error: 0.0162 - val_mean_squared_error: 4.5967e-04\n",
      "Epoch 111/250\n",
      "145/145 [==============================] - 4s 25ms/step - loss: 0.0135 - root_mean_squared_error: 0.0400 - mean_absolute_error: 0.0135 - mean_squared_error: 0.0016 - val_loss: 0.0161 - val_root_mean_squared_error: 0.0213 - val_mean_absolute_error: 0.0161 - val_mean_squared_error: 4.5346e-04\n",
      "Epoch 112/250\n",
      "145/145 [==============================] - 3s 23ms/step - loss: 0.0134 - root_mean_squared_error: 0.0399 - mean_absolute_error: 0.0134 - mean_squared_error: 0.0016 - val_loss: 0.0160 - val_root_mean_squared_error: 0.0213 - val_mean_absolute_error: 0.0160 - val_mean_squared_error: 4.5178e-04\n",
      "Epoch 113/250\n",
      "145/145 [==============================] - 3s 23ms/step - loss: 0.0134 - root_mean_squared_error: 0.0399 - mean_absolute_error: 0.0134 - mean_squared_error: 0.0016 - val_loss: 0.0160 - val_root_mean_squared_error: 0.0213 - val_mean_absolute_error: 0.0160 - val_mean_squared_error: 4.5185e-04\n",
      "Epoch 114/250\n",
      "145/145 [==============================] - 4s 27ms/step - loss: 0.0133 - root_mean_squared_error: 0.0398 - mean_absolute_error: 0.0133 - mean_squared_error: 0.0016 - val_loss: 0.0159 - val_root_mean_squared_error: 0.0211 - val_mean_absolute_error: 0.0159 - val_mean_squared_error: 4.4679e-04\n",
      "Epoch 115/250\n",
      "145/145 [==============================] - 4s 29ms/step - loss: 0.0132 - root_mean_squared_error: 0.0398 - mean_absolute_error: 0.0132 - mean_squared_error: 0.0016 - val_loss: 0.0158 - val_root_mean_squared_error: 0.0211 - val_mean_absolute_error: 0.0158 - val_mean_squared_error: 4.4342e-04\n",
      "Epoch 116/250\n",
      "145/145 [==============================] - 4s 26ms/step - loss: 0.0132 - root_mean_squared_error: 0.0398 - mean_absolute_error: 0.0132 - mean_squared_error: 0.0016 - val_loss: 0.0157 - val_root_mean_squared_error: 0.0210 - val_mean_absolute_error: 0.0157 - val_mean_squared_error: 4.3908e-04\n",
      "Epoch 117/250\n",
      "145/145 [==============================] - 4s 25ms/step - loss: 0.0132 - root_mean_squared_error: 0.0397 - mean_absolute_error: 0.0132 - mean_squared_error: 0.0016 - val_loss: 0.0156 - val_root_mean_squared_error: 0.0209 - val_mean_absolute_error: 0.0156 - val_mean_squared_error: 4.3646e-04\n",
      "Epoch 118/250\n",
      "145/145 [==============================] - 4s 25ms/step - loss: 0.0131 - root_mean_squared_error: 0.0397 - mean_absolute_error: 0.0131 - mean_squared_error: 0.0016 - val_loss: 0.0154 - val_root_mean_squared_error: 0.0208 - val_mean_absolute_error: 0.0154 - val_mean_squared_error: 4.3098e-04\n",
      "Epoch 119/250\n",
      "145/145 [==============================] - 3s 24ms/step - loss: 0.0131 - root_mean_squared_error: 0.0397 - mean_absolute_error: 0.0131 - mean_squared_error: 0.0016 - val_loss: 0.0154 - val_root_mean_squared_error: 0.0207 - val_mean_absolute_error: 0.0154 - val_mean_squared_error: 4.3023e-04\n",
      "Epoch 120/250\n",
      "145/145 [==============================] - 3s 24ms/step - loss: 0.0130 - root_mean_squared_error: 0.0396 - mean_absolute_error: 0.0130 - mean_squared_error: 0.0016 - val_loss: 0.0153 - val_root_mean_squared_error: 0.0206 - val_mean_absolute_error: 0.0153 - val_mean_squared_error: 4.2619e-04\n",
      "Epoch 121/250\n",
      "145/145 [==============================] - 4s 25ms/step - loss: 0.0130 - root_mean_squared_error: 0.0396 - mean_absolute_error: 0.0130 - mean_squared_error: 0.0016 - val_loss: 0.0153 - val_root_mean_squared_error: 0.0206 - val_mean_absolute_error: 0.0153 - val_mean_squared_error: 4.2522e-04\n",
      "Epoch 122/250\n",
      "145/145 [==============================] - 4s 26ms/step - loss: 0.0129 - root_mean_squared_error: 0.0396 - mean_absolute_error: 0.0129 - mean_squared_error: 0.0016 - val_loss: 0.0152 - val_root_mean_squared_error: 0.0205 - val_mean_absolute_error: 0.0152 - val_mean_squared_error: 4.2057e-04\n",
      "Epoch 123/250\n",
      "145/145 [==============================] - 4s 27ms/step - loss: 0.0129 - root_mean_squared_error: 0.0396 - mean_absolute_error: 0.0129 - mean_squared_error: 0.0016 - val_loss: 0.0151 - val_root_mean_squared_error: 0.0205 - val_mean_absolute_error: 0.0151 - val_mean_squared_error: 4.1984e-04\n",
      "Epoch 124/250\n",
      "145/145 [==============================] - 4s 26ms/step - loss: 0.0128 - root_mean_squared_error: 0.0395 - mean_absolute_error: 0.0128 - mean_squared_error: 0.0016 - val_loss: 0.0150 - val_root_mean_squared_error: 0.0204 - val_mean_absolute_error: 0.0150 - val_mean_squared_error: 4.1631e-04\n",
      "Epoch 125/250\n",
      "145/145 [==============================] - 4s 26ms/step - loss: 0.0128 - root_mean_squared_error: 0.0395 - mean_absolute_error: 0.0128 - mean_squared_error: 0.0016 - val_loss: 0.0151 - val_root_mean_squared_error: 0.0204 - val_mean_absolute_error: 0.0151 - val_mean_squared_error: 4.1642e-04\n",
      "Epoch 126/250\n",
      "145/145 [==============================] - 4s 26ms/step - loss: 0.0128 - root_mean_squared_error: 0.0395 - mean_absolute_error: 0.0128 - mean_squared_error: 0.0016 - val_loss: 0.0150 - val_root_mean_squared_error: 0.0203 - val_mean_absolute_error: 0.0150 - val_mean_squared_error: 4.1274e-04\n",
      "Epoch 127/250\n",
      "145/145 [==============================] - 4s 26ms/step - loss: 0.0127 - root_mean_squared_error: 0.0394 - mean_absolute_error: 0.0127 - mean_squared_error: 0.0016 - val_loss: 0.0150 - val_root_mean_squared_error: 0.0203 - val_mean_absolute_error: 0.0150 - val_mean_squared_error: 4.1285e-04\n",
      "Epoch 128/250\n",
      "145/145 [==============================] - 4s 25ms/step - loss: 0.0127 - root_mean_squared_error: 0.0394 - mean_absolute_error: 0.0127 - mean_squared_error: 0.0016 - val_loss: 0.0149 - val_root_mean_squared_error: 0.0202 - val_mean_absolute_error: 0.0149 - val_mean_squared_error: 4.1000e-04\n",
      "Epoch 129/250\n",
      "145/145 [==============================] - 4s 25ms/step - loss: 0.0126 - root_mean_squared_error: 0.0394 - mean_absolute_error: 0.0126 - mean_squared_error: 0.0016 - val_loss: 0.0149 - val_root_mean_squared_error: 0.0203 - val_mean_absolute_error: 0.0149 - val_mean_squared_error: 4.1012e-04\n",
      "Epoch 130/250\n",
      "145/145 [==============================] - 4s 28ms/step - loss: 0.0126 - root_mean_squared_error: 0.0393 - mean_absolute_error: 0.0126 - mean_squared_error: 0.0015 - val_loss: 0.0148 - val_root_mean_squared_error: 0.0202 - val_mean_absolute_error: 0.0148 - val_mean_squared_error: 4.0749e-04\n",
      "Epoch 131/250\n",
      "145/145 [==============================] - 4s 29ms/step - loss: 0.0126 - root_mean_squared_error: 0.0393 - mean_absolute_error: 0.0126 - mean_squared_error: 0.0015 - val_loss: 0.0147 - val_root_mean_squared_error: 0.0201 - val_mean_absolute_error: 0.0147 - val_mean_squared_error: 4.0460e-04\n",
      "Epoch 132/250\n",
      "145/145 [==============================] - 4s 26ms/step - loss: 0.0125 - root_mean_squared_error: 0.0392 - mean_absolute_error: 0.0125 - mean_squared_error: 0.0015 - val_loss: 0.0147 - val_root_mean_squared_error: 0.0201 - val_mean_absolute_error: 0.0147 - val_mean_squared_error: 4.0356e-04\n",
      "Epoch 133/250\n",
      "145/145 [==============================] - 4s 24ms/step - loss: 0.0125 - root_mean_squared_error: 0.0392 - mean_absolute_error: 0.0125 - mean_squared_error: 0.0015 - val_loss: 0.0146 - val_root_mean_squared_error: 0.0200 - val_mean_absolute_error: 0.0146 - val_mean_squared_error: 4.0067e-04\n",
      "Epoch 134/250\n",
      "145/145 [==============================] - 4s 26ms/step - loss: 0.0124 - root_mean_squared_error: 0.0392 - mean_absolute_error: 0.0124 - mean_squared_error: 0.0015 - val_loss: 0.0146 - val_root_mean_squared_error: 0.0200 - val_mean_absolute_error: 0.0146 - val_mean_squared_error: 3.9894e-04\n",
      "Epoch 135/250\n",
      "145/145 [==============================] - 3s 23ms/step - loss: 0.0124 - root_mean_squared_error: 0.0392 - mean_absolute_error: 0.0124 - mean_squared_error: 0.0015 - val_loss: 0.0145 - val_root_mean_squared_error: 0.0200 - val_mean_absolute_error: 0.0145 - val_mean_squared_error: 3.9817e-04\n",
      "Epoch 136/250\n",
      "145/145 [==============================] - 3s 23ms/step - loss: 0.0123 - root_mean_squared_error: 0.0391 - mean_absolute_error: 0.0123 - mean_squared_error: 0.0015 - val_loss: 0.0144 - val_root_mean_squared_error: 0.0198 - val_mean_absolute_error: 0.0144 - val_mean_squared_error: 3.9393e-04\n",
      "Epoch 137/250\n",
      "145/145 [==============================] - 4s 25ms/step - loss: 0.0123 - root_mean_squared_error: 0.0391 - mean_absolute_error: 0.0123 - mean_squared_error: 0.0015 - val_loss: 0.0143 - val_root_mean_squared_error: 0.0198 - val_mean_absolute_error: 0.0143 - val_mean_squared_error: 3.9008e-04\n",
      "Epoch 138/250\n",
      "145/145 [==============================] - 4s 28ms/step - loss: 0.0123 - root_mean_squared_error: 0.0391 - mean_absolute_error: 0.0123 - mean_squared_error: 0.0015 - val_loss: 0.0142 - val_root_mean_squared_error: 0.0197 - val_mean_absolute_error: 0.0142 - val_mean_squared_error: 3.8907e-04\n",
      "Epoch 139/250\n",
      "145/145 [==============================] - 4s 26ms/step - loss: 0.0122 - root_mean_squared_error: 0.0391 - mean_absolute_error: 0.0122 - mean_squared_error: 0.0015 - val_loss: 0.0142 - val_root_mean_squared_error: 0.0197 - val_mean_absolute_error: 0.0142 - val_mean_squared_error: 3.8739e-04\n",
      "Epoch 140/250\n",
      "145/145 [==============================] - 3s 23ms/step - loss: 0.0121 - root_mean_squared_error: 0.0390 - mean_absolute_error: 0.0121 - mean_squared_error: 0.0015 - val_loss: 0.0140 - val_root_mean_squared_error: 0.0195 - val_mean_absolute_error: 0.0140 - val_mean_squared_error: 3.8055e-04\n",
      "Epoch 141/250\n",
      "145/145 [==============================] - 3s 23ms/step - loss: 0.0122 - root_mean_squared_error: 0.0391 - mean_absolute_error: 0.0122 - mean_squared_error: 0.0015 - val_loss: 0.0139 - val_root_mean_squared_error: 0.0195 - val_mean_absolute_error: 0.0139 - val_mean_squared_error: 3.7864e-04\n",
      "Epoch 142/250\n",
      "145/145 [==============================] - 3s 24ms/step - loss: 0.0121 - root_mean_squared_error: 0.0390 - mean_absolute_error: 0.0121 - mean_squared_error: 0.0015 - val_loss: 0.0139 - val_root_mean_squared_error: 0.0194 - val_mean_absolute_error: 0.0139 - val_mean_squared_error: 3.7686e-04\n",
      "Epoch 143/250\n",
      "145/145 [==============================] - 5s 31ms/step - loss: 0.0121 - root_mean_squared_error: 0.0390 - mean_absolute_error: 0.0121 - mean_squared_error: 0.0015 - val_loss: 0.0139 - val_root_mean_squared_error: 0.0194 - val_mean_absolute_error: 0.0139 - val_mean_squared_error: 3.7748e-04\n",
      "Epoch 144/250\n",
      "145/145 [==============================] - 4s 28ms/step - loss: 0.0120 - root_mean_squared_error: 0.0389 - mean_absolute_error: 0.0120 - mean_squared_error: 0.0015 - val_loss: 0.0137 - val_root_mean_squared_error: 0.0193 - val_mean_absolute_error: 0.0137 - val_mean_squared_error: 3.7282e-04\n",
      "Epoch 145/250\n",
      "145/145 [==============================] - 4s 25ms/step - loss: 0.0120 - root_mean_squared_error: 0.0389 - mean_absolute_error: 0.0120 - mean_squared_error: 0.0015 - val_loss: 0.0137 - val_root_mean_squared_error: 0.0193 - val_mean_absolute_error: 0.0137 - val_mean_squared_error: 3.7216e-04\n",
      "Epoch 146/250\n",
      "145/145 [==============================] - 4s 27ms/step - loss: 0.0119 - root_mean_squared_error: 0.0389 - mean_absolute_error: 0.0119 - mean_squared_error: 0.0015 - val_loss: 0.0136 - val_root_mean_squared_error: 0.0192 - val_mean_absolute_error: 0.0136 - val_mean_squared_error: 3.6918e-04\n",
      "Epoch 147/250\n",
      "145/145 [==============================] - 4s 29ms/step - loss: 0.0119 - root_mean_squared_error: 0.0389 - mean_absolute_error: 0.0119 - mean_squared_error: 0.0015 - val_loss: 0.0135 - val_root_mean_squared_error: 0.0192 - val_mean_absolute_error: 0.0135 - val_mean_squared_error: 3.6673e-04\n",
      "Epoch 148/250\n",
      "145/145 [==============================] - 4s 27ms/step - loss: 0.0119 - root_mean_squared_error: 0.0389 - mean_absolute_error: 0.0119 - mean_squared_error: 0.0015 - val_loss: 0.0134 - val_root_mean_squared_error: 0.0190 - val_mean_absolute_error: 0.0134 - val_mean_squared_error: 3.6270e-04\n",
      "Epoch 149/250\n",
      "145/145 [==============================] - 4s 24ms/step - loss: 0.0119 - root_mean_squared_error: 0.0388 - mean_absolute_error: 0.0119 - mean_squared_error: 0.0015 - val_loss: 0.0134 - val_root_mean_squared_error: 0.0190 - val_mean_absolute_error: 0.0134 - val_mean_squared_error: 3.6270e-04\n",
      "Epoch 150/250\n",
      "145/145 [==============================] - 4s 27ms/step - loss: 0.0118 - root_mean_squared_error: 0.0388 - mean_absolute_error: 0.0118 - mean_squared_error: 0.0015 - val_loss: 0.0133 - val_root_mean_squared_error: 0.0190 - val_mean_absolute_error: 0.0133 - val_mean_squared_error: 3.5937e-04\n",
      "Epoch 151/250\n",
      "145/145 [==============================] - 4s 27ms/step - loss: 0.0118 - root_mean_squared_error: 0.0388 - mean_absolute_error: 0.0118 - mean_squared_error: 0.0015 - val_loss: 0.0133 - val_root_mean_squared_error: 0.0189 - val_mean_absolute_error: 0.0133 - val_mean_squared_error: 3.5800e-04\n",
      "Epoch 152/250\n",
      "145/145 [==============================] - 4s 25ms/step - loss: 0.0118 - root_mean_squared_error: 0.0388 - mean_absolute_error: 0.0118 - mean_squared_error: 0.0015 - val_loss: 0.0132 - val_root_mean_squared_error: 0.0188 - val_mean_absolute_error: 0.0132 - val_mean_squared_error: 3.5472e-04\n",
      "Epoch 153/250\n",
      "145/145 [==============================] - 4s 27ms/step - loss: 0.0117 - root_mean_squared_error: 0.0387 - mean_absolute_error: 0.0117 - mean_squared_error: 0.0015 - val_loss: 0.0131 - val_root_mean_squared_error: 0.0188 - val_mean_absolute_error: 0.0131 - val_mean_squared_error: 3.5330e-04\n",
      "Epoch 154/250\n",
      "145/145 [==============================] - 4s 27ms/step - loss: 0.0117 - root_mean_squared_error: 0.0387 - mean_absolute_error: 0.0117 - mean_squared_error: 0.0015 - val_loss: 0.0130 - val_root_mean_squared_error: 0.0187 - val_mean_absolute_error: 0.0130 - val_mean_squared_error: 3.5080e-04\n",
      "Epoch 155/250\n",
      "145/145 [==============================] - 3s 22ms/step - loss: 0.0117 - root_mean_squared_error: 0.0387 - mean_absolute_error: 0.0117 - mean_squared_error: 0.0015 - val_loss: 0.0130 - val_root_mean_squared_error: 0.0187 - val_mean_absolute_error: 0.0130 - val_mean_squared_error: 3.4878e-04\n",
      "Epoch 156/250\n",
      "145/145 [==============================] - 4s 26ms/step - loss: 0.0116 - root_mean_squared_error: 0.0387 - mean_absolute_error: 0.0116 - mean_squared_error: 0.0015 - val_loss: 0.0129 - val_root_mean_squared_error: 0.0186 - val_mean_absolute_error: 0.0129 - val_mean_squared_error: 3.4664e-04\n",
      "Epoch 157/250\n",
      "145/145 [==============================] - 3s 23ms/step - loss: 0.0116 - root_mean_squared_error: 0.0387 - mean_absolute_error: 0.0116 - mean_squared_error: 0.0015 - val_loss: 0.0128 - val_root_mean_squared_error: 0.0186 - val_mean_absolute_error: 0.0128 - val_mean_squared_error: 3.4474e-04\n",
      "Epoch 158/250\n",
      "145/145 [==============================] - 4s 24ms/step - loss: 0.0116 - root_mean_squared_error: 0.0386 - mean_absolute_error: 0.0116 - mean_squared_error: 0.0015 - val_loss: 0.0128 - val_root_mean_squared_error: 0.0185 - val_mean_absolute_error: 0.0128 - val_mean_squared_error: 3.4311e-04\n",
      "Epoch 159/250\n",
      "145/145 [==============================] - 4s 27ms/step - loss: 0.0115 - root_mean_squared_error: 0.0386 - mean_absolute_error: 0.0115 - mean_squared_error: 0.0015 - val_loss: 0.0127 - val_root_mean_squared_error: 0.0185 - val_mean_absolute_error: 0.0127 - val_mean_squared_error: 3.4059e-04\n",
      "Epoch 160/250\n",
      "145/145 [==============================] - 4s 26ms/step - loss: 0.0115 - root_mean_squared_error: 0.0386 - mean_absolute_error: 0.0115 - mean_squared_error: 0.0015 - val_loss: 0.0126 - val_root_mean_squared_error: 0.0184 - val_mean_absolute_error: 0.0126 - val_mean_squared_error: 3.3859e-04\n",
      "Epoch 161/250\n",
      "145/145 [==============================] - 3s 23ms/step - loss: 0.0115 - root_mean_squared_error: 0.0386 - mean_absolute_error: 0.0115 - mean_squared_error: 0.0015 - val_loss: 0.0126 - val_root_mean_squared_error: 0.0184 - val_mean_absolute_error: 0.0126 - val_mean_squared_error: 3.3705e-04\n",
      "Epoch 162/250\n",
      "145/145 [==============================] - 4s 25ms/step - loss: 0.0115 - root_mean_squared_error: 0.0385 - mean_absolute_error: 0.0115 - mean_squared_error: 0.0015 - val_loss: 0.0126 - val_root_mean_squared_error: 0.0183 - val_mean_absolute_error: 0.0126 - val_mean_squared_error: 3.3563e-04\n",
      "Epoch 163/250\n",
      "145/145 [==============================] - 4s 29ms/step - loss: 0.0114 - root_mean_squared_error: 0.0385 - mean_absolute_error: 0.0114 - mean_squared_error: 0.0015 - val_loss: 0.0125 - val_root_mean_squared_error: 0.0183 - val_mean_absolute_error: 0.0125 - val_mean_squared_error: 3.3429e-04\n",
      "Epoch 164/250\n",
      "145/145 [==============================] - 3s 23ms/step - loss: 0.0114 - root_mean_squared_error: 0.0385 - mean_absolute_error: 0.0114 - mean_squared_error: 0.0015 - val_loss: 0.0124 - val_root_mean_squared_error: 0.0182 - val_mean_absolute_error: 0.0124 - val_mean_squared_error: 3.3061e-04\n",
      "Epoch 165/250\n",
      "145/145 [==============================] - 4s 27ms/step - loss: 0.0114 - root_mean_squared_error: 0.0385 - mean_absolute_error: 0.0114 - mean_squared_error: 0.0015 - val_loss: 0.0124 - val_root_mean_squared_error: 0.0182 - val_mean_absolute_error: 0.0124 - val_mean_squared_error: 3.3043e-04\n",
      "Epoch 166/250\n",
      "145/145 [==============================] - 4s 29ms/step - loss: 0.0114 - root_mean_squared_error: 0.0385 - mean_absolute_error: 0.0114 - mean_squared_error: 0.0015 - val_loss: 0.0124 - val_root_mean_squared_error: 0.0181 - val_mean_absolute_error: 0.0124 - val_mean_squared_error: 3.2907e-04\n",
      "Epoch 167/250\n",
      "145/145 [==============================] - 3s 24ms/step - loss: 0.0113 - root_mean_squared_error: 0.0385 - mean_absolute_error: 0.0113 - mean_squared_error: 0.0015 - val_loss: 0.0123 - val_root_mean_squared_error: 0.0181 - val_mean_absolute_error: 0.0123 - val_mean_squared_error: 3.2762e-04\n",
      "Epoch 168/250\n",
      "145/145 [==============================] - 4s 25ms/step - loss: 0.0113 - root_mean_squared_error: 0.0384 - mean_absolute_error: 0.0113 - mean_squared_error: 0.0015 - val_loss: 0.0122 - val_root_mean_squared_error: 0.0180 - val_mean_absolute_error: 0.0122 - val_mean_squared_error: 3.2549e-04\n",
      "Epoch 169/250\n",
      "145/145 [==============================] - 4s 28ms/step - loss: 0.0113 - root_mean_squared_error: 0.0384 - mean_absolute_error: 0.0113 - mean_squared_error: 0.0015 - val_loss: 0.0122 - val_root_mean_squared_error: 0.0180 - val_mean_absolute_error: 0.0122 - val_mean_squared_error: 3.2317e-04\n",
      "Epoch 170/250\n",
      "145/145 [==============================] - 4s 26ms/step - loss: 0.0113 - root_mean_squared_error: 0.0384 - mean_absolute_error: 0.0113 - mean_squared_error: 0.0015 - val_loss: 0.0121 - val_root_mean_squared_error: 0.0180 - val_mean_absolute_error: 0.0121 - val_mean_squared_error: 3.2242e-04\n",
      "Epoch 171/250\n",
      "145/145 [==============================] - 4s 28ms/step - loss: 0.0113 - root_mean_squared_error: 0.0384 - mean_absolute_error: 0.0113 - mean_squared_error: 0.0015 - val_loss: 0.0120 - val_root_mean_squared_error: 0.0179 - val_mean_absolute_error: 0.0120 - val_mean_squared_error: 3.1882e-04\n",
      "Epoch 172/250\n",
      "145/145 [==============================] - 4s 28ms/step - loss: 0.0112 - root_mean_squared_error: 0.0384 - mean_absolute_error: 0.0112 - mean_squared_error: 0.0015 - val_loss: 0.0120 - val_root_mean_squared_error: 0.0179 - val_mean_absolute_error: 0.0120 - val_mean_squared_error: 3.1912e-04\n",
      "Epoch 173/250\n",
      "145/145 [==============================] - 4s 26ms/step - loss: 0.0112 - root_mean_squared_error: 0.0384 - mean_absolute_error: 0.0112 - mean_squared_error: 0.0015 - val_loss: 0.0120 - val_root_mean_squared_error: 0.0178 - val_mean_absolute_error: 0.0120 - val_mean_squared_error: 3.1755e-04\n",
      "Epoch 174/250\n",
      "145/145 [==============================] - 4s 26ms/step - loss: 0.0112 - root_mean_squared_error: 0.0384 - mean_absolute_error: 0.0112 - mean_squared_error: 0.0015 - val_loss: 0.0119 - val_root_mean_squared_error: 0.0177 - val_mean_absolute_error: 0.0119 - val_mean_squared_error: 3.1506e-04\n",
      "Epoch 175/250\n",
      "145/145 [==============================] - 4s 27ms/step - loss: 0.0112 - root_mean_squared_error: 0.0384 - mean_absolute_error: 0.0112 - mean_squared_error: 0.0015 - val_loss: 0.0119 - val_root_mean_squared_error: 0.0177 - val_mean_absolute_error: 0.0119 - val_mean_squared_error: 3.1339e-04\n",
      "Epoch 176/250\n",
      "145/145 [==============================] - 4s 28ms/step - loss: 0.0112 - root_mean_squared_error: 0.0383 - mean_absolute_error: 0.0112 - mean_squared_error: 0.0015 - val_loss: 0.0119 - val_root_mean_squared_error: 0.0177 - val_mean_absolute_error: 0.0119 - val_mean_squared_error: 3.1312e-04\n",
      "Epoch 177/250\n",
      "145/145 [==============================] - 4s 27ms/step - loss: 0.0112 - root_mean_squared_error: 0.0383 - mean_absolute_error: 0.0112 - mean_squared_error: 0.0015 - val_loss: 0.0118 - val_root_mean_squared_error: 0.0176 - val_mean_absolute_error: 0.0118 - val_mean_squared_error: 3.1103e-04\n",
      "Epoch 178/250\n",
      "145/145 [==============================] - 4s 26ms/step - loss: 0.0111 - root_mean_squared_error: 0.0383 - mean_absolute_error: 0.0111 - mean_squared_error: 0.0015 - val_loss: 0.0117 - val_root_mean_squared_error: 0.0176 - val_mean_absolute_error: 0.0117 - val_mean_squared_error: 3.0914e-04\n",
      "Epoch 179/250\n",
      "145/145 [==============================] - 4s 24ms/step - loss: 0.0112 - root_mean_squared_error: 0.0383 - mean_absolute_error: 0.0112 - mean_squared_error: 0.0015 - val_loss: 0.0117 - val_root_mean_squared_error: 0.0175 - val_mean_absolute_error: 0.0117 - val_mean_squared_error: 3.0755e-04\n",
      "Epoch 180/250\n",
      "145/145 [==============================] - 4s 25ms/step - loss: 0.0111 - root_mean_squared_error: 0.0383 - mean_absolute_error: 0.0111 - mean_squared_error: 0.0015 - val_loss: 0.0117 - val_root_mean_squared_error: 0.0176 - val_mean_absolute_error: 0.0117 - val_mean_squared_error: 3.0828e-04\n",
      "Epoch 181/250\n",
      "145/145 [==============================] - 4s 28ms/step - loss: 0.0111 - root_mean_squared_error: 0.0383 - mean_absolute_error: 0.0111 - mean_squared_error: 0.0015 - val_loss: 0.0116 - val_root_mean_squared_error: 0.0175 - val_mean_absolute_error: 0.0116 - val_mean_squared_error: 3.0593e-04\n",
      "Epoch 182/250\n",
      "145/145 [==============================] - 4s 26ms/step - loss: 0.0111 - root_mean_squared_error: 0.0382 - mean_absolute_error: 0.0111 - mean_squared_error: 0.0015 - val_loss: 0.0116 - val_root_mean_squared_error: 0.0175 - val_mean_absolute_error: 0.0116 - val_mean_squared_error: 3.0482e-04\n",
      "Epoch 183/250\n",
      "145/145 [==============================] - 3s 23ms/step - loss: 0.0110 - root_mean_squared_error: 0.0382 - mean_absolute_error: 0.0110 - mean_squared_error: 0.0015 - val_loss: 0.0116 - val_root_mean_squared_error: 0.0174 - val_mean_absolute_error: 0.0116 - val_mean_squared_error: 3.0364e-04\n",
      "Epoch 184/250\n",
      "145/145 [==============================] - 3s 23ms/step - loss: 0.0110 - root_mean_squared_error: 0.0382 - mean_absolute_error: 0.0110 - mean_squared_error: 0.0015 - val_loss: 0.0115 - val_root_mean_squared_error: 0.0174 - val_mean_absolute_error: 0.0115 - val_mean_squared_error: 3.0249e-04\n",
      "Epoch 185/250\n",
      "145/145 [==============================] - 4s 29ms/step - loss: 0.0110 - root_mean_squared_error: 0.0382 - mean_absolute_error: 0.0110 - mean_squared_error: 0.0015 - val_loss: 0.0115 - val_root_mean_squared_error: 0.0174 - val_mean_absolute_error: 0.0115 - val_mean_squared_error: 3.0154e-04\n",
      "Epoch 186/250\n",
      "145/145 [==============================] - 4s 30ms/step - loss: 0.0110 - root_mean_squared_error: 0.0382 - mean_absolute_error: 0.0110 - mean_squared_error: 0.0015 - val_loss: 0.0114 - val_root_mean_squared_error: 0.0173 - val_mean_absolute_error: 0.0114 - val_mean_squared_error: 2.9891e-04\n",
      "Epoch 187/250\n",
      "145/145 [==============================] - 4s 27ms/step - loss: 0.0110 - root_mean_squared_error: 0.0382 - mean_absolute_error: 0.0110 - mean_squared_error: 0.0015 - val_loss: 0.0114 - val_root_mean_squared_error: 0.0173 - val_mean_absolute_error: 0.0114 - val_mean_squared_error: 2.9917e-04\n",
      "Epoch 188/250\n",
      "145/145 [==============================] - 4s 26ms/step - loss: 0.0109 - root_mean_squared_error: 0.0382 - mean_absolute_error: 0.0109 - mean_squared_error: 0.0015 - val_loss: 0.0114 - val_root_mean_squared_error: 0.0173 - val_mean_absolute_error: 0.0114 - val_mean_squared_error: 2.9877e-04\n",
      "Epoch 189/250\n",
      "145/145 [==============================] - 4s 28ms/step - loss: 0.0109 - root_mean_squared_error: 0.0381 - mean_absolute_error: 0.0109 - mean_squared_error: 0.0015 - val_loss: 0.0113 - val_root_mean_squared_error: 0.0172 - val_mean_absolute_error: 0.0113 - val_mean_squared_error: 2.9575e-04\n",
      "Epoch 190/250\n",
      "145/145 [==============================] - 4s 27ms/step - loss: 0.0109 - root_mean_squared_error: 0.0381 - mean_absolute_error: 0.0109 - mean_squared_error: 0.0015 - val_loss: 0.0114 - val_root_mean_squared_error: 0.0172 - val_mean_absolute_error: 0.0114 - val_mean_squared_error: 2.9649e-04\n",
      "Epoch 191/250\n",
      "145/145 [==============================] - 4s 26ms/step - loss: 0.0108 - root_mean_squared_error: 0.0381 - mean_absolute_error: 0.0108 - mean_squared_error: 0.0015 - val_loss: 0.0113 - val_root_mean_squared_error: 0.0172 - val_mean_absolute_error: 0.0113 - val_mean_squared_error: 2.9424e-04\n",
      "Epoch 192/250\n",
      "145/145 [==============================] - 4s 26ms/step - loss: 0.0108 - root_mean_squared_error: 0.0381 - mean_absolute_error: 0.0108 - mean_squared_error: 0.0015 - val_loss: 0.0113 - val_root_mean_squared_error: 0.0171 - val_mean_absolute_error: 0.0113 - val_mean_squared_error: 2.9317e-04\n",
      "Epoch 193/250\n",
      "145/145 [==============================] - 4s 26ms/step - loss: 0.0109 - root_mean_squared_error: 0.0381 - mean_absolute_error: 0.0109 - mean_squared_error: 0.0015 - val_loss: 0.0113 - val_root_mean_squared_error: 0.0171 - val_mean_absolute_error: 0.0113 - val_mean_squared_error: 2.9355e-04\n",
      "Epoch 194/250\n",
      "145/145 [==============================] - 4s 29ms/step - loss: 0.0108 - root_mean_squared_error: 0.0381 - mean_absolute_error: 0.0108 - mean_squared_error: 0.0014 - val_loss: 0.0112 - val_root_mean_squared_error: 0.0171 - val_mean_absolute_error: 0.0112 - val_mean_squared_error: 2.9171e-04\n",
      "Epoch 195/250\n",
      "145/145 [==============================] - 4s 28ms/step - loss: 0.0108 - root_mean_squared_error: 0.0381 - mean_absolute_error: 0.0108 - mean_squared_error: 0.0014 - val_loss: 0.0112 - val_root_mean_squared_error: 0.0171 - val_mean_absolute_error: 0.0112 - val_mean_squared_error: 2.9114e-04\n",
      "Epoch 196/250\n",
      "145/145 [==============================] - 4s 28ms/step - loss: 0.0108 - root_mean_squared_error: 0.0381 - mean_absolute_error: 0.0108 - mean_squared_error: 0.0014 - val_loss: 0.0112 - val_root_mean_squared_error: 0.0170 - val_mean_absolute_error: 0.0112 - val_mean_squared_error: 2.9001e-04\n",
      "Epoch 197/250\n",
      "145/145 [==============================] - 4s 27ms/step - loss: 0.0108 - root_mean_squared_error: 0.0380 - mean_absolute_error: 0.0108 - mean_squared_error: 0.0014 - val_loss: 0.0111 - val_root_mean_squared_error: 0.0170 - val_mean_absolute_error: 0.0111 - val_mean_squared_error: 2.8897e-04\n",
      "Epoch 198/250\n",
      "145/145 [==============================] - 4s 28ms/step - loss: 0.0107 - root_mean_squared_error: 0.0380 - mean_absolute_error: 0.0107 - mean_squared_error: 0.0014 - val_loss: 0.0112 - val_root_mean_squared_error: 0.0170 - val_mean_absolute_error: 0.0112 - val_mean_squared_error: 2.8981e-04\n",
      "Epoch 199/250\n",
      "145/145 [==============================] - 4s 27ms/step - loss: 0.0107 - root_mean_squared_error: 0.0380 - mean_absolute_error: 0.0107 - mean_squared_error: 0.0014 - val_loss: 0.0111 - val_root_mean_squared_error: 0.0170 - val_mean_absolute_error: 0.0111 - val_mean_squared_error: 2.8810e-04\n",
      "Epoch 200/250\n",
      "145/145 [==============================] - 4s 27ms/step - loss: 0.0107 - root_mean_squared_error: 0.0380 - mean_absolute_error: 0.0107 - mean_squared_error: 0.0014 - val_loss: 0.0111 - val_root_mean_squared_error: 0.0169 - val_mean_absolute_error: 0.0111 - val_mean_squared_error: 2.8700e-04\n",
      "Epoch 201/250\n",
      "145/145 [==============================] - 4s 30ms/step - loss: 0.0107 - root_mean_squared_error: 0.0380 - mean_absolute_error: 0.0107 - mean_squared_error: 0.0014 - val_loss: 0.0111 - val_root_mean_squared_error: 0.0169 - val_mean_absolute_error: 0.0111 - val_mean_squared_error: 2.8599e-04\n",
      "Epoch 202/250\n",
      "145/145 [==============================] - 4s 28ms/step - loss: 0.0107 - root_mean_squared_error: 0.0380 - mean_absolute_error: 0.0107 - mean_squared_error: 0.0014 - val_loss: 0.0110 - val_root_mean_squared_error: 0.0169 - val_mean_absolute_error: 0.0110 - val_mean_squared_error: 2.8511e-04\n",
      "Epoch 203/250\n",
      "145/145 [==============================] - 4s 28ms/step - loss: 0.0107 - root_mean_squared_error: 0.0380 - mean_absolute_error: 0.0107 - mean_squared_error: 0.0014 - val_loss: 0.0110 - val_root_mean_squared_error: 0.0169 - val_mean_absolute_error: 0.0110 - val_mean_squared_error: 2.8479e-04\n",
      "Epoch 204/250\n",
      "145/145 [==============================] - 4s 25ms/step - loss: 0.0107 - root_mean_squared_error: 0.0380 - mean_absolute_error: 0.0107 - mean_squared_error: 0.0014 - val_loss: 0.0110 - val_root_mean_squared_error: 0.0168 - val_mean_absolute_error: 0.0110 - val_mean_squared_error: 2.8330e-04\n",
      "Epoch 205/250\n",
      "145/145 [==============================] - 4s 25ms/step - loss: 0.0106 - root_mean_squared_error: 0.0379 - mean_absolute_error: 0.0106 - mean_squared_error: 0.0014 - val_loss: 0.0110 - val_root_mean_squared_error: 0.0168 - val_mean_absolute_error: 0.0110 - val_mean_squared_error: 2.8248e-04\n",
      "Epoch 206/250\n",
      "145/145 [==============================] - 5s 31ms/step - loss: 0.0106 - root_mean_squared_error: 0.0379 - mean_absolute_error: 0.0106 - mean_squared_error: 0.0014 - val_loss: 0.0110 - val_root_mean_squared_error: 0.0168 - val_mean_absolute_error: 0.0110 - val_mean_squared_error: 2.8338e-04\n",
      "Epoch 207/250\n",
      "145/145 [==============================] - 4s 30ms/step - loss: 0.0106 - root_mean_squared_error: 0.0379 - mean_absolute_error: 0.0106 - mean_squared_error: 0.0014 - val_loss: 0.0109 - val_root_mean_squared_error: 0.0168 - val_mean_absolute_error: 0.0109 - val_mean_squared_error: 2.8171e-04\n",
      "Epoch 208/250\n",
      "145/145 [==============================] - 4s 26ms/step - loss: 0.0106 - root_mean_squared_error: 0.0379 - mean_absolute_error: 0.0106 - mean_squared_error: 0.0014 - val_loss: 0.0110 - val_root_mean_squared_error: 0.0168 - val_mean_absolute_error: 0.0110 - val_mean_squared_error: 2.8245e-04\n",
      "Epoch 209/250\n",
      "145/145 [==============================] - 4s 28ms/step - loss: 0.0106 - root_mean_squared_error: 0.0379 - mean_absolute_error: 0.0106 - mean_squared_error: 0.0014 - val_loss: 0.0109 - val_root_mean_squared_error: 0.0167 - val_mean_absolute_error: 0.0109 - val_mean_squared_error: 2.7891e-04\n",
      "Epoch 210/250\n",
      "145/145 [==============================] - 4s 25ms/step - loss: 0.0106 - root_mean_squared_error: 0.0379 - mean_absolute_error: 0.0106 - mean_squared_error: 0.0014 - val_loss: 0.0109 - val_root_mean_squared_error: 0.0168 - val_mean_absolute_error: 0.0109 - val_mean_squared_error: 2.8073e-04\n",
      "Epoch 211/250\n",
      "145/145 [==============================] - 3s 23ms/step - loss: 0.0105 - root_mean_squared_error: 0.0378 - mean_absolute_error: 0.0105 - mean_squared_error: 0.0014 - val_loss: 0.0109 - val_root_mean_squared_error: 0.0167 - val_mean_absolute_error: 0.0109 - val_mean_squared_error: 2.7911e-04\n",
      "Epoch 212/250\n",
      "145/145 [==============================] - 3s 23ms/step - loss: 0.0105 - root_mean_squared_error: 0.0378 - mean_absolute_error: 0.0105 - mean_squared_error: 0.0014 - val_loss: 0.0109 - val_root_mean_squared_error: 0.0167 - val_mean_absolute_error: 0.0109 - val_mean_squared_error: 2.7875e-04\n",
      "Epoch 213/250\n",
      "145/145 [==============================] - 4s 28ms/step - loss: 0.0105 - root_mean_squared_error: 0.0378 - mean_absolute_error: 0.0105 - mean_squared_error: 0.0014 - val_loss: 0.0109 - val_root_mean_squared_error: 0.0167 - val_mean_absolute_error: 0.0109 - val_mean_squared_error: 2.7799e-04\n",
      "Epoch 214/250\n",
      "145/145 [==============================] - 4s 28ms/step - loss: 0.0105 - root_mean_squared_error: 0.0378 - mean_absolute_error: 0.0105 - mean_squared_error: 0.0014 - val_loss: 0.0108 - val_root_mean_squared_error: 0.0166 - val_mean_absolute_error: 0.0108 - val_mean_squared_error: 2.7719e-04\n",
      "Epoch 215/250\n",
      "145/145 [==============================] - 4s 26ms/step - loss: 0.0105 - root_mean_squared_error: 0.0378 - mean_absolute_error: 0.0105 - mean_squared_error: 0.0014 - val_loss: 0.0108 - val_root_mean_squared_error: 0.0166 - val_mean_absolute_error: 0.0108 - val_mean_squared_error: 2.7705e-04\n",
      "Epoch 216/250\n",
      "145/145 [==============================] - 4s 29ms/step - loss: 0.0105 - root_mean_squared_error: 0.0378 - mean_absolute_error: 0.0105 - mean_squared_error: 0.0014 - val_loss: 0.0108 - val_root_mean_squared_error: 0.0166 - val_mean_absolute_error: 0.0108 - val_mean_squared_error: 2.7633e-04\n",
      "Epoch 217/250\n",
      "145/145 [==============================] - 4s 28ms/step - loss: 0.0105 - root_mean_squared_error: 0.0378 - mean_absolute_error: 0.0105 - mean_squared_error: 0.0014 - val_loss: 0.0108 - val_root_mean_squared_error: 0.0166 - val_mean_absolute_error: 0.0108 - val_mean_squared_error: 2.7565e-04\n",
      "Epoch 218/250\n",
      "145/145 [==============================] - 4s 27ms/step - loss: 0.0105 - root_mean_squared_error: 0.0378 - mean_absolute_error: 0.0105 - mean_squared_error: 0.0014 - val_loss: 0.0108 - val_root_mean_squared_error: 0.0166 - val_mean_absolute_error: 0.0108 - val_mean_squared_error: 2.7441e-04\n",
      "Epoch 219/250\n",
      "145/145 [==============================] - 4s 27ms/step - loss: 0.0105 - root_mean_squared_error: 0.0378 - mean_absolute_error: 0.0105 - mean_squared_error: 0.0014 - val_loss: 0.0107 - val_root_mean_squared_error: 0.0165 - val_mean_absolute_error: 0.0107 - val_mean_squared_error: 2.7349e-04\n",
      "Epoch 220/250\n",
      "145/145 [==============================] - 4s 27ms/step - loss: 0.0104 - root_mean_squared_error: 0.0377 - mean_absolute_error: 0.0104 - mean_squared_error: 0.0014 - val_loss: 0.0107 - val_root_mean_squared_error: 0.0165 - val_mean_absolute_error: 0.0107 - val_mean_squared_error: 2.7318e-04\n",
      "Epoch 221/250\n",
      "145/145 [==============================] - 4s 28ms/step - loss: 0.0104 - root_mean_squared_error: 0.0377 - mean_absolute_error: 0.0104 - mean_squared_error: 0.0014 - val_loss: 0.0107 - val_root_mean_squared_error: 0.0165 - val_mean_absolute_error: 0.0107 - val_mean_squared_error: 2.7252e-04\n",
      "Epoch 222/250\n",
      "145/145 [==============================] - 4s 29ms/step - loss: 0.0104 - root_mean_squared_error: 0.0377 - mean_absolute_error: 0.0104 - mean_squared_error: 0.0014 - val_loss: 0.0107 - val_root_mean_squared_error: 0.0165 - val_mean_absolute_error: 0.0107 - val_mean_squared_error: 2.7124e-04\n",
      "Epoch 223/250\n",
      "145/145 [==============================] - 4s 31ms/step - loss: 0.0104 - root_mean_squared_error: 0.0377 - mean_absolute_error: 0.0104 - mean_squared_error: 0.0014 - val_loss: 0.0107 - val_root_mean_squared_error: 0.0165 - val_mean_absolute_error: 0.0107 - val_mean_squared_error: 2.7091e-04\n",
      "Epoch 224/250\n",
      "145/145 [==============================] - 4s 28ms/step - loss: 0.0104 - root_mean_squared_error: 0.0377 - mean_absolute_error: 0.0104 - mean_squared_error: 0.0014 - val_loss: 0.0106 - val_root_mean_squared_error: 0.0164 - val_mean_absolute_error: 0.0106 - val_mean_squared_error: 2.6999e-04\n",
      "Epoch 225/250\n",
      "145/145 [==============================] - 4s 28ms/step - loss: 0.0103 - root_mean_squared_error: 0.0377 - mean_absolute_error: 0.0103 - mean_squared_error: 0.0014 - val_loss: 0.0106 - val_root_mean_squared_error: 0.0164 - val_mean_absolute_error: 0.0106 - val_mean_squared_error: 2.6909e-04\n",
      "Epoch 226/250\n",
      "145/145 [==============================] - 4s 28ms/step - loss: 0.0103 - root_mean_squared_error: 0.0377 - mean_absolute_error: 0.0103 - mean_squared_error: 0.0014 - val_loss: 0.0106 - val_root_mean_squared_error: 0.0164 - val_mean_absolute_error: 0.0106 - val_mean_squared_error: 2.6909e-04\n",
      "Epoch 227/250\n",
      "145/145 [==============================] - 4s 28ms/step - loss: 0.0104 - root_mean_squared_error: 0.0377 - mean_absolute_error: 0.0104 - mean_squared_error: 0.0014 - val_loss: 0.0106 - val_root_mean_squared_error: 0.0164 - val_mean_absolute_error: 0.0106 - val_mean_squared_error: 2.6787e-04\n",
      "Epoch 228/250\n",
      "145/145 [==============================] - 4s 29ms/step - loss: 0.0103 - root_mean_squared_error: 0.0377 - mean_absolute_error: 0.0103 - mean_squared_error: 0.0014 - val_loss: 0.0106 - val_root_mean_squared_error: 0.0163 - val_mean_absolute_error: 0.0106 - val_mean_squared_error: 2.6723e-04\n",
      "Epoch 229/250\n",
      "145/145 [==============================] - 4s 27ms/step - loss: 0.0103 - root_mean_squared_error: 0.0376 - mean_absolute_error: 0.0103 - mean_squared_error: 0.0014 - val_loss: 0.0106 - val_root_mean_squared_error: 0.0163 - val_mean_absolute_error: 0.0106 - val_mean_squared_error: 2.6728e-04\n",
      "Epoch 230/250\n",
      "145/145 [==============================] - 4s 25ms/step - loss: 0.0103 - root_mean_squared_error: 0.0376 - mean_absolute_error: 0.0103 - mean_squared_error: 0.0014 - val_loss: 0.0105 - val_root_mean_squared_error: 0.0163 - val_mean_absolute_error: 0.0105 - val_mean_squared_error: 2.6645e-04\n",
      "Epoch 231/250\n",
      "145/145 [==============================] - 4s 25ms/step - loss: 0.0103 - root_mean_squared_error: 0.0376 - mean_absolute_error: 0.0103 - mean_squared_error: 0.0014 - val_loss: 0.0105 - val_root_mean_squared_error: 0.0163 - val_mean_absolute_error: 0.0105 - val_mean_squared_error: 2.6605e-04\n",
      "Epoch 232/250\n",
      "145/145 [==============================] - 4s 26ms/step - loss: 0.0103 - root_mean_squared_error: 0.0376 - mean_absolute_error: 0.0103 - mean_squared_error: 0.0014 - val_loss: 0.0104 - val_root_mean_squared_error: 0.0162 - val_mean_absolute_error: 0.0104 - val_mean_squared_error: 2.6387e-04\n",
      "Epoch 233/250\n",
      "145/145 [==============================] - 4s 31ms/step - loss: 0.0103 - root_mean_squared_error: 0.0376 - mean_absolute_error: 0.0103 - mean_squared_error: 0.0014 - val_loss: 0.0105 - val_root_mean_squared_error: 0.0162 - val_mean_absolute_error: 0.0105 - val_mean_squared_error: 2.6384e-04\n",
      "Epoch 234/250\n",
      "145/145 [==============================] - 4s 28ms/step - loss: 0.0102 - root_mean_squared_error: 0.0376 - mean_absolute_error: 0.0102 - mean_squared_error: 0.0014 - val_loss: 0.0105 - val_root_mean_squared_error: 0.0162 - val_mean_absolute_error: 0.0105 - val_mean_squared_error: 2.6373e-04\n",
      "Epoch 235/250\n",
      "145/145 [==============================] - 4s 27ms/step - loss: 0.0102 - root_mean_squared_error: 0.0376 - mean_absolute_error: 0.0102 - mean_squared_error: 0.0014 - val_loss: 0.0105 - val_root_mean_squared_error: 0.0162 - val_mean_absolute_error: 0.0105 - val_mean_squared_error: 2.6357e-04\n",
      "Epoch 236/250\n",
      "145/145 [==============================] - 4s 27ms/step - loss: 0.0102 - root_mean_squared_error: 0.0376 - mean_absolute_error: 0.0102 - mean_squared_error: 0.0014 - val_loss: 0.0104 - val_root_mean_squared_error: 0.0162 - val_mean_absolute_error: 0.0104 - val_mean_squared_error: 2.6154e-04\n",
      "Epoch 237/250\n",
      "145/145 [==============================] - 4s 29ms/step - loss: 0.0102 - root_mean_squared_error: 0.0376 - mean_absolute_error: 0.0102 - mean_squared_error: 0.0014 - val_loss: 0.0104 - val_root_mean_squared_error: 0.0162 - val_mean_absolute_error: 0.0104 - val_mean_squared_error: 2.6188e-04\n",
      "Epoch 238/250\n",
      "145/145 [==============================] - 4s 26ms/step - loss: 0.0102 - root_mean_squared_error: 0.0376 - mean_absolute_error: 0.0102 - mean_squared_error: 0.0014 - val_loss: 0.0104 - val_root_mean_squared_error: 0.0162 - val_mean_absolute_error: 0.0104 - val_mean_squared_error: 2.6163e-04\n",
      "Epoch 239/250\n",
      "145/145 [==============================] - 4s 26ms/step - loss: 0.0102 - root_mean_squared_error: 0.0376 - mean_absolute_error: 0.0102 - mean_squared_error: 0.0014 - val_loss: 0.0103 - val_root_mean_squared_error: 0.0161 - val_mean_absolute_error: 0.0103 - val_mean_squared_error: 2.5946e-04\n",
      "Epoch 240/250\n",
      "145/145 [==============================] - 4s 29ms/step - loss: 0.0102 - root_mean_squared_error: 0.0376 - mean_absolute_error: 0.0102 - mean_squared_error: 0.0014 - val_loss: 0.0103 - val_root_mean_squared_error: 0.0161 - val_mean_absolute_error: 0.0103 - val_mean_squared_error: 2.5977e-04\n",
      "Epoch 241/250\n",
      "145/145 [==============================] - 4s 26ms/step - loss: 0.0102 - root_mean_squared_error: 0.0375 - mean_absolute_error: 0.0102 - mean_squared_error: 0.0014 - val_loss: 0.0103 - val_root_mean_squared_error: 0.0161 - val_mean_absolute_error: 0.0103 - val_mean_squared_error: 2.5915e-04\n",
      "Epoch 242/250\n",
      "145/145 [==============================] - 4s 28ms/step - loss: 0.0102 - root_mean_squared_error: 0.0375 - mean_absolute_error: 0.0102 - mean_squared_error: 0.0014 - val_loss: 0.0103 - val_root_mean_squared_error: 0.0160 - val_mean_absolute_error: 0.0103 - val_mean_squared_error: 2.5731e-04\n",
      "Epoch 243/250\n",
      "145/145 [==============================] - 4s 28ms/step - loss: 0.0102 - root_mean_squared_error: 0.0375 - mean_absolute_error: 0.0102 - mean_squared_error: 0.0014 - val_loss: 0.0103 - val_root_mean_squared_error: 0.0161 - val_mean_absolute_error: 0.0103 - val_mean_squared_error: 2.5775e-04\n",
      "Epoch 244/250\n",
      "145/145 [==============================] - 4s 28ms/step - loss: 0.0102 - root_mean_squared_error: 0.0375 - mean_absolute_error: 0.0102 - mean_squared_error: 0.0014 - val_loss: 0.0103 - val_root_mean_squared_error: 0.0160 - val_mean_absolute_error: 0.0103 - val_mean_squared_error: 2.5752e-04\n",
      "Epoch 245/250\n",
      "145/145 [==============================] - 4s 29ms/step - loss: 0.0102 - root_mean_squared_error: 0.0375 - mean_absolute_error: 0.0102 - mean_squared_error: 0.0014 - val_loss: 0.0102 - val_root_mean_squared_error: 0.0160 - val_mean_absolute_error: 0.0102 - val_mean_squared_error: 2.5566e-04\n",
      "Epoch 246/250\n",
      "145/145 [==============================] - 4s 30ms/step - loss: 0.0102 - root_mean_squared_error: 0.0375 - mean_absolute_error: 0.0102 - mean_squared_error: 0.0014 - val_loss: 0.0102 - val_root_mean_squared_error: 0.0160 - val_mean_absolute_error: 0.0102 - val_mean_squared_error: 2.5632e-04\n",
      "Epoch 247/250\n",
      "145/145 [==============================] - 4s 27ms/step - loss: 0.0102 - root_mean_squared_error: 0.0375 - mean_absolute_error: 0.0102 - mean_squared_error: 0.0014 - val_loss: 0.0102 - val_root_mean_squared_error: 0.0160 - val_mean_absolute_error: 0.0102 - val_mean_squared_error: 2.5459e-04\n",
      "Epoch 248/250\n",
      "145/145 [==============================] - 4s 27ms/step - loss: 0.0101 - root_mean_squared_error: 0.0375 - mean_absolute_error: 0.0101 - mean_squared_error: 0.0014 - val_loss: 0.0101 - val_root_mean_squared_error: 0.0159 - val_mean_absolute_error: 0.0101 - val_mean_squared_error: 2.5384e-04\n",
      "Epoch 249/250\n",
      "145/145 [==============================] - 3s 24ms/step - loss: 0.0102 - root_mean_squared_error: 0.0375 - mean_absolute_error: 0.0102 - mean_squared_error: 0.0014 - val_loss: 0.0102 - val_root_mean_squared_error: 0.0159 - val_mean_absolute_error: 0.0102 - val_mean_squared_error: 2.5431e-04\n",
      "Epoch 250/250\n",
      "145/145 [==============================] - 4s 28ms/step - loss: 0.0102 - root_mean_squared_error: 0.0375 - mean_absolute_error: 0.0102 - mean_squared_error: 0.0014 - val_loss: 0.0101 - val_root_mean_squared_error: 0.0159 - val_mean_absolute_error: 0.0101 - val_mean_squared_error: 2.5310e-04\n"
     ]
    }
   ],
   "source": [
    "history = model.fit_generator(train_generator, epochs = 250, validation_data = test_generator,shuffle = False)           "
   ]
  },
  {
   "cell_type": "markdown",
   "id": "f37ddc1c",
   "metadata": {},
   "source": [
    "# Evaluate"
   ]
  },
  {
   "cell_type": "code",
   "execution_count": 55,
   "id": "ecba8b2e",
   "metadata": {},
   "outputs": [
    {
     "data": {
      "image/png": "[encoded data removed]",
      "text/plain": [
       "<Figure size 1080x504 with 3 Axes>"
      ]
     },
     "metadata": {
      "needs_background": "light"
     },
     "output_type": "display_data"
    }
   ],
   "source": [
    "fig, (ax1,ax2,ax3) = plt.subplots(3,1, sharex = True,figsize = (15,7))\n",
    "\n",
    "ax1.plot(history.history[\"val_mean_squared_error\"]);\n",
    "ax1.plot(history.history[\"mean_squared_error\"]);\n",
    "\n",
    "ax2.plot(history.history[\"val_root_mean_squared_error\"]);\n",
    "ax2.plot(history.history[\"root_mean_squared_error\"]);\n",
    "\n",
    "\n",
    "ax3.plot(history.history[\"val_mean_absolute_error\"]);\n",
    "ax3.plot(history.history[\"mean_absolute_error\"]);\n",
    "\n",
    "ax1.set_ylabel('MSE',Rotation =0, fontsize=20,labelpad=35)\n",
    "ax2.set_ylabel('RMSE',Rotation =0, fontsize=20,labelpad=35)\n",
    "ax3.set_ylabel('MAE',Rotation =0, fontsize=20,labelpad=35)\n",
    "\n",
    "ax3.set_xlabel('Epoch', fontsize=20)\n",
    "\n",
    "ax1.legend(['MSE Test','MSE Train'],loc='upper right')\n",
    "ax2.legend(['RMSE Test','RMSE Train'],loc='upper right')\n",
    "ax3.legend(['MAE Test','MAE Train'],loc='upper right')\n",
    "\n",
    "plt.show()\n"
   ]
  },
  {
   "cell_type": "code",
   "execution_count": 56,
   "id": "045dd28e",
   "metadata": {},
   "outputs": [
    {
     "name": "stdout",
     "output_type": "stream",
     "text": [
      "loss 0.01016 Train\n",
      "val_loss 0.01012 Test\n",
      "\n",
      "root_mean_squared_error 0.03748 Train\n",
      "val_root_mean_squared_error 0.01591 Test\n",
      "\n",
      "mean_absolute_error 0.01016 Train\n",
      "val_mean_absolute_error 0.01012 Test\n",
      "\n",
      "mean_squared_error 0.0014 Train\n",
      "val_mean_squared_error 0.00025 Test\n",
      "\n"
     ]
    }
   ],
   "source": [
    "for i in model.metrics_names:\n",
    "    print(i,round(history.history[i][-1],5),\"Train\")\n",
    "    print(\"val_\"+i,round(history.history[\"val_\"+i][-1],5),\"Test\\n\")"
   ]
  },
  {
   "cell_type": "markdown",
   "id": "35b23047",
   "metadata": {},
   "source": [
    "#### reverse the normilization\n",
    "#### add the predicted values to the original values\n",
    "and plot both"
   ]
  },
  {
   "cell_type": "markdown",
   "id": "fd464d4c",
   "metadata": {},
   "source": [
    "Make predictions from the testing generator and concatinate it to the original values"
   ]
  },
  {
   "cell_type": "code",
   "execution_count": 57,
   "id": "6a6d4e30",
   "metadata": {},
   "outputs": [
    {
     "data": {
      "text/plain": [
       "6231"
      ]
     },
     "execution_count": 57,
     "metadata": {},
     "output_type": "execute_result"
    }
   ],
   "source": [
    "predictions = model.predict_generator(test_generator)\n",
    "predictions.shape[0]"
   ]
  },
  {
   "cell_type": "code",
   "execution_count": 58,
   "id": "7e6f76b8",
   "metadata": {},
   "outputs": [],
   "source": [
    "df_pred = pd.concat([pd.DataFrame(predictions), pd.DataFrame(x_test[:,1:][days:])] , axis = 1)"
   ]
  },
  {
   "cell_type": "code",
   "execution_count": 59,
   "id": "a9cff442",
   "metadata": {},
   "outputs": [
    {
     "data": {
      "text/html": [
       "<div>\n",
       "<style scoped>\n",
       "    .dataframe tbody tr th:only-of-type {\n",
       "        vertical-align: middle;\n",
       "    }\n",
       "\n",
       "    .dataframe tbody tr th {\n",
       "        vertical-align: top;\n",
       "    }\n",
       "\n",
       "    .dataframe thead th {\n",
       "        text-align: right;\n",
       "    }\n",
       "</style>\n",
       "<table border=\"1\" class=\"dataframe\">\n",
       "  <thead>\n",
       "    <tr style=\"text-align: right;\">\n",
       "      <th></th>\n",
       "      <th>0</th>\n",
       "      <th>0</th>\n",
       "      <th>1</th>\n",
       "    </tr>\n",
       "  </thead>\n",
       "  <tbody>\n",
       "    <tr>\n",
       "      <th>0</th>\n",
       "      <td>0.033699</td>\n",
       "      <td>0.038303</td>\n",
       "      <td>0.101221</td>\n",
       "    </tr>\n",
       "    <tr>\n",
       "      <th>1</th>\n",
       "      <td>0.033836</td>\n",
       "      <td>0.040581</td>\n",
       "      <td>0.105262</td>\n",
       "    </tr>\n",
       "    <tr>\n",
       "      <th>2</th>\n",
       "      <td>0.034101</td>\n",
       "      <td>0.041403</td>\n",
       "      <td>0.106335</td>\n",
       "    </tr>\n",
       "    <tr>\n",
       "      <th>3</th>\n",
       "      <td>0.034286</td>\n",
       "      <td>0.040671</td>\n",
       "      <td>0.105969</td>\n",
       "    </tr>\n",
       "    <tr>\n",
       "      <th>4</th>\n",
       "      <td>0.034402</td>\n",
       "      <td>0.040780</td>\n",
       "      <td>0.105969</td>\n",
       "    </tr>\n",
       "    <tr>\n",
       "      <th>...</th>\n",
       "      <td>...</td>\n",
       "      <td>...</td>\n",
       "      <td>...</td>\n",
       "    </tr>\n",
       "    <tr>\n",
       "      <th>6226</th>\n",
       "      <td>0.943940</td>\n",
       "      <td>0.989128</td>\n",
       "      <td>0.991019</td>\n",
       "    </tr>\n",
       "    <tr>\n",
       "      <th>6227</th>\n",
       "      <td>0.945055</td>\n",
       "      <td>0.992691</td>\n",
       "      <td>0.994495</td>\n",
       "    </tr>\n",
       "    <tr>\n",
       "      <th>6228</th>\n",
       "      <td>0.946244</td>\n",
       "      <td>0.989349</td>\n",
       "      <td>0.988693</td>\n",
       "    </tr>\n",
       "    <tr>\n",
       "      <th>6229</th>\n",
       "      <td>0.946494</td>\n",
       "      <td>1.000000</td>\n",
       "      <td>1.000000</td>\n",
       "    </tr>\n",
       "    <tr>\n",
       "      <th>6230</th>\n",
       "      <td>0.946510</td>\n",
       "      <td>0.988982</td>\n",
       "      <td>0.988246</td>\n",
       "    </tr>\n",
       "  </tbody>\n",
       "</table>\n",
       "<p>6231 rows × 3 columns</p>\n",
       "</div>"
      ],
      "text/plain": [
       "             0         0         1\n",
       "0     0.033699  0.038303  0.101221\n",
       "1     0.033836  0.040581  0.105262\n",
       "2     0.034101  0.041403  0.106335\n",
       "3     0.034286  0.040671  0.105969\n",
       "4     0.034402  0.040780  0.105969\n",
       "...        ...       ...       ...\n",
       "6226  0.943940  0.989128  0.991019\n",
       "6227  0.945055  0.992691  0.994495\n",
       "6228  0.946244  0.989349  0.988693\n",
       "6229  0.946494  1.000000  1.000000\n",
       "6230  0.946510  0.988982  0.988246\n",
       "\n",
       "[6231 rows x 3 columns]"
      ]
     },
     "execution_count": 59,
     "metadata": {},
     "output_type": "execute_result"
    }
   ],
   "source": [
    "df_pred"
   ]
  },
  {
   "cell_type": "markdown",
   "id": "610a0fdf",
   "metadata": {},
   "source": [
    "reverse the normilization"
   ]
  },
  {
   "cell_type": "code",
   "execution_count": 60,
   "id": "90172d40",
   "metadata": {},
   "outputs": [],
   "source": [
    "rev_trans = scaler.inverse_transform(df_pred)"
   ]
  },
  {
   "cell_type": "code",
   "execution_count": 61,
   "id": "944540b3",
   "metadata": {},
   "outputs": [
    {
     "data": {
      "text/html": [
       "<div>\n",
       "<style scoped>\n",
       "    .dataframe tbody tr th:only-of-type {\n",
       "        vertical-align: middle;\n",
       "    }\n",
       "\n",
       "    .dataframe tbody tr th {\n",
       "        vertical-align: top;\n",
       "    }\n",
       "\n",
       "    .dataframe thead th {\n",
       "        text-align: right;\n",
       "    }\n",
       "</style>\n",
       "<table border=\"1\" class=\"dataframe\">\n",
       "  <thead>\n",
       "    <tr style=\"text-align: right;\">\n",
       "      <th></th>\n",
       "      <th>USD</th>\n",
       "      <th>EUR</th>\n",
       "      <th>GBP</th>\n",
       "    </tr>\n",
       "    <tr>\n",
       "      <th>Date</th>\n",
       "      <th></th>\n",
       "      <th></th>\n",
       "      <th></th>\n",
       "    </tr>\n",
       "  </thead>\n",
       "  <tbody>\n",
       "    <tr>\n",
       "      <th>2003-12-15 23:58:00</th>\n",
       "      <td>6.09730</td>\n",
       "      <td>7.505776</td>\n",
       "      <td>10.647105</td>\n",
       "    </tr>\n",
       "    <tr>\n",
       "      <th>2003-12-16 23:58:00</th>\n",
       "      <td>6.14170</td>\n",
       "      <td>7.567803</td>\n",
       "      <td>10.771313</td>\n",
       "    </tr>\n",
       "    <tr>\n",
       "      <th>2003-12-17 23:58:00</th>\n",
       "      <td>6.12210</td>\n",
       "      <td>7.590180</td>\n",
       "      <td>10.804282</td>\n",
       "    </tr>\n",
       "    <tr>\n",
       "      <th>2003-12-18 23:58:00</th>\n",
       "      <td>6.09570</td>\n",
       "      <td>7.570250</td>\n",
       "      <td>10.793046</td>\n",
       "    </tr>\n",
       "    <tr>\n",
       "      <th>2003-12-19 23:58:00</th>\n",
       "      <td>6.11780</td>\n",
       "      <td>7.573225</td>\n",
       "      <td>10.793023</td>\n",
       "    </tr>\n",
       "    <tr>\n",
       "      <th>...</th>\n",
       "      <td>...</td>\n",
       "      <td>...</td>\n",
       "      <td>...</td>\n",
       "    </tr>\n",
       "    <tr>\n",
       "      <th>2023-03-27 23:58:00</th>\n",
       "      <td>30.89910</td>\n",
       "      <td>33.394000</td>\n",
       "      <td>37.996090</td>\n",
       "    </tr>\n",
       "    <tr>\n",
       "      <th>2023-03-28 23:58:00</th>\n",
       "      <td>30.90850</td>\n",
       "      <td>33.491000</td>\n",
       "      <td>38.102930</td>\n",
       "    </tr>\n",
       "    <tr>\n",
       "      <th>2023-03-29 23:58:00</th>\n",
       "      <td>30.80190</td>\n",
       "      <td>33.400000</td>\n",
       "      <td>37.924590</td>\n",
       "    </tr>\n",
       "    <tr>\n",
       "      <th>2023-03-30 23:58:00</th>\n",
       "      <td>30.89440</td>\n",
       "      <td>33.690000</td>\n",
       "      <td>38.272130</td>\n",
       "    </tr>\n",
       "    <tr>\n",
       "      <th>2023-03-31 23:58:00</th>\n",
       "      <td>30.71051</td>\n",
       "      <td>33.390000</td>\n",
       "      <td>37.910870</td>\n",
       "    </tr>\n",
       "  </tbody>\n",
       "</table>\n",
       "<p>6231 rows × 3 columns</p>\n",
       "</div>"
      ],
      "text/plain": [
       "                          USD        EUR        GBP\n",
       "Date                                               \n",
       "2003-12-15 23:58:00   6.09730   7.505776  10.647105\n",
       "2003-12-16 23:58:00   6.14170   7.567803  10.771313\n",
       "2003-12-17 23:58:00   6.12210   7.590180  10.804282\n",
       "2003-12-18 23:58:00   6.09570   7.570250  10.793046\n",
       "2003-12-19 23:58:00   6.11780   7.573225  10.793023\n",
       "...                       ...        ...        ...\n",
       "2023-03-27 23:58:00  30.89910  33.394000  37.996090\n",
       "2023-03-28 23:58:00  30.90850  33.491000  38.102930\n",
       "2023-03-29 23:58:00  30.80190  33.400000  37.924590\n",
       "2023-03-30 23:58:00  30.89440  33.690000  38.272130\n",
       "2023-03-31 23:58:00  30.71051  33.390000  37.910870\n",
       "\n",
       "[6231 rows x 3 columns]"
      ]
     },
     "execution_count": 61,
     "metadata": {},
     "output_type": "execute_result"
    }
   ],
   "source": [
    "df_end = df[predictions.shape[0]*-1:]\n",
    "df_end"
   ]
  },
  {
   "cell_type": "code",
   "execution_count": 62,
   "id": "86ef7e5d",
   "metadata": {},
   "outputs": [],
   "source": [
    "df_end[\"USD-predict\"] = rev_trans[:,0]"
   ]
  },
  {
   "cell_type": "code",
   "execution_count": 63,
   "id": "4642e05a",
   "metadata": {},
   "outputs": [
    {
     "data": {
      "image/png": "[encoded data removed]",
      "text/plain": [
       "<Figure size 864x720 with 1 Axes>"
      ]
     },
     "metadata": {
      "needs_background": "light"
     },
     "output_type": "display_data"
    }
   ],
   "source": [
    "df_end[[\"USD\",\"USD-predict\"]].plot(figsize = (12,10));"
   ]
  },
  {
   "cell_type": "markdown",
   "id": "6e500da9",
   "metadata": {},
   "source": [
    "# Use the presaved model\n",
    "- trained on 250 epochs\n",
    "- as MAE as loss function"
   ]
  },
  {
   "cell_type": "code",
   "execution_count": 64,
   "id": "1eb93287",
   "metadata": {},
   "outputs": [
    {
     "name": "stderr",
     "output_type": "stream",
     "text": [
      "WARNING:absl:Found untraced functions such as _update_step_xla, lstm_cell_2_layer_call_fn, lstm_cell_2_layer_call_and_return_conditional_losses, lstm_cell_3_layer_call_fn, lstm_cell_3_layer_call_and_return_conditional_losses while saving (showing 5 of 7). These functions will not be directly callable after loading.\n"
     ]
    },
    {
     "name": "stdout",
     "output_type": "stream",
     "text": [
      "INFO:tensorflow:Assets written to: modelG\\assets\n"
     ]
    },
    {
     "name": "stderr",
     "output_type": "stream",
     "text": [
      "INFO:tensorflow:Assets written to: modelG\\assets\n"
     ]
    }
   ],
   "source": [
    "model.save(\"modelG\")"
   ]
  },
  {
   "cell_type": "code",
   "execution_count": 65,
   "id": "4b8b4b13",
   "metadata": {
    "scrolled": true
   },
   "outputs": [
    {
     "name": "stdout",
     "output_type": "stream",
     "text": [
      "Model: \"sequential_1\"\n",
      "_________________________________________________________________\n",
      " Layer (type)                Output Shape              Param #   \n",
      "=================================================================\n",
      " lstm_2 (LSTM)               (None, 10, 128)           67584     \n",
      "                                                                 \n",
      " lstm_3 (LSTM)               (None, 64)                49408     \n",
      "                                                                 \n",
      " dense_2 (Dense)             (None, 16)                1040      \n",
      "                                                                 \n",
      " dense_3 (Dense)             (None, 1)                 17        \n",
      "                                                                 \n",
      "=================================================================\n",
      "Total params: 118,049\n",
      "Trainable params: 118,049\n",
      "Non-trainable params: 0\n",
      "_________________________________________________________________\n"
     ]
    }
   ],
   "source": [
    "model = keras.models.load_model('modelG')\n",
    "model.summary()"
   ]
  }
 ],
 "metadata": {
  "kernelspec": {
   "display_name": "Python 3 (ipykernel)",
   "language": "python",
   "name": "python3"
  },
  "language_info": {
   "codemirror_mode": {
    "name": "ipython",
    "version": 3
   },
   "file_extension": ".py",
   "mimetype": "text/x-python",
   "name": "python",
   "nbconvert_exporter": "python",
   "pygments_lexer": "ipython3",
   "version": "3.9.7"
  }
 },
 "nbformat": 4,
 "nbformat_minor": 5
}
